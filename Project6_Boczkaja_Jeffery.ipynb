{
 "cells": [
  {
   "cell_type": "markdown",
   "id": "0bb694a2",
   "metadata": {},
   "source": [
    "# Project 6 - DSCI 614 Text Mining\n",
    "## Jeffery Boczkaja"
   ]
  },
  {
   "cell_type": "code",
   "execution_count": 1,
   "id": "8b4fc9fb",
   "metadata": {},
   "outputs": [],
   "source": [
    "import pandas as pd\n",
    "import matplotlib.pyplot as plt"
   ]
  },
  {
   "cell_type": "markdown",
   "id": "bea0efc2",
   "metadata": {},
   "source": [
    "### 1. Load the dataset of sentiment140.csv into memory."
   ]
  },
  {
   "cell_type": "code",
   "execution_count": 2,
   "id": "adc5edd8",
   "metadata": {},
   "outputs": [
    {
     "data": {
      "text/html": [
       "<div>\n",
       "<style scoped>\n",
       "    .dataframe tbody tr th:only-of-type {\n",
       "        vertical-align: middle;\n",
       "    }\n",
       "\n",
       "    .dataframe tbody tr th {\n",
       "        vertical-align: top;\n",
       "    }\n",
       "\n",
       "    .dataframe thead th {\n",
       "        text-align: right;\n",
       "    }\n",
       "</style>\n",
       "<table border=\"1\" class=\"dataframe\">\n",
       "  <thead>\n",
       "    <tr style=\"text-align: right;\">\n",
       "      <th></th>\n",
       "      <th>0</th>\n",
       "      <th>1</th>\n",
       "      <th>2</th>\n",
       "      <th>3</th>\n",
       "      <th>4</th>\n",
       "      <th>5</th>\n",
       "    </tr>\n",
       "  </thead>\n",
       "  <tbody>\n",
       "    <tr>\n",
       "      <th>0</th>\n",
       "      <td>0</td>\n",
       "      <td>1467810369</td>\n",
       "      <td>Mon Apr 06 22:19:45 PDT 2009</td>\n",
       "      <td>NO_QUERY</td>\n",
       "      <td>_TheSpecialOne_</td>\n",
       "      <td>@switchfoot http://twitpic.com/2y1zl - Awww, t...</td>\n",
       "    </tr>\n",
       "    <tr>\n",
       "      <th>1</th>\n",
       "      <td>0</td>\n",
       "      <td>1467810672</td>\n",
       "      <td>Mon Apr 06 22:19:49 PDT 2009</td>\n",
       "      <td>NO_QUERY</td>\n",
       "      <td>scotthamilton</td>\n",
       "      <td>is upset that he can't update his Facebook by ...</td>\n",
       "    </tr>\n",
       "    <tr>\n",
       "      <th>2</th>\n",
       "      <td>0</td>\n",
       "      <td>1467810917</td>\n",
       "      <td>Mon Apr 06 22:19:53 PDT 2009</td>\n",
       "      <td>NO_QUERY</td>\n",
       "      <td>mattycus</td>\n",
       "      <td>@Kenichan I dived many times for the ball. Man...</td>\n",
       "    </tr>\n",
       "    <tr>\n",
       "      <th>3</th>\n",
       "      <td>0</td>\n",
       "      <td>1467811184</td>\n",
       "      <td>Mon Apr 06 22:19:57 PDT 2009</td>\n",
       "      <td>NO_QUERY</td>\n",
       "      <td>ElleCTF</td>\n",
       "      <td>my whole body feels itchy and like its on fire</td>\n",
       "    </tr>\n",
       "    <tr>\n",
       "      <th>4</th>\n",
       "      <td>0</td>\n",
       "      <td>1467811193</td>\n",
       "      <td>Mon Apr 06 22:19:57 PDT 2009</td>\n",
       "      <td>NO_QUERY</td>\n",
       "      <td>Karoli</td>\n",
       "      <td>@nationwideclass no, it's not behaving at all....</td>\n",
       "    </tr>\n",
       "    <tr>\n",
       "      <th>5</th>\n",
       "      <td>0</td>\n",
       "      <td>1467811372</td>\n",
       "      <td>Mon Apr 06 22:20:00 PDT 2009</td>\n",
       "      <td>NO_QUERY</td>\n",
       "      <td>joy_wolf</td>\n",
       "      <td>@Kwesidei not the whole crew</td>\n",
       "    </tr>\n",
       "    <tr>\n",
       "      <th>6</th>\n",
       "      <td>0</td>\n",
       "      <td>1467811592</td>\n",
       "      <td>Mon Apr 06 22:20:03 PDT 2009</td>\n",
       "      <td>NO_QUERY</td>\n",
       "      <td>mybirch</td>\n",
       "      <td>Need a hug</td>\n",
       "    </tr>\n",
       "    <tr>\n",
       "      <th>7</th>\n",
       "      <td>0</td>\n",
       "      <td>1467811594</td>\n",
       "      <td>Mon Apr 06 22:20:03 PDT 2009</td>\n",
       "      <td>NO_QUERY</td>\n",
       "      <td>coZZ</td>\n",
       "      <td>@LOLTrish hey  long time no see! Yes.. Rains a...</td>\n",
       "    </tr>\n",
       "    <tr>\n",
       "      <th>8</th>\n",
       "      <td>0</td>\n",
       "      <td>1467811795</td>\n",
       "      <td>Mon Apr 06 22:20:05 PDT 2009</td>\n",
       "      <td>NO_QUERY</td>\n",
       "      <td>2Hood4Hollywood</td>\n",
       "      <td>@Tatiana_K nope they didn't have it</td>\n",
       "    </tr>\n",
       "    <tr>\n",
       "      <th>9</th>\n",
       "      <td>0</td>\n",
       "      <td>1467812025</td>\n",
       "      <td>Mon Apr 06 22:20:09 PDT 2009</td>\n",
       "      <td>NO_QUERY</td>\n",
       "      <td>mimismo</td>\n",
       "      <td>@twittera que me muera ?</td>\n",
       "    </tr>\n",
       "  </tbody>\n",
       "</table>\n",
       "</div>"
      ],
      "text/plain": [
       "   0           1                             2         3                4  \\\n",
       "0  0  1467810369  Mon Apr 06 22:19:45 PDT 2009  NO_QUERY  _TheSpecialOne_   \n",
       "1  0  1467810672  Mon Apr 06 22:19:49 PDT 2009  NO_QUERY    scotthamilton   \n",
       "2  0  1467810917  Mon Apr 06 22:19:53 PDT 2009  NO_QUERY         mattycus   \n",
       "3  0  1467811184  Mon Apr 06 22:19:57 PDT 2009  NO_QUERY          ElleCTF   \n",
       "4  0  1467811193  Mon Apr 06 22:19:57 PDT 2009  NO_QUERY           Karoli   \n",
       "5  0  1467811372  Mon Apr 06 22:20:00 PDT 2009  NO_QUERY         joy_wolf   \n",
       "6  0  1467811592  Mon Apr 06 22:20:03 PDT 2009  NO_QUERY          mybirch   \n",
       "7  0  1467811594  Mon Apr 06 22:20:03 PDT 2009  NO_QUERY             coZZ   \n",
       "8  0  1467811795  Mon Apr 06 22:20:05 PDT 2009  NO_QUERY  2Hood4Hollywood   \n",
       "9  0  1467812025  Mon Apr 06 22:20:09 PDT 2009  NO_QUERY          mimismo   \n",
       "\n",
       "                                                   5  \n",
       "0  @switchfoot http://twitpic.com/2y1zl - Awww, t...  \n",
       "1  is upset that he can't update his Facebook by ...  \n",
       "2  @Kenichan I dived many times for the ball. Man...  \n",
       "3    my whole body feels itchy and like its on fire   \n",
       "4  @nationwideclass no, it's not behaving at all....  \n",
       "5                      @Kwesidei not the whole crew   \n",
       "6                                        Need a hug   \n",
       "7  @LOLTrish hey  long time no see! Yes.. Rains a...  \n",
       "8               @Tatiana_K nope they didn't have it   \n",
       "9                          @twittera que me muera ?   "
      ]
     },
     "execution_count": 2,
     "metadata": {},
     "output_type": "execute_result"
    }
   ],
   "source": [
    "df1 = pd.read_csv('sentiment140.csv', encoding='ISO-8859-1', header=None)\n",
    "df1.head(10)"
   ]
  },
  {
   "cell_type": "code",
   "execution_count": 3,
   "id": "ef53aa94",
   "metadata": {},
   "outputs": [
    {
     "name": "stdout",
     "output_type": "stream",
     "text": [
      "The number of rows in the dataframe is: 1600000\n"
     ]
    }
   ],
   "source": [
    "num_rows = df1.shape[0]\n",
    "print(f\"The number of rows in the dataframe is: {num_rows}\")"
   ]
  },
  {
   "cell_type": "code",
   "execution_count": 4,
   "id": "cadf499f",
   "metadata": {},
   "outputs": [
    {
     "name": "stdout",
     "output_type": "stream",
     "text": [
      "The number of rows with the value 2 in the first column is: 0\n"
     ]
    }
   ],
   "source": [
    "count_rows_with_value_2 = (df1.iloc[:, 0] == 2).sum()\n",
    "print(f\"The number of rows with the value 2 in the first column is: {count_rows_with_value_2}\")"
   ]
  },
  {
   "cell_type": "code",
   "execution_count": 5,
   "id": "277042a0",
   "metadata": {},
   "outputs": [
    {
     "data": {
      "image/png": "[encoded data removed]",
      "text/plain": [
       "<Figure size 640x480 with 1 Axes>"
      ]
     },
     "metadata": {},
     "output_type": "display_data"
    }
   ],
   "source": [
    "filtered_counts = df1[df1.iloc[:,0].isin([0,4])].iloc[:,0].value_counts()\n",
    "\n",
    "filtered_counts.plot(kind='bar', color=['aqua', 'indigo'])\n",
    "plt.title(\"Rows with Value 0 or 4\")\n",
    "plt.xlabel(\"Value\")\n",
    "plt.ylabel(\"Number of Rows\")\n",
    "plt.xticks(rotation=0)\n",
    "plt.tight_layout()\n",
    "plt.show()"
   ]
  },
  {
   "cell_type": "code",
   "execution_count": 6,
   "id": "fead8bc7",
   "metadata": {},
   "outputs": [],
   "source": [
    "first_5000 = df1.iloc[:100]\n",
    "rows_800001_to_805001 = df1.iloc[800000:800100]\n",
    "df = pd.concat([first_5000, rows_800001_to_805001], axis=0)"
   ]
  },
  {
   "cell_type": "markdown",
   "id": "71f3c3df",
   "metadata": {},
   "source": [
    "When I saw how long others run times were I decided to break my data up into a smaller sample for convenience, also I was running out of time so the sets are not as big as needed to get truly reliable data. I manually checked the actual data set to see where the polarity changed from 0 to 4 because there were no values of 2."
   ]
  },
  {
   "cell_type": "code",
   "execution_count": 7,
   "id": "1c17bf77",
   "metadata": {},
   "outputs": [
    {
     "name": "stdout",
     "output_type": "stream",
     "text": [
      "The number of rows in the dataframe is: 200\n"
     ]
    }
   ],
   "source": [
    "num_rows = df.shape[0]\n",
    "print(f\"The number of rows in the dataframe is: {num_rows}\")"
   ]
  },
  {
   "cell_type": "code",
   "execution_count": 8,
   "id": "f5dfa6e8",
   "metadata": {
    "scrolled": true
   },
   "outputs": [
    {
     "data": {
      "text/html": [
       "<div>\n",
       "<style scoped>\n",
       "    .dataframe tbody tr th:only-of-type {\n",
       "        vertical-align: middle;\n",
       "    }\n",
       "\n",
       "    .dataframe tbody tr th {\n",
       "        vertical-align: top;\n",
       "    }\n",
       "\n",
       "    .dataframe thead th {\n",
       "        text-align: right;\n",
       "    }\n",
       "</style>\n",
       "<table border=\"1\" class=\"dataframe\">\n",
       "  <thead>\n",
       "    <tr style=\"text-align: right;\">\n",
       "      <th></th>\n",
       "      <th>0</th>\n",
       "      <th>1</th>\n",
       "      <th>2</th>\n",
       "      <th>3</th>\n",
       "      <th>4</th>\n",
       "      <th>5</th>\n",
       "    </tr>\n",
       "  </thead>\n",
       "  <tbody>\n",
       "    <tr>\n",
       "      <th>0</th>\n",
       "      <td>0</td>\n",
       "      <td>1467810369</td>\n",
       "      <td>Mon Apr 06 22:19:45 PDT 2009</td>\n",
       "      <td>NO_QUERY</td>\n",
       "      <td>_TheSpecialOne_</td>\n",
       "      <td>@switchfoot http://twitpic.com/2y1zl - Awww, t...</td>\n",
       "    </tr>\n",
       "    <tr>\n",
       "      <th>1</th>\n",
       "      <td>0</td>\n",
       "      <td>1467810672</td>\n",
       "      <td>Mon Apr 06 22:19:49 PDT 2009</td>\n",
       "      <td>NO_QUERY</td>\n",
       "      <td>scotthamilton</td>\n",
       "      <td>is upset that he can't update his Facebook by ...</td>\n",
       "    </tr>\n",
       "    <tr>\n",
       "      <th>2</th>\n",
       "      <td>0</td>\n",
       "      <td>1467810917</td>\n",
       "      <td>Mon Apr 06 22:19:53 PDT 2009</td>\n",
       "      <td>NO_QUERY</td>\n",
       "      <td>mattycus</td>\n",
       "      <td>@Kenichan I dived many times for the ball. Man...</td>\n",
       "    </tr>\n",
       "    <tr>\n",
       "      <th>3</th>\n",
       "      <td>0</td>\n",
       "      <td>1467811184</td>\n",
       "      <td>Mon Apr 06 22:19:57 PDT 2009</td>\n",
       "      <td>NO_QUERY</td>\n",
       "      <td>ElleCTF</td>\n",
       "      <td>my whole body feels itchy and like its on fire</td>\n",
       "    </tr>\n",
       "    <tr>\n",
       "      <th>4</th>\n",
       "      <td>0</td>\n",
       "      <td>1467811193</td>\n",
       "      <td>Mon Apr 06 22:19:57 PDT 2009</td>\n",
       "      <td>NO_QUERY</td>\n",
       "      <td>Karoli</td>\n",
       "      <td>@nationwideclass no, it's not behaving at all....</td>\n",
       "    </tr>\n",
       "  </tbody>\n",
       "</table>\n",
       "</div>"
      ],
      "text/plain": [
       "   0           1                             2         3                4  \\\n",
       "0  0  1467810369  Mon Apr 06 22:19:45 PDT 2009  NO_QUERY  _TheSpecialOne_   \n",
       "1  0  1467810672  Mon Apr 06 22:19:49 PDT 2009  NO_QUERY    scotthamilton   \n",
       "2  0  1467810917  Mon Apr 06 22:19:53 PDT 2009  NO_QUERY         mattycus   \n",
       "3  0  1467811184  Mon Apr 06 22:19:57 PDT 2009  NO_QUERY          ElleCTF   \n",
       "4  0  1467811193  Mon Apr 06 22:19:57 PDT 2009  NO_QUERY           Karoli   \n",
       "\n",
       "                                                   5  \n",
       "0  @switchfoot http://twitpic.com/2y1zl - Awww, t...  \n",
       "1  is upset that he can't update his Facebook by ...  \n",
       "2  @Kenichan I dived many times for the ball. Man...  \n",
       "3    my whole body feels itchy and like its on fire   \n",
       "4  @nationwideclass no, it's not behaving at all....  "
      ]
     },
     "execution_count": 8,
     "metadata": {},
     "output_type": "execute_result"
    }
   ],
   "source": [
    "df.head()"
   ]
  },
  {
   "cell_type": "code",
   "execution_count": 9,
   "id": "a100a945",
   "metadata": {
    "scrolled": true
   },
   "outputs": [
    {
     "data": {
      "text/html": [
       "<div>\n",
       "<style scoped>\n",
       "    .dataframe tbody tr th:only-of-type {\n",
       "        vertical-align: middle;\n",
       "    }\n",
       "\n",
       "    .dataframe tbody tr th {\n",
       "        vertical-align: top;\n",
       "    }\n",
       "\n",
       "    .dataframe thead th {\n",
       "        text-align: right;\n",
       "    }\n",
       "</style>\n",
       "<table border=\"1\" class=\"dataframe\">\n",
       "  <thead>\n",
       "    <tr style=\"text-align: right;\">\n",
       "      <th></th>\n",
       "      <th>0</th>\n",
       "      <th>1</th>\n",
       "      <th>2</th>\n",
       "      <th>3</th>\n",
       "      <th>4</th>\n",
       "      <th>5</th>\n",
       "    </tr>\n",
       "  </thead>\n",
       "  <tbody>\n",
       "    <tr>\n",
       "      <th>800095</th>\n",
       "      <td>4</td>\n",
       "      <td>1467826078</td>\n",
       "      <td>Mon Apr 06 22:23:46 PDT 2009</td>\n",
       "      <td>NO_QUERY</td>\n",
       "      <td>abbynoodle123</td>\n",
       "      <td>21 Days till chris comes home and 67 days till...</td>\n",
       "    </tr>\n",
       "    <tr>\n",
       "      <th>800096</th>\n",
       "      <td>4</td>\n",
       "      <td>1467841066</td>\n",
       "      <td>Mon Apr 06 22:27:44 PDT 2009</td>\n",
       "      <td>NO_QUERY</td>\n",
       "      <td>Cynnergies</td>\n",
       "      <td>@davidgideon Yeah, those were the days  - no, ...</td>\n",
       "    </tr>\n",
       "    <tr>\n",
       "      <th>800097</th>\n",
       "      <td>4</td>\n",
       "      <td>1467841077</td>\n",
       "      <td>Mon Apr 06 22:27:42 PDT 2009</td>\n",
       "      <td>NO_QUERY</td>\n",
       "      <td>Ariana6702</td>\n",
       "      <td>@therealjspace am I the first one to tell you ...</td>\n",
       "    </tr>\n",
       "    <tr>\n",
       "      <th>800098</th>\n",
       "      <td>4</td>\n",
       "      <td>1467841096</td>\n",
       "      <td>Mon Apr 06 22:27:43 PDT 2009</td>\n",
       "      <td>NO_QUERY</td>\n",
       "      <td>HayyItsRay</td>\n",
       "      <td>@its_anne Kay thanks.</td>\n",
       "    </tr>\n",
       "    <tr>\n",
       "      <th>800099</th>\n",
       "      <td>4</td>\n",
       "      <td>1467841114</td>\n",
       "      <td>Mon Apr 06 22:27:43 PDT 2009</td>\n",
       "      <td>NO_QUERY</td>\n",
       "      <td>kathrynsuzanne</td>\n",
       "      <td>Goodnight</td>\n",
       "    </tr>\n",
       "  </tbody>\n",
       "</table>\n",
       "</div>"
      ],
      "text/plain": [
       "        0           1                             2         3               4  \\\n",
       "800095  4  1467826078  Mon Apr 06 22:23:46 PDT 2009  NO_QUERY   abbynoodle123   \n",
       "800096  4  1467841066  Mon Apr 06 22:27:44 PDT 2009  NO_QUERY      Cynnergies   \n",
       "800097  4  1467841077  Mon Apr 06 22:27:42 PDT 2009  NO_QUERY      Ariana6702   \n",
       "800098  4  1467841096  Mon Apr 06 22:27:43 PDT 2009  NO_QUERY      HayyItsRay   \n",
       "800099  4  1467841114  Mon Apr 06 22:27:43 PDT 2009  NO_QUERY  kathrynsuzanne   \n",
       "\n",
       "                                                        5  \n",
       "800095  21 Days till chris comes home and 67 days till...  \n",
       "800096  @davidgideon Yeah, those were the days  - no, ...  \n",
       "800097  @therealjspace am I the first one to tell you ...  \n",
       "800098                             @its_anne Kay thanks.   \n",
       "800099                                         Goodnight   "
      ]
     },
     "execution_count": 9,
     "metadata": {},
     "output_type": "execute_result"
    }
   ],
   "source": [
    "df.tail()"
   ]
  },
  {
   "cell_type": "code",
   "execution_count": 10,
   "id": "aa582180",
   "metadata": {},
   "outputs": [
    {
     "data": {
      "image/png": "[encoded data removed]",
      "text/plain": [
       "<Figure size 640x480 with 1 Axes>"
      ]
     },
     "metadata": {},
     "output_type": "display_data"
    }
   ],
   "source": [
    "filtered_counts = df[df.iloc[:,0].isin([0,4])].iloc[:,0].value_counts()\n",
    "\n",
    "filtered_counts.plot(kind='bar', color=['aqua', 'indigo'])\n",
    "plt.title(\"Rows with Value 0 or 4\")\n",
    "plt.xlabel(\"Value\")\n",
    "plt.ylabel(\"Number of Rows\")\n",
    "plt.xticks(rotation=0)\n",
    "plt.tight_layout()\n",
    "plt.show()"
   ]
  },
  {
   "cell_type": "markdown",
   "id": "c830a316",
   "metadata": {},
   "source": [
    "### 2. Clean and preprocess the texts."
   ]
  },
  {
   "cell_type": "code",
   "execution_count": 11,
   "id": "3e93a568",
   "metadata": {},
   "outputs": [],
   "source": [
    "df_subset = df.iloc[:, [0, 5]]"
   ]
  },
  {
   "cell_type": "code",
   "execution_count": 12,
   "id": "32b97257",
   "metadata": {
    "scrolled": true
   },
   "outputs": [
    {
     "name": "stdout",
     "output_type": "stream",
     "text": [
      "<class 'pandas.core.frame.DataFrame'>\n",
      "Int64Index: 200 entries, 0 to 800099\n",
      "Data columns (total 2 columns):\n",
      " #   Column  Non-Null Count  Dtype \n",
      "---  ------  --------------  ----- \n",
      " 0   0       200 non-null    int64 \n",
      " 1   5       200 non-null    object\n",
      "dtypes: int64(1), object(1)\n",
      "memory usage: 4.7+ KB\n"
     ]
    }
   ],
   "source": [
    "df_subset.info()"
   ]
  },
  {
   "cell_type": "code",
   "execution_count": 13,
   "id": "81978b14",
   "metadata": {},
   "outputs": [
    {
     "name": "stdout",
     "output_type": "stream",
     "text": [
      "The number of rows in the dataframe is: 200\n"
     ]
    }
   ],
   "source": [
    "num_rows = df_subset.shape[0]\n",
    "print(f\"The number of rows in the dataframe is: {num_rows}\")"
   ]
  },
  {
   "cell_type": "code",
   "execution_count": 14,
   "id": "311dccb6",
   "metadata": {},
   "outputs": [
    {
     "data": {
      "text/html": [
       "<div>\n",
       "<style scoped>\n",
       "    .dataframe tbody tr th:only-of-type {\n",
       "        vertical-align: middle;\n",
       "    }\n",
       "\n",
       "    .dataframe tbody tr th {\n",
       "        vertical-align: top;\n",
       "    }\n",
       "\n",
       "    .dataframe thead th {\n",
       "        text-align: right;\n",
       "    }\n",
       "</style>\n",
       "<table border=\"1\" class=\"dataframe\">\n",
       "  <thead>\n",
       "    <tr style=\"text-align: right;\">\n",
       "      <th></th>\n",
       "      <th>0</th>\n",
       "      <th>5</th>\n",
       "    </tr>\n",
       "  </thead>\n",
       "  <tbody>\n",
       "    <tr>\n",
       "      <th>0</th>\n",
       "      <td>0</td>\n",
       "      <td>@switchfoot http://twitpic.com/2y1zl - Awww, t...</td>\n",
       "    </tr>\n",
       "    <tr>\n",
       "      <th>1</th>\n",
       "      <td>0</td>\n",
       "      <td>is upset that he can't update his Facebook by ...</td>\n",
       "    </tr>\n",
       "    <tr>\n",
       "      <th>2</th>\n",
       "      <td>0</td>\n",
       "      <td>@Kenichan I dived many times for the ball. Man...</td>\n",
       "    </tr>\n",
       "    <tr>\n",
       "      <th>3</th>\n",
       "      <td>0</td>\n",
       "      <td>my whole body feels itchy and like its on fire</td>\n",
       "    </tr>\n",
       "    <tr>\n",
       "      <th>4</th>\n",
       "      <td>0</td>\n",
       "      <td>@nationwideclass no, it's not behaving at all....</td>\n",
       "    </tr>\n",
       "  </tbody>\n",
       "</table>\n",
       "</div>"
      ],
      "text/plain": [
       "   0                                                  5\n",
       "0  0  @switchfoot http://twitpic.com/2y1zl - Awww, t...\n",
       "1  0  is upset that he can't update his Facebook by ...\n",
       "2  0  @Kenichan I dived many times for the ball. Man...\n",
       "3  0    my whole body feels itchy and like its on fire \n",
       "4  0  @nationwideclass no, it's not behaving at all...."
      ]
     },
     "execution_count": 14,
     "metadata": {},
     "output_type": "execute_result"
    }
   ],
   "source": [
    "df_subset.head()"
   ]
  },
  {
   "cell_type": "code",
   "execution_count": 15,
   "id": "2def37e3",
   "metadata": {
    "scrolled": true
   },
   "outputs": [
    {
     "data": {
      "text/html": [
       "<div>\n",
       "<style scoped>\n",
       "    .dataframe tbody tr th:only-of-type {\n",
       "        vertical-align: middle;\n",
       "    }\n",
       "\n",
       "    .dataframe tbody tr th {\n",
       "        vertical-align: top;\n",
       "    }\n",
       "\n",
       "    .dataframe thead th {\n",
       "        text-align: right;\n",
       "    }\n",
       "</style>\n",
       "<table border=\"1\" class=\"dataframe\">\n",
       "  <thead>\n",
       "    <tr style=\"text-align: right;\">\n",
       "      <th></th>\n",
       "      <th>0</th>\n",
       "      <th>5</th>\n",
       "    </tr>\n",
       "  </thead>\n",
       "  <tbody>\n",
       "    <tr>\n",
       "      <th>800095</th>\n",
       "      <td>4</td>\n",
       "      <td>21 Days till chris comes home and 67 days till...</td>\n",
       "    </tr>\n",
       "    <tr>\n",
       "      <th>800096</th>\n",
       "      <td>4</td>\n",
       "      <td>@davidgideon Yeah, those were the days  - no, ...</td>\n",
       "    </tr>\n",
       "    <tr>\n",
       "      <th>800097</th>\n",
       "      <td>4</td>\n",
       "      <td>@therealjspace am I the first one to tell you ...</td>\n",
       "    </tr>\n",
       "    <tr>\n",
       "      <th>800098</th>\n",
       "      <td>4</td>\n",
       "      <td>@its_anne Kay thanks.</td>\n",
       "    </tr>\n",
       "    <tr>\n",
       "      <th>800099</th>\n",
       "      <td>4</td>\n",
       "      <td>Goodnight</td>\n",
       "    </tr>\n",
       "  </tbody>\n",
       "</table>\n",
       "</div>"
      ],
      "text/plain": [
       "        0                                                  5\n",
       "800095  4  21 Days till chris comes home and 67 days till...\n",
       "800096  4  @davidgideon Yeah, those were the days  - no, ...\n",
       "800097  4  @therealjspace am I the first one to tell you ...\n",
       "800098  4                             @its_anne Kay thanks. \n",
       "800099  4                                         Goodnight "
      ]
     },
     "execution_count": 15,
     "metadata": {},
     "output_type": "execute_result"
    }
   ],
   "source": [
    "df_subset.tail()"
   ]
  },
  {
   "cell_type": "markdown",
   "id": "84c66148",
   "metadata": {},
   "source": [
    "### Tokenization and Lemmatization; Create Transformer"
   ]
  },
  {
   "cell_type": "code",
   "execution_count": 16,
   "id": "203dae35",
   "metadata": {},
   "outputs": [],
   "source": [
    "import string\n",
    "import spacy\n",
    "from spacy.lang.en import English\n",
    "from spacy.lang.en.stop_words import STOP_WORDS\n",
    "\n",
    "nlp = spacy.load(\"en_core_web_sm\")\n",
    "stop_words = spacy.lang.en.stop_words.STOP_WORDS\n",
    "\n",
    "def spacy_tokenizer(sentence):\n",
    "    mytokens = nlp(sentence)\n",
    "    mytokens = [ word.lemma_ for word in mytokens if word not in stop_words]\n",
    "    return mytokens"
   ]
  },
  {
   "cell_type": "code",
   "execution_count": 17,
   "id": "14c71a4a",
   "metadata": {},
   "outputs": [],
   "source": [
    "import re\n",
    "from sklearn.base import TransformerMixin\n",
    "\n",
    "class features(TransformerMixin):\n",
    "    def transform(self, X, **transform_params):\n",
    "        return [clean_text(text) for text in X]\n",
    "    \n",
    "    def fit(self, X, y= None, **fit_params):\n",
    "        return self\n",
    "    \n",
    "    def get_params(self, deep= True):\n",
    "        return {}\n",
    "\n",
    "def clean_text(text):\n",
    "    text = ' '.join(re.sub(\"(nan)|(@[A-Za-z0-9]+)|([^0-9A-Za-z \\t])|(\\w+:\\/\\/\\S+)\",\" \",text).split())\n",
    "    return text.strip().lower()  "
   ]
  },
  {
   "cell_type": "code",
   "execution_count": 18,
   "id": "30f05157",
   "metadata": {},
   "outputs": [
    {
     "name": "stdout",
     "output_type": "stream",
     "text": [
      "0    0.5\n",
      "1    0.5\n",
      "Name: encoded_column, dtype: float64\n"
     ]
    },
    {
     "name": "stderr",
     "output_type": "stream",
     "text": [
      "C:\\Users\\whitl\\AppData\\Local\\Temp\\ipykernel_20340\\1786932018.py:4: SettingWithCopyWarning: \n",
      "A value is trying to be set on a copy of a slice from a DataFrame.\n",
      "Try using .loc[row_indexer,col_indexer] = value instead\n",
      "\n",
      "See the caveats in the documentation: https://pandas.pydata.org/pandas-docs/stable/user_guide/indexing.html#returning-a-view-versus-a-copy\n",
      "  df_subset['encoded_column'] = le.fit_transform(df_subset.iloc[:, 0])\n"
     ]
    }
   ],
   "source": [
    "from sklearn import preprocessing\n",
    "le = preprocessing.LabelEncoder()\n",
    "\n",
    "df_subset['encoded_column'] = le.fit_transform(df_subset.iloc[:, 0])\n",
    "\n",
    "print(df_subset['encoded_column'].value_counts(normalize=True))"
   ]
  },
  {
   "cell_type": "code",
   "execution_count": 19,
   "id": "f7ef7d04",
   "metadata": {},
   "outputs": [
    {
     "name": "stdout",
     "output_type": "stream",
     "text": [
      "X_train dimension: (160,); y_train dimension: (160,)\n",
      "X_test dimension: (40,); y_train dimension: (40,)\n"
     ]
    }
   ],
   "source": [
    "from sklearn.model_selection import train_test_split\n",
    "\n",
    "X = df_subset.iloc[:, 1]\n",
    "y = df_subset.iloc[:, 0]\n",
    "\n",
    "X_train, X_test, y_train, y_test = train_test_split(X, y, test_size = 0.2, random_state = 42, stratify = y)\n",
    "print(f'X_train dimension: {X_train.shape}; y_train dimension: {y_train.shape}')\n",
    "print(f'X_test dimension: {X_test.shape}; y_train dimension: {y_test.shape}')"
   ]
  },
  {
   "cell_type": "code",
   "execution_count": 20,
   "id": "2888217c",
   "metadata": {},
   "outputs": [
    {
     "data": {
      "text/plain": [
       "54                                            I need a hug \n",
       "800075    @drdrew *gives a hug and a cookie* Hope you fe...\n",
       "78                    i think my arms are sore from tennis \n",
       "800000         I LOVE @Health4UandPets u guys r the best!! \n",
       "800058    @ash_CT Aw dont you love that  I love for thos...\n",
       "Name: 5, dtype: object"
      ]
     },
     "execution_count": 20,
     "metadata": {},
     "output_type": "execute_result"
    }
   ],
   "source": [
    "X_train.head()"
   ]
  },
  {
   "cell_type": "markdown",
   "id": "6614d5f8",
   "metadata": {},
   "source": [
    "### 3. Build the first model based on pipeline using the support vector machines."
   ]
  },
  {
   "cell_type": "code",
   "execution_count": 21,
   "id": "3c4316ca",
   "metadata": {},
   "outputs": [
    {
     "name": "stderr",
     "output_type": "stream",
     "text": [
      "C:\\Users\\whitl\\anaconda3\\Lib\\site-packages\\sklearn\\feature_extraction\\text.py:525: UserWarning: The parameter 'token_pattern' will not be used since 'tokenizer' is not None'\n",
      "  warnings.warn(\n"
     ]
    },
    {
     "name": "stdout",
     "output_type": "stream",
     "text": [
      "It takes about 1.1 seconds\n"
     ]
    }
   ],
   "source": [
    "from sklearn.feature_extraction.text import TfidfVectorizer\n",
    "from sklearn.pipeline import Pipeline\n",
    "from sklearn.linear_model import LogisticRegression\n",
    "from time import time\n",
    "\n",
    "t0 = time()\n",
    "\n",
    "tfidf_vector = TfidfVectorizer(tokenizer = spacy_tokenizer, ngram_range = (1,1))\n",
    "\n",
    "classifier = LogisticRegression()\n",
    "\n",
    "pipeline = Pipeline ([(\"cleaner\", features()),\n",
    "                 (\"vectorizer\", tfidf_vector),\n",
    "                 (\"classifier\", classifier)])\n",
    "\n",
    "pipeline.fit(X_train, y_train)\n",
    "\n",
    "print(f\"It takes about {time() - t0:.1f} seconds\")"
   ]
  },
  {
   "cell_type": "code",
   "execution_count": 22,
   "id": "147c1161",
   "metadata": {},
   "outputs": [
    {
     "name": "stdout",
     "output_type": "stream",
     "text": [
      "Confusion matrix, without normalization\n",
      "[[12  8]\n",
      " [ 8 12]]\n",
      "Normalized confusion matrix\n",
      "[[0.6 0.4]\n",
      " [0.4 0.6]]\n"
     ]
    },
    {
     "data": {
      "image/png": "[encoded data removed]",
      "text/plain": [
       "<Figure size 640x480 with 2 Axes>"
      ]
     },
     "metadata": {},
     "output_type": "display_data"
    },
    {
     "data": {
      "image/png": "[encoded data removed]",
      "text/plain": [
       "<Figure size 640x480 with 2 Axes>"
      ]
     },
     "metadata": {},
     "output_type": "display_data"
    }
   ],
   "source": [
    "from sklearn.metrics import confusion_matrix, ConfusionMatrixDisplay\n",
    "target_names = ['0', '4']\n",
    "titles_options = [(\"Confusion matrix, without normalization\", None),\n",
    "                  (\"Normalized confusion matrix\", 'true')]\n",
    "for title, normalize in titles_options:\n",
    "    disp = ConfusionMatrixDisplay.from_estimator(pipeline, X_test, y_test,\n",
    "                                 display_labels= target_names,\n",
    "                                 cmap=plt.cm.Blues,\n",
    "                                 normalize=normalize)\n",
    "    disp.ax_.set_title(title)\n",
    "\n",
    "    print(title)\n",
    "    print(disp.confusion_matrix)\n",
    "\n",
    "plt.show()"
   ]
  },
  {
   "cell_type": "code",
   "execution_count": 23,
   "id": "e98b7193",
   "metadata": {},
   "outputs": [
    {
     "name": "stdout",
     "output_type": "stream",
     "text": [
      "              precision    recall  f1-score   support\n",
      "\n",
      "           0       0.60      0.60      0.60        20\n",
      "           4       0.60      0.60      0.60        20\n",
      "\n",
      "    accuracy                           0.60        40\n",
      "   macro avg       0.60      0.60      0.60        40\n",
      "weighted avg       0.60      0.60      0.60        40\n",
      "\n"
     ]
    }
   ],
   "source": [
    "from sklearn.metrics import classification_report\n",
    "y_pred = pipeline.predict(X_test)\n",
    "print(classification_report(y_test, y_pred, target_names = target_names))"
   ]
  },
  {
   "cell_type": "markdown",
   "id": "e05cbfe0",
   "metadata": {},
   "source": [
    "### 4. Check the first model. Is it a good model based on the selected evaluation metrics?"
   ]
  },
  {
   "cell_type": "markdown",
   "id": "e83cf07d",
   "metadata": {},
   "source": [
    "The first model is not a good model. First off we need to acknowledge that we had to use a small sample for time's sake. The value was better when a larger sample size was utilized but due to constraints albiet with later models, the sample size was drastically reduced. That being said even with 10,000 samples the results only maxed out at .75 and this model only made it to .6. That is not a very reliable score."
   ]
  },
  {
   "cell_type": "markdown",
   "id": "1cdb1bcd",
   "metadata": {},
   "source": [
    "### 5. Create the second model using pipeline, grid search CV for the hyperparameters for the estimators."
   ]
  },
  {
   "cell_type": "code",
   "execution_count": 24,
   "id": "650c7b39",
   "metadata": {},
   "outputs": [
    {
     "name": "stdout",
     "output_type": "stream",
     "text": [
      "Performing grid search...\n",
      "The pipeline contains: ['cleaner', 'vectorizer', 'classifier']\n",
      "parameters are as follows:\n",
      "{'classifier__max_features': ['sqrt'],\n",
      " 'vectorizer__max_df': (0.5, 1.0),\n",
      " 'vectorizer__ngram_range': ((1, 1), (1, 2)),\n",
      " 'vectorizer__use_idf': (True, False)}\n",
      "Fitting 5 folds for each of 8 candidates, totalling 40 fits\n"
     ]
    },
    {
     "name": "stderr",
     "output_type": "stream",
     "text": [
      "C:\\Users\\whitl\\anaconda3\\Lib\\site-packages\\sklearn\\feature_extraction\\text.py:525: UserWarning: The parameter 'token_pattern' will not be used since 'tokenizer' is not None'\n",
      "  warnings.warn(\n",
      "C:\\Users\\whitl\\anaconda3\\Lib\\site-packages\\sklearn\\feature_extraction\\text.py:525: UserWarning: The parameter 'token_pattern' will not be used since 'tokenizer' is not None'\n",
      "  warnings.warn(\n",
      "C:\\Users\\whitl\\anaconda3\\Lib\\site-packages\\sklearn\\feature_extraction\\text.py:525: UserWarning: The parameter 'token_pattern' will not be used since 'tokenizer' is not None'\n",
      "  warnings.warn(\n",
      "C:\\Users\\whitl\\anaconda3\\Lib\\site-packages\\sklearn\\feature_extraction\\text.py:525: UserWarning: The parameter 'token_pattern' will not be used since 'tokenizer' is not None'\n",
      "  warnings.warn(\n",
      "C:\\Users\\whitl\\anaconda3\\Lib\\site-packages\\sklearn\\feature_extraction\\text.py:525: UserWarning: The parameter 'token_pattern' will not be used since 'tokenizer' is not None'\n",
      "  warnings.warn(\n",
      "C:\\Users\\whitl\\anaconda3\\Lib\\site-packages\\sklearn\\feature_extraction\\text.py:525: UserWarning: The parameter 'token_pattern' will not be used since 'tokenizer' is not None'\n",
      "  warnings.warn(\n",
      "C:\\Users\\whitl\\anaconda3\\Lib\\site-packages\\sklearn\\feature_extraction\\text.py:525: UserWarning: The parameter 'token_pattern' will not be used since 'tokenizer' is not None'\n",
      "  warnings.warn(\n",
      "C:\\Users\\whitl\\anaconda3\\Lib\\site-packages\\sklearn\\feature_extraction\\text.py:525: UserWarning: The parameter 'token_pattern' will not be used since 'tokenizer' is not None'\n",
      "  warnings.warn(\n",
      "C:\\Users\\whitl\\anaconda3\\Lib\\site-packages\\sklearn\\feature_extraction\\text.py:525: UserWarning: The parameter 'token_pattern' will not be used since 'tokenizer' is not None'\n",
      "  warnings.warn(\n",
      "C:\\Users\\whitl\\anaconda3\\Lib\\site-packages\\sklearn\\feature_extraction\\text.py:525: UserWarning: The parameter 'token_pattern' will not be used since 'tokenizer' is not None'\n",
      "  warnings.warn(\n",
      "C:\\Users\\whitl\\anaconda3\\Lib\\site-packages\\sklearn\\feature_extraction\\text.py:525: UserWarning: The parameter 'token_pattern' will not be used since 'tokenizer' is not None'\n",
      "  warnings.warn(\n",
      "C:\\Users\\whitl\\anaconda3\\Lib\\site-packages\\sklearn\\feature_extraction\\text.py:525: UserWarning: The parameter 'token_pattern' will not be used since 'tokenizer' is not None'\n",
      "  warnings.warn(\n",
      "C:\\Users\\whitl\\anaconda3\\Lib\\site-packages\\sklearn\\feature_extraction\\text.py:525: UserWarning: The parameter 'token_pattern' will not be used since 'tokenizer' is not None'\n",
      "  warnings.warn(\n",
      "C:\\Users\\whitl\\anaconda3\\Lib\\site-packages\\sklearn\\feature_extraction\\text.py:525: UserWarning: The parameter 'token_pattern' will not be used since 'tokenizer' is not None'\n",
      "  warnings.warn(\n",
      "C:\\Users\\whitl\\anaconda3\\Lib\\site-packages\\sklearn\\feature_extraction\\text.py:525: UserWarning: The parameter 'token_pattern' will not be used since 'tokenizer' is not None'\n",
      "  warnings.warn(\n",
      "C:\\Users\\whitl\\anaconda3\\Lib\\site-packages\\sklearn\\feature_extraction\\text.py:525: UserWarning: The parameter 'token_pattern' will not be used since 'tokenizer' is not None'\n",
      "  warnings.warn(\n",
      "C:\\Users\\whitl\\anaconda3\\Lib\\site-packages\\sklearn\\feature_extraction\\text.py:525: UserWarning: The parameter 'token_pattern' will not be used since 'tokenizer' is not None'\n",
      "  warnings.warn(\n",
      "C:\\Users\\whitl\\anaconda3\\Lib\\site-packages\\sklearn\\feature_extraction\\text.py:525: UserWarning: The parameter 'token_pattern' will not be used since 'tokenizer' is not None'\n",
      "  warnings.warn(\n",
      "C:\\Users\\whitl\\anaconda3\\Lib\\site-packages\\sklearn\\feature_extraction\\text.py:525: UserWarning: The parameter 'token_pattern' will not be used since 'tokenizer' is not None'\n",
      "  warnings.warn(\n",
      "C:\\Users\\whitl\\anaconda3\\Lib\\site-packages\\sklearn\\feature_extraction\\text.py:525: UserWarning: The parameter 'token_pattern' will not be used since 'tokenizer' is not None'\n",
      "  warnings.warn(\n",
      "C:\\Users\\whitl\\anaconda3\\Lib\\site-packages\\sklearn\\feature_extraction\\text.py:525: UserWarning: The parameter 'token_pattern' will not be used since 'tokenizer' is not None'\n",
      "  warnings.warn(\n",
      "C:\\Users\\whitl\\anaconda3\\Lib\\site-packages\\sklearn\\feature_extraction\\text.py:525: UserWarning: The parameter 'token_pattern' will not be used since 'tokenizer' is not None'\n",
      "  warnings.warn(\n",
      "C:\\Users\\whitl\\anaconda3\\Lib\\site-packages\\sklearn\\feature_extraction\\text.py:525: UserWarning: The parameter 'token_pattern' will not be used since 'tokenizer' is not None'\n",
      "  warnings.warn(\n",
      "C:\\Users\\whitl\\anaconda3\\Lib\\site-packages\\sklearn\\feature_extraction\\text.py:525: UserWarning: The parameter 'token_pattern' will not be used since 'tokenizer' is not None'\n",
      "  warnings.warn(\n",
      "C:\\Users\\whitl\\anaconda3\\Lib\\site-packages\\sklearn\\feature_extraction\\text.py:525: UserWarning: The parameter 'token_pattern' will not be used since 'tokenizer' is not None'\n",
      "  warnings.warn(\n",
      "C:\\Users\\whitl\\anaconda3\\Lib\\site-packages\\sklearn\\feature_extraction\\text.py:525: UserWarning: The parameter 'token_pattern' will not be used since 'tokenizer' is not None'\n",
      "  warnings.warn(\n",
      "C:\\Users\\whitl\\anaconda3\\Lib\\site-packages\\sklearn\\feature_extraction\\text.py:525: UserWarning: The parameter 'token_pattern' will not be used since 'tokenizer' is not None'\n",
      "  warnings.warn(\n",
      "C:\\Users\\whitl\\anaconda3\\Lib\\site-packages\\sklearn\\feature_extraction\\text.py:525: UserWarning: The parameter 'token_pattern' will not be used since 'tokenizer' is not None'\n",
      "  warnings.warn(\n",
      "C:\\Users\\whitl\\anaconda3\\Lib\\site-packages\\sklearn\\feature_extraction\\text.py:525: UserWarning: The parameter 'token_pattern' will not be used since 'tokenizer' is not None'\n",
      "  warnings.warn(\n",
      "C:\\Users\\whitl\\anaconda3\\Lib\\site-packages\\sklearn\\feature_extraction\\text.py:525: UserWarning: The parameter 'token_pattern' will not be used since 'tokenizer' is not None'\n",
      "  warnings.warn(\n",
      "C:\\Users\\whitl\\anaconda3\\Lib\\site-packages\\sklearn\\feature_extraction\\text.py:525: UserWarning: The parameter 'token_pattern' will not be used since 'tokenizer' is not None'\n",
      "  warnings.warn(\n",
      "C:\\Users\\whitl\\anaconda3\\Lib\\site-packages\\sklearn\\feature_extraction\\text.py:525: UserWarning: The parameter 'token_pattern' will not be used since 'tokenizer' is not None'\n",
      "  warnings.warn(\n",
      "C:\\Users\\whitl\\anaconda3\\Lib\\site-packages\\sklearn\\feature_extraction\\text.py:525: UserWarning: The parameter 'token_pattern' will not be used since 'tokenizer' is not None'\n",
      "  warnings.warn(\n",
      "C:\\Users\\whitl\\anaconda3\\Lib\\site-packages\\sklearn\\feature_extraction\\text.py:525: UserWarning: The parameter 'token_pattern' will not be used since 'tokenizer' is not None'\n",
      "  warnings.warn(\n",
      "C:\\Users\\whitl\\anaconda3\\Lib\\site-packages\\sklearn\\feature_extraction\\text.py:525: UserWarning: The parameter 'token_pattern' will not be used since 'tokenizer' is not None'\n",
      "  warnings.warn(\n",
      "C:\\Users\\whitl\\anaconda3\\Lib\\site-packages\\sklearn\\feature_extraction\\text.py:525: UserWarning: The parameter 'token_pattern' will not be used since 'tokenizer' is not None'\n",
      "  warnings.warn(\n",
      "C:\\Users\\whitl\\anaconda3\\Lib\\site-packages\\sklearn\\feature_extraction\\text.py:525: UserWarning: The parameter 'token_pattern' will not be used since 'tokenizer' is not None'\n",
      "  warnings.warn(\n",
      "C:\\Users\\whitl\\anaconda3\\Lib\\site-packages\\sklearn\\feature_extraction\\text.py:525: UserWarning: The parameter 'token_pattern' will not be used since 'tokenizer' is not None'\n",
      "  warnings.warn(\n",
      "C:\\Users\\whitl\\anaconda3\\Lib\\site-packages\\sklearn\\feature_extraction\\text.py:525: UserWarning: The parameter 'token_pattern' will not be used since 'tokenizer' is not None'\n",
      "  warnings.warn(\n",
      "C:\\Users\\whitl\\anaconda3\\Lib\\site-packages\\sklearn\\feature_extraction\\text.py:525: UserWarning: The parameter 'token_pattern' will not be used since 'tokenizer' is not None'\n",
      "  warnings.warn(\n",
      "C:\\Users\\whitl\\anaconda3\\Lib\\site-packages\\sklearn\\feature_extraction\\text.py:525: UserWarning: The parameter 'token_pattern' will not be used since 'tokenizer' is not None'\n",
      "  warnings.warn(\n"
     ]
    },
    {
     "name": "stdout",
     "output_type": "stream",
     "text": [
      "It takes about 41.3 seconds.\n",
      "\n",
      "Best score= 0.600\n",
      "Best parameters set:\n",
      "\tclassifier__max_features: 'sqrt'\n",
      "\tvectorizer__max_df: 1.0\n",
      "\tvectorizer__ngram_range: (1, 1)\n",
      "\tvectorizer__use_idf: True\n"
     ]
    }
   ],
   "source": [
    "from sklearn.feature_extraction.text import TfidfVectorizer\n",
    "from sklearn.tree import DecisionTreeClassifier\n",
    "from sklearn.pipeline import Pipeline\n",
    "from sklearn.model_selection import GridSearchCV\n",
    "from pprint import pprint\n",
    "from time import time\n",
    "\n",
    "pipeline = Pipeline ([(\"cleaner\", features()),\n",
    "                 (\"vectorizer\", TfidfVectorizer(tokenizer = spacy_tokenizer)),\n",
    "                 (\"classifier\", DecisionTreeClassifier())])\n",
    "\n",
    "parameters = {\n",
    "    'vectorizer__max_df': (0.5, 1.0),\n",
    "    'vectorizer__ngram_range': ((1, 1), (1,2)),\n",
    "    'vectorizer__use_idf': (True, False),\n",
    "    'classifier__max_features': [\"sqrt\"],\n",
    "}\n",
    "\n",
    "grid_search = GridSearchCV(pipeline, parameters, n_jobs=None, verbose=1)\n",
    "\n",
    "print(\"Performing grid search...\")\n",
    "print(\"The pipeline contains:\", [name for name, _ in pipeline.steps])\n",
    "print(\"parameters are as follows:\")\n",
    "pprint(parameters)\n",
    "\n",
    "t0 = time()\n",
    "grid_search.fit(X_train, y_train)\n",
    "print(f\"It takes about {time() - t0:.1f} seconds.\")\n",
    "print()\n",
    "\n",
    "print(f\"Best score= {grid_search.best_score_:0.3f}\")\n",
    "print(\"Best parameters set:\")\n",
    "best_parameters = grid_search.best_estimator_.get_params()\n",
    "for param_name in sorted(parameters.keys()):\n",
    "    print(\"\\t%s: %r\" % (param_name, best_parameters[param_name]))"
   ]
  },
  {
   "cell_type": "code",
   "execution_count": 25,
   "id": "fc15210d",
   "metadata": {
    "scrolled": true
   },
   "outputs": [
    {
     "name": "stdout",
     "output_type": "stream",
     "text": [
      "Confusion matrix, without normalization\n",
      "[[12  8]\n",
      " [ 5 15]]\n",
      "Normalized confusion matrix\n",
      "[[0.6  0.4 ]\n",
      " [0.25 0.75]]\n"
     ]
    },
    {
     "data": {
      "image/png": "[encoded data removed]",
      "text/plain": [
       "<Figure size 640x480 with 2 Axes>"
      ]
     },
     "metadata": {},
     "output_type": "display_data"
    },
    {
     "data": {
      "image/png": "[encoded data removed]",
      "text/plain": [
       "<Figure size 640x480 with 2 Axes>"
      ]
     },
     "metadata": {},
     "output_type": "display_data"
    }
   ],
   "source": [
    "import matplotlib.pyplot as plt\n",
    "from sklearn.metrics import confusion_matrix, ConfusionMatrixDisplay\n",
    "\n",
    "target_names = ['0', '4']\n",
    "titles_options = [(\"Confusion matrix, without normalization\", None),\n",
    "                  (\"Normalized confusion matrix\", 'true')]\n",
    "\n",
    "for title, normalize in titles_options:\n",
    "    disp = ConfusionMatrixDisplay.from_estimator(grid_search, X_test, y_test,\n",
    "                                 display_labels= target_names,\n",
    "                                 cmap=plt.cm.Blues,\n",
    "                                 normalize=normalize)\n",
    "    disp.ax_.set_title(title)\n",
    "\n",
    "    print(title)\n",
    "    print(disp.confusion_matrix)\n",
    "\n",
    "plt.show()"
   ]
  },
  {
   "cell_type": "code",
   "execution_count": 26,
   "id": "0e013edd",
   "metadata": {},
   "outputs": [
    {
     "name": "stdout",
     "output_type": "stream",
     "text": [
      "              precision    recall  f1-score   support\n",
      "\n",
      "           0       0.71      0.60      0.65        20\n",
      "           4       0.65      0.75      0.70        20\n",
      "\n",
      "    accuracy                           0.68        40\n",
      "   macro avg       0.68      0.68      0.67        40\n",
      "weighted avg       0.68      0.68      0.67        40\n",
      "\n"
     ]
    }
   ],
   "source": [
    "from sklearn.metrics import classification_report\n",
    "y_pred = grid_search.predict(X_test)\n",
    "print(classification_report(y_test, y_pred, target_names = target_names))"
   ]
  },
  {
   "cell_type": "markdown",
   "id": "872ad59c",
   "metadata": {},
   "source": [
    "###  6. Tune the second model using the support vector machines and perform model diagnostics. Is it a good model?"
   ]
  },
  {
   "cell_type": "code",
   "execution_count": 27,
   "id": "35ed8ecc",
   "metadata": {},
   "outputs": [
    {
     "name": "stdout",
     "output_type": "stream",
     "text": [
      "Performing grid search...\n",
      "The pipeline contains: ['cleaner', 'vectorizer', 'classifier']\n",
      "parameters are as follows:\n",
      "{'classifier__max_features': ['sqrt'],\n",
      " 'vectorizer__max_df': (0.5, 1.0),\n",
      " 'vectorizer__ngram_range': ((1, 1), (1, 2)),\n",
      " 'vectorizer__use_idf': (True, False)}\n",
      "Fitting 5 folds for each of 8 candidates, totalling 40 fits\n"
     ]
    },
    {
     "name": "stderr",
     "output_type": "stream",
     "text": [
      "C:\\Users\\whitl\\anaconda3\\Lib\\site-packages\\sklearn\\feature_extraction\\text.py:525: UserWarning: The parameter 'token_pattern' will not be used since 'tokenizer' is not None'\n",
      "  warnings.warn(\n",
      "C:\\Users\\whitl\\anaconda3\\Lib\\site-packages\\sklearn\\feature_extraction\\text.py:525: UserWarning: The parameter 'token_pattern' will not be used since 'tokenizer' is not None'\n",
      "  warnings.warn(\n",
      "C:\\Users\\whitl\\anaconda3\\Lib\\site-packages\\sklearn\\feature_extraction\\text.py:525: UserWarning: The parameter 'token_pattern' will not be used since 'tokenizer' is not None'\n",
      "  warnings.warn(\n",
      "C:\\Users\\whitl\\anaconda3\\Lib\\site-packages\\sklearn\\feature_extraction\\text.py:525: UserWarning: The parameter 'token_pattern' will not be used since 'tokenizer' is not None'\n",
      "  warnings.warn(\n",
      "C:\\Users\\whitl\\anaconda3\\Lib\\site-packages\\sklearn\\feature_extraction\\text.py:525: UserWarning: The parameter 'token_pattern' will not be used since 'tokenizer' is not None'\n",
      "  warnings.warn(\n",
      "C:\\Users\\whitl\\anaconda3\\Lib\\site-packages\\sklearn\\feature_extraction\\text.py:525: UserWarning: The parameter 'token_pattern' will not be used since 'tokenizer' is not None'\n",
      "  warnings.warn(\n",
      "C:\\Users\\whitl\\anaconda3\\Lib\\site-packages\\sklearn\\feature_extraction\\text.py:525: UserWarning: The parameter 'token_pattern' will not be used since 'tokenizer' is not None'\n",
      "  warnings.warn(\n",
      "C:\\Users\\whitl\\anaconda3\\Lib\\site-packages\\sklearn\\feature_extraction\\text.py:525: UserWarning: The parameter 'token_pattern' will not be used since 'tokenizer' is not None'\n",
      "  warnings.warn(\n",
      "C:\\Users\\whitl\\anaconda3\\Lib\\site-packages\\sklearn\\feature_extraction\\text.py:525: UserWarning: The parameter 'token_pattern' will not be used since 'tokenizer' is not None'\n",
      "  warnings.warn(\n",
      "C:\\Users\\whitl\\anaconda3\\Lib\\site-packages\\sklearn\\feature_extraction\\text.py:525: UserWarning: The parameter 'token_pattern' will not be used since 'tokenizer' is not None'\n",
      "  warnings.warn(\n",
      "C:\\Users\\whitl\\anaconda3\\Lib\\site-packages\\sklearn\\feature_extraction\\text.py:525: UserWarning: The parameter 'token_pattern' will not be used since 'tokenizer' is not None'\n",
      "  warnings.warn(\n",
      "C:\\Users\\whitl\\anaconda3\\Lib\\site-packages\\sklearn\\feature_extraction\\text.py:525: UserWarning: The parameter 'token_pattern' will not be used since 'tokenizer' is not None'\n",
      "  warnings.warn(\n",
      "C:\\Users\\whitl\\anaconda3\\Lib\\site-packages\\sklearn\\feature_extraction\\text.py:525: UserWarning: The parameter 'token_pattern' will not be used since 'tokenizer' is not None'\n",
      "  warnings.warn(\n",
      "C:\\Users\\whitl\\anaconda3\\Lib\\site-packages\\sklearn\\feature_extraction\\text.py:525: UserWarning: The parameter 'token_pattern' will not be used since 'tokenizer' is not None'\n",
      "  warnings.warn(\n",
      "C:\\Users\\whitl\\anaconda3\\Lib\\site-packages\\sklearn\\feature_extraction\\text.py:525: UserWarning: The parameter 'token_pattern' will not be used since 'tokenizer' is not None'\n",
      "  warnings.warn(\n",
      "C:\\Users\\whitl\\anaconda3\\Lib\\site-packages\\sklearn\\feature_extraction\\text.py:525: UserWarning: The parameter 'token_pattern' will not be used since 'tokenizer' is not None'\n",
      "  warnings.warn(\n",
      "C:\\Users\\whitl\\anaconda3\\Lib\\site-packages\\sklearn\\feature_extraction\\text.py:525: UserWarning: The parameter 'token_pattern' will not be used since 'tokenizer' is not None'\n",
      "  warnings.warn(\n",
      "C:\\Users\\whitl\\anaconda3\\Lib\\site-packages\\sklearn\\feature_extraction\\text.py:525: UserWarning: The parameter 'token_pattern' will not be used since 'tokenizer' is not None'\n",
      "  warnings.warn(\n",
      "C:\\Users\\whitl\\anaconda3\\Lib\\site-packages\\sklearn\\feature_extraction\\text.py:525: UserWarning: The parameter 'token_pattern' will not be used since 'tokenizer' is not None'\n",
      "  warnings.warn(\n",
      "C:\\Users\\whitl\\anaconda3\\Lib\\site-packages\\sklearn\\feature_extraction\\text.py:525: UserWarning: The parameter 'token_pattern' will not be used since 'tokenizer' is not None'\n",
      "  warnings.warn(\n",
      "C:\\Users\\whitl\\anaconda3\\Lib\\site-packages\\sklearn\\feature_extraction\\text.py:525: UserWarning: The parameter 'token_pattern' will not be used since 'tokenizer' is not None'\n",
      "  warnings.warn(\n",
      "C:\\Users\\whitl\\anaconda3\\Lib\\site-packages\\sklearn\\feature_extraction\\text.py:525: UserWarning: The parameter 'token_pattern' will not be used since 'tokenizer' is not None'\n",
      "  warnings.warn(\n",
      "C:\\Users\\whitl\\anaconda3\\Lib\\site-packages\\sklearn\\feature_extraction\\text.py:525: UserWarning: The parameter 'token_pattern' will not be used since 'tokenizer' is not None'\n",
      "  warnings.warn(\n",
      "C:\\Users\\whitl\\anaconda3\\Lib\\site-packages\\sklearn\\feature_extraction\\text.py:525: UserWarning: The parameter 'token_pattern' will not be used since 'tokenizer' is not None'\n",
      "  warnings.warn(\n",
      "C:\\Users\\whitl\\anaconda3\\Lib\\site-packages\\sklearn\\feature_extraction\\text.py:525: UserWarning: The parameter 'token_pattern' will not be used since 'tokenizer' is not None'\n",
      "  warnings.warn(\n",
      "C:\\Users\\whitl\\anaconda3\\Lib\\site-packages\\sklearn\\feature_extraction\\text.py:525: UserWarning: The parameter 'token_pattern' will not be used since 'tokenizer' is not None'\n",
      "  warnings.warn(\n",
      "C:\\Users\\whitl\\anaconda3\\Lib\\site-packages\\sklearn\\feature_extraction\\text.py:525: UserWarning: The parameter 'token_pattern' will not be used since 'tokenizer' is not None'\n",
      "  warnings.warn(\n",
      "C:\\Users\\whitl\\anaconda3\\Lib\\site-packages\\sklearn\\feature_extraction\\text.py:525: UserWarning: The parameter 'token_pattern' will not be used since 'tokenizer' is not None'\n",
      "  warnings.warn(\n",
      "C:\\Users\\whitl\\anaconda3\\Lib\\site-packages\\sklearn\\feature_extraction\\text.py:525: UserWarning: The parameter 'token_pattern' will not be used since 'tokenizer' is not None'\n",
      "  warnings.warn(\n",
      "C:\\Users\\whitl\\anaconda3\\Lib\\site-packages\\sklearn\\feature_extraction\\text.py:525: UserWarning: The parameter 'token_pattern' will not be used since 'tokenizer' is not None'\n",
      "  warnings.warn(\n",
      "C:\\Users\\whitl\\anaconda3\\Lib\\site-packages\\sklearn\\feature_extraction\\text.py:525: UserWarning: The parameter 'token_pattern' will not be used since 'tokenizer' is not None'\n",
      "  warnings.warn(\n",
      "C:\\Users\\whitl\\anaconda3\\Lib\\site-packages\\sklearn\\feature_extraction\\text.py:525: UserWarning: The parameter 'token_pattern' will not be used since 'tokenizer' is not None'\n",
      "  warnings.warn(\n",
      "C:\\Users\\whitl\\anaconda3\\Lib\\site-packages\\sklearn\\feature_extraction\\text.py:525: UserWarning: The parameter 'token_pattern' will not be used since 'tokenizer' is not None'\n",
      "  warnings.warn(\n",
      "C:\\Users\\whitl\\anaconda3\\Lib\\site-packages\\sklearn\\feature_extraction\\text.py:525: UserWarning: The parameter 'token_pattern' will not be used since 'tokenizer' is not None'\n",
      "  warnings.warn(\n",
      "C:\\Users\\whitl\\anaconda3\\Lib\\site-packages\\sklearn\\feature_extraction\\text.py:525: UserWarning: The parameter 'token_pattern' will not be used since 'tokenizer' is not None'\n",
      "  warnings.warn(\n",
      "C:\\Users\\whitl\\anaconda3\\Lib\\site-packages\\sklearn\\feature_extraction\\text.py:525: UserWarning: The parameter 'token_pattern' will not be used since 'tokenizer' is not None'\n",
      "  warnings.warn(\n",
      "C:\\Users\\whitl\\anaconda3\\Lib\\site-packages\\sklearn\\feature_extraction\\text.py:525: UserWarning: The parameter 'token_pattern' will not be used since 'tokenizer' is not None'\n",
      "  warnings.warn(\n",
      "C:\\Users\\whitl\\anaconda3\\Lib\\site-packages\\sklearn\\feature_extraction\\text.py:525: UserWarning: The parameter 'token_pattern' will not be used since 'tokenizer' is not None'\n",
      "  warnings.warn(\n",
      "C:\\Users\\whitl\\anaconda3\\Lib\\site-packages\\sklearn\\feature_extraction\\text.py:525: UserWarning: The parameter 'token_pattern' will not be used since 'tokenizer' is not None'\n",
      "  warnings.warn(\n",
      "C:\\Users\\whitl\\anaconda3\\Lib\\site-packages\\sklearn\\feature_extraction\\text.py:525: UserWarning: The parameter 'token_pattern' will not be used since 'tokenizer' is not None'\n",
      "  warnings.warn(\n",
      "C:\\Users\\whitl\\anaconda3\\Lib\\site-packages\\sklearn\\feature_extraction\\text.py:525: UserWarning: The parameter 'token_pattern' will not be used since 'tokenizer' is not None'\n",
      "  warnings.warn(\n"
     ]
    },
    {
     "name": "stdout",
     "output_type": "stream",
     "text": [
      "It takes about 41.7 seconds.\n",
      "\n"
     ]
    }
   ],
   "source": [
    "from sklearn.feature_extraction.text import TfidfVectorizer\n",
    "from sklearn.tree import DecisionTreeClassifier\n",
    "from sklearn.pipeline import Pipeline\n",
    "from sklearn.model_selection import GridSearchCV\n",
    "from pprint import pprint\n",
    "from time import time\n",
    "\n",
    "pipeline = Pipeline([\n",
    "    (\"cleaner\", features()),\n",
    "    (\"vectorizer\", TfidfVectorizer(\n",
    "        tokenizer=spacy_tokenizer,\n",
    "        max_df=0.5,\n",
    "        ngram_range=(1, 1),\n",
    "        use_idf=True\n",
    "    )),\n",
    "    (\"classifier\", DecisionTreeClassifier(max_features='sqrt'))\n",
    "])\n",
    "\n",
    "grid_search = GridSearchCV(pipeline, parameters, n_jobs=None, verbose=1)\n",
    "\n",
    "print(\"Performing grid search...\")\n",
    "print(\"The pipeline contains:\", [name for name, _ in pipeline.steps])\n",
    "print(\"parameters are as follows:\")\n",
    "pprint(parameters)\n",
    "\n",
    "t0 = time()\n",
    "grid_search.fit(X_train, y_train)\n",
    "print(f\"It takes about {time() - t0:.1f} seconds.\")\n",
    "print()"
   ]
  },
  {
   "cell_type": "code",
   "execution_count": 28,
   "id": "590e0975",
   "metadata": {},
   "outputs": [
    {
     "name": "stdout",
     "output_type": "stream",
     "text": [
      "Confusion matrix, without normalization\n",
      "[[ 7 13]\n",
      " [ 4 16]]\n",
      "Normalized confusion matrix\n",
      "[[0.35 0.65]\n",
      " [0.2  0.8 ]]\n"
     ]
    },
    {
     "data": {
      "image/png": "[encoded data removed]",
      "text/plain": [
       "<Figure size 640x480 with 2 Axes>"
      ]
     },
     "metadata": {},
     "output_type": "display_data"
    },
    {
     "data": {
      "image/png": "[encoded data removed]",
      "text/plain": [
       "<Figure size 640x480 with 2 Axes>"
      ]
     },
     "metadata": {},
     "output_type": "display_data"
    }
   ],
   "source": [
    "import matplotlib.pyplot as plt\n",
    "from sklearn.metrics import confusion_matrix, ConfusionMatrixDisplay\n",
    "target_names = ['0', '4']\n",
    "titles_options = [(\"Confusion matrix, without normalization\", None),\n",
    "                  (\"Normalized confusion matrix\", 'true')]\n",
    "\n",
    "for title, normalize in titles_options:\n",
    "    disp = ConfusionMatrixDisplay.from_estimator(grid_search, X_test, y_test,\n",
    "                                 display_labels= target_names,\n",
    "                                 cmap=plt.cm.Blues,\n",
    "                                 normalize=normalize)\n",
    "    disp.ax_.set_title(title)\n",
    "\n",
    "    print(title)\n",
    "    print(disp.confusion_matrix)\n",
    "\n",
    "plt.show()"
   ]
  },
  {
   "cell_type": "code",
   "execution_count": 29,
   "id": "eaa07c72",
   "metadata": {
    "scrolled": true
   },
   "outputs": [
    {
     "name": "stdout",
     "output_type": "stream",
     "text": [
      "              precision    recall  f1-score   support\n",
      "\n",
      "           0       0.64      0.35      0.45        20\n",
      "           4       0.55      0.80      0.65        20\n",
      "\n",
      "    accuracy                           0.57        40\n",
      "   macro avg       0.59      0.57      0.55        40\n",
      "weighted avg       0.59      0.57      0.55        40\n",
      "\n"
     ]
    }
   ],
   "source": [
    "from sklearn.metrics import classification_report\n",
    "y_pred = grid_search.predict(X_test)\n",
    "print(classification_report(y_test, y_pred, target_names = target_names))"
   ]
  },
  {
   "cell_type": "markdown",
   "id": "dc3d98e0",
   "metadata": {},
   "source": [
    "This is not a good model, ironically when you tune it with the best parameters the model becomes worse! More testing would need to be done to tune them even more but as stated earlier, a larger sample size to work with is what we need. We cannot do this because of time contraints."
   ]
  },
  {
   "cell_type": "markdown",
   "id": "3320ca49",
   "metadata": {},
   "source": [
    "### 7. Build the third model using pipeline, grid search CV, hyperparameter for the following classifiers:\n",
    "### - Logistic regression\n",
    "### - Support Vector Machine\n",
    "### - Random Forest"
   ]
  },
  {
   "cell_type": "code",
   "execution_count": 30,
   "id": "1fae7eda",
   "metadata": {},
   "outputs": [],
   "source": [
    "from sklearn.base import BaseEstimator\n",
    "from sklearn.linear_model import SGDClassifier\n",
    "\n",
    "class ClfSwitcher(BaseEstimator):\n",
    "    def __init__(\n",
    "        self, \n",
    "        estimator = SGDClassifier(),\n",
    "    ):\n",
    "\n",
    "        self.estimator = estimator\n",
    "\n",
    "    def fit(self, X, y=None, **kwargs):\n",
    "        self.estimator.fit(X, y)\n",
    "        return self\n",
    "\n",
    "    def predict(self, X, y=None):\n",
    "        return self.estimator.predict(X)\n",
    "\n",
    "    def predict_proba(self, X):\n",
    "        return self.estimator.predict_proba(X)\n",
    "\n",
    "    def score(self, X, y):\n",
    "        return self.estimator.score(X, y)"
   ]
  },
  {
   "cell_type": "code",
   "execution_count": 31,
   "id": "350e0f87",
   "metadata": {},
   "outputs": [
    {
     "name": "stdout",
     "output_type": "stream",
     "text": [
      "Performing grid search...\n",
      "The pipeline contains: ['cleaner', 'vectorizer', 'classifier']\n",
      "parameters are as follows:\n",
      "[{'classifier__estimator': [SGDClassifier()],\n",
      "  'classifier__estimator__loss': ['hinge', 'log', 'modified_huber'],\n",
      "  'classifier__estimator__max_iter': [50, 80],\n",
      "  'classifier__estimator__penalty': ('l2', 'elasticnet', 'l1'),\n",
      "  'classifier__estimator__tol': [0.0001],\n",
      "  'vectorizer__max_df': [1.0],\n",
      "  'vectorizer__norm': ('l1', 'l2'),\n",
      "  'vectorizer__stop_words': ['english', None],\n",
      "  'vectorizer__tokenizer': [<function spacy_tokenizer at 0x0000023CD53BE340>]},\n",
      " {'classifier__estimator': [MultinomialNB()],\n",
      "  'classifier__estimator__alpha': (0.01, 0.001, 0.1),\n",
      "  'vectorizer__max_df': [1.0],\n",
      "  'vectorizer__norm': ('l1', 'l2'),\n",
      "  'vectorizer__stop_words': [None],\n",
      "  'vectorizer__tokenizer': [<function spacy_tokenizer at 0x0000023CD53BE340>]}]\n",
      "Fitting 5 folds for each of 78 candidates, totalling 390 fits\n"
     ]
    },
    {
     "name": "stderr",
     "output_type": "stream",
     "text": [
      "C:\\Users\\whitl\\anaconda3\\Lib\\site-packages\\sklearn\\feature_extraction\\text.py:525: UserWarning: The parameter 'token_pattern' will not be used since 'tokenizer' is not None'\n",
      "  warnings.warn(\n",
      "C:\\Users\\whitl\\anaconda3\\Lib\\site-packages\\sklearn\\feature_extraction\\text.py:408: UserWarning: Your stop_words may be inconsistent with your preprocessing. Tokenizing the stop words generated tokens ['ca', 'nt'] not in stop_words.\n",
      "  warnings.warn(\n"
     ]
    },
    {
     "name": "stdout",
     "output_type": "stream",
     "text": [
      "[CV 1/5] END classifier__estimator=SGDClassifier(), classifier__estimator__loss=hinge, classifier__estimator__max_iter=50, classifier__estimator__penalty=l2, classifier__estimator__tol=0.0001, vectorizer__max_df=1.0, vectorizer__norm=l1, vectorizer__stop_words=english, vectorizer__tokenizer=<function spacy_tokenizer at 0x0000023CD53BE340>;, score=0.719 total time=   2.3s\n"
     ]
    },
    {
     "name": "stderr",
     "output_type": "stream",
     "text": [
      "C:\\Users\\whitl\\anaconda3\\Lib\\site-packages\\sklearn\\feature_extraction\\text.py:525: UserWarning: The parameter 'token_pattern' will not be used since 'tokenizer' is not None'\n",
      "  warnings.warn(\n",
      "C:\\Users\\whitl\\anaconda3\\Lib\\site-packages\\sklearn\\feature_extraction\\text.py:408: UserWarning: Your stop_words may be inconsistent with your preprocessing. Tokenizing the stop words generated tokens ['ca', 'nt'] not in stop_words.\n",
      "  warnings.warn(\n"
     ]
    },
    {
     "name": "stdout",
     "output_type": "stream",
     "text": [
      "[CV 2/5] END classifier__estimator=SGDClassifier(), classifier__estimator__loss=hinge, classifier__estimator__max_iter=50, classifier__estimator__penalty=l2, classifier__estimator__tol=0.0001, vectorizer__max_df=1.0, vectorizer__norm=l1, vectorizer__stop_words=english, vectorizer__tokenizer=<function spacy_tokenizer at 0x0000023CD53BE340>;, score=0.594 total time=   2.2s\n"
     ]
    },
    {
     "name": "stderr",
     "output_type": "stream",
     "text": [
      "C:\\Users\\whitl\\anaconda3\\Lib\\site-packages\\sklearn\\feature_extraction\\text.py:525: UserWarning: The parameter 'token_pattern' will not be used since 'tokenizer' is not None'\n",
      "  warnings.warn(\n",
      "C:\\Users\\whitl\\anaconda3\\Lib\\site-packages\\sklearn\\feature_extraction\\text.py:408: UserWarning: Your stop_words may be inconsistent with your preprocessing. Tokenizing the stop words generated tokens ['ca', 'nt'] not in stop_words.\n",
      "  warnings.warn(\n"
     ]
    },
    {
     "name": "stdout",
     "output_type": "stream",
     "text": [
      "[CV 3/5] END classifier__estimator=SGDClassifier(), classifier__estimator__loss=hinge, classifier__estimator__max_iter=50, classifier__estimator__penalty=l2, classifier__estimator__tol=0.0001, vectorizer__max_df=1.0, vectorizer__norm=l1, vectorizer__stop_words=english, vectorizer__tokenizer=<function spacy_tokenizer at 0x0000023CD53BE340>;, score=0.594 total time=   2.2s\n"
     ]
    },
    {
     "name": "stderr",
     "output_type": "stream",
     "text": [
      "C:\\Users\\whitl\\anaconda3\\Lib\\site-packages\\sklearn\\feature_extraction\\text.py:525: UserWarning: The parameter 'token_pattern' will not be used since 'tokenizer' is not None'\n",
      "  warnings.warn(\n",
      "C:\\Users\\whitl\\anaconda3\\Lib\\site-packages\\sklearn\\feature_extraction\\text.py:408: UserWarning: Your stop_words may be inconsistent with your preprocessing. Tokenizing the stop words generated tokens ['ca', 'nt'] not in stop_words.\n",
      "  warnings.warn(\n"
     ]
    },
    {
     "name": "stdout",
     "output_type": "stream",
     "text": [
      "[CV 4/5] END classifier__estimator=SGDClassifier(), classifier__estimator__loss=hinge, classifier__estimator__max_iter=50, classifier__estimator__penalty=l2, classifier__estimator__tol=0.0001, vectorizer__max_df=1.0, vectorizer__norm=l1, vectorizer__stop_words=english, vectorizer__tokenizer=<function spacy_tokenizer at 0x0000023CD53BE340>;, score=0.562 total time=   2.2s\n"
     ]
    },
    {
     "name": "stderr",
     "output_type": "stream",
     "text": [
      "C:\\Users\\whitl\\anaconda3\\Lib\\site-packages\\sklearn\\feature_extraction\\text.py:525: UserWarning: The parameter 'token_pattern' will not be used since 'tokenizer' is not None'\n",
      "  warnings.warn(\n",
      "C:\\Users\\whitl\\anaconda3\\Lib\\site-packages\\sklearn\\feature_extraction\\text.py:408: UserWarning: Your stop_words may be inconsistent with your preprocessing. Tokenizing the stop words generated tokens ['ca', 'nt'] not in stop_words.\n",
      "  warnings.warn(\n"
     ]
    },
    {
     "name": "stdout",
     "output_type": "stream",
     "text": [
      "[CV 5/5] END classifier__estimator=SGDClassifier(), classifier__estimator__loss=hinge, classifier__estimator__max_iter=50, classifier__estimator__penalty=l2, classifier__estimator__tol=0.0001, vectorizer__max_df=1.0, vectorizer__norm=l1, vectorizer__stop_words=english, vectorizer__tokenizer=<function spacy_tokenizer at 0x0000023CD53BE340>;, score=0.562 total time=   2.2s\n"
     ]
    },
    {
     "name": "stderr",
     "output_type": "stream",
     "text": [
      "C:\\Users\\whitl\\anaconda3\\Lib\\site-packages\\sklearn\\feature_extraction\\text.py:525: UserWarning: The parameter 'token_pattern' will not be used since 'tokenizer' is not None'\n",
      "  warnings.warn(\n"
     ]
    },
    {
     "name": "stdout",
     "output_type": "stream",
     "text": [
      "[CV 1/5] END classifier__estimator=SGDClassifier(), classifier__estimator__loss=hinge, classifier__estimator__max_iter=50, classifier__estimator__penalty=l2, classifier__estimator__tol=0.0001, vectorizer__max_df=1.0, vectorizer__norm=l1, vectorizer__stop_words=None, vectorizer__tokenizer=<function spacy_tokenizer at 0x0000023CD53BE340>;, score=0.719 total time=   0.9s\n"
     ]
    },
    {
     "name": "stderr",
     "output_type": "stream",
     "text": [
      "C:\\Users\\whitl\\anaconda3\\Lib\\site-packages\\sklearn\\feature_extraction\\text.py:525: UserWarning: The parameter 'token_pattern' will not be used since 'tokenizer' is not None'\n",
      "  warnings.warn(\n"
     ]
    },
    {
     "name": "stdout",
     "output_type": "stream",
     "text": [
      "[CV 2/5] END classifier__estimator=SGDClassifier(), classifier__estimator__loss=hinge, classifier__estimator__max_iter=50, classifier__estimator__penalty=l2, classifier__estimator__tol=0.0001, vectorizer__max_df=1.0, vectorizer__norm=l1, vectorizer__stop_words=None, vectorizer__tokenizer=<function spacy_tokenizer at 0x0000023CD53BE340>;, score=0.625 total time=   0.9s\n"
     ]
    },
    {
     "name": "stderr",
     "output_type": "stream",
     "text": [
      "C:\\Users\\whitl\\anaconda3\\Lib\\site-packages\\sklearn\\feature_extraction\\text.py:525: UserWarning: The parameter 'token_pattern' will not be used since 'tokenizer' is not None'\n",
      "  warnings.warn(\n"
     ]
    },
    {
     "name": "stdout",
     "output_type": "stream",
     "text": [
      "[CV 3/5] END classifier__estimator=SGDClassifier(), classifier__estimator__loss=hinge, classifier__estimator__max_iter=50, classifier__estimator__penalty=l2, classifier__estimator__tol=0.0001, vectorizer__max_df=1.0, vectorizer__norm=l1, vectorizer__stop_words=None, vectorizer__tokenizer=<function spacy_tokenizer at 0x0000023CD53BE340>;, score=0.562 total time=   0.9s\n"
     ]
    },
    {
     "name": "stderr",
     "output_type": "stream",
     "text": [
      "C:\\Users\\whitl\\anaconda3\\Lib\\site-packages\\sklearn\\feature_extraction\\text.py:525: UserWarning: The parameter 'token_pattern' will not be used since 'tokenizer' is not None'\n",
      "  warnings.warn(\n"
     ]
    },
    {
     "name": "stdout",
     "output_type": "stream",
     "text": [
      "[CV 4/5] END classifier__estimator=SGDClassifier(), classifier__estimator__loss=hinge, classifier__estimator__max_iter=50, classifier__estimator__penalty=l2, classifier__estimator__tol=0.0001, vectorizer__max_df=1.0, vectorizer__norm=l1, vectorizer__stop_words=None, vectorizer__tokenizer=<function spacy_tokenizer at 0x0000023CD53BE340>;, score=0.656 total time=   0.9s\n"
     ]
    },
    {
     "name": "stderr",
     "output_type": "stream",
     "text": [
      "C:\\Users\\whitl\\anaconda3\\Lib\\site-packages\\sklearn\\feature_extraction\\text.py:525: UserWarning: The parameter 'token_pattern' will not be used since 'tokenizer' is not None'\n",
      "  warnings.warn(\n"
     ]
    },
    {
     "name": "stdout",
     "output_type": "stream",
     "text": [
      "[CV 5/5] END classifier__estimator=SGDClassifier(), classifier__estimator__loss=hinge, classifier__estimator__max_iter=50, classifier__estimator__penalty=l2, classifier__estimator__tol=0.0001, vectorizer__max_df=1.0, vectorizer__norm=l1, vectorizer__stop_words=None, vectorizer__tokenizer=<function spacy_tokenizer at 0x0000023CD53BE340>;, score=0.562 total time=   0.9s\n"
     ]
    },
    {
     "name": "stderr",
     "output_type": "stream",
     "text": [
      "C:\\Users\\whitl\\anaconda3\\Lib\\site-packages\\sklearn\\feature_extraction\\text.py:525: UserWarning: The parameter 'token_pattern' will not be used since 'tokenizer' is not None'\n",
      "  warnings.warn(\n",
      "C:\\Users\\whitl\\anaconda3\\Lib\\site-packages\\sklearn\\feature_extraction\\text.py:408: UserWarning: Your stop_words may be inconsistent with your preprocessing. Tokenizing the stop words generated tokens ['ca', 'nt'] not in stop_words.\n",
      "  warnings.warn(\n"
     ]
    },
    {
     "name": "stdout",
     "output_type": "stream",
     "text": [
      "[CV 1/5] END classifier__estimator=SGDClassifier(), classifier__estimator__loss=hinge, classifier__estimator__max_iter=50, classifier__estimator__penalty=l2, classifier__estimator__tol=0.0001, vectorizer__max_df=1.0, vectorizer__norm=l2, vectorizer__stop_words=english, vectorizer__tokenizer=<function spacy_tokenizer at 0x0000023CD53BE340>;, score=0.688 total time=   2.2s\n"
     ]
    },
    {
     "name": "stderr",
     "output_type": "stream",
     "text": [
      "C:\\Users\\whitl\\anaconda3\\Lib\\site-packages\\sklearn\\feature_extraction\\text.py:525: UserWarning: The parameter 'token_pattern' will not be used since 'tokenizer' is not None'\n",
      "  warnings.warn(\n",
      "C:\\Users\\whitl\\anaconda3\\Lib\\site-packages\\sklearn\\feature_extraction\\text.py:408: UserWarning: Your stop_words may be inconsistent with your preprocessing. Tokenizing the stop words generated tokens ['ca', 'nt'] not in stop_words.\n",
      "  warnings.warn(\n"
     ]
    },
    {
     "name": "stdout",
     "output_type": "stream",
     "text": [
      "[CV 2/5] END classifier__estimator=SGDClassifier(), classifier__estimator__loss=hinge, classifier__estimator__max_iter=50, classifier__estimator__penalty=l2, classifier__estimator__tol=0.0001, vectorizer__max_df=1.0, vectorizer__norm=l2, vectorizer__stop_words=english, vectorizer__tokenizer=<function spacy_tokenizer at 0x0000023CD53BE340>;, score=0.656 total time=   2.2s\n"
     ]
    },
    {
     "name": "stderr",
     "output_type": "stream",
     "text": [
      "C:\\Users\\whitl\\anaconda3\\Lib\\site-packages\\sklearn\\feature_extraction\\text.py:525: UserWarning: The parameter 'token_pattern' will not be used since 'tokenizer' is not None'\n",
      "  warnings.warn(\n",
      "C:\\Users\\whitl\\anaconda3\\Lib\\site-packages\\sklearn\\feature_extraction\\text.py:408: UserWarning: Your stop_words may be inconsistent with your preprocessing. Tokenizing the stop words generated tokens ['ca', 'nt'] not in stop_words.\n",
      "  warnings.warn(\n"
     ]
    },
    {
     "name": "stdout",
     "output_type": "stream",
     "text": [
      "[CV 3/5] END classifier__estimator=SGDClassifier(), classifier__estimator__loss=hinge, classifier__estimator__max_iter=50, classifier__estimator__penalty=l2, classifier__estimator__tol=0.0001, vectorizer__max_df=1.0, vectorizer__norm=l2, vectorizer__stop_words=english, vectorizer__tokenizer=<function spacy_tokenizer at 0x0000023CD53BE340>;, score=0.531 total time=   2.2s\n"
     ]
    },
    {
     "name": "stderr",
     "output_type": "stream",
     "text": [
      "C:\\Users\\whitl\\anaconda3\\Lib\\site-packages\\sklearn\\feature_extraction\\text.py:525: UserWarning: The parameter 'token_pattern' will not be used since 'tokenizer' is not None'\n",
      "  warnings.warn(\n",
      "C:\\Users\\whitl\\anaconda3\\Lib\\site-packages\\sklearn\\feature_extraction\\text.py:408: UserWarning: Your stop_words may be inconsistent with your preprocessing. Tokenizing the stop words generated tokens ['ca', 'nt'] not in stop_words.\n",
      "  warnings.warn(\n"
     ]
    },
    {
     "name": "stdout",
     "output_type": "stream",
     "text": [
      "[CV 4/5] END classifier__estimator=SGDClassifier(), classifier__estimator__loss=hinge, classifier__estimator__max_iter=50, classifier__estimator__penalty=l2, classifier__estimator__tol=0.0001, vectorizer__max_df=1.0, vectorizer__norm=l2, vectorizer__stop_words=english, vectorizer__tokenizer=<function spacy_tokenizer at 0x0000023CD53BE340>;, score=0.562 total time=   2.1s\n"
     ]
    },
    {
     "name": "stderr",
     "output_type": "stream",
     "text": [
      "C:\\Users\\whitl\\anaconda3\\Lib\\site-packages\\sklearn\\feature_extraction\\text.py:525: UserWarning: The parameter 'token_pattern' will not be used since 'tokenizer' is not None'\n",
      "  warnings.warn(\n",
      "C:\\Users\\whitl\\anaconda3\\Lib\\site-packages\\sklearn\\feature_extraction\\text.py:408: UserWarning: Your stop_words may be inconsistent with your preprocessing. Tokenizing the stop words generated tokens ['ca', 'nt'] not in stop_words.\n",
      "  warnings.warn(\n"
     ]
    },
    {
     "name": "stdout",
     "output_type": "stream",
     "text": [
      "[CV 5/5] END classifier__estimator=SGDClassifier(), classifier__estimator__loss=hinge, classifier__estimator__max_iter=50, classifier__estimator__penalty=l2, classifier__estimator__tol=0.0001, vectorizer__max_df=1.0, vectorizer__norm=l2, vectorizer__stop_words=english, vectorizer__tokenizer=<function spacy_tokenizer at 0x0000023CD53BE340>;, score=0.531 total time=   2.1s\n"
     ]
    },
    {
     "name": "stderr",
     "output_type": "stream",
     "text": [
      "C:\\Users\\whitl\\anaconda3\\Lib\\site-packages\\sklearn\\feature_extraction\\text.py:525: UserWarning: The parameter 'token_pattern' will not be used since 'tokenizer' is not None'\n",
      "  warnings.warn(\n"
     ]
    },
    {
     "name": "stdout",
     "output_type": "stream",
     "text": [
      "[CV 1/5] END classifier__estimator=SGDClassifier(), classifier__estimator__loss=hinge, classifier__estimator__max_iter=50, classifier__estimator__penalty=l2, classifier__estimator__tol=0.0001, vectorizer__max_df=1.0, vectorizer__norm=l2, vectorizer__stop_words=None, vectorizer__tokenizer=<function spacy_tokenizer at 0x0000023CD53BE340>;, score=0.688 total time=   0.9s\n"
     ]
    },
    {
     "name": "stderr",
     "output_type": "stream",
     "text": [
      "C:\\Users\\whitl\\anaconda3\\Lib\\site-packages\\sklearn\\feature_extraction\\text.py:525: UserWarning: The parameter 'token_pattern' will not be used since 'tokenizer' is not None'\n",
      "  warnings.warn(\n"
     ]
    },
    {
     "name": "stdout",
     "output_type": "stream",
     "text": [
      "[CV 2/5] END classifier__estimator=SGDClassifier(), classifier__estimator__loss=hinge, classifier__estimator__max_iter=50, classifier__estimator__penalty=l2, classifier__estimator__tol=0.0001, vectorizer__max_df=1.0, vectorizer__norm=l2, vectorizer__stop_words=None, vectorizer__tokenizer=<function spacy_tokenizer at 0x0000023CD53BE340>;, score=0.562 total time=   0.9s\n"
     ]
    },
    {
     "name": "stderr",
     "output_type": "stream",
     "text": [
      "C:\\Users\\whitl\\anaconda3\\Lib\\site-packages\\sklearn\\feature_extraction\\text.py:525: UserWarning: The parameter 'token_pattern' will not be used since 'tokenizer' is not None'\n",
      "  warnings.warn(\n"
     ]
    },
    {
     "name": "stdout",
     "output_type": "stream",
     "text": [
      "[CV 3/5] END classifier__estimator=SGDClassifier(), classifier__estimator__loss=hinge, classifier__estimator__max_iter=50, classifier__estimator__penalty=l2, classifier__estimator__tol=0.0001, vectorizer__max_df=1.0, vectorizer__norm=l2, vectorizer__stop_words=None, vectorizer__tokenizer=<function spacy_tokenizer at 0x0000023CD53BE340>;, score=0.656 total time=   0.9s\n"
     ]
    },
    {
     "name": "stderr",
     "output_type": "stream",
     "text": [
      "C:\\Users\\whitl\\anaconda3\\Lib\\site-packages\\sklearn\\feature_extraction\\text.py:525: UserWarning: The parameter 'token_pattern' will not be used since 'tokenizer' is not None'\n",
      "  warnings.warn(\n"
     ]
    },
    {
     "name": "stdout",
     "output_type": "stream",
     "text": [
      "[CV 4/5] END classifier__estimator=SGDClassifier(), classifier__estimator__loss=hinge, classifier__estimator__max_iter=50, classifier__estimator__penalty=l2, classifier__estimator__tol=0.0001, vectorizer__max_df=1.0, vectorizer__norm=l2, vectorizer__stop_words=None, vectorizer__tokenizer=<function spacy_tokenizer at 0x0000023CD53BE340>;, score=0.625 total time=   0.9s\n"
     ]
    },
    {
     "name": "stderr",
     "output_type": "stream",
     "text": [
      "C:\\Users\\whitl\\anaconda3\\Lib\\site-packages\\sklearn\\feature_extraction\\text.py:525: UserWarning: The parameter 'token_pattern' will not be used since 'tokenizer' is not None'\n",
      "  warnings.warn(\n"
     ]
    },
    {
     "name": "stdout",
     "output_type": "stream",
     "text": [
      "[CV 5/5] END classifier__estimator=SGDClassifier(), classifier__estimator__loss=hinge, classifier__estimator__max_iter=50, classifier__estimator__penalty=l2, classifier__estimator__tol=0.0001, vectorizer__max_df=1.0, vectorizer__norm=l2, vectorizer__stop_words=None, vectorizer__tokenizer=<function spacy_tokenizer at 0x0000023CD53BE340>;, score=0.656 total time=   0.9s\n"
     ]
    },
    {
     "name": "stderr",
     "output_type": "stream",
     "text": [
      "C:\\Users\\whitl\\anaconda3\\Lib\\site-packages\\sklearn\\feature_extraction\\text.py:525: UserWarning: The parameter 'token_pattern' will not be used since 'tokenizer' is not None'\n",
      "  warnings.warn(\n",
      "C:\\Users\\whitl\\anaconda3\\Lib\\site-packages\\sklearn\\feature_extraction\\text.py:408: UserWarning: Your stop_words may be inconsistent with your preprocessing. Tokenizing the stop words generated tokens ['ca', 'nt'] not in stop_words.\n",
      "  warnings.warn(\n"
     ]
    },
    {
     "name": "stdout",
     "output_type": "stream",
     "text": [
      "[CV 1/5] END classifier__estimator=SGDClassifier(), classifier__estimator__loss=hinge, classifier__estimator__max_iter=50, classifier__estimator__penalty=elasticnet, classifier__estimator__tol=0.0001, vectorizer__max_df=1.0, vectorizer__norm=l1, vectorizer__stop_words=english, vectorizer__tokenizer=<function spacy_tokenizer at 0x0000023CD53BE340>;, score=0.719 total time=   2.2s\n"
     ]
    },
    {
     "name": "stderr",
     "output_type": "stream",
     "text": [
      "C:\\Users\\whitl\\anaconda3\\Lib\\site-packages\\sklearn\\feature_extraction\\text.py:525: UserWarning: The parameter 'token_pattern' will not be used since 'tokenizer' is not None'\n",
      "  warnings.warn(\n",
      "C:\\Users\\whitl\\anaconda3\\Lib\\site-packages\\sklearn\\feature_extraction\\text.py:408: UserWarning: Your stop_words may be inconsistent with your preprocessing. Tokenizing the stop words generated tokens ['ca', 'nt'] not in stop_words.\n",
      "  warnings.warn(\n"
     ]
    },
    {
     "name": "stdout",
     "output_type": "stream",
     "text": [
      "[CV 2/5] END classifier__estimator=SGDClassifier(), classifier__estimator__loss=hinge, classifier__estimator__max_iter=50, classifier__estimator__penalty=elasticnet, classifier__estimator__tol=0.0001, vectorizer__max_df=1.0, vectorizer__norm=l1, vectorizer__stop_words=english, vectorizer__tokenizer=<function spacy_tokenizer at 0x0000023CD53BE340>;, score=0.625 total time=   2.2s\n"
     ]
    },
    {
     "name": "stderr",
     "output_type": "stream",
     "text": [
      "C:\\Users\\whitl\\anaconda3\\Lib\\site-packages\\sklearn\\feature_extraction\\text.py:525: UserWarning: The parameter 'token_pattern' will not be used since 'tokenizer' is not None'\n",
      "  warnings.warn(\n",
      "C:\\Users\\whitl\\anaconda3\\Lib\\site-packages\\sklearn\\feature_extraction\\text.py:408: UserWarning: Your stop_words may be inconsistent with your preprocessing. Tokenizing the stop words generated tokens ['ca', 'nt'] not in stop_words.\n",
      "  warnings.warn(\n"
     ]
    },
    {
     "name": "stdout",
     "output_type": "stream",
     "text": [
      "[CV 3/5] END classifier__estimator=SGDClassifier(), classifier__estimator__loss=hinge, classifier__estimator__max_iter=50, classifier__estimator__penalty=elasticnet, classifier__estimator__tol=0.0001, vectorizer__max_df=1.0, vectorizer__norm=l1, vectorizer__stop_words=english, vectorizer__tokenizer=<function spacy_tokenizer at 0x0000023CD53BE340>;, score=0.531 total time=   2.2s\n"
     ]
    },
    {
     "name": "stderr",
     "output_type": "stream",
     "text": [
      "C:\\Users\\whitl\\anaconda3\\Lib\\site-packages\\sklearn\\feature_extraction\\text.py:525: UserWarning: The parameter 'token_pattern' will not be used since 'tokenizer' is not None'\n",
      "  warnings.warn(\n",
      "C:\\Users\\whitl\\anaconda3\\Lib\\site-packages\\sklearn\\feature_extraction\\text.py:408: UserWarning: Your stop_words may be inconsistent with your preprocessing. Tokenizing the stop words generated tokens ['ca', 'nt'] not in stop_words.\n",
      "  warnings.warn(\n"
     ]
    },
    {
     "name": "stdout",
     "output_type": "stream",
     "text": [
      "[CV 4/5] END classifier__estimator=SGDClassifier(), classifier__estimator__loss=hinge, classifier__estimator__max_iter=50, classifier__estimator__penalty=elasticnet, classifier__estimator__tol=0.0001, vectorizer__max_df=1.0, vectorizer__norm=l1, vectorizer__stop_words=english, vectorizer__tokenizer=<function spacy_tokenizer at 0x0000023CD53BE340>;, score=0.625 total time=   2.2s\n"
     ]
    },
    {
     "name": "stderr",
     "output_type": "stream",
     "text": [
      "C:\\Users\\whitl\\anaconda3\\Lib\\site-packages\\sklearn\\feature_extraction\\text.py:525: UserWarning: The parameter 'token_pattern' will not be used since 'tokenizer' is not None'\n",
      "  warnings.warn(\n",
      "C:\\Users\\whitl\\anaconda3\\Lib\\site-packages\\sklearn\\feature_extraction\\text.py:408: UserWarning: Your stop_words may be inconsistent with your preprocessing. Tokenizing the stop words generated tokens ['ca', 'nt'] not in stop_words.\n",
      "  warnings.warn(\n"
     ]
    },
    {
     "name": "stdout",
     "output_type": "stream",
     "text": [
      "[CV 5/5] END classifier__estimator=SGDClassifier(), classifier__estimator__loss=hinge, classifier__estimator__max_iter=50, classifier__estimator__penalty=elasticnet, classifier__estimator__tol=0.0001, vectorizer__max_df=1.0, vectorizer__norm=l1, vectorizer__stop_words=english, vectorizer__tokenizer=<function spacy_tokenizer at 0x0000023CD53BE340>;, score=0.625 total time=   2.1s\n"
     ]
    },
    {
     "name": "stderr",
     "output_type": "stream",
     "text": [
      "C:\\Users\\whitl\\anaconda3\\Lib\\site-packages\\sklearn\\feature_extraction\\text.py:525: UserWarning: The parameter 'token_pattern' will not be used since 'tokenizer' is not None'\n",
      "  warnings.warn(\n"
     ]
    },
    {
     "name": "stdout",
     "output_type": "stream",
     "text": [
      "[CV 1/5] END classifier__estimator=SGDClassifier(), classifier__estimator__loss=hinge, classifier__estimator__max_iter=50, classifier__estimator__penalty=elasticnet, classifier__estimator__tol=0.0001, vectorizer__max_df=1.0, vectorizer__norm=l1, vectorizer__stop_words=None, vectorizer__tokenizer=<function spacy_tokenizer at 0x0000023CD53BE340>;, score=0.719 total time=   0.9s\n"
     ]
    },
    {
     "name": "stderr",
     "output_type": "stream",
     "text": [
      "C:\\Users\\whitl\\anaconda3\\Lib\\site-packages\\sklearn\\feature_extraction\\text.py:525: UserWarning: The parameter 'token_pattern' will not be used since 'tokenizer' is not None'\n",
      "  warnings.warn(\n"
     ]
    },
    {
     "name": "stdout",
     "output_type": "stream",
     "text": [
      "[CV 2/5] END classifier__estimator=SGDClassifier(), classifier__estimator__loss=hinge, classifier__estimator__max_iter=50, classifier__estimator__penalty=elasticnet, classifier__estimator__tol=0.0001, vectorizer__max_df=1.0, vectorizer__norm=l1, vectorizer__stop_words=None, vectorizer__tokenizer=<function spacy_tokenizer at 0x0000023CD53BE340>;, score=0.656 total time=   0.9s\n"
     ]
    },
    {
     "name": "stderr",
     "output_type": "stream",
     "text": [
      "C:\\Users\\whitl\\anaconda3\\Lib\\site-packages\\sklearn\\feature_extraction\\text.py:525: UserWarning: The parameter 'token_pattern' will not be used since 'tokenizer' is not None'\n",
      "  warnings.warn(\n"
     ]
    },
    {
     "name": "stdout",
     "output_type": "stream",
     "text": [
      "[CV 3/5] END classifier__estimator=SGDClassifier(), classifier__estimator__loss=hinge, classifier__estimator__max_iter=50, classifier__estimator__penalty=elasticnet, classifier__estimator__tol=0.0001, vectorizer__max_df=1.0, vectorizer__norm=l1, vectorizer__stop_words=None, vectorizer__tokenizer=<function spacy_tokenizer at 0x0000023CD53BE340>;, score=0.531 total time=   0.9s\n"
     ]
    },
    {
     "name": "stderr",
     "output_type": "stream",
     "text": [
      "C:\\Users\\whitl\\anaconda3\\Lib\\site-packages\\sklearn\\feature_extraction\\text.py:525: UserWarning: The parameter 'token_pattern' will not be used since 'tokenizer' is not None'\n",
      "  warnings.warn(\n"
     ]
    },
    {
     "name": "stdout",
     "output_type": "stream",
     "text": [
      "[CV 4/5] END classifier__estimator=SGDClassifier(), classifier__estimator__loss=hinge, classifier__estimator__max_iter=50, classifier__estimator__penalty=elasticnet, classifier__estimator__tol=0.0001, vectorizer__max_df=1.0, vectorizer__norm=l1, vectorizer__stop_words=None, vectorizer__tokenizer=<function spacy_tokenizer at 0x0000023CD53BE340>;, score=0.688 total time=   1.0s\n"
     ]
    },
    {
     "name": "stderr",
     "output_type": "stream",
     "text": [
      "C:\\Users\\whitl\\anaconda3\\Lib\\site-packages\\sklearn\\feature_extraction\\text.py:525: UserWarning: The parameter 'token_pattern' will not be used since 'tokenizer' is not None'\n",
      "  warnings.warn(\n"
     ]
    },
    {
     "name": "stdout",
     "output_type": "stream",
     "text": [
      "[CV 5/5] END classifier__estimator=SGDClassifier(), classifier__estimator__loss=hinge, classifier__estimator__max_iter=50, classifier__estimator__penalty=elasticnet, classifier__estimator__tol=0.0001, vectorizer__max_df=1.0, vectorizer__norm=l1, vectorizer__stop_words=None, vectorizer__tokenizer=<function spacy_tokenizer at 0x0000023CD53BE340>;, score=0.562 total time=   0.9s\n"
     ]
    },
    {
     "name": "stderr",
     "output_type": "stream",
     "text": [
      "C:\\Users\\whitl\\anaconda3\\Lib\\site-packages\\sklearn\\feature_extraction\\text.py:525: UserWarning: The parameter 'token_pattern' will not be used since 'tokenizer' is not None'\n",
      "  warnings.warn(\n",
      "C:\\Users\\whitl\\anaconda3\\Lib\\site-packages\\sklearn\\feature_extraction\\text.py:408: UserWarning: Your stop_words may be inconsistent with your preprocessing. Tokenizing the stop words generated tokens ['ca', 'nt'] not in stop_words.\n",
      "  warnings.warn(\n"
     ]
    },
    {
     "name": "stdout",
     "output_type": "stream",
     "text": [
      "[CV 1/5] END classifier__estimator=SGDClassifier(), classifier__estimator__loss=hinge, classifier__estimator__max_iter=50, classifier__estimator__penalty=elasticnet, classifier__estimator__tol=0.0001, vectorizer__max_df=1.0, vectorizer__norm=l2, vectorizer__stop_words=english, vectorizer__tokenizer=<function spacy_tokenizer at 0x0000023CD53BE340>;, score=0.688 total time=   2.2s\n"
     ]
    },
    {
     "name": "stderr",
     "output_type": "stream",
     "text": [
      "C:\\Users\\whitl\\anaconda3\\Lib\\site-packages\\sklearn\\feature_extraction\\text.py:525: UserWarning: The parameter 'token_pattern' will not be used since 'tokenizer' is not None'\n",
      "  warnings.warn(\n",
      "C:\\Users\\whitl\\anaconda3\\Lib\\site-packages\\sklearn\\feature_extraction\\text.py:408: UserWarning: Your stop_words may be inconsistent with your preprocessing. Tokenizing the stop words generated tokens ['ca', 'nt'] not in stop_words.\n",
      "  warnings.warn(\n"
     ]
    },
    {
     "name": "stdout",
     "output_type": "stream",
     "text": [
      "[CV 2/5] END classifier__estimator=SGDClassifier(), classifier__estimator__loss=hinge, classifier__estimator__max_iter=50, classifier__estimator__penalty=elasticnet, classifier__estimator__tol=0.0001, vectorizer__max_df=1.0, vectorizer__norm=l2, vectorizer__stop_words=english, vectorizer__tokenizer=<function spacy_tokenizer at 0x0000023CD53BE340>;, score=0.562 total time=   2.2s\n"
     ]
    },
    {
     "name": "stderr",
     "output_type": "stream",
     "text": [
      "C:\\Users\\whitl\\anaconda3\\Lib\\site-packages\\sklearn\\feature_extraction\\text.py:525: UserWarning: The parameter 'token_pattern' will not be used since 'tokenizer' is not None'\n",
      "  warnings.warn(\n",
      "C:\\Users\\whitl\\anaconda3\\Lib\\site-packages\\sklearn\\feature_extraction\\text.py:408: UserWarning: Your stop_words may be inconsistent with your preprocessing. Tokenizing the stop words generated tokens ['ca', 'nt'] not in stop_words.\n",
      "  warnings.warn(\n"
     ]
    },
    {
     "name": "stdout",
     "output_type": "stream",
     "text": [
      "[CV 3/5] END classifier__estimator=SGDClassifier(), classifier__estimator__loss=hinge, classifier__estimator__max_iter=50, classifier__estimator__penalty=elasticnet, classifier__estimator__tol=0.0001, vectorizer__max_df=1.0, vectorizer__norm=l2, vectorizer__stop_words=english, vectorizer__tokenizer=<function spacy_tokenizer at 0x0000023CD53BE340>;, score=0.469 total time=   2.2s\n"
     ]
    },
    {
     "name": "stderr",
     "output_type": "stream",
     "text": [
      "C:\\Users\\whitl\\anaconda3\\Lib\\site-packages\\sklearn\\feature_extraction\\text.py:525: UserWarning: The parameter 'token_pattern' will not be used since 'tokenizer' is not None'\n",
      "  warnings.warn(\n",
      "C:\\Users\\whitl\\anaconda3\\Lib\\site-packages\\sklearn\\feature_extraction\\text.py:408: UserWarning: Your stop_words may be inconsistent with your preprocessing. Tokenizing the stop words generated tokens ['ca', 'nt'] not in stop_words.\n",
      "  warnings.warn(\n"
     ]
    },
    {
     "name": "stdout",
     "output_type": "stream",
     "text": [
      "[CV 4/5] END classifier__estimator=SGDClassifier(), classifier__estimator__loss=hinge, classifier__estimator__max_iter=50, classifier__estimator__penalty=elasticnet, classifier__estimator__tol=0.0001, vectorizer__max_df=1.0, vectorizer__norm=l2, vectorizer__stop_words=english, vectorizer__tokenizer=<function spacy_tokenizer at 0x0000023CD53BE340>;, score=0.531 total time=   2.2s\n"
     ]
    },
    {
     "name": "stderr",
     "output_type": "stream",
     "text": [
      "C:\\Users\\whitl\\anaconda3\\Lib\\site-packages\\sklearn\\feature_extraction\\text.py:525: UserWarning: The parameter 'token_pattern' will not be used since 'tokenizer' is not None'\n",
      "  warnings.warn(\n",
      "C:\\Users\\whitl\\anaconda3\\Lib\\site-packages\\sklearn\\feature_extraction\\text.py:408: UserWarning: Your stop_words may be inconsistent with your preprocessing. Tokenizing the stop words generated tokens ['ca', 'nt'] not in stop_words.\n",
      "  warnings.warn(\n"
     ]
    },
    {
     "name": "stdout",
     "output_type": "stream",
     "text": [
      "[CV 5/5] END classifier__estimator=SGDClassifier(), classifier__estimator__loss=hinge, classifier__estimator__max_iter=50, classifier__estimator__penalty=elasticnet, classifier__estimator__tol=0.0001, vectorizer__max_df=1.0, vectorizer__norm=l2, vectorizer__stop_words=english, vectorizer__tokenizer=<function spacy_tokenizer at 0x0000023CD53BE340>;, score=0.531 total time=   2.2s\n"
     ]
    },
    {
     "name": "stderr",
     "output_type": "stream",
     "text": [
      "C:\\Users\\whitl\\anaconda3\\Lib\\site-packages\\sklearn\\feature_extraction\\text.py:525: UserWarning: The parameter 'token_pattern' will not be used since 'tokenizer' is not None'\n",
      "  warnings.warn(\n"
     ]
    },
    {
     "name": "stdout",
     "output_type": "stream",
     "text": [
      "[CV 1/5] END classifier__estimator=SGDClassifier(), classifier__estimator__loss=hinge, classifier__estimator__max_iter=50, classifier__estimator__penalty=elasticnet, classifier__estimator__tol=0.0001, vectorizer__max_df=1.0, vectorizer__norm=l2, vectorizer__stop_words=None, vectorizer__tokenizer=<function spacy_tokenizer at 0x0000023CD53BE340>;, score=0.625 total time=   0.9s\n"
     ]
    },
    {
     "name": "stderr",
     "output_type": "stream",
     "text": [
      "C:\\Users\\whitl\\anaconda3\\Lib\\site-packages\\sklearn\\feature_extraction\\text.py:525: UserWarning: The parameter 'token_pattern' will not be used since 'tokenizer' is not None'\n",
      "  warnings.warn(\n"
     ]
    },
    {
     "name": "stdout",
     "output_type": "stream",
     "text": [
      "[CV 2/5] END classifier__estimator=SGDClassifier(), classifier__estimator__loss=hinge, classifier__estimator__max_iter=50, classifier__estimator__penalty=elasticnet, classifier__estimator__tol=0.0001, vectorizer__max_df=1.0, vectorizer__norm=l2, vectorizer__stop_words=None, vectorizer__tokenizer=<function spacy_tokenizer at 0x0000023CD53BE340>;, score=0.688 total time=   0.9s\n"
     ]
    },
    {
     "name": "stderr",
     "output_type": "stream",
     "text": [
      "C:\\Users\\whitl\\anaconda3\\Lib\\site-packages\\sklearn\\feature_extraction\\text.py:525: UserWarning: The parameter 'token_pattern' will not be used since 'tokenizer' is not None'\n",
      "  warnings.warn(\n"
     ]
    },
    {
     "name": "stdout",
     "output_type": "stream",
     "text": [
      "[CV 3/5] END classifier__estimator=SGDClassifier(), classifier__estimator__loss=hinge, classifier__estimator__max_iter=50, classifier__estimator__penalty=elasticnet, classifier__estimator__tol=0.0001, vectorizer__max_df=1.0, vectorizer__norm=l2, vectorizer__stop_words=None, vectorizer__tokenizer=<function spacy_tokenizer at 0x0000023CD53BE340>;, score=0.562 total time=   1.0s\n"
     ]
    },
    {
     "name": "stderr",
     "output_type": "stream",
     "text": [
      "C:\\Users\\whitl\\anaconda3\\Lib\\site-packages\\sklearn\\feature_extraction\\text.py:525: UserWarning: The parameter 'token_pattern' will not be used since 'tokenizer' is not None'\n",
      "  warnings.warn(\n"
     ]
    },
    {
     "name": "stdout",
     "output_type": "stream",
     "text": [
      "[CV 4/5] END classifier__estimator=SGDClassifier(), classifier__estimator__loss=hinge, classifier__estimator__max_iter=50, classifier__estimator__penalty=elasticnet, classifier__estimator__tol=0.0001, vectorizer__max_df=1.0, vectorizer__norm=l2, vectorizer__stop_words=None, vectorizer__tokenizer=<function spacy_tokenizer at 0x0000023CD53BE340>;, score=0.562 total time=   1.0s\n"
     ]
    },
    {
     "name": "stderr",
     "output_type": "stream",
     "text": [
      "C:\\Users\\whitl\\anaconda3\\Lib\\site-packages\\sklearn\\feature_extraction\\text.py:525: UserWarning: The parameter 'token_pattern' will not be used since 'tokenizer' is not None'\n",
      "  warnings.warn(\n"
     ]
    },
    {
     "name": "stdout",
     "output_type": "stream",
     "text": [
      "[CV 5/5] END classifier__estimator=SGDClassifier(), classifier__estimator__loss=hinge, classifier__estimator__max_iter=50, classifier__estimator__penalty=elasticnet, classifier__estimator__tol=0.0001, vectorizer__max_df=1.0, vectorizer__norm=l2, vectorizer__stop_words=None, vectorizer__tokenizer=<function spacy_tokenizer at 0x0000023CD53BE340>;, score=0.562 total time=   0.9s\n"
     ]
    },
    {
     "name": "stderr",
     "output_type": "stream",
     "text": [
      "C:\\Users\\whitl\\anaconda3\\Lib\\site-packages\\sklearn\\feature_extraction\\text.py:525: UserWarning: The parameter 'token_pattern' will not be used since 'tokenizer' is not None'\n",
      "  warnings.warn(\n",
      "C:\\Users\\whitl\\anaconda3\\Lib\\site-packages\\sklearn\\feature_extraction\\text.py:408: UserWarning: Your stop_words may be inconsistent with your preprocessing. Tokenizing the stop words generated tokens ['ca', 'nt'] not in stop_words.\n",
      "  warnings.warn(\n"
     ]
    },
    {
     "name": "stdout",
     "output_type": "stream",
     "text": [
      "[CV 1/5] END classifier__estimator=SGDClassifier(), classifier__estimator__loss=hinge, classifier__estimator__max_iter=50, classifier__estimator__penalty=l1, classifier__estimator__tol=0.0001, vectorizer__max_df=1.0, vectorizer__norm=l1, vectorizer__stop_words=english, vectorizer__tokenizer=<function spacy_tokenizer at 0x0000023CD53BE340>;, score=0.750 total time=   2.2s\n"
     ]
    },
    {
     "name": "stderr",
     "output_type": "stream",
     "text": [
      "C:\\Users\\whitl\\anaconda3\\Lib\\site-packages\\sklearn\\feature_extraction\\text.py:525: UserWarning: The parameter 'token_pattern' will not be used since 'tokenizer' is not None'\n",
      "  warnings.warn(\n",
      "C:\\Users\\whitl\\anaconda3\\Lib\\site-packages\\sklearn\\feature_extraction\\text.py:408: UserWarning: Your stop_words may be inconsistent with your preprocessing. Tokenizing the stop words generated tokens ['ca', 'nt'] not in stop_words.\n",
      "  warnings.warn(\n"
     ]
    },
    {
     "name": "stdout",
     "output_type": "stream",
     "text": [
      "[CV 2/5] END classifier__estimator=SGDClassifier(), classifier__estimator__loss=hinge, classifier__estimator__max_iter=50, classifier__estimator__penalty=l1, classifier__estimator__tol=0.0001, vectorizer__max_df=1.0, vectorizer__norm=l1, vectorizer__stop_words=english, vectorizer__tokenizer=<function spacy_tokenizer at 0x0000023CD53BE340>;, score=0.562 total time=   2.2s\n"
     ]
    },
    {
     "name": "stderr",
     "output_type": "stream",
     "text": [
      "C:\\Users\\whitl\\anaconda3\\Lib\\site-packages\\sklearn\\feature_extraction\\text.py:525: UserWarning: The parameter 'token_pattern' will not be used since 'tokenizer' is not None'\n",
      "  warnings.warn(\n",
      "C:\\Users\\whitl\\anaconda3\\Lib\\site-packages\\sklearn\\feature_extraction\\text.py:408: UserWarning: Your stop_words may be inconsistent with your preprocessing. Tokenizing the stop words generated tokens ['ca', 'nt'] not in stop_words.\n",
      "  warnings.warn(\n"
     ]
    },
    {
     "name": "stdout",
     "output_type": "stream",
     "text": [
      "[CV 3/5] END classifier__estimator=SGDClassifier(), classifier__estimator__loss=hinge, classifier__estimator__max_iter=50, classifier__estimator__penalty=l1, classifier__estimator__tol=0.0001, vectorizer__max_df=1.0, vectorizer__norm=l1, vectorizer__stop_words=english, vectorizer__tokenizer=<function spacy_tokenizer at 0x0000023CD53BE340>;, score=0.500 total time=   2.1s\n"
     ]
    },
    {
     "name": "stderr",
     "output_type": "stream",
     "text": [
      "C:\\Users\\whitl\\anaconda3\\Lib\\site-packages\\sklearn\\feature_extraction\\text.py:525: UserWarning: The parameter 'token_pattern' will not be used since 'tokenizer' is not None'\n",
      "  warnings.warn(\n",
      "C:\\Users\\whitl\\anaconda3\\Lib\\site-packages\\sklearn\\feature_extraction\\text.py:408: UserWarning: Your stop_words may be inconsistent with your preprocessing. Tokenizing the stop words generated tokens ['ca', 'nt'] not in stop_words.\n",
      "  warnings.warn(\n"
     ]
    },
    {
     "name": "stdout",
     "output_type": "stream",
     "text": [
      "[CV 4/5] END classifier__estimator=SGDClassifier(), classifier__estimator__loss=hinge, classifier__estimator__max_iter=50, classifier__estimator__penalty=l1, classifier__estimator__tol=0.0001, vectorizer__max_df=1.0, vectorizer__norm=l1, vectorizer__stop_words=english, vectorizer__tokenizer=<function spacy_tokenizer at 0x0000023CD53BE340>;, score=0.625 total time=   2.3s\n"
     ]
    },
    {
     "name": "stderr",
     "output_type": "stream",
     "text": [
      "C:\\Users\\whitl\\anaconda3\\Lib\\site-packages\\sklearn\\feature_extraction\\text.py:525: UserWarning: The parameter 'token_pattern' will not be used since 'tokenizer' is not None'\n",
      "  warnings.warn(\n",
      "C:\\Users\\whitl\\anaconda3\\Lib\\site-packages\\sklearn\\feature_extraction\\text.py:408: UserWarning: Your stop_words may be inconsistent with your preprocessing. Tokenizing the stop words generated tokens ['ca', 'nt'] not in stop_words.\n",
      "  warnings.warn(\n"
     ]
    },
    {
     "name": "stdout",
     "output_type": "stream",
     "text": [
      "[CV 5/5] END classifier__estimator=SGDClassifier(), classifier__estimator__loss=hinge, classifier__estimator__max_iter=50, classifier__estimator__penalty=l1, classifier__estimator__tol=0.0001, vectorizer__max_df=1.0, vectorizer__norm=l1, vectorizer__stop_words=english, vectorizer__tokenizer=<function spacy_tokenizer at 0x0000023CD53BE340>;, score=0.594 total time=   2.3s\n"
     ]
    },
    {
     "name": "stderr",
     "output_type": "stream",
     "text": [
      "C:\\Users\\whitl\\anaconda3\\Lib\\site-packages\\sklearn\\feature_extraction\\text.py:525: UserWarning: The parameter 'token_pattern' will not be used since 'tokenizer' is not None'\n",
      "  warnings.warn(\n"
     ]
    },
    {
     "name": "stdout",
     "output_type": "stream",
     "text": [
      "[CV 1/5] END classifier__estimator=SGDClassifier(), classifier__estimator__loss=hinge, classifier__estimator__max_iter=50, classifier__estimator__penalty=l1, classifier__estimator__tol=0.0001, vectorizer__max_df=1.0, vectorizer__norm=l1, vectorizer__stop_words=None, vectorizer__tokenizer=<function spacy_tokenizer at 0x0000023CD53BE340>;, score=0.719 total time=   1.0s\n"
     ]
    },
    {
     "name": "stderr",
     "output_type": "stream",
     "text": [
      "C:\\Users\\whitl\\anaconda3\\Lib\\site-packages\\sklearn\\feature_extraction\\text.py:525: UserWarning: The parameter 'token_pattern' will not be used since 'tokenizer' is not None'\n",
      "  warnings.warn(\n"
     ]
    },
    {
     "name": "stdout",
     "output_type": "stream",
     "text": [
      "[CV 2/5] END classifier__estimator=SGDClassifier(), classifier__estimator__loss=hinge, classifier__estimator__max_iter=50, classifier__estimator__penalty=l1, classifier__estimator__tol=0.0001, vectorizer__max_df=1.0, vectorizer__norm=l1, vectorizer__stop_words=None, vectorizer__tokenizer=<function spacy_tokenizer at 0x0000023CD53BE340>;, score=0.688 total time=   1.4s\n"
     ]
    },
    {
     "name": "stderr",
     "output_type": "stream",
     "text": [
      "C:\\Users\\whitl\\anaconda3\\Lib\\site-packages\\sklearn\\feature_extraction\\text.py:525: UserWarning: The parameter 'token_pattern' will not be used since 'tokenizer' is not None'\n",
      "  warnings.warn(\n"
     ]
    },
    {
     "name": "stdout",
     "output_type": "stream",
     "text": [
      "[CV 3/5] END classifier__estimator=SGDClassifier(), classifier__estimator__loss=hinge, classifier__estimator__max_iter=50, classifier__estimator__penalty=l1, classifier__estimator__tol=0.0001, vectorizer__max_df=1.0, vectorizer__norm=l1, vectorizer__stop_words=None, vectorizer__tokenizer=<function spacy_tokenizer at 0x0000023CD53BE340>;, score=0.531 total time=   1.0s\n"
     ]
    },
    {
     "name": "stderr",
     "output_type": "stream",
     "text": [
      "C:\\Users\\whitl\\anaconda3\\Lib\\site-packages\\sklearn\\feature_extraction\\text.py:525: UserWarning: The parameter 'token_pattern' will not be used since 'tokenizer' is not None'\n",
      "  warnings.warn(\n"
     ]
    },
    {
     "name": "stdout",
     "output_type": "stream",
     "text": [
      "[CV 4/5] END classifier__estimator=SGDClassifier(), classifier__estimator__loss=hinge, classifier__estimator__max_iter=50, classifier__estimator__penalty=l1, classifier__estimator__tol=0.0001, vectorizer__max_df=1.0, vectorizer__norm=l1, vectorizer__stop_words=None, vectorizer__tokenizer=<function spacy_tokenizer at 0x0000023CD53BE340>;, score=0.656 total time=   1.1s\n"
     ]
    },
    {
     "name": "stderr",
     "output_type": "stream",
     "text": [
      "C:\\Users\\whitl\\anaconda3\\Lib\\site-packages\\sklearn\\feature_extraction\\text.py:525: UserWarning: The parameter 'token_pattern' will not be used since 'tokenizer' is not None'\n",
      "  warnings.warn(\n"
     ]
    },
    {
     "name": "stdout",
     "output_type": "stream",
     "text": [
      "[CV 5/5] END classifier__estimator=SGDClassifier(), classifier__estimator__loss=hinge, classifier__estimator__max_iter=50, classifier__estimator__penalty=l1, classifier__estimator__tol=0.0001, vectorizer__max_df=1.0, vectorizer__norm=l1, vectorizer__stop_words=None, vectorizer__tokenizer=<function spacy_tokenizer at 0x0000023CD53BE340>;, score=0.562 total time=   0.9s\n"
     ]
    },
    {
     "name": "stderr",
     "output_type": "stream",
     "text": [
      "C:\\Users\\whitl\\anaconda3\\Lib\\site-packages\\sklearn\\feature_extraction\\text.py:525: UserWarning: The parameter 'token_pattern' will not be used since 'tokenizer' is not None'\n",
      "  warnings.warn(\n",
      "C:\\Users\\whitl\\anaconda3\\Lib\\site-packages\\sklearn\\feature_extraction\\text.py:408: UserWarning: Your stop_words may be inconsistent with your preprocessing. Tokenizing the stop words generated tokens ['ca', 'nt'] not in stop_words.\n",
      "  warnings.warn(\n"
     ]
    },
    {
     "name": "stdout",
     "output_type": "stream",
     "text": [
      "[CV 1/5] END classifier__estimator=SGDClassifier(), classifier__estimator__loss=hinge, classifier__estimator__max_iter=50, classifier__estimator__penalty=l1, classifier__estimator__tol=0.0001, vectorizer__max_df=1.0, vectorizer__norm=l2, vectorizer__stop_words=english, vectorizer__tokenizer=<function spacy_tokenizer at 0x0000023CD53BE340>;, score=0.750 total time=   2.3s\n"
     ]
    },
    {
     "name": "stderr",
     "output_type": "stream",
     "text": [
      "C:\\Users\\whitl\\anaconda3\\Lib\\site-packages\\sklearn\\feature_extraction\\text.py:525: UserWarning: The parameter 'token_pattern' will not be used since 'tokenizer' is not None'\n",
      "  warnings.warn(\n",
      "C:\\Users\\whitl\\anaconda3\\Lib\\site-packages\\sklearn\\feature_extraction\\text.py:408: UserWarning: Your stop_words may be inconsistent with your preprocessing. Tokenizing the stop words generated tokens ['ca', 'nt'] not in stop_words.\n",
      "  warnings.warn(\n"
     ]
    },
    {
     "name": "stdout",
     "output_type": "stream",
     "text": [
      "[CV 2/5] END classifier__estimator=SGDClassifier(), classifier__estimator__loss=hinge, classifier__estimator__max_iter=50, classifier__estimator__penalty=l1, classifier__estimator__tol=0.0001, vectorizer__max_df=1.0, vectorizer__norm=l2, vectorizer__stop_words=english, vectorizer__tokenizer=<function spacy_tokenizer at 0x0000023CD53BE340>;, score=0.594 total time=   2.3s\n"
     ]
    },
    {
     "name": "stderr",
     "output_type": "stream",
     "text": [
      "C:\\Users\\whitl\\anaconda3\\Lib\\site-packages\\sklearn\\feature_extraction\\text.py:525: UserWarning: The parameter 'token_pattern' will not be used since 'tokenizer' is not None'\n",
      "  warnings.warn(\n",
      "C:\\Users\\whitl\\anaconda3\\Lib\\site-packages\\sklearn\\feature_extraction\\text.py:408: UserWarning: Your stop_words may be inconsistent with your preprocessing. Tokenizing the stop words generated tokens ['ca', 'nt'] not in stop_words.\n",
      "  warnings.warn(\n"
     ]
    },
    {
     "name": "stdout",
     "output_type": "stream",
     "text": [
      "[CV 3/5] END classifier__estimator=SGDClassifier(), classifier__estimator__loss=hinge, classifier__estimator__max_iter=50, classifier__estimator__penalty=l1, classifier__estimator__tol=0.0001, vectorizer__max_df=1.0, vectorizer__norm=l2, vectorizer__stop_words=english, vectorizer__tokenizer=<function spacy_tokenizer at 0x0000023CD53BE340>;, score=0.531 total time=   2.3s\n"
     ]
    },
    {
     "name": "stderr",
     "output_type": "stream",
     "text": [
      "C:\\Users\\whitl\\anaconda3\\Lib\\site-packages\\sklearn\\feature_extraction\\text.py:525: UserWarning: The parameter 'token_pattern' will not be used since 'tokenizer' is not None'\n",
      "  warnings.warn(\n",
      "C:\\Users\\whitl\\anaconda3\\Lib\\site-packages\\sklearn\\feature_extraction\\text.py:408: UserWarning: Your stop_words may be inconsistent with your preprocessing. Tokenizing the stop words generated tokens ['ca', 'nt'] not in stop_words.\n",
      "  warnings.warn(\n"
     ]
    },
    {
     "name": "stdout",
     "output_type": "stream",
     "text": [
      "[CV 4/5] END classifier__estimator=SGDClassifier(), classifier__estimator__loss=hinge, classifier__estimator__max_iter=50, classifier__estimator__penalty=l1, classifier__estimator__tol=0.0001, vectorizer__max_df=1.0, vectorizer__norm=l2, vectorizer__stop_words=english, vectorizer__tokenizer=<function spacy_tokenizer at 0x0000023CD53BE340>;, score=0.656 total time=   2.3s\n"
     ]
    },
    {
     "name": "stderr",
     "output_type": "stream",
     "text": [
      "C:\\Users\\whitl\\anaconda3\\Lib\\site-packages\\sklearn\\feature_extraction\\text.py:525: UserWarning: The parameter 'token_pattern' will not be used since 'tokenizer' is not None'\n",
      "  warnings.warn(\n",
      "C:\\Users\\whitl\\anaconda3\\Lib\\site-packages\\sklearn\\feature_extraction\\text.py:408: UserWarning: Your stop_words may be inconsistent with your preprocessing. Tokenizing the stop words generated tokens ['ca', 'nt'] not in stop_words.\n",
      "  warnings.warn(\n"
     ]
    },
    {
     "name": "stdout",
     "output_type": "stream",
     "text": [
      "[CV 5/5] END classifier__estimator=SGDClassifier(), classifier__estimator__loss=hinge, classifier__estimator__max_iter=50, classifier__estimator__penalty=l1, classifier__estimator__tol=0.0001, vectorizer__max_df=1.0, vectorizer__norm=l2, vectorizer__stop_words=english, vectorizer__tokenizer=<function spacy_tokenizer at 0x0000023CD53BE340>;, score=0.594 total time=   2.1s\n"
     ]
    },
    {
     "name": "stderr",
     "output_type": "stream",
     "text": [
      "C:\\Users\\whitl\\anaconda3\\Lib\\site-packages\\sklearn\\feature_extraction\\text.py:525: UserWarning: The parameter 'token_pattern' will not be used since 'tokenizer' is not None'\n",
      "  warnings.warn(\n"
     ]
    },
    {
     "name": "stdout",
     "output_type": "stream",
     "text": [
      "[CV 1/5] END classifier__estimator=SGDClassifier(), classifier__estimator__loss=hinge, classifier__estimator__max_iter=50, classifier__estimator__penalty=l1, classifier__estimator__tol=0.0001, vectorizer__max_df=1.0, vectorizer__norm=l2, vectorizer__stop_words=None, vectorizer__tokenizer=<function spacy_tokenizer at 0x0000023CD53BE340>;, score=0.719 total time=   0.9s\n"
     ]
    },
    {
     "name": "stderr",
     "output_type": "stream",
     "text": [
      "C:\\Users\\whitl\\anaconda3\\Lib\\site-packages\\sklearn\\feature_extraction\\text.py:525: UserWarning: The parameter 'token_pattern' will not be used since 'tokenizer' is not None'\n",
      "  warnings.warn(\n"
     ]
    },
    {
     "name": "stdout",
     "output_type": "stream",
     "text": [
      "[CV 2/5] END classifier__estimator=SGDClassifier(), classifier__estimator__loss=hinge, classifier__estimator__max_iter=50, classifier__estimator__penalty=l1, classifier__estimator__tol=0.0001, vectorizer__max_df=1.0, vectorizer__norm=l2, vectorizer__stop_words=None, vectorizer__tokenizer=<function spacy_tokenizer at 0x0000023CD53BE340>;, score=0.625 total time=   0.9s\n"
     ]
    },
    {
     "name": "stderr",
     "output_type": "stream",
     "text": [
      "C:\\Users\\whitl\\anaconda3\\Lib\\site-packages\\sklearn\\feature_extraction\\text.py:525: UserWarning: The parameter 'token_pattern' will not be used since 'tokenizer' is not None'\n",
      "  warnings.warn(\n"
     ]
    },
    {
     "name": "stdout",
     "output_type": "stream",
     "text": [
      "[CV 3/5] END classifier__estimator=SGDClassifier(), classifier__estimator__loss=hinge, classifier__estimator__max_iter=50, classifier__estimator__penalty=l1, classifier__estimator__tol=0.0001, vectorizer__max_df=1.0, vectorizer__norm=l2, vectorizer__stop_words=None, vectorizer__tokenizer=<function spacy_tokenizer at 0x0000023CD53BE340>;, score=0.625 total time=   0.9s\n"
     ]
    },
    {
     "name": "stderr",
     "output_type": "stream",
     "text": [
      "C:\\Users\\whitl\\anaconda3\\Lib\\site-packages\\sklearn\\feature_extraction\\text.py:525: UserWarning: The parameter 'token_pattern' will not be used since 'tokenizer' is not None'\n",
      "  warnings.warn(\n"
     ]
    },
    {
     "name": "stdout",
     "output_type": "stream",
     "text": [
      "[CV 4/5] END classifier__estimator=SGDClassifier(), classifier__estimator__loss=hinge, classifier__estimator__max_iter=50, classifier__estimator__penalty=l1, classifier__estimator__tol=0.0001, vectorizer__max_df=1.0, vectorizer__norm=l2, vectorizer__stop_words=None, vectorizer__tokenizer=<function spacy_tokenizer at 0x0000023CD53BE340>;, score=0.625 total time=   0.9s\n"
     ]
    },
    {
     "name": "stderr",
     "output_type": "stream",
     "text": [
      "C:\\Users\\whitl\\anaconda3\\Lib\\site-packages\\sklearn\\feature_extraction\\text.py:525: UserWarning: The parameter 'token_pattern' will not be used since 'tokenizer' is not None'\n",
      "  warnings.warn(\n"
     ]
    },
    {
     "name": "stdout",
     "output_type": "stream",
     "text": [
      "[CV 5/5] END classifier__estimator=SGDClassifier(), classifier__estimator__loss=hinge, classifier__estimator__max_iter=50, classifier__estimator__penalty=l1, classifier__estimator__tol=0.0001, vectorizer__max_df=1.0, vectorizer__norm=l2, vectorizer__stop_words=None, vectorizer__tokenizer=<function spacy_tokenizer at 0x0000023CD53BE340>;, score=0.500 total time=   0.9s\n"
     ]
    },
    {
     "name": "stderr",
     "output_type": "stream",
     "text": [
      "C:\\Users\\whitl\\anaconda3\\Lib\\site-packages\\sklearn\\feature_extraction\\text.py:525: UserWarning: The parameter 'token_pattern' will not be used since 'tokenizer' is not None'\n",
      "  warnings.warn(\n",
      "C:\\Users\\whitl\\anaconda3\\Lib\\site-packages\\sklearn\\feature_extraction\\text.py:408: UserWarning: Your stop_words may be inconsistent with your preprocessing. Tokenizing the stop words generated tokens ['ca', 'nt'] not in stop_words.\n",
      "  warnings.warn(\n"
     ]
    },
    {
     "name": "stdout",
     "output_type": "stream",
     "text": [
      "[CV 1/5] END classifier__estimator=SGDClassifier(), classifier__estimator__loss=hinge, classifier__estimator__max_iter=80, classifier__estimator__penalty=l2, classifier__estimator__tol=0.0001, vectorizer__max_df=1.0, vectorizer__norm=l1, vectorizer__stop_words=english, vectorizer__tokenizer=<function spacy_tokenizer at 0x0000023CD53BE340>;, score=0.719 total time=   2.2s\n"
     ]
    },
    {
     "name": "stderr",
     "output_type": "stream",
     "text": [
      "C:\\Users\\whitl\\anaconda3\\Lib\\site-packages\\sklearn\\feature_extraction\\text.py:525: UserWarning: The parameter 'token_pattern' will not be used since 'tokenizer' is not None'\n",
      "  warnings.warn(\n",
      "C:\\Users\\whitl\\anaconda3\\Lib\\site-packages\\sklearn\\feature_extraction\\text.py:408: UserWarning: Your stop_words may be inconsistent with your preprocessing. Tokenizing the stop words generated tokens ['ca', 'nt'] not in stop_words.\n",
      "  warnings.warn(\n"
     ]
    },
    {
     "name": "stdout",
     "output_type": "stream",
     "text": [
      "[CV 2/5] END classifier__estimator=SGDClassifier(), classifier__estimator__loss=hinge, classifier__estimator__max_iter=80, classifier__estimator__penalty=l2, classifier__estimator__tol=0.0001, vectorizer__max_df=1.0, vectorizer__norm=l1, vectorizer__stop_words=english, vectorizer__tokenizer=<function spacy_tokenizer at 0x0000023CD53BE340>;, score=0.562 total time=   2.2s\n"
     ]
    },
    {
     "name": "stderr",
     "output_type": "stream",
     "text": [
      "C:\\Users\\whitl\\anaconda3\\Lib\\site-packages\\sklearn\\feature_extraction\\text.py:525: UserWarning: The parameter 'token_pattern' will not be used since 'tokenizer' is not None'\n",
      "  warnings.warn(\n",
      "C:\\Users\\whitl\\anaconda3\\Lib\\site-packages\\sklearn\\feature_extraction\\text.py:408: UserWarning: Your stop_words may be inconsistent with your preprocessing. Tokenizing the stop words generated tokens ['ca', 'nt'] not in stop_words.\n",
      "  warnings.warn(\n"
     ]
    },
    {
     "name": "stdout",
     "output_type": "stream",
     "text": [
      "[CV 3/5] END classifier__estimator=SGDClassifier(), classifier__estimator__loss=hinge, classifier__estimator__max_iter=80, classifier__estimator__penalty=l2, classifier__estimator__tol=0.0001, vectorizer__max_df=1.0, vectorizer__norm=l1, vectorizer__stop_words=english, vectorizer__tokenizer=<function spacy_tokenizer at 0x0000023CD53BE340>;, score=0.562 total time=   2.3s\n"
     ]
    },
    {
     "name": "stderr",
     "output_type": "stream",
     "text": [
      "C:\\Users\\whitl\\anaconda3\\Lib\\site-packages\\sklearn\\feature_extraction\\text.py:525: UserWarning: The parameter 'token_pattern' will not be used since 'tokenizer' is not None'\n",
      "  warnings.warn(\n",
      "C:\\Users\\whitl\\anaconda3\\Lib\\site-packages\\sklearn\\feature_extraction\\text.py:408: UserWarning: Your stop_words may be inconsistent with your preprocessing. Tokenizing the stop words generated tokens ['ca', 'nt'] not in stop_words.\n",
      "  warnings.warn(\n"
     ]
    },
    {
     "name": "stdout",
     "output_type": "stream",
     "text": [
      "[CV 4/5] END classifier__estimator=SGDClassifier(), classifier__estimator__loss=hinge, classifier__estimator__max_iter=80, classifier__estimator__penalty=l2, classifier__estimator__tol=0.0001, vectorizer__max_df=1.0, vectorizer__norm=l1, vectorizer__stop_words=english, vectorizer__tokenizer=<function spacy_tokenizer at 0x0000023CD53BE340>;, score=0.594 total time=   2.2s\n"
     ]
    },
    {
     "name": "stderr",
     "output_type": "stream",
     "text": [
      "C:\\Users\\whitl\\anaconda3\\Lib\\site-packages\\sklearn\\feature_extraction\\text.py:525: UserWarning: The parameter 'token_pattern' will not be used since 'tokenizer' is not None'\n",
      "  warnings.warn(\n",
      "C:\\Users\\whitl\\anaconda3\\Lib\\site-packages\\sklearn\\feature_extraction\\text.py:408: UserWarning: Your stop_words may be inconsistent with your preprocessing. Tokenizing the stop words generated tokens ['ca', 'nt'] not in stop_words.\n",
      "  warnings.warn(\n"
     ]
    },
    {
     "name": "stdout",
     "output_type": "stream",
     "text": [
      "[CV 5/5] END classifier__estimator=SGDClassifier(), classifier__estimator__loss=hinge, classifier__estimator__max_iter=80, classifier__estimator__penalty=l2, classifier__estimator__tol=0.0001, vectorizer__max_df=1.0, vectorizer__norm=l1, vectorizer__stop_words=english, vectorizer__tokenizer=<function spacy_tokenizer at 0x0000023CD53BE340>;, score=0.531 total time=   2.2s\n"
     ]
    },
    {
     "name": "stderr",
     "output_type": "stream",
     "text": [
      "C:\\Users\\whitl\\anaconda3\\Lib\\site-packages\\sklearn\\feature_extraction\\text.py:525: UserWarning: The parameter 'token_pattern' will not be used since 'tokenizer' is not None'\n",
      "  warnings.warn(\n"
     ]
    },
    {
     "name": "stdout",
     "output_type": "stream",
     "text": [
      "[CV 1/5] END classifier__estimator=SGDClassifier(), classifier__estimator__loss=hinge, classifier__estimator__max_iter=80, classifier__estimator__penalty=l2, classifier__estimator__tol=0.0001, vectorizer__max_df=1.0, vectorizer__norm=l1, vectorizer__stop_words=None, vectorizer__tokenizer=<function spacy_tokenizer at 0x0000023CD53BE340>;, score=0.719 total time=   0.9s\n"
     ]
    },
    {
     "name": "stderr",
     "output_type": "stream",
     "text": [
      "C:\\Users\\whitl\\anaconda3\\Lib\\site-packages\\sklearn\\feature_extraction\\text.py:525: UserWarning: The parameter 'token_pattern' will not be used since 'tokenizer' is not None'\n",
      "  warnings.warn(\n"
     ]
    },
    {
     "name": "stdout",
     "output_type": "stream",
     "text": [
      "[CV 2/5] END classifier__estimator=SGDClassifier(), classifier__estimator__loss=hinge, classifier__estimator__max_iter=80, classifier__estimator__penalty=l2, classifier__estimator__tol=0.0001, vectorizer__max_df=1.0, vectorizer__norm=l1, vectorizer__stop_words=None, vectorizer__tokenizer=<function spacy_tokenizer at 0x0000023CD53BE340>;, score=0.625 total time=   0.9s\n"
     ]
    },
    {
     "name": "stderr",
     "output_type": "stream",
     "text": [
      "C:\\Users\\whitl\\anaconda3\\Lib\\site-packages\\sklearn\\feature_extraction\\text.py:525: UserWarning: The parameter 'token_pattern' will not be used since 'tokenizer' is not None'\n",
      "  warnings.warn(\n"
     ]
    },
    {
     "name": "stdout",
     "output_type": "stream",
     "text": [
      "[CV 3/5] END classifier__estimator=SGDClassifier(), classifier__estimator__loss=hinge, classifier__estimator__max_iter=80, classifier__estimator__penalty=l2, classifier__estimator__tol=0.0001, vectorizer__max_df=1.0, vectorizer__norm=l1, vectorizer__stop_words=None, vectorizer__tokenizer=<function spacy_tokenizer at 0x0000023CD53BE340>;, score=0.531 total time=   0.9s\n"
     ]
    },
    {
     "name": "stderr",
     "output_type": "stream",
     "text": [
      "C:\\Users\\whitl\\anaconda3\\Lib\\site-packages\\sklearn\\feature_extraction\\text.py:525: UserWarning: The parameter 'token_pattern' will not be used since 'tokenizer' is not None'\n",
      "  warnings.warn(\n"
     ]
    },
    {
     "name": "stdout",
     "output_type": "stream",
     "text": [
      "[CV 4/5] END classifier__estimator=SGDClassifier(), classifier__estimator__loss=hinge, classifier__estimator__max_iter=80, classifier__estimator__penalty=l2, classifier__estimator__tol=0.0001, vectorizer__max_df=1.0, vectorizer__norm=l1, vectorizer__stop_words=None, vectorizer__tokenizer=<function spacy_tokenizer at 0x0000023CD53BE340>;, score=0.625 total time=   0.9s\n"
     ]
    },
    {
     "name": "stderr",
     "output_type": "stream",
     "text": [
      "C:\\Users\\whitl\\anaconda3\\Lib\\site-packages\\sklearn\\feature_extraction\\text.py:525: UserWarning: The parameter 'token_pattern' will not be used since 'tokenizer' is not None'\n",
      "  warnings.warn(\n"
     ]
    },
    {
     "name": "stdout",
     "output_type": "stream",
     "text": [
      "[CV 5/5] END classifier__estimator=SGDClassifier(), classifier__estimator__loss=hinge, classifier__estimator__max_iter=80, classifier__estimator__penalty=l2, classifier__estimator__tol=0.0001, vectorizer__max_df=1.0, vectorizer__norm=l1, vectorizer__stop_words=None, vectorizer__tokenizer=<function spacy_tokenizer at 0x0000023CD53BE340>;, score=0.562 total time=   0.9s\n"
     ]
    },
    {
     "name": "stderr",
     "output_type": "stream",
     "text": [
      "C:\\Users\\whitl\\anaconda3\\Lib\\site-packages\\sklearn\\feature_extraction\\text.py:525: UserWarning: The parameter 'token_pattern' will not be used since 'tokenizer' is not None'\n",
      "  warnings.warn(\n",
      "C:\\Users\\whitl\\anaconda3\\Lib\\site-packages\\sklearn\\feature_extraction\\text.py:408: UserWarning: Your stop_words may be inconsistent with your preprocessing. Tokenizing the stop words generated tokens ['ca', 'nt'] not in stop_words.\n",
      "  warnings.warn(\n"
     ]
    },
    {
     "name": "stdout",
     "output_type": "stream",
     "text": [
      "[CV 1/5] END classifier__estimator=SGDClassifier(), classifier__estimator__loss=hinge, classifier__estimator__max_iter=80, classifier__estimator__penalty=l2, classifier__estimator__tol=0.0001, vectorizer__max_df=1.0, vectorizer__norm=l2, vectorizer__stop_words=english, vectorizer__tokenizer=<function spacy_tokenizer at 0x0000023CD53BE340>;, score=0.750 total time=   2.2s\n"
     ]
    },
    {
     "name": "stderr",
     "output_type": "stream",
     "text": [
      "C:\\Users\\whitl\\anaconda3\\Lib\\site-packages\\sklearn\\feature_extraction\\text.py:525: UserWarning: The parameter 'token_pattern' will not be used since 'tokenizer' is not None'\n",
      "  warnings.warn(\n",
      "C:\\Users\\whitl\\anaconda3\\Lib\\site-packages\\sklearn\\feature_extraction\\text.py:408: UserWarning: Your stop_words may be inconsistent with your preprocessing. Tokenizing the stop words generated tokens ['ca', 'nt'] not in stop_words.\n",
      "  warnings.warn(\n"
     ]
    },
    {
     "name": "stdout",
     "output_type": "stream",
     "text": [
      "[CV 2/5] END classifier__estimator=SGDClassifier(), classifier__estimator__loss=hinge, classifier__estimator__max_iter=80, classifier__estimator__penalty=l2, classifier__estimator__tol=0.0001, vectorizer__max_df=1.0, vectorizer__norm=l2, vectorizer__stop_words=english, vectorizer__tokenizer=<function spacy_tokenizer at 0x0000023CD53BE340>;, score=0.594 total time=   2.2s\n"
     ]
    },
    {
     "name": "stderr",
     "output_type": "stream",
     "text": [
      "C:\\Users\\whitl\\anaconda3\\Lib\\site-packages\\sklearn\\feature_extraction\\text.py:525: UserWarning: The parameter 'token_pattern' will not be used since 'tokenizer' is not None'\n",
      "  warnings.warn(\n",
      "C:\\Users\\whitl\\anaconda3\\Lib\\site-packages\\sklearn\\feature_extraction\\text.py:408: UserWarning: Your stop_words may be inconsistent with your preprocessing. Tokenizing the stop words generated tokens ['ca', 'nt'] not in stop_words.\n",
      "  warnings.warn(\n"
     ]
    },
    {
     "name": "stdout",
     "output_type": "stream",
     "text": [
      "[CV 3/5] END classifier__estimator=SGDClassifier(), classifier__estimator__loss=hinge, classifier__estimator__max_iter=80, classifier__estimator__penalty=l2, classifier__estimator__tol=0.0001, vectorizer__max_df=1.0, vectorizer__norm=l2, vectorizer__stop_words=english, vectorizer__tokenizer=<function spacy_tokenizer at 0x0000023CD53BE340>;, score=0.500 total time=   2.1s\n"
     ]
    },
    {
     "name": "stderr",
     "output_type": "stream",
     "text": [
      "C:\\Users\\whitl\\anaconda3\\Lib\\site-packages\\sklearn\\feature_extraction\\text.py:525: UserWarning: The parameter 'token_pattern' will not be used since 'tokenizer' is not None'\n",
      "  warnings.warn(\n",
      "C:\\Users\\whitl\\anaconda3\\Lib\\site-packages\\sklearn\\feature_extraction\\text.py:408: UserWarning: Your stop_words may be inconsistent with your preprocessing. Tokenizing the stop words generated tokens ['ca', 'nt'] not in stop_words.\n",
      "  warnings.warn(\n"
     ]
    },
    {
     "name": "stdout",
     "output_type": "stream",
     "text": [
      "[CV 4/5] END classifier__estimator=SGDClassifier(), classifier__estimator__loss=hinge, classifier__estimator__max_iter=80, classifier__estimator__penalty=l2, classifier__estimator__tol=0.0001, vectorizer__max_df=1.0, vectorizer__norm=l2, vectorizer__stop_words=english, vectorizer__tokenizer=<function spacy_tokenizer at 0x0000023CD53BE340>;, score=0.625 total time=   2.2s\n"
     ]
    },
    {
     "name": "stderr",
     "output_type": "stream",
     "text": [
      "C:\\Users\\whitl\\anaconda3\\Lib\\site-packages\\sklearn\\feature_extraction\\text.py:525: UserWarning: The parameter 'token_pattern' will not be used since 'tokenizer' is not None'\n",
      "  warnings.warn(\n",
      "C:\\Users\\whitl\\anaconda3\\Lib\\site-packages\\sklearn\\feature_extraction\\text.py:408: UserWarning: Your stop_words may be inconsistent with your preprocessing. Tokenizing the stop words generated tokens ['ca', 'nt'] not in stop_words.\n",
      "  warnings.warn(\n"
     ]
    },
    {
     "name": "stdout",
     "output_type": "stream",
     "text": [
      "[CV 5/5] END classifier__estimator=SGDClassifier(), classifier__estimator__loss=hinge, classifier__estimator__max_iter=80, classifier__estimator__penalty=l2, classifier__estimator__tol=0.0001, vectorizer__max_df=1.0, vectorizer__norm=l2, vectorizer__stop_words=english, vectorizer__tokenizer=<function spacy_tokenizer at 0x0000023CD53BE340>;, score=0.625 total time=   2.2s\n"
     ]
    },
    {
     "name": "stderr",
     "output_type": "stream",
     "text": [
      "C:\\Users\\whitl\\anaconda3\\Lib\\site-packages\\sklearn\\feature_extraction\\text.py:525: UserWarning: The parameter 'token_pattern' will not be used since 'tokenizer' is not None'\n",
      "  warnings.warn(\n"
     ]
    },
    {
     "name": "stdout",
     "output_type": "stream",
     "text": [
      "[CV 1/5] END classifier__estimator=SGDClassifier(), classifier__estimator__loss=hinge, classifier__estimator__max_iter=80, classifier__estimator__penalty=l2, classifier__estimator__tol=0.0001, vectorizer__max_df=1.0, vectorizer__norm=l2, vectorizer__stop_words=None, vectorizer__tokenizer=<function spacy_tokenizer at 0x0000023CD53BE340>;, score=0.750 total time=   0.9s\n"
     ]
    },
    {
     "name": "stderr",
     "output_type": "stream",
     "text": [
      "C:\\Users\\whitl\\anaconda3\\Lib\\site-packages\\sklearn\\feature_extraction\\text.py:525: UserWarning: The parameter 'token_pattern' will not be used since 'tokenizer' is not None'\n",
      "  warnings.warn(\n"
     ]
    },
    {
     "name": "stdout",
     "output_type": "stream",
     "text": [
      "[CV 2/5] END classifier__estimator=SGDClassifier(), classifier__estimator__loss=hinge, classifier__estimator__max_iter=80, classifier__estimator__penalty=l2, classifier__estimator__tol=0.0001, vectorizer__max_df=1.0, vectorizer__norm=l2, vectorizer__stop_words=None, vectorizer__tokenizer=<function spacy_tokenizer at 0x0000023CD53BE340>;, score=0.594 total time=   0.9s\n"
     ]
    },
    {
     "name": "stderr",
     "output_type": "stream",
     "text": [
      "C:\\Users\\whitl\\anaconda3\\Lib\\site-packages\\sklearn\\feature_extraction\\text.py:525: UserWarning: The parameter 'token_pattern' will not be used since 'tokenizer' is not None'\n",
      "  warnings.warn(\n"
     ]
    },
    {
     "name": "stdout",
     "output_type": "stream",
     "text": [
      "[CV 3/5] END classifier__estimator=SGDClassifier(), classifier__estimator__loss=hinge, classifier__estimator__max_iter=80, classifier__estimator__penalty=l2, classifier__estimator__tol=0.0001, vectorizer__max_df=1.0, vectorizer__norm=l2, vectorizer__stop_words=None, vectorizer__tokenizer=<function spacy_tokenizer at 0x0000023CD53BE340>;, score=0.531 total time=   0.8s\n"
     ]
    },
    {
     "name": "stderr",
     "output_type": "stream",
     "text": [
      "C:\\Users\\whitl\\anaconda3\\Lib\\site-packages\\sklearn\\feature_extraction\\text.py:525: UserWarning: The parameter 'token_pattern' will not be used since 'tokenizer' is not None'\n",
      "  warnings.warn(\n"
     ]
    },
    {
     "name": "stdout",
     "output_type": "stream",
     "text": [
      "[CV 4/5] END classifier__estimator=SGDClassifier(), classifier__estimator__loss=hinge, classifier__estimator__max_iter=80, classifier__estimator__penalty=l2, classifier__estimator__tol=0.0001, vectorizer__max_df=1.0, vectorizer__norm=l2, vectorizer__stop_words=None, vectorizer__tokenizer=<function spacy_tokenizer at 0x0000023CD53BE340>;, score=0.562 total time=   0.9s\n"
     ]
    },
    {
     "name": "stderr",
     "output_type": "stream",
     "text": [
      "C:\\Users\\whitl\\anaconda3\\Lib\\site-packages\\sklearn\\feature_extraction\\text.py:525: UserWarning: The parameter 'token_pattern' will not be used since 'tokenizer' is not None'\n",
      "  warnings.warn(\n"
     ]
    },
    {
     "name": "stdout",
     "output_type": "stream",
     "text": [
      "[CV 5/5] END classifier__estimator=SGDClassifier(), classifier__estimator__loss=hinge, classifier__estimator__max_iter=80, classifier__estimator__penalty=l2, classifier__estimator__tol=0.0001, vectorizer__max_df=1.0, vectorizer__norm=l2, vectorizer__stop_words=None, vectorizer__tokenizer=<function spacy_tokenizer at 0x0000023CD53BE340>;, score=0.625 total time=   0.9s\n"
     ]
    },
    {
     "name": "stderr",
     "output_type": "stream",
     "text": [
      "C:\\Users\\whitl\\anaconda3\\Lib\\site-packages\\sklearn\\feature_extraction\\text.py:525: UserWarning: The parameter 'token_pattern' will not be used since 'tokenizer' is not None'\n",
      "  warnings.warn(\n",
      "C:\\Users\\whitl\\anaconda3\\Lib\\site-packages\\sklearn\\feature_extraction\\text.py:408: UserWarning: Your stop_words may be inconsistent with your preprocessing. Tokenizing the stop words generated tokens ['ca', 'nt'] not in stop_words.\n",
      "  warnings.warn(\n"
     ]
    },
    {
     "name": "stdout",
     "output_type": "stream",
     "text": [
      "[CV 1/5] END classifier__estimator=SGDClassifier(), classifier__estimator__loss=hinge, classifier__estimator__max_iter=80, classifier__estimator__penalty=elasticnet, classifier__estimator__tol=0.0001, vectorizer__max_df=1.0, vectorizer__norm=l1, vectorizer__stop_words=english, vectorizer__tokenizer=<function spacy_tokenizer at 0x0000023CD53BE340>;, score=0.719 total time=   2.2s\n"
     ]
    },
    {
     "name": "stderr",
     "output_type": "stream",
     "text": [
      "C:\\Users\\whitl\\anaconda3\\Lib\\site-packages\\sklearn\\feature_extraction\\text.py:525: UserWarning: The parameter 'token_pattern' will not be used since 'tokenizer' is not None'\n",
      "  warnings.warn(\n",
      "C:\\Users\\whitl\\anaconda3\\Lib\\site-packages\\sklearn\\feature_extraction\\text.py:408: UserWarning: Your stop_words may be inconsistent with your preprocessing. Tokenizing the stop words generated tokens ['ca', 'nt'] not in stop_words.\n",
      "  warnings.warn(\n"
     ]
    },
    {
     "name": "stdout",
     "output_type": "stream",
     "text": [
      "[CV 2/5] END classifier__estimator=SGDClassifier(), classifier__estimator__loss=hinge, classifier__estimator__max_iter=80, classifier__estimator__penalty=elasticnet, classifier__estimator__tol=0.0001, vectorizer__max_df=1.0, vectorizer__norm=l1, vectorizer__stop_words=english, vectorizer__tokenizer=<function spacy_tokenizer at 0x0000023CD53BE340>;, score=0.625 total time=   2.2s\n"
     ]
    },
    {
     "name": "stderr",
     "output_type": "stream",
     "text": [
      "C:\\Users\\whitl\\anaconda3\\Lib\\site-packages\\sklearn\\feature_extraction\\text.py:525: UserWarning: The parameter 'token_pattern' will not be used since 'tokenizer' is not None'\n",
      "  warnings.warn(\n",
      "C:\\Users\\whitl\\anaconda3\\Lib\\site-packages\\sklearn\\feature_extraction\\text.py:408: UserWarning: Your stop_words may be inconsistent with your preprocessing. Tokenizing the stop words generated tokens ['ca', 'nt'] not in stop_words.\n",
      "  warnings.warn(\n"
     ]
    },
    {
     "name": "stdout",
     "output_type": "stream",
     "text": [
      "[CV 3/5] END classifier__estimator=SGDClassifier(), classifier__estimator__loss=hinge, classifier__estimator__max_iter=80, classifier__estimator__penalty=elasticnet, classifier__estimator__tol=0.0001, vectorizer__max_df=1.0, vectorizer__norm=l1, vectorizer__stop_words=english, vectorizer__tokenizer=<function spacy_tokenizer at 0x0000023CD53BE340>;, score=0.594 total time=   2.2s\n"
     ]
    },
    {
     "name": "stderr",
     "output_type": "stream",
     "text": [
      "C:\\Users\\whitl\\anaconda3\\Lib\\site-packages\\sklearn\\feature_extraction\\text.py:525: UserWarning: The parameter 'token_pattern' will not be used since 'tokenizer' is not None'\n",
      "  warnings.warn(\n",
      "C:\\Users\\whitl\\anaconda3\\Lib\\site-packages\\sklearn\\feature_extraction\\text.py:408: UserWarning: Your stop_words may be inconsistent with your preprocessing. Tokenizing the stop words generated tokens ['ca', 'nt'] not in stop_words.\n",
      "  warnings.warn(\n"
     ]
    },
    {
     "name": "stdout",
     "output_type": "stream",
     "text": [
      "[CV 4/5] END classifier__estimator=SGDClassifier(), classifier__estimator__loss=hinge, classifier__estimator__max_iter=80, classifier__estimator__penalty=elasticnet, classifier__estimator__tol=0.0001, vectorizer__max_df=1.0, vectorizer__norm=l1, vectorizer__stop_words=english, vectorizer__tokenizer=<function spacy_tokenizer at 0x0000023CD53BE340>;, score=0.688 total time=   2.2s\n"
     ]
    },
    {
     "name": "stderr",
     "output_type": "stream",
     "text": [
      "C:\\Users\\whitl\\anaconda3\\Lib\\site-packages\\sklearn\\feature_extraction\\text.py:525: UserWarning: The parameter 'token_pattern' will not be used since 'tokenizer' is not None'\n",
      "  warnings.warn(\n",
      "C:\\Users\\whitl\\anaconda3\\Lib\\site-packages\\sklearn\\feature_extraction\\text.py:408: UserWarning: Your stop_words may be inconsistent with your preprocessing. Tokenizing the stop words generated tokens ['ca', 'nt'] not in stop_words.\n",
      "  warnings.warn(\n"
     ]
    },
    {
     "name": "stdout",
     "output_type": "stream",
     "text": [
      "[CV 5/5] END classifier__estimator=SGDClassifier(), classifier__estimator__loss=hinge, classifier__estimator__max_iter=80, classifier__estimator__penalty=elasticnet, classifier__estimator__tol=0.0001, vectorizer__max_df=1.0, vectorizer__norm=l1, vectorizer__stop_words=english, vectorizer__tokenizer=<function spacy_tokenizer at 0x0000023CD53BE340>;, score=0.562 total time=   2.3s\n"
     ]
    },
    {
     "name": "stderr",
     "output_type": "stream",
     "text": [
      "C:\\Users\\whitl\\anaconda3\\Lib\\site-packages\\sklearn\\feature_extraction\\text.py:525: UserWarning: The parameter 'token_pattern' will not be used since 'tokenizer' is not None'\n",
      "  warnings.warn(\n"
     ]
    },
    {
     "name": "stdout",
     "output_type": "stream",
     "text": [
      "[CV 1/5] END classifier__estimator=SGDClassifier(), classifier__estimator__loss=hinge, classifier__estimator__max_iter=80, classifier__estimator__penalty=elasticnet, classifier__estimator__tol=0.0001, vectorizer__max_df=1.0, vectorizer__norm=l1, vectorizer__stop_words=None, vectorizer__tokenizer=<function spacy_tokenizer at 0x0000023CD53BE340>;, score=0.719 total time=   0.9s\n"
     ]
    },
    {
     "name": "stderr",
     "output_type": "stream",
     "text": [
      "C:\\Users\\whitl\\anaconda3\\Lib\\site-packages\\sklearn\\feature_extraction\\text.py:525: UserWarning: The parameter 'token_pattern' will not be used since 'tokenizer' is not None'\n",
      "  warnings.warn(\n"
     ]
    },
    {
     "name": "stdout",
     "output_type": "stream",
     "text": [
      "[CV 2/5] END classifier__estimator=SGDClassifier(), classifier__estimator__loss=hinge, classifier__estimator__max_iter=80, classifier__estimator__penalty=elasticnet, classifier__estimator__tol=0.0001, vectorizer__max_df=1.0, vectorizer__norm=l1, vectorizer__stop_words=None, vectorizer__tokenizer=<function spacy_tokenizer at 0x0000023CD53BE340>;, score=0.594 total time=   0.9s\n"
     ]
    },
    {
     "name": "stderr",
     "output_type": "stream",
     "text": [
      "C:\\Users\\whitl\\anaconda3\\Lib\\site-packages\\sklearn\\feature_extraction\\text.py:525: UserWarning: The parameter 'token_pattern' will not be used since 'tokenizer' is not None'\n",
      "  warnings.warn(\n"
     ]
    },
    {
     "name": "stdout",
     "output_type": "stream",
     "text": [
      "[CV 3/5] END classifier__estimator=SGDClassifier(), classifier__estimator__loss=hinge, classifier__estimator__max_iter=80, classifier__estimator__penalty=elasticnet, classifier__estimator__tol=0.0001, vectorizer__max_df=1.0, vectorizer__norm=l1, vectorizer__stop_words=None, vectorizer__tokenizer=<function spacy_tokenizer at 0x0000023CD53BE340>;, score=0.562 total time=   0.9s\n"
     ]
    },
    {
     "name": "stderr",
     "output_type": "stream",
     "text": [
      "C:\\Users\\whitl\\anaconda3\\Lib\\site-packages\\sklearn\\feature_extraction\\text.py:525: UserWarning: The parameter 'token_pattern' will not be used since 'tokenizer' is not None'\n",
      "  warnings.warn(\n"
     ]
    },
    {
     "name": "stdout",
     "output_type": "stream",
     "text": [
      "[CV 4/5] END classifier__estimator=SGDClassifier(), classifier__estimator__loss=hinge, classifier__estimator__max_iter=80, classifier__estimator__penalty=elasticnet, classifier__estimator__tol=0.0001, vectorizer__max_df=1.0, vectorizer__norm=l1, vectorizer__stop_words=None, vectorizer__tokenizer=<function spacy_tokenizer at 0x0000023CD53BE340>;, score=0.688 total time=   0.8s\n"
     ]
    },
    {
     "name": "stderr",
     "output_type": "stream",
     "text": [
      "C:\\Users\\whitl\\anaconda3\\Lib\\site-packages\\sklearn\\feature_extraction\\text.py:525: UserWarning: The parameter 'token_pattern' will not be used since 'tokenizer' is not None'\n",
      "  warnings.warn(\n"
     ]
    },
    {
     "name": "stdout",
     "output_type": "stream",
     "text": [
      "[CV 5/5] END classifier__estimator=SGDClassifier(), classifier__estimator__loss=hinge, classifier__estimator__max_iter=80, classifier__estimator__penalty=elasticnet, classifier__estimator__tol=0.0001, vectorizer__max_df=1.0, vectorizer__norm=l1, vectorizer__stop_words=None, vectorizer__tokenizer=<function spacy_tokenizer at 0x0000023CD53BE340>;, score=0.562 total time=   0.8s\n"
     ]
    },
    {
     "name": "stderr",
     "output_type": "stream",
     "text": [
      "C:\\Users\\whitl\\anaconda3\\Lib\\site-packages\\sklearn\\feature_extraction\\text.py:525: UserWarning: The parameter 'token_pattern' will not be used since 'tokenizer' is not None'\n",
      "  warnings.warn(\n",
      "C:\\Users\\whitl\\anaconda3\\Lib\\site-packages\\sklearn\\feature_extraction\\text.py:408: UserWarning: Your stop_words may be inconsistent with your preprocessing. Tokenizing the stop words generated tokens ['ca', 'nt'] not in stop_words.\n",
      "  warnings.warn(\n"
     ]
    },
    {
     "name": "stdout",
     "output_type": "stream",
     "text": [
      "[CV 1/5] END classifier__estimator=SGDClassifier(), classifier__estimator__loss=hinge, classifier__estimator__max_iter=80, classifier__estimator__penalty=elasticnet, classifier__estimator__tol=0.0001, vectorizer__max_df=1.0, vectorizer__norm=l2, vectorizer__stop_words=english, vectorizer__tokenizer=<function spacy_tokenizer at 0x0000023CD53BE340>;, score=0.750 total time=   2.2s\n"
     ]
    },
    {
     "name": "stderr",
     "output_type": "stream",
     "text": [
      "C:\\Users\\whitl\\anaconda3\\Lib\\site-packages\\sklearn\\feature_extraction\\text.py:525: UserWarning: The parameter 'token_pattern' will not be used since 'tokenizer' is not None'\n",
      "  warnings.warn(\n",
      "C:\\Users\\whitl\\anaconda3\\Lib\\site-packages\\sklearn\\feature_extraction\\text.py:408: UserWarning: Your stop_words may be inconsistent with your preprocessing. Tokenizing the stop words generated tokens ['ca', 'nt'] not in stop_words.\n",
      "  warnings.warn(\n"
     ]
    },
    {
     "name": "stdout",
     "output_type": "stream",
     "text": [
      "[CV 2/5] END classifier__estimator=SGDClassifier(), classifier__estimator__loss=hinge, classifier__estimator__max_iter=80, classifier__estimator__penalty=elasticnet, classifier__estimator__tol=0.0001, vectorizer__max_df=1.0, vectorizer__norm=l2, vectorizer__stop_words=english, vectorizer__tokenizer=<function spacy_tokenizer at 0x0000023CD53BE340>;, score=0.562 total time=   2.2s\n"
     ]
    },
    {
     "name": "stderr",
     "output_type": "stream",
     "text": [
      "C:\\Users\\whitl\\anaconda3\\Lib\\site-packages\\sklearn\\feature_extraction\\text.py:525: UserWarning: The parameter 'token_pattern' will not be used since 'tokenizer' is not None'\n",
      "  warnings.warn(\n",
      "C:\\Users\\whitl\\anaconda3\\Lib\\site-packages\\sklearn\\feature_extraction\\text.py:408: UserWarning: Your stop_words may be inconsistent with your preprocessing. Tokenizing the stop words generated tokens ['ca', 'nt'] not in stop_words.\n",
      "  warnings.warn(\n"
     ]
    },
    {
     "name": "stdout",
     "output_type": "stream",
     "text": [
      "[CV 3/5] END classifier__estimator=SGDClassifier(), classifier__estimator__loss=hinge, classifier__estimator__max_iter=80, classifier__estimator__penalty=elasticnet, classifier__estimator__tol=0.0001, vectorizer__max_df=1.0, vectorizer__norm=l2, vectorizer__stop_words=english, vectorizer__tokenizer=<function spacy_tokenizer at 0x0000023CD53BE340>;, score=0.531 total time=   2.2s\n"
     ]
    },
    {
     "name": "stderr",
     "output_type": "stream",
     "text": [
      "C:\\Users\\whitl\\anaconda3\\Lib\\site-packages\\sklearn\\feature_extraction\\text.py:525: UserWarning: The parameter 'token_pattern' will not be used since 'tokenizer' is not None'\n",
      "  warnings.warn(\n",
      "C:\\Users\\whitl\\anaconda3\\Lib\\site-packages\\sklearn\\feature_extraction\\text.py:408: UserWarning: Your stop_words may be inconsistent with your preprocessing. Tokenizing the stop words generated tokens ['ca', 'nt'] not in stop_words.\n",
      "  warnings.warn(\n"
     ]
    },
    {
     "name": "stdout",
     "output_type": "stream",
     "text": [
      "[CV 4/5] END classifier__estimator=SGDClassifier(), classifier__estimator__loss=hinge, classifier__estimator__max_iter=80, classifier__estimator__penalty=elasticnet, classifier__estimator__tol=0.0001, vectorizer__max_df=1.0, vectorizer__norm=l2, vectorizer__stop_words=english, vectorizer__tokenizer=<function spacy_tokenizer at 0x0000023CD53BE340>;, score=0.562 total time=   2.2s\n"
     ]
    },
    {
     "name": "stderr",
     "output_type": "stream",
     "text": [
      "C:\\Users\\whitl\\anaconda3\\Lib\\site-packages\\sklearn\\feature_extraction\\text.py:525: UserWarning: The parameter 'token_pattern' will not be used since 'tokenizer' is not None'\n",
      "  warnings.warn(\n",
      "C:\\Users\\whitl\\anaconda3\\Lib\\site-packages\\sklearn\\feature_extraction\\text.py:408: UserWarning: Your stop_words may be inconsistent with your preprocessing. Tokenizing the stop words generated tokens ['ca', 'nt'] not in stop_words.\n",
      "  warnings.warn(\n"
     ]
    },
    {
     "name": "stdout",
     "output_type": "stream",
     "text": [
      "[CV 5/5] END classifier__estimator=SGDClassifier(), classifier__estimator__loss=hinge, classifier__estimator__max_iter=80, classifier__estimator__penalty=elasticnet, classifier__estimator__tol=0.0001, vectorizer__max_df=1.0, vectorizer__norm=l2, vectorizer__stop_words=english, vectorizer__tokenizer=<function spacy_tokenizer at 0x0000023CD53BE340>;, score=0.531 total time=   2.2s\n"
     ]
    },
    {
     "name": "stderr",
     "output_type": "stream",
     "text": [
      "C:\\Users\\whitl\\anaconda3\\Lib\\site-packages\\sklearn\\feature_extraction\\text.py:525: UserWarning: The parameter 'token_pattern' will not be used since 'tokenizer' is not None'\n",
      "  warnings.warn(\n"
     ]
    },
    {
     "name": "stdout",
     "output_type": "stream",
     "text": [
      "[CV 1/5] END classifier__estimator=SGDClassifier(), classifier__estimator__loss=hinge, classifier__estimator__max_iter=80, classifier__estimator__penalty=elasticnet, classifier__estimator__tol=0.0001, vectorizer__max_df=1.0, vectorizer__norm=l2, vectorizer__stop_words=None, vectorizer__tokenizer=<function spacy_tokenizer at 0x0000023CD53BE340>;, score=0.750 total time=   0.9s\n"
     ]
    },
    {
     "name": "stderr",
     "output_type": "stream",
     "text": [
      "C:\\Users\\whitl\\anaconda3\\Lib\\site-packages\\sklearn\\feature_extraction\\text.py:525: UserWarning: The parameter 'token_pattern' will not be used since 'tokenizer' is not None'\n",
      "  warnings.warn(\n"
     ]
    },
    {
     "name": "stdout",
     "output_type": "stream",
     "text": [
      "[CV 2/5] END classifier__estimator=SGDClassifier(), classifier__estimator__loss=hinge, classifier__estimator__max_iter=80, classifier__estimator__penalty=elasticnet, classifier__estimator__tol=0.0001, vectorizer__max_df=1.0, vectorizer__norm=l2, vectorizer__stop_words=None, vectorizer__tokenizer=<function spacy_tokenizer at 0x0000023CD53BE340>;, score=0.594 total time=   0.9s\n"
     ]
    },
    {
     "name": "stderr",
     "output_type": "stream",
     "text": [
      "C:\\Users\\whitl\\anaconda3\\Lib\\site-packages\\sklearn\\feature_extraction\\text.py:525: UserWarning: The parameter 'token_pattern' will not be used since 'tokenizer' is not None'\n",
      "  warnings.warn(\n"
     ]
    },
    {
     "name": "stdout",
     "output_type": "stream",
     "text": [
      "[CV 3/5] END classifier__estimator=SGDClassifier(), classifier__estimator__loss=hinge, classifier__estimator__max_iter=80, classifier__estimator__penalty=elasticnet, classifier__estimator__tol=0.0001, vectorizer__max_df=1.0, vectorizer__norm=l2, vectorizer__stop_words=None, vectorizer__tokenizer=<function spacy_tokenizer at 0x0000023CD53BE340>;, score=0.562 total time=   0.9s\n"
     ]
    },
    {
     "name": "stderr",
     "output_type": "stream",
     "text": [
      "C:\\Users\\whitl\\anaconda3\\Lib\\site-packages\\sklearn\\feature_extraction\\text.py:525: UserWarning: The parameter 'token_pattern' will not be used since 'tokenizer' is not None'\n",
      "  warnings.warn(\n"
     ]
    },
    {
     "name": "stdout",
     "output_type": "stream",
     "text": [
      "[CV 4/5] END classifier__estimator=SGDClassifier(), classifier__estimator__loss=hinge, classifier__estimator__max_iter=80, classifier__estimator__penalty=elasticnet, classifier__estimator__tol=0.0001, vectorizer__max_df=1.0, vectorizer__norm=l2, vectorizer__stop_words=None, vectorizer__tokenizer=<function spacy_tokenizer at 0x0000023CD53BE340>;, score=0.562 total time=   0.9s\n"
     ]
    },
    {
     "name": "stderr",
     "output_type": "stream",
     "text": [
      "C:\\Users\\whitl\\anaconda3\\Lib\\site-packages\\sklearn\\feature_extraction\\text.py:525: UserWarning: The parameter 'token_pattern' will not be used since 'tokenizer' is not None'\n",
      "  warnings.warn(\n"
     ]
    },
    {
     "name": "stdout",
     "output_type": "stream",
     "text": [
      "[CV 5/5] END classifier__estimator=SGDClassifier(), classifier__estimator__loss=hinge, classifier__estimator__max_iter=80, classifier__estimator__penalty=elasticnet, classifier__estimator__tol=0.0001, vectorizer__max_df=1.0, vectorizer__norm=l2, vectorizer__stop_words=None, vectorizer__tokenizer=<function spacy_tokenizer at 0x0000023CD53BE340>;, score=0.656 total time=   0.9s\n"
     ]
    },
    {
     "name": "stderr",
     "output_type": "stream",
     "text": [
      "C:\\Users\\whitl\\anaconda3\\Lib\\site-packages\\sklearn\\feature_extraction\\text.py:525: UserWarning: The parameter 'token_pattern' will not be used since 'tokenizer' is not None'\n",
      "  warnings.warn(\n",
      "C:\\Users\\whitl\\anaconda3\\Lib\\site-packages\\sklearn\\feature_extraction\\text.py:408: UserWarning: Your stop_words may be inconsistent with your preprocessing. Tokenizing the stop words generated tokens ['ca', 'nt'] not in stop_words.\n",
      "  warnings.warn(\n"
     ]
    },
    {
     "name": "stdout",
     "output_type": "stream",
     "text": [
      "[CV 1/5] END classifier__estimator=SGDClassifier(), classifier__estimator__loss=hinge, classifier__estimator__max_iter=80, classifier__estimator__penalty=l1, classifier__estimator__tol=0.0001, vectorizer__max_df=1.0, vectorizer__norm=l1, vectorizer__stop_words=english, vectorizer__tokenizer=<function spacy_tokenizer at 0x0000023CD53BE340>;, score=0.750 total time=   2.2s\n"
     ]
    },
    {
     "name": "stderr",
     "output_type": "stream",
     "text": [
      "C:\\Users\\whitl\\anaconda3\\Lib\\site-packages\\sklearn\\feature_extraction\\text.py:525: UserWarning: The parameter 'token_pattern' will not be used since 'tokenizer' is not None'\n",
      "  warnings.warn(\n",
      "C:\\Users\\whitl\\anaconda3\\Lib\\site-packages\\sklearn\\feature_extraction\\text.py:408: UserWarning: Your stop_words may be inconsistent with your preprocessing. Tokenizing the stop words generated tokens ['ca', 'nt'] not in stop_words.\n",
      "  warnings.warn(\n"
     ]
    },
    {
     "name": "stdout",
     "output_type": "stream",
     "text": [
      "[CV 2/5] END classifier__estimator=SGDClassifier(), classifier__estimator__loss=hinge, classifier__estimator__max_iter=80, classifier__estimator__penalty=l1, classifier__estimator__tol=0.0001, vectorizer__max_df=1.0, vectorizer__norm=l1, vectorizer__stop_words=english, vectorizer__tokenizer=<function spacy_tokenizer at 0x0000023CD53BE340>;, score=0.625 total time=   2.2s\n"
     ]
    },
    {
     "name": "stderr",
     "output_type": "stream",
     "text": [
      "C:\\Users\\whitl\\anaconda3\\Lib\\site-packages\\sklearn\\feature_extraction\\text.py:525: UserWarning: The parameter 'token_pattern' will not be used since 'tokenizer' is not None'\n",
      "  warnings.warn(\n",
      "C:\\Users\\whitl\\anaconda3\\Lib\\site-packages\\sklearn\\feature_extraction\\text.py:408: UserWarning: Your stop_words may be inconsistent with your preprocessing. Tokenizing the stop words generated tokens ['ca', 'nt'] not in stop_words.\n",
      "  warnings.warn(\n"
     ]
    },
    {
     "name": "stdout",
     "output_type": "stream",
     "text": [
      "[CV 3/5] END classifier__estimator=SGDClassifier(), classifier__estimator__loss=hinge, classifier__estimator__max_iter=80, classifier__estimator__penalty=l1, classifier__estimator__tol=0.0001, vectorizer__max_df=1.0, vectorizer__norm=l1, vectorizer__stop_words=english, vectorizer__tokenizer=<function spacy_tokenizer at 0x0000023CD53BE340>;, score=0.500 total time=   2.2s\n"
     ]
    },
    {
     "name": "stderr",
     "output_type": "stream",
     "text": [
      "C:\\Users\\whitl\\anaconda3\\Lib\\site-packages\\sklearn\\feature_extraction\\text.py:525: UserWarning: The parameter 'token_pattern' will not be used since 'tokenizer' is not None'\n",
      "  warnings.warn(\n",
      "C:\\Users\\whitl\\anaconda3\\Lib\\site-packages\\sklearn\\feature_extraction\\text.py:408: UserWarning: Your stop_words may be inconsistent with your preprocessing. Tokenizing the stop words generated tokens ['ca', 'nt'] not in stop_words.\n",
      "  warnings.warn(\n"
     ]
    },
    {
     "name": "stdout",
     "output_type": "stream",
     "text": [
      "[CV 4/5] END classifier__estimator=SGDClassifier(), classifier__estimator__loss=hinge, classifier__estimator__max_iter=80, classifier__estimator__penalty=l1, classifier__estimator__tol=0.0001, vectorizer__max_df=1.0, vectorizer__norm=l1, vectorizer__stop_words=english, vectorizer__tokenizer=<function spacy_tokenizer at 0x0000023CD53BE340>;, score=0.625 total time=   2.2s\n"
     ]
    },
    {
     "name": "stderr",
     "output_type": "stream",
     "text": [
      "C:\\Users\\whitl\\anaconda3\\Lib\\site-packages\\sklearn\\feature_extraction\\text.py:525: UserWarning: The parameter 'token_pattern' will not be used since 'tokenizer' is not None'\n",
      "  warnings.warn(\n",
      "C:\\Users\\whitl\\anaconda3\\Lib\\site-packages\\sklearn\\feature_extraction\\text.py:408: UserWarning: Your stop_words may be inconsistent with your preprocessing. Tokenizing the stop words generated tokens ['ca', 'nt'] not in stop_words.\n",
      "  warnings.warn(\n"
     ]
    },
    {
     "name": "stdout",
     "output_type": "stream",
     "text": [
      "[CV 5/5] END classifier__estimator=SGDClassifier(), classifier__estimator__loss=hinge, classifier__estimator__max_iter=80, classifier__estimator__penalty=l1, classifier__estimator__tol=0.0001, vectorizer__max_df=1.0, vectorizer__norm=l1, vectorizer__stop_words=english, vectorizer__tokenizer=<function spacy_tokenizer at 0x0000023CD53BE340>;, score=0.562 total time=   2.2s\n"
     ]
    },
    {
     "name": "stderr",
     "output_type": "stream",
     "text": [
      "C:\\Users\\whitl\\anaconda3\\Lib\\site-packages\\sklearn\\feature_extraction\\text.py:525: UserWarning: The parameter 'token_pattern' will not be used since 'tokenizer' is not None'\n",
      "  warnings.warn(\n"
     ]
    },
    {
     "name": "stdout",
     "output_type": "stream",
     "text": [
      "[CV 1/5] END classifier__estimator=SGDClassifier(), classifier__estimator__loss=hinge, classifier__estimator__max_iter=80, classifier__estimator__penalty=l1, classifier__estimator__tol=0.0001, vectorizer__max_df=1.0, vectorizer__norm=l1, vectorizer__stop_words=None, vectorizer__tokenizer=<function spacy_tokenizer at 0x0000023CD53BE340>;, score=0.719 total time=   0.9s\n"
     ]
    },
    {
     "name": "stderr",
     "output_type": "stream",
     "text": [
      "C:\\Users\\whitl\\anaconda3\\Lib\\site-packages\\sklearn\\feature_extraction\\text.py:525: UserWarning: The parameter 'token_pattern' will not be used since 'tokenizer' is not None'\n",
      "  warnings.warn(\n"
     ]
    },
    {
     "name": "stdout",
     "output_type": "stream",
     "text": [
      "[CV 2/5] END classifier__estimator=SGDClassifier(), classifier__estimator__loss=hinge, classifier__estimator__max_iter=80, classifier__estimator__penalty=l1, classifier__estimator__tol=0.0001, vectorizer__max_df=1.0, vectorizer__norm=l1, vectorizer__stop_words=None, vectorizer__tokenizer=<function spacy_tokenizer at 0x0000023CD53BE340>;, score=0.625 total time=   0.9s\n"
     ]
    },
    {
     "name": "stderr",
     "output_type": "stream",
     "text": [
      "C:\\Users\\whitl\\anaconda3\\Lib\\site-packages\\sklearn\\feature_extraction\\text.py:525: UserWarning: The parameter 'token_pattern' will not be used since 'tokenizer' is not None'\n",
      "  warnings.warn(\n"
     ]
    },
    {
     "name": "stdout",
     "output_type": "stream",
     "text": [
      "[CV 3/5] END classifier__estimator=SGDClassifier(), classifier__estimator__loss=hinge, classifier__estimator__max_iter=80, classifier__estimator__penalty=l1, classifier__estimator__tol=0.0001, vectorizer__max_df=1.0, vectorizer__norm=l1, vectorizer__stop_words=None, vectorizer__tokenizer=<function spacy_tokenizer at 0x0000023CD53BE340>;, score=0.469 total time=   0.9s\n"
     ]
    },
    {
     "name": "stderr",
     "output_type": "stream",
     "text": [
      "C:\\Users\\whitl\\anaconda3\\Lib\\site-packages\\sklearn\\feature_extraction\\text.py:525: UserWarning: The parameter 'token_pattern' will not be used since 'tokenizer' is not None'\n",
      "  warnings.warn(\n"
     ]
    },
    {
     "name": "stdout",
     "output_type": "stream",
     "text": [
      "[CV 4/5] END classifier__estimator=SGDClassifier(), classifier__estimator__loss=hinge, classifier__estimator__max_iter=80, classifier__estimator__penalty=l1, classifier__estimator__tol=0.0001, vectorizer__max_df=1.0, vectorizer__norm=l1, vectorizer__stop_words=None, vectorizer__tokenizer=<function spacy_tokenizer at 0x0000023CD53BE340>;, score=0.719 total time=   0.9s\n"
     ]
    },
    {
     "name": "stderr",
     "output_type": "stream",
     "text": [
      "C:\\Users\\whitl\\anaconda3\\Lib\\site-packages\\sklearn\\feature_extraction\\text.py:525: UserWarning: The parameter 'token_pattern' will not be used since 'tokenizer' is not None'\n",
      "  warnings.warn(\n"
     ]
    },
    {
     "name": "stdout",
     "output_type": "stream",
     "text": [
      "[CV 5/5] END classifier__estimator=SGDClassifier(), classifier__estimator__loss=hinge, classifier__estimator__max_iter=80, classifier__estimator__penalty=l1, classifier__estimator__tol=0.0001, vectorizer__max_df=1.0, vectorizer__norm=l1, vectorizer__stop_words=None, vectorizer__tokenizer=<function spacy_tokenizer at 0x0000023CD53BE340>;, score=0.594 total time=   0.9s\n"
     ]
    },
    {
     "name": "stderr",
     "output_type": "stream",
     "text": [
      "C:\\Users\\whitl\\anaconda3\\Lib\\site-packages\\sklearn\\feature_extraction\\text.py:525: UserWarning: The parameter 'token_pattern' will not be used since 'tokenizer' is not None'\n",
      "  warnings.warn(\n",
      "C:\\Users\\whitl\\anaconda3\\Lib\\site-packages\\sklearn\\feature_extraction\\text.py:408: UserWarning: Your stop_words may be inconsistent with your preprocessing. Tokenizing the stop words generated tokens ['ca', 'nt'] not in stop_words.\n",
      "  warnings.warn(\n"
     ]
    },
    {
     "name": "stdout",
     "output_type": "stream",
     "text": [
      "[CV 1/5] END classifier__estimator=SGDClassifier(), classifier__estimator__loss=hinge, classifier__estimator__max_iter=80, classifier__estimator__penalty=l1, classifier__estimator__tol=0.0001, vectorizer__max_df=1.0, vectorizer__norm=l2, vectorizer__stop_words=english, vectorizer__tokenizer=<function spacy_tokenizer at 0x0000023CD53BE340>;, score=0.750 total time=   2.2s\n"
     ]
    },
    {
     "name": "stderr",
     "output_type": "stream",
     "text": [
      "C:\\Users\\whitl\\anaconda3\\Lib\\site-packages\\sklearn\\feature_extraction\\text.py:525: UserWarning: The parameter 'token_pattern' will not be used since 'tokenizer' is not None'\n",
      "  warnings.warn(\n",
      "C:\\Users\\whitl\\anaconda3\\Lib\\site-packages\\sklearn\\feature_extraction\\text.py:408: UserWarning: Your stop_words may be inconsistent with your preprocessing. Tokenizing the stop words generated tokens ['ca', 'nt'] not in stop_words.\n",
      "  warnings.warn(\n"
     ]
    },
    {
     "name": "stdout",
     "output_type": "stream",
     "text": [
      "[CV 2/5] END classifier__estimator=SGDClassifier(), classifier__estimator__loss=hinge, classifier__estimator__max_iter=80, classifier__estimator__penalty=l1, classifier__estimator__tol=0.0001, vectorizer__max_df=1.0, vectorizer__norm=l2, vectorizer__stop_words=english, vectorizer__tokenizer=<function spacy_tokenizer at 0x0000023CD53BE340>;, score=0.594 total time=   2.2s\n"
     ]
    },
    {
     "name": "stderr",
     "output_type": "stream",
     "text": [
      "C:\\Users\\whitl\\anaconda3\\Lib\\site-packages\\sklearn\\feature_extraction\\text.py:525: UserWarning: The parameter 'token_pattern' will not be used since 'tokenizer' is not None'\n",
      "  warnings.warn(\n",
      "C:\\Users\\whitl\\anaconda3\\Lib\\site-packages\\sklearn\\feature_extraction\\text.py:408: UserWarning: Your stop_words may be inconsistent with your preprocessing. Tokenizing the stop words generated tokens ['ca', 'nt'] not in stop_words.\n",
      "  warnings.warn(\n"
     ]
    },
    {
     "name": "stdout",
     "output_type": "stream",
     "text": [
      "[CV 3/5] END classifier__estimator=SGDClassifier(), classifier__estimator__loss=hinge, classifier__estimator__max_iter=80, classifier__estimator__penalty=l1, classifier__estimator__tol=0.0001, vectorizer__max_df=1.0, vectorizer__norm=l2, vectorizer__stop_words=english, vectorizer__tokenizer=<function spacy_tokenizer at 0x0000023CD53BE340>;, score=0.469 total time=   2.3s\n"
     ]
    },
    {
     "name": "stderr",
     "output_type": "stream",
     "text": [
      "C:\\Users\\whitl\\anaconda3\\Lib\\site-packages\\sklearn\\feature_extraction\\text.py:525: UserWarning: The parameter 'token_pattern' will not be used since 'tokenizer' is not None'\n",
      "  warnings.warn(\n",
      "C:\\Users\\whitl\\anaconda3\\Lib\\site-packages\\sklearn\\feature_extraction\\text.py:408: UserWarning: Your stop_words may be inconsistent with your preprocessing. Tokenizing the stop words generated tokens ['ca', 'nt'] not in stop_words.\n",
      "  warnings.warn(\n"
     ]
    },
    {
     "name": "stdout",
     "output_type": "stream",
     "text": [
      "[CV 4/5] END classifier__estimator=SGDClassifier(), classifier__estimator__loss=hinge, classifier__estimator__max_iter=80, classifier__estimator__penalty=l1, classifier__estimator__tol=0.0001, vectorizer__max_df=1.0, vectorizer__norm=l2, vectorizer__stop_words=english, vectorizer__tokenizer=<function spacy_tokenizer at 0x0000023CD53BE340>;, score=0.531 total time=   2.4s\n"
     ]
    },
    {
     "name": "stderr",
     "output_type": "stream",
     "text": [
      "C:\\Users\\whitl\\anaconda3\\Lib\\site-packages\\sklearn\\feature_extraction\\text.py:525: UserWarning: The parameter 'token_pattern' will not be used since 'tokenizer' is not None'\n",
      "  warnings.warn(\n",
      "C:\\Users\\whitl\\anaconda3\\Lib\\site-packages\\sklearn\\feature_extraction\\text.py:408: UserWarning: Your stop_words may be inconsistent with your preprocessing. Tokenizing the stop words generated tokens ['ca', 'nt'] not in stop_words.\n",
      "  warnings.warn(\n"
     ]
    },
    {
     "name": "stdout",
     "output_type": "stream",
     "text": [
      "[CV 5/5] END classifier__estimator=SGDClassifier(), classifier__estimator__loss=hinge, classifier__estimator__max_iter=80, classifier__estimator__penalty=l1, classifier__estimator__tol=0.0001, vectorizer__max_df=1.0, vectorizer__norm=l2, vectorizer__stop_words=english, vectorizer__tokenizer=<function spacy_tokenizer at 0x0000023CD53BE340>;, score=0.594 total time=   2.4s\n"
     ]
    },
    {
     "name": "stderr",
     "output_type": "stream",
     "text": [
      "C:\\Users\\whitl\\anaconda3\\Lib\\site-packages\\sklearn\\feature_extraction\\text.py:525: UserWarning: The parameter 'token_pattern' will not be used since 'tokenizer' is not None'\n",
      "  warnings.warn(\n"
     ]
    },
    {
     "name": "stdout",
     "output_type": "stream",
     "text": [
      "[CV 1/5] END classifier__estimator=SGDClassifier(), classifier__estimator__loss=hinge, classifier__estimator__max_iter=80, classifier__estimator__penalty=l1, classifier__estimator__tol=0.0001, vectorizer__max_df=1.0, vectorizer__norm=l2, vectorizer__stop_words=None, vectorizer__tokenizer=<function spacy_tokenizer at 0x0000023CD53BE340>;, score=0.719 total time=   0.9s\n"
     ]
    },
    {
     "name": "stderr",
     "output_type": "stream",
     "text": [
      "C:\\Users\\whitl\\anaconda3\\Lib\\site-packages\\sklearn\\feature_extraction\\text.py:525: UserWarning: The parameter 'token_pattern' will not be used since 'tokenizer' is not None'\n",
      "  warnings.warn(\n"
     ]
    },
    {
     "name": "stdout",
     "output_type": "stream",
     "text": [
      "[CV 2/5] END classifier__estimator=SGDClassifier(), classifier__estimator__loss=hinge, classifier__estimator__max_iter=80, classifier__estimator__penalty=l1, classifier__estimator__tol=0.0001, vectorizer__max_df=1.0, vectorizer__norm=l2, vectorizer__stop_words=None, vectorizer__tokenizer=<function spacy_tokenizer at 0x0000023CD53BE340>;, score=0.531 total time=   0.9s\n"
     ]
    },
    {
     "name": "stderr",
     "output_type": "stream",
     "text": [
      "C:\\Users\\whitl\\anaconda3\\Lib\\site-packages\\sklearn\\feature_extraction\\text.py:525: UserWarning: The parameter 'token_pattern' will not be used since 'tokenizer' is not None'\n",
      "  warnings.warn(\n"
     ]
    },
    {
     "name": "stdout",
     "output_type": "stream",
     "text": [
      "[CV 3/5] END classifier__estimator=SGDClassifier(), classifier__estimator__loss=hinge, classifier__estimator__max_iter=80, classifier__estimator__penalty=l1, classifier__estimator__tol=0.0001, vectorizer__max_df=1.0, vectorizer__norm=l2, vectorizer__stop_words=None, vectorizer__tokenizer=<function spacy_tokenizer at 0x0000023CD53BE340>;, score=0.562 total time=   0.9s\n"
     ]
    },
    {
     "name": "stderr",
     "output_type": "stream",
     "text": [
      "C:\\Users\\whitl\\anaconda3\\Lib\\site-packages\\sklearn\\feature_extraction\\text.py:525: UserWarning: The parameter 'token_pattern' will not be used since 'tokenizer' is not None'\n",
      "  warnings.warn(\n"
     ]
    },
    {
     "name": "stdout",
     "output_type": "stream",
     "text": [
      "[CV 4/5] END classifier__estimator=SGDClassifier(), classifier__estimator__loss=hinge, classifier__estimator__max_iter=80, classifier__estimator__penalty=l1, classifier__estimator__tol=0.0001, vectorizer__max_df=1.0, vectorizer__norm=l2, vectorizer__stop_words=None, vectorizer__tokenizer=<function spacy_tokenizer at 0x0000023CD53BE340>;, score=0.625 total time=   1.1s\n"
     ]
    },
    {
     "name": "stderr",
     "output_type": "stream",
     "text": [
      "C:\\Users\\whitl\\anaconda3\\Lib\\site-packages\\sklearn\\feature_extraction\\text.py:525: UserWarning: The parameter 'token_pattern' will not be used since 'tokenizer' is not None'\n",
      "  warnings.warn(\n"
     ]
    },
    {
     "name": "stdout",
     "output_type": "stream",
     "text": [
      "[CV 5/5] END classifier__estimator=SGDClassifier(), classifier__estimator__loss=hinge, classifier__estimator__max_iter=80, classifier__estimator__penalty=l1, classifier__estimator__tol=0.0001, vectorizer__max_df=1.0, vectorizer__norm=l2, vectorizer__stop_words=None, vectorizer__tokenizer=<function spacy_tokenizer at 0x0000023CD53BE340>;, score=0.688 total time=   1.0s\n"
     ]
    },
    {
     "name": "stderr",
     "output_type": "stream",
     "text": [
      "C:\\Users\\whitl\\anaconda3\\Lib\\site-packages\\sklearn\\feature_extraction\\text.py:525: UserWarning: The parameter 'token_pattern' will not be used since 'tokenizer' is not None'\n",
      "  warnings.warn(\n",
      "C:\\Users\\whitl\\anaconda3\\Lib\\site-packages\\sklearn\\feature_extraction\\text.py:408: UserWarning: Your stop_words may be inconsistent with your preprocessing. Tokenizing the stop words generated tokens ['ca', 'nt'] not in stop_words.\n",
      "  warnings.warn(\n"
     ]
    },
    {
     "name": "stdout",
     "output_type": "stream",
     "text": [
      "[CV 1/5] END classifier__estimator=SGDClassifier(), classifier__estimator__loss=log, classifier__estimator__max_iter=50, classifier__estimator__penalty=l2, classifier__estimator__tol=0.0001, vectorizer__max_df=1.0, vectorizer__norm=l1, vectorizer__stop_words=english, vectorizer__tokenizer=<function spacy_tokenizer at 0x0000023CD53BE340>;, score=nan total time=   2.8s\n",
      "[CV 2/5] END classifier__estimator=SGDClassifier(), classifier__estimator__loss=log, classifier__estimator__max_iter=50, classifier__estimator__penalty=l2, classifier__estimator__tol=0.0001, vectorizer__max_df=1.0, vectorizer__norm=l1, vectorizer__stop_words=english, vectorizer__tokenizer=<function spacy_tokenizer at 0x0000023CD53BE340>;, score=nan total time=   2.3s\n",
      "[CV 3/5] END classifier__estimator=SGDClassifier(), classifier__estimator__loss=log, classifier__estimator__max_iter=50, classifier__estimator__penalty=l2, classifier__estimator__tol=0.0001, vectorizer__max_df=1.0, vectorizer__norm=l1, vectorizer__stop_words=english, vectorizer__tokenizer=<function spacy_tokenizer at 0x0000023CD53BE340>;, score=nan total time=   2.1s\n",
      "[CV 4/5] END classifier__estimator=SGDClassifier(), classifier__estimator__loss=log, classifier__estimator__max_iter=50, classifier__estimator__penalty=l2, classifier__estimator__tol=0.0001, vectorizer__max_df=1.0, vectorizer__norm=l1, vectorizer__stop_words=english, vectorizer__tokenizer=<function spacy_tokenizer at 0x0000023CD53BE340>;, score=nan total time=   2.0s\n",
      "[CV 5/5] END classifier__estimator=SGDClassifier(), classifier__estimator__loss=log, classifier__estimator__max_iter=50, classifier__estimator__penalty=l2, classifier__estimator__tol=0.0001, vectorizer__max_df=1.0, vectorizer__norm=l1, vectorizer__stop_words=english, vectorizer__tokenizer=<function spacy_tokenizer at 0x0000023CD53BE340>;, score=nan total time=   2.1s\n",
      "[CV 1/5] END classifier__estimator=SGDClassifier(), classifier__estimator__loss=log, classifier__estimator__max_iter=50, classifier__estimator__penalty=l2, classifier__estimator__tol=0.0001, vectorizer__max_df=1.0, vectorizer__norm=l1, vectorizer__stop_words=None, vectorizer__tokenizer=<function spacy_tokenizer at 0x0000023CD53BE340>;, score=nan total time=   0.7s\n",
      "[CV 2/5] END classifier__estimator=SGDClassifier(), classifier__estimator__loss=log, classifier__estimator__max_iter=50, classifier__estimator__penalty=l2, classifier__estimator__tol=0.0001, vectorizer__max_df=1.0, vectorizer__norm=l1, vectorizer__stop_words=None, vectorizer__tokenizer=<function spacy_tokenizer at 0x0000023CD53BE340>;, score=nan total time=   0.7s\n",
      "[CV 3/5] END classifier__estimator=SGDClassifier(), classifier__estimator__loss=log, classifier__estimator__max_iter=50, classifier__estimator__penalty=l2, classifier__estimator__tol=0.0001, vectorizer__max_df=1.0, vectorizer__norm=l1, vectorizer__stop_words=None, vectorizer__tokenizer=<function spacy_tokenizer at 0x0000023CD53BE340>;, score=nan total time=   0.7s\n",
      "[CV 4/5] END classifier__estimator=SGDClassifier(), classifier__estimator__loss=log, classifier__estimator__max_iter=50, classifier__estimator__penalty=l2, classifier__estimator__tol=0.0001, vectorizer__max_df=1.0, vectorizer__norm=l1, vectorizer__stop_words=None, vectorizer__tokenizer=<function spacy_tokenizer at 0x0000023CD53BE340>;, score=nan total time=   0.7s\n",
      "[CV 5/5] END classifier__estimator=SGDClassifier(), classifier__estimator__loss=log, classifier__estimator__max_iter=50, classifier__estimator__penalty=l2, classifier__estimator__tol=0.0001, vectorizer__max_df=1.0, vectorizer__norm=l1, vectorizer__stop_words=None, vectorizer__tokenizer=<function spacy_tokenizer at 0x0000023CD53BE340>;, score=nan total time=   0.7s\n",
      "[CV 1/5] END classifier__estimator=SGDClassifier(), classifier__estimator__loss=log, classifier__estimator__max_iter=50, classifier__estimator__penalty=l2, classifier__estimator__tol=0.0001, vectorizer__max_df=1.0, vectorizer__norm=l2, vectorizer__stop_words=english, vectorizer__tokenizer=<function spacy_tokenizer at 0x0000023CD53BE340>;, score=nan total time=   2.0s\n",
      "[CV 2/5] END classifier__estimator=SGDClassifier(), classifier__estimator__loss=log, classifier__estimator__max_iter=50, classifier__estimator__penalty=l2, classifier__estimator__tol=0.0001, vectorizer__max_df=1.0, vectorizer__norm=l2, vectorizer__stop_words=english, vectorizer__tokenizer=<function spacy_tokenizer at 0x0000023CD53BE340>;, score=nan total time=   2.0s\n",
      "[CV 3/5] END classifier__estimator=SGDClassifier(), classifier__estimator__loss=log, classifier__estimator__max_iter=50, classifier__estimator__penalty=l2, classifier__estimator__tol=0.0001, vectorizer__max_df=1.0, vectorizer__norm=l2, vectorizer__stop_words=english, vectorizer__tokenizer=<function spacy_tokenizer at 0x0000023CD53BE340>;, score=nan total time=   2.0s\n",
      "[CV 4/5] END classifier__estimator=SGDClassifier(), classifier__estimator__loss=log, classifier__estimator__max_iter=50, classifier__estimator__penalty=l2, classifier__estimator__tol=0.0001, vectorizer__max_df=1.0, vectorizer__norm=l2, vectorizer__stop_words=english, vectorizer__tokenizer=<function spacy_tokenizer at 0x0000023CD53BE340>;, score=nan total time=   2.0s\n",
      "[CV 5/5] END classifier__estimator=SGDClassifier(), classifier__estimator__loss=log, classifier__estimator__max_iter=50, classifier__estimator__penalty=l2, classifier__estimator__tol=0.0001, vectorizer__max_df=1.0, vectorizer__norm=l2, vectorizer__stop_words=english, vectorizer__tokenizer=<function spacy_tokenizer at 0x0000023CD53BE340>;, score=nan total time=   2.0s\n",
      "[CV 1/5] END classifier__estimator=SGDClassifier(), classifier__estimator__loss=log, classifier__estimator__max_iter=50, classifier__estimator__penalty=l2, classifier__estimator__tol=0.0001, vectorizer__max_df=1.0, vectorizer__norm=l2, vectorizer__stop_words=None, vectorizer__tokenizer=<function spacy_tokenizer at 0x0000023CD53BE340>;, score=nan total time=   0.7s\n",
      "[CV 2/5] END classifier__estimator=SGDClassifier(), classifier__estimator__loss=log, classifier__estimator__max_iter=50, classifier__estimator__penalty=l2, classifier__estimator__tol=0.0001, vectorizer__max_df=1.0, vectorizer__norm=l2, vectorizer__stop_words=None, vectorizer__tokenizer=<function spacy_tokenizer at 0x0000023CD53BE340>;, score=nan total time=   0.7s\n",
      "[CV 3/5] END classifier__estimator=SGDClassifier(), classifier__estimator__loss=log, classifier__estimator__max_iter=50, classifier__estimator__penalty=l2, classifier__estimator__tol=0.0001, vectorizer__max_df=1.0, vectorizer__norm=l2, vectorizer__stop_words=None, vectorizer__tokenizer=<function spacy_tokenizer at 0x0000023CD53BE340>;, score=nan total time=   0.8s\n",
      "[CV 4/5] END classifier__estimator=SGDClassifier(), classifier__estimator__loss=log, classifier__estimator__max_iter=50, classifier__estimator__penalty=l2, classifier__estimator__tol=0.0001, vectorizer__max_df=1.0, vectorizer__norm=l2, vectorizer__stop_words=None, vectorizer__tokenizer=<function spacy_tokenizer at 0x0000023CD53BE340>;, score=nan total time=   0.7s\n",
      "[CV 5/5] END classifier__estimator=SGDClassifier(), classifier__estimator__loss=log, classifier__estimator__max_iter=50, classifier__estimator__penalty=l2, classifier__estimator__tol=0.0001, vectorizer__max_df=1.0, vectorizer__norm=l2, vectorizer__stop_words=None, vectorizer__tokenizer=<function spacy_tokenizer at 0x0000023CD53BE340>;, score=nan total time=   0.7s\n",
      "[CV 1/5] END classifier__estimator=SGDClassifier(), classifier__estimator__loss=log, classifier__estimator__max_iter=50, classifier__estimator__penalty=elasticnet, classifier__estimator__tol=0.0001, vectorizer__max_df=1.0, vectorizer__norm=l1, vectorizer__stop_words=english, vectorizer__tokenizer=<function spacy_tokenizer at 0x0000023CD53BE340>;, score=nan total time=   2.1s\n",
      "[CV 2/5] END classifier__estimator=SGDClassifier(), classifier__estimator__loss=log, classifier__estimator__max_iter=50, classifier__estimator__penalty=elasticnet, classifier__estimator__tol=0.0001, vectorizer__max_df=1.0, vectorizer__norm=l1, vectorizer__stop_words=english, vectorizer__tokenizer=<function spacy_tokenizer at 0x0000023CD53BE340>;, score=nan total time=   2.1s\n",
      "[CV 3/5] END classifier__estimator=SGDClassifier(), classifier__estimator__loss=log, classifier__estimator__max_iter=50, classifier__estimator__penalty=elasticnet, classifier__estimator__tol=0.0001, vectorizer__max_df=1.0, vectorizer__norm=l1, vectorizer__stop_words=english, vectorizer__tokenizer=<function spacy_tokenizer at 0x0000023CD53BE340>;, score=nan total time=   2.0s\n"
     ]
    },
    {
     "name": "stdout",
     "output_type": "stream",
     "text": [
      "[CV 4/5] END classifier__estimator=SGDClassifier(), classifier__estimator__loss=log, classifier__estimator__max_iter=50, classifier__estimator__penalty=elasticnet, classifier__estimator__tol=0.0001, vectorizer__max_df=1.0, vectorizer__norm=l1, vectorizer__stop_words=english, vectorizer__tokenizer=<function spacy_tokenizer at 0x0000023CD53BE340>;, score=nan total time=   2.1s\n",
      "[CV 5/5] END classifier__estimator=SGDClassifier(), classifier__estimator__loss=log, classifier__estimator__max_iter=50, classifier__estimator__penalty=elasticnet, classifier__estimator__tol=0.0001, vectorizer__max_df=1.0, vectorizer__norm=l1, vectorizer__stop_words=english, vectorizer__tokenizer=<function spacy_tokenizer at 0x0000023CD53BE340>;, score=nan total time=   2.1s\n",
      "[CV 1/5] END classifier__estimator=SGDClassifier(), classifier__estimator__loss=log, classifier__estimator__max_iter=50, classifier__estimator__penalty=elasticnet, classifier__estimator__tol=0.0001, vectorizer__max_df=1.0, vectorizer__norm=l1, vectorizer__stop_words=None, vectorizer__tokenizer=<function spacy_tokenizer at 0x0000023CD53BE340>;, score=nan total time=   0.7s\n",
      "[CV 2/5] END classifier__estimator=SGDClassifier(), classifier__estimator__loss=log, classifier__estimator__max_iter=50, classifier__estimator__penalty=elasticnet, classifier__estimator__tol=0.0001, vectorizer__max_df=1.0, vectorizer__norm=l1, vectorizer__stop_words=None, vectorizer__tokenizer=<function spacy_tokenizer at 0x0000023CD53BE340>;, score=nan total time=   0.7s\n",
      "[CV 3/5] END classifier__estimator=SGDClassifier(), classifier__estimator__loss=log, classifier__estimator__max_iter=50, classifier__estimator__penalty=elasticnet, classifier__estimator__tol=0.0001, vectorizer__max_df=1.0, vectorizer__norm=l1, vectorizer__stop_words=None, vectorizer__tokenizer=<function spacy_tokenizer at 0x0000023CD53BE340>;, score=nan total time=   0.7s\n",
      "[CV 4/5] END classifier__estimator=SGDClassifier(), classifier__estimator__loss=log, classifier__estimator__max_iter=50, classifier__estimator__penalty=elasticnet, classifier__estimator__tol=0.0001, vectorizer__max_df=1.0, vectorizer__norm=l1, vectorizer__stop_words=None, vectorizer__tokenizer=<function spacy_tokenizer at 0x0000023CD53BE340>;, score=nan total time=   0.7s\n",
      "[CV 5/5] END classifier__estimator=SGDClassifier(), classifier__estimator__loss=log, classifier__estimator__max_iter=50, classifier__estimator__penalty=elasticnet, classifier__estimator__tol=0.0001, vectorizer__max_df=1.0, vectorizer__norm=l1, vectorizer__stop_words=None, vectorizer__tokenizer=<function spacy_tokenizer at 0x0000023CD53BE340>;, score=nan total time=   0.7s\n",
      "[CV 1/5] END classifier__estimator=SGDClassifier(), classifier__estimator__loss=log, classifier__estimator__max_iter=50, classifier__estimator__penalty=elasticnet, classifier__estimator__tol=0.0001, vectorizer__max_df=1.0, vectorizer__norm=l2, vectorizer__stop_words=english, vectorizer__tokenizer=<function spacy_tokenizer at 0x0000023CD53BE340>;, score=nan total time=   2.1s\n",
      "[CV 2/5] END classifier__estimator=SGDClassifier(), classifier__estimator__loss=log, classifier__estimator__max_iter=50, classifier__estimator__penalty=elasticnet, classifier__estimator__tol=0.0001, vectorizer__max_df=1.0, vectorizer__norm=l2, vectorizer__stop_words=english, vectorizer__tokenizer=<function spacy_tokenizer at 0x0000023CD53BE340>;, score=nan total time=   2.1s\n",
      "[CV 3/5] END classifier__estimator=SGDClassifier(), classifier__estimator__loss=log, classifier__estimator__max_iter=50, classifier__estimator__penalty=elasticnet, classifier__estimator__tol=0.0001, vectorizer__max_df=1.0, vectorizer__norm=l2, vectorizer__stop_words=english, vectorizer__tokenizer=<function spacy_tokenizer at 0x0000023CD53BE340>;, score=nan total time=   2.1s\n",
      "[CV 4/5] END classifier__estimator=SGDClassifier(), classifier__estimator__loss=log, classifier__estimator__max_iter=50, classifier__estimator__penalty=elasticnet, classifier__estimator__tol=0.0001, vectorizer__max_df=1.0, vectorizer__norm=l2, vectorizer__stop_words=english, vectorizer__tokenizer=<function spacy_tokenizer at 0x0000023CD53BE340>;, score=nan total time=   2.0s\n",
      "[CV 5/5] END classifier__estimator=SGDClassifier(), classifier__estimator__loss=log, classifier__estimator__max_iter=50, classifier__estimator__penalty=elasticnet, classifier__estimator__tol=0.0001, vectorizer__max_df=1.0, vectorizer__norm=l2, vectorizer__stop_words=english, vectorizer__tokenizer=<function spacy_tokenizer at 0x0000023CD53BE340>;, score=nan total time=   1.9s\n",
      "[CV 1/5] END classifier__estimator=SGDClassifier(), classifier__estimator__loss=log, classifier__estimator__max_iter=50, classifier__estimator__penalty=elasticnet, classifier__estimator__tol=0.0001, vectorizer__max_df=1.0, vectorizer__norm=l2, vectorizer__stop_words=None, vectorizer__tokenizer=<function spacy_tokenizer at 0x0000023CD53BE340>;, score=nan total time=   0.7s\n",
      "[CV 2/5] END classifier__estimator=SGDClassifier(), classifier__estimator__loss=log, classifier__estimator__max_iter=50, classifier__estimator__penalty=elasticnet, classifier__estimator__tol=0.0001, vectorizer__max_df=1.0, vectorizer__norm=l2, vectorizer__stop_words=None, vectorizer__tokenizer=<function spacy_tokenizer at 0x0000023CD53BE340>;, score=nan total time=   0.7s\n",
      "[CV 3/5] END classifier__estimator=SGDClassifier(), classifier__estimator__loss=log, classifier__estimator__max_iter=50, classifier__estimator__penalty=elasticnet, classifier__estimator__tol=0.0001, vectorizer__max_df=1.0, vectorizer__norm=l2, vectorizer__stop_words=None, vectorizer__tokenizer=<function spacy_tokenizer at 0x0000023CD53BE340>;, score=nan total time=   0.7s\n",
      "[CV 4/5] END classifier__estimator=SGDClassifier(), classifier__estimator__loss=log, classifier__estimator__max_iter=50, classifier__estimator__penalty=elasticnet, classifier__estimator__tol=0.0001, vectorizer__max_df=1.0, vectorizer__norm=l2, vectorizer__stop_words=None, vectorizer__tokenizer=<function spacy_tokenizer at 0x0000023CD53BE340>;, score=nan total time=   0.7s\n",
      "[CV 5/5] END classifier__estimator=SGDClassifier(), classifier__estimator__loss=log, classifier__estimator__max_iter=50, classifier__estimator__penalty=elasticnet, classifier__estimator__tol=0.0001, vectorizer__max_df=1.0, vectorizer__norm=l2, vectorizer__stop_words=None, vectorizer__tokenizer=<function spacy_tokenizer at 0x0000023CD53BE340>;, score=nan total time=   0.6s\n",
      "[CV 1/5] END classifier__estimator=SGDClassifier(), classifier__estimator__loss=log, classifier__estimator__max_iter=50, classifier__estimator__penalty=l1, classifier__estimator__tol=0.0001, vectorizer__max_df=1.0, vectorizer__norm=l1, vectorizer__stop_words=english, vectorizer__tokenizer=<function spacy_tokenizer at 0x0000023CD53BE340>;, score=nan total time=   1.9s\n",
      "[CV 2/5] END classifier__estimator=SGDClassifier(), classifier__estimator__loss=log, classifier__estimator__max_iter=50, classifier__estimator__penalty=l1, classifier__estimator__tol=0.0001, vectorizer__max_df=1.0, vectorizer__norm=l1, vectorizer__stop_words=english, vectorizer__tokenizer=<function spacy_tokenizer at 0x0000023CD53BE340>;, score=nan total time=   1.9s\n",
      "[CV 3/5] END classifier__estimator=SGDClassifier(), classifier__estimator__loss=log, classifier__estimator__max_iter=50, classifier__estimator__penalty=l1, classifier__estimator__tol=0.0001, vectorizer__max_df=1.0, vectorizer__norm=l1, vectorizer__stop_words=english, vectorizer__tokenizer=<function spacy_tokenizer at 0x0000023CD53BE340>;, score=nan total time=   1.9s\n",
      "[CV 4/5] END classifier__estimator=SGDClassifier(), classifier__estimator__loss=log, classifier__estimator__max_iter=50, classifier__estimator__penalty=l1, classifier__estimator__tol=0.0001, vectorizer__max_df=1.0, vectorizer__norm=l1, vectorizer__stop_words=english, vectorizer__tokenizer=<function spacy_tokenizer at 0x0000023CD53BE340>;, score=nan total time=   1.9s\n",
      "[CV 5/5] END classifier__estimator=SGDClassifier(), classifier__estimator__loss=log, classifier__estimator__max_iter=50, classifier__estimator__penalty=l1, classifier__estimator__tol=0.0001, vectorizer__max_df=1.0, vectorizer__norm=l1, vectorizer__stop_words=english, vectorizer__tokenizer=<function spacy_tokenizer at 0x0000023CD53BE340>;, score=nan total time=   1.9s\n"
     ]
    },
    {
     "name": "stdout",
     "output_type": "stream",
     "text": [
      "[CV 1/5] END classifier__estimator=SGDClassifier(), classifier__estimator__loss=log, classifier__estimator__max_iter=50, classifier__estimator__penalty=l1, classifier__estimator__tol=0.0001, vectorizer__max_df=1.0, vectorizer__norm=l1, vectorizer__stop_words=None, vectorizer__tokenizer=<function spacy_tokenizer at 0x0000023CD53BE340>;, score=nan total time=   0.6s\n",
      "[CV 2/5] END classifier__estimator=SGDClassifier(), classifier__estimator__loss=log, classifier__estimator__max_iter=50, classifier__estimator__penalty=l1, classifier__estimator__tol=0.0001, vectorizer__max_df=1.0, vectorizer__norm=l1, vectorizer__stop_words=None, vectorizer__tokenizer=<function spacy_tokenizer at 0x0000023CD53BE340>;, score=nan total time=   0.7s\n",
      "[CV 3/5] END classifier__estimator=SGDClassifier(), classifier__estimator__loss=log, classifier__estimator__max_iter=50, classifier__estimator__penalty=l1, classifier__estimator__tol=0.0001, vectorizer__max_df=1.0, vectorizer__norm=l1, vectorizer__stop_words=None, vectorizer__tokenizer=<function spacy_tokenizer at 0x0000023CD53BE340>;, score=nan total time=   0.7s\n",
      "[CV 4/5] END classifier__estimator=SGDClassifier(), classifier__estimator__loss=log, classifier__estimator__max_iter=50, classifier__estimator__penalty=l1, classifier__estimator__tol=0.0001, vectorizer__max_df=1.0, vectorizer__norm=l1, vectorizer__stop_words=None, vectorizer__tokenizer=<function spacy_tokenizer at 0x0000023CD53BE340>;, score=nan total time=   0.7s\n",
      "[CV 5/5] END classifier__estimator=SGDClassifier(), classifier__estimator__loss=log, classifier__estimator__max_iter=50, classifier__estimator__penalty=l1, classifier__estimator__tol=0.0001, vectorizer__max_df=1.0, vectorizer__norm=l1, vectorizer__stop_words=None, vectorizer__tokenizer=<function spacy_tokenizer at 0x0000023CD53BE340>;, score=nan total time=   0.7s\n",
      "[CV 1/5] END classifier__estimator=SGDClassifier(), classifier__estimator__loss=log, classifier__estimator__max_iter=50, classifier__estimator__penalty=l1, classifier__estimator__tol=0.0001, vectorizer__max_df=1.0, vectorizer__norm=l2, vectorizer__stop_words=english, vectorizer__tokenizer=<function spacy_tokenizer at 0x0000023CD53BE340>;, score=nan total time=   1.9s\n",
      "[CV 2/5] END classifier__estimator=SGDClassifier(), classifier__estimator__loss=log, classifier__estimator__max_iter=50, classifier__estimator__penalty=l1, classifier__estimator__tol=0.0001, vectorizer__max_df=1.0, vectorizer__norm=l2, vectorizer__stop_words=english, vectorizer__tokenizer=<function spacy_tokenizer at 0x0000023CD53BE340>;, score=nan total time=   1.9s\n",
      "[CV 3/5] END classifier__estimator=SGDClassifier(), classifier__estimator__loss=log, classifier__estimator__max_iter=50, classifier__estimator__penalty=l1, classifier__estimator__tol=0.0001, vectorizer__max_df=1.0, vectorizer__norm=l2, vectorizer__stop_words=english, vectorizer__tokenizer=<function spacy_tokenizer at 0x0000023CD53BE340>;, score=nan total time=   1.9s\n",
      "[CV 4/5] END classifier__estimator=SGDClassifier(), classifier__estimator__loss=log, classifier__estimator__max_iter=50, classifier__estimator__penalty=l1, classifier__estimator__tol=0.0001, vectorizer__max_df=1.0, vectorizer__norm=l2, vectorizer__stop_words=english, vectorizer__tokenizer=<function spacy_tokenizer at 0x0000023CD53BE340>;, score=nan total time=   2.0s\n",
      "[CV 5/5] END classifier__estimator=SGDClassifier(), classifier__estimator__loss=log, classifier__estimator__max_iter=50, classifier__estimator__penalty=l1, classifier__estimator__tol=0.0001, vectorizer__max_df=1.0, vectorizer__norm=l2, vectorizer__stop_words=english, vectorizer__tokenizer=<function spacy_tokenizer at 0x0000023CD53BE340>;, score=nan total time=   2.1s\n",
      "[CV 1/5] END classifier__estimator=SGDClassifier(), classifier__estimator__loss=log, classifier__estimator__max_iter=50, classifier__estimator__penalty=l1, classifier__estimator__tol=0.0001, vectorizer__max_df=1.0, vectorizer__norm=l2, vectorizer__stop_words=None, vectorizer__tokenizer=<function spacy_tokenizer at 0x0000023CD53BE340>;, score=nan total time=   0.7s\n",
      "[CV 2/5] END classifier__estimator=SGDClassifier(), classifier__estimator__loss=log, classifier__estimator__max_iter=50, classifier__estimator__penalty=l1, classifier__estimator__tol=0.0001, vectorizer__max_df=1.0, vectorizer__norm=l2, vectorizer__stop_words=None, vectorizer__tokenizer=<function spacy_tokenizer at 0x0000023CD53BE340>;, score=nan total time=   0.7s\n",
      "[CV 3/5] END classifier__estimator=SGDClassifier(), classifier__estimator__loss=log, classifier__estimator__max_iter=50, classifier__estimator__penalty=l1, classifier__estimator__tol=0.0001, vectorizer__max_df=1.0, vectorizer__norm=l2, vectorizer__stop_words=None, vectorizer__tokenizer=<function spacy_tokenizer at 0x0000023CD53BE340>;, score=nan total time=   0.7s\n",
      "[CV 4/5] END classifier__estimator=SGDClassifier(), classifier__estimator__loss=log, classifier__estimator__max_iter=50, classifier__estimator__penalty=l1, classifier__estimator__tol=0.0001, vectorizer__max_df=1.0, vectorizer__norm=l2, vectorizer__stop_words=None, vectorizer__tokenizer=<function spacy_tokenizer at 0x0000023CD53BE340>;, score=nan total time=   0.7s\n",
      "[CV 5/5] END classifier__estimator=SGDClassifier(), classifier__estimator__loss=log, classifier__estimator__max_iter=50, classifier__estimator__penalty=l1, classifier__estimator__tol=0.0001, vectorizer__max_df=1.0, vectorizer__norm=l2, vectorizer__stop_words=None, vectorizer__tokenizer=<function spacy_tokenizer at 0x0000023CD53BE340>;, score=nan total time=   0.7s\n",
      "[CV 1/5] END classifier__estimator=SGDClassifier(), classifier__estimator__loss=log, classifier__estimator__max_iter=80, classifier__estimator__penalty=l2, classifier__estimator__tol=0.0001, vectorizer__max_df=1.0, vectorizer__norm=l1, vectorizer__stop_words=english, vectorizer__tokenizer=<function spacy_tokenizer at 0x0000023CD53BE340>;, score=nan total time=   2.0s\n",
      "[CV 2/5] END classifier__estimator=SGDClassifier(), classifier__estimator__loss=log, classifier__estimator__max_iter=80, classifier__estimator__penalty=l2, classifier__estimator__tol=0.0001, vectorizer__max_df=1.0, vectorizer__norm=l1, vectorizer__stop_words=english, vectorizer__tokenizer=<function spacy_tokenizer at 0x0000023CD53BE340>;, score=nan total time=   2.0s\n",
      "[CV 3/5] END classifier__estimator=SGDClassifier(), classifier__estimator__loss=log, classifier__estimator__max_iter=80, classifier__estimator__penalty=l2, classifier__estimator__tol=0.0001, vectorizer__max_df=1.0, vectorizer__norm=l1, vectorizer__stop_words=english, vectorizer__tokenizer=<function spacy_tokenizer at 0x0000023CD53BE340>;, score=nan total time=   2.0s\n",
      "[CV 4/5] END classifier__estimator=SGDClassifier(), classifier__estimator__loss=log, classifier__estimator__max_iter=80, classifier__estimator__penalty=l2, classifier__estimator__tol=0.0001, vectorizer__max_df=1.0, vectorizer__norm=l1, vectorizer__stop_words=english, vectorizer__tokenizer=<function spacy_tokenizer at 0x0000023CD53BE340>;, score=nan total time=   2.0s\n",
      "[CV 5/5] END classifier__estimator=SGDClassifier(), classifier__estimator__loss=log, classifier__estimator__max_iter=80, classifier__estimator__penalty=l2, classifier__estimator__tol=0.0001, vectorizer__max_df=1.0, vectorizer__norm=l1, vectorizer__stop_words=english, vectorizer__tokenizer=<function spacy_tokenizer at 0x0000023CD53BE340>;, score=nan total time=   2.0s\n",
      "[CV 1/5] END classifier__estimator=SGDClassifier(), classifier__estimator__loss=log, classifier__estimator__max_iter=80, classifier__estimator__penalty=l2, classifier__estimator__tol=0.0001, vectorizer__max_df=1.0, vectorizer__norm=l1, vectorizer__stop_words=None, vectorizer__tokenizer=<function spacy_tokenizer at 0x0000023CD53BE340>;, score=nan total time=   0.7s\n",
      "[CV 2/5] END classifier__estimator=SGDClassifier(), classifier__estimator__loss=log, classifier__estimator__max_iter=80, classifier__estimator__penalty=l2, classifier__estimator__tol=0.0001, vectorizer__max_df=1.0, vectorizer__norm=l1, vectorizer__stop_words=None, vectorizer__tokenizer=<function spacy_tokenizer at 0x0000023CD53BE340>;, score=nan total time=   0.7s\n",
      "[CV 3/5] END classifier__estimator=SGDClassifier(), classifier__estimator__loss=log, classifier__estimator__max_iter=80, classifier__estimator__penalty=l2, classifier__estimator__tol=0.0001, vectorizer__max_df=1.0, vectorizer__norm=l1, vectorizer__stop_words=None, vectorizer__tokenizer=<function spacy_tokenizer at 0x0000023CD53BE340>;, score=nan total time=   0.7s\n"
     ]
    },
    {
     "name": "stdout",
     "output_type": "stream",
     "text": [
      "[CV 4/5] END classifier__estimator=SGDClassifier(), classifier__estimator__loss=log, classifier__estimator__max_iter=80, classifier__estimator__penalty=l2, classifier__estimator__tol=0.0001, vectorizer__max_df=1.0, vectorizer__norm=l1, vectorizer__stop_words=None, vectorizer__tokenizer=<function spacy_tokenizer at 0x0000023CD53BE340>;, score=nan total time=   0.7s\n",
      "[CV 5/5] END classifier__estimator=SGDClassifier(), classifier__estimator__loss=log, classifier__estimator__max_iter=80, classifier__estimator__penalty=l2, classifier__estimator__tol=0.0001, vectorizer__max_df=1.0, vectorizer__norm=l1, vectorizer__stop_words=None, vectorizer__tokenizer=<function spacy_tokenizer at 0x0000023CD53BE340>;, score=nan total time=   0.7s\n",
      "[CV 1/5] END classifier__estimator=SGDClassifier(), classifier__estimator__loss=log, classifier__estimator__max_iter=80, classifier__estimator__penalty=l2, classifier__estimator__tol=0.0001, vectorizer__max_df=1.0, vectorizer__norm=l2, vectorizer__stop_words=english, vectorizer__tokenizer=<function spacy_tokenizer at 0x0000023CD53BE340>;, score=nan total time=   2.1s\n",
      "[CV 2/5] END classifier__estimator=SGDClassifier(), classifier__estimator__loss=log, classifier__estimator__max_iter=80, classifier__estimator__penalty=l2, classifier__estimator__tol=0.0001, vectorizer__max_df=1.0, vectorizer__norm=l2, vectorizer__stop_words=english, vectorizer__tokenizer=<function spacy_tokenizer at 0x0000023CD53BE340>;, score=nan total time=   2.0s\n",
      "[CV 3/5] END classifier__estimator=SGDClassifier(), classifier__estimator__loss=log, classifier__estimator__max_iter=80, classifier__estimator__penalty=l2, classifier__estimator__tol=0.0001, vectorizer__max_df=1.0, vectorizer__norm=l2, vectorizer__stop_words=english, vectorizer__tokenizer=<function spacy_tokenizer at 0x0000023CD53BE340>;, score=nan total time=   1.9s\n",
      "[CV 4/5] END classifier__estimator=SGDClassifier(), classifier__estimator__loss=log, classifier__estimator__max_iter=80, classifier__estimator__penalty=l2, classifier__estimator__tol=0.0001, vectorizer__max_df=1.0, vectorizer__norm=l2, vectorizer__stop_words=english, vectorizer__tokenizer=<function spacy_tokenizer at 0x0000023CD53BE340>;, score=nan total time=   2.0s\n",
      "[CV 5/5] END classifier__estimator=SGDClassifier(), classifier__estimator__loss=log, classifier__estimator__max_iter=80, classifier__estimator__penalty=l2, classifier__estimator__tol=0.0001, vectorizer__max_df=1.0, vectorizer__norm=l2, vectorizer__stop_words=english, vectorizer__tokenizer=<function spacy_tokenizer at 0x0000023CD53BE340>;, score=nan total time=   2.0s\n",
      "[CV 1/5] END classifier__estimator=SGDClassifier(), classifier__estimator__loss=log, classifier__estimator__max_iter=80, classifier__estimator__penalty=l2, classifier__estimator__tol=0.0001, vectorizer__max_df=1.0, vectorizer__norm=l2, vectorizer__stop_words=None, vectorizer__tokenizer=<function spacy_tokenizer at 0x0000023CD53BE340>;, score=nan total time=   0.7s\n",
      "[CV 2/5] END classifier__estimator=SGDClassifier(), classifier__estimator__loss=log, classifier__estimator__max_iter=80, classifier__estimator__penalty=l2, classifier__estimator__tol=0.0001, vectorizer__max_df=1.0, vectorizer__norm=l2, vectorizer__stop_words=None, vectorizer__tokenizer=<function spacy_tokenizer at 0x0000023CD53BE340>;, score=nan total time=   0.7s\n",
      "[CV 3/5] END classifier__estimator=SGDClassifier(), classifier__estimator__loss=log, classifier__estimator__max_iter=80, classifier__estimator__penalty=l2, classifier__estimator__tol=0.0001, vectorizer__max_df=1.0, vectorizer__norm=l2, vectorizer__stop_words=None, vectorizer__tokenizer=<function spacy_tokenizer at 0x0000023CD53BE340>;, score=nan total time=   0.7s\n",
      "[CV 4/5] END classifier__estimator=SGDClassifier(), classifier__estimator__loss=log, classifier__estimator__max_iter=80, classifier__estimator__penalty=l2, classifier__estimator__tol=0.0001, vectorizer__max_df=1.0, vectorizer__norm=l2, vectorizer__stop_words=None, vectorizer__tokenizer=<function spacy_tokenizer at 0x0000023CD53BE340>;, score=nan total time=   0.7s\n",
      "[CV 5/5] END classifier__estimator=SGDClassifier(), classifier__estimator__loss=log, classifier__estimator__max_iter=80, classifier__estimator__penalty=l2, classifier__estimator__tol=0.0001, vectorizer__max_df=1.0, vectorizer__norm=l2, vectorizer__stop_words=None, vectorizer__tokenizer=<function spacy_tokenizer at 0x0000023CD53BE340>;, score=nan total time=   0.7s\n",
      "[CV 1/5] END classifier__estimator=SGDClassifier(), classifier__estimator__loss=log, classifier__estimator__max_iter=80, classifier__estimator__penalty=elasticnet, classifier__estimator__tol=0.0001, vectorizer__max_df=1.0, vectorizer__norm=l1, vectorizer__stop_words=english, vectorizer__tokenizer=<function spacy_tokenizer at 0x0000023CD53BE340>;, score=nan total time=   2.0s\n",
      "[CV 2/5] END classifier__estimator=SGDClassifier(), classifier__estimator__loss=log, classifier__estimator__max_iter=80, classifier__estimator__penalty=elasticnet, classifier__estimator__tol=0.0001, vectorizer__max_df=1.0, vectorizer__norm=l1, vectorizer__stop_words=english, vectorizer__tokenizer=<function spacy_tokenizer at 0x0000023CD53BE340>;, score=nan total time=   2.5s\n",
      "[CV 3/5] END classifier__estimator=SGDClassifier(), classifier__estimator__loss=log, classifier__estimator__max_iter=80, classifier__estimator__penalty=elasticnet, classifier__estimator__tol=0.0001, vectorizer__max_df=1.0, vectorizer__norm=l1, vectorizer__stop_words=english, vectorizer__tokenizer=<function spacy_tokenizer at 0x0000023CD53BE340>;, score=nan total time=   2.0s\n",
      "[CV 4/5] END classifier__estimator=SGDClassifier(), classifier__estimator__loss=log, classifier__estimator__max_iter=80, classifier__estimator__penalty=elasticnet, classifier__estimator__tol=0.0001, vectorizer__max_df=1.0, vectorizer__norm=l1, vectorizer__stop_words=english, vectorizer__tokenizer=<function spacy_tokenizer at 0x0000023CD53BE340>;, score=nan total time=   2.6s\n",
      "[CV 5/5] END classifier__estimator=SGDClassifier(), classifier__estimator__loss=log, classifier__estimator__max_iter=80, classifier__estimator__penalty=elasticnet, classifier__estimator__tol=0.0001, vectorizer__max_df=1.0, vectorizer__norm=l1, vectorizer__stop_words=english, vectorizer__tokenizer=<function spacy_tokenizer at 0x0000023CD53BE340>;, score=nan total time=   2.0s\n",
      "[CV 1/5] END classifier__estimator=SGDClassifier(), classifier__estimator__loss=log, classifier__estimator__max_iter=80, classifier__estimator__penalty=elasticnet, classifier__estimator__tol=0.0001, vectorizer__max_df=1.0, vectorizer__norm=l1, vectorizer__stop_words=None, vectorizer__tokenizer=<function spacy_tokenizer at 0x0000023CD53BE340>;, score=nan total time=   0.7s\n",
      "[CV 2/5] END classifier__estimator=SGDClassifier(), classifier__estimator__loss=log, classifier__estimator__max_iter=80, classifier__estimator__penalty=elasticnet, classifier__estimator__tol=0.0001, vectorizer__max_df=1.0, vectorizer__norm=l1, vectorizer__stop_words=None, vectorizer__tokenizer=<function spacy_tokenizer at 0x0000023CD53BE340>;, score=nan total time=   0.7s\n",
      "[CV 3/5] END classifier__estimator=SGDClassifier(), classifier__estimator__loss=log, classifier__estimator__max_iter=80, classifier__estimator__penalty=elasticnet, classifier__estimator__tol=0.0001, vectorizer__max_df=1.0, vectorizer__norm=l1, vectorizer__stop_words=None, vectorizer__tokenizer=<function spacy_tokenizer at 0x0000023CD53BE340>;, score=nan total time=   0.7s\n",
      "[CV 4/5] END classifier__estimator=SGDClassifier(), classifier__estimator__loss=log, classifier__estimator__max_iter=80, classifier__estimator__penalty=elasticnet, classifier__estimator__tol=0.0001, vectorizer__max_df=1.0, vectorizer__norm=l1, vectorizer__stop_words=None, vectorizer__tokenizer=<function spacy_tokenizer at 0x0000023CD53BE340>;, score=nan total time=   0.7s\n",
      "[CV 5/5] END classifier__estimator=SGDClassifier(), classifier__estimator__loss=log, classifier__estimator__max_iter=80, classifier__estimator__penalty=elasticnet, classifier__estimator__tol=0.0001, vectorizer__max_df=1.0, vectorizer__norm=l1, vectorizer__stop_words=None, vectorizer__tokenizer=<function spacy_tokenizer at 0x0000023CD53BE340>;, score=nan total time=   0.7s\n",
      "[CV 1/5] END classifier__estimator=SGDClassifier(), classifier__estimator__loss=log, classifier__estimator__max_iter=80, classifier__estimator__penalty=elasticnet, classifier__estimator__tol=0.0001, vectorizer__max_df=1.0, vectorizer__norm=l2, vectorizer__stop_words=english, vectorizer__tokenizer=<function spacy_tokenizer at 0x0000023CD53BE340>;, score=nan total time=   2.0s\n"
     ]
    },
    {
     "name": "stdout",
     "output_type": "stream",
     "text": [
      "[CV 2/5] END classifier__estimator=SGDClassifier(), classifier__estimator__loss=log, classifier__estimator__max_iter=80, classifier__estimator__penalty=elasticnet, classifier__estimator__tol=0.0001, vectorizer__max_df=1.0, vectorizer__norm=l2, vectorizer__stop_words=english, vectorizer__tokenizer=<function spacy_tokenizer at 0x0000023CD53BE340>;, score=nan total time=   2.0s\n",
      "[CV 3/5] END classifier__estimator=SGDClassifier(), classifier__estimator__loss=log, classifier__estimator__max_iter=80, classifier__estimator__penalty=elasticnet, classifier__estimator__tol=0.0001, vectorizer__max_df=1.0, vectorizer__norm=l2, vectorizer__stop_words=english, vectorizer__tokenizer=<function spacy_tokenizer at 0x0000023CD53BE340>;, score=nan total time=   2.0s\n",
      "[CV 4/5] END classifier__estimator=SGDClassifier(), classifier__estimator__loss=log, classifier__estimator__max_iter=80, classifier__estimator__penalty=elasticnet, classifier__estimator__tol=0.0001, vectorizer__max_df=1.0, vectorizer__norm=l2, vectorizer__stop_words=english, vectorizer__tokenizer=<function spacy_tokenizer at 0x0000023CD53BE340>;, score=nan total time=   2.0s\n",
      "[CV 5/5] END classifier__estimator=SGDClassifier(), classifier__estimator__loss=log, classifier__estimator__max_iter=80, classifier__estimator__penalty=elasticnet, classifier__estimator__tol=0.0001, vectorizer__max_df=1.0, vectorizer__norm=l2, vectorizer__stop_words=english, vectorizer__tokenizer=<function spacy_tokenizer at 0x0000023CD53BE340>;, score=nan total time=   2.0s\n",
      "[CV 1/5] END classifier__estimator=SGDClassifier(), classifier__estimator__loss=log, classifier__estimator__max_iter=80, classifier__estimator__penalty=elasticnet, classifier__estimator__tol=0.0001, vectorizer__max_df=1.0, vectorizer__norm=l2, vectorizer__stop_words=None, vectorizer__tokenizer=<function spacy_tokenizer at 0x0000023CD53BE340>;, score=nan total time=   0.7s\n",
      "[CV 2/5] END classifier__estimator=SGDClassifier(), classifier__estimator__loss=log, classifier__estimator__max_iter=80, classifier__estimator__penalty=elasticnet, classifier__estimator__tol=0.0001, vectorizer__max_df=1.0, vectorizer__norm=l2, vectorizer__stop_words=None, vectorizer__tokenizer=<function spacy_tokenizer at 0x0000023CD53BE340>;, score=nan total time=   0.7s\n",
      "[CV 3/5] END classifier__estimator=SGDClassifier(), classifier__estimator__loss=log, classifier__estimator__max_iter=80, classifier__estimator__penalty=elasticnet, classifier__estimator__tol=0.0001, vectorizer__max_df=1.0, vectorizer__norm=l2, vectorizer__stop_words=None, vectorizer__tokenizer=<function spacy_tokenizer at 0x0000023CD53BE340>;, score=nan total time=   0.7s\n",
      "[CV 4/5] END classifier__estimator=SGDClassifier(), classifier__estimator__loss=log, classifier__estimator__max_iter=80, classifier__estimator__penalty=elasticnet, classifier__estimator__tol=0.0001, vectorizer__max_df=1.0, vectorizer__norm=l2, vectorizer__stop_words=None, vectorizer__tokenizer=<function spacy_tokenizer at 0x0000023CD53BE340>;, score=nan total time=   0.7s\n",
      "[CV 5/5] END classifier__estimator=SGDClassifier(), classifier__estimator__loss=log, classifier__estimator__max_iter=80, classifier__estimator__penalty=elasticnet, classifier__estimator__tol=0.0001, vectorizer__max_df=1.0, vectorizer__norm=l2, vectorizer__stop_words=None, vectorizer__tokenizer=<function spacy_tokenizer at 0x0000023CD53BE340>;, score=nan total time=   0.7s\n",
      "[CV 1/5] END classifier__estimator=SGDClassifier(), classifier__estimator__loss=log, classifier__estimator__max_iter=80, classifier__estimator__penalty=l1, classifier__estimator__tol=0.0001, vectorizer__max_df=1.0, vectorizer__norm=l1, vectorizer__stop_words=english, vectorizer__tokenizer=<function spacy_tokenizer at 0x0000023CD53BE340>;, score=nan total time=   2.0s\n",
      "[CV 2/5] END classifier__estimator=SGDClassifier(), classifier__estimator__loss=log, classifier__estimator__max_iter=80, classifier__estimator__penalty=l1, classifier__estimator__tol=0.0001, vectorizer__max_df=1.0, vectorizer__norm=l1, vectorizer__stop_words=english, vectorizer__tokenizer=<function spacy_tokenizer at 0x0000023CD53BE340>;, score=nan total time=   2.3s\n",
      "[CV 3/5] END classifier__estimator=SGDClassifier(), classifier__estimator__loss=log, classifier__estimator__max_iter=80, classifier__estimator__penalty=l1, classifier__estimator__tol=0.0001, vectorizer__max_df=1.0, vectorizer__norm=l1, vectorizer__stop_words=english, vectorizer__tokenizer=<function spacy_tokenizer at 0x0000023CD53BE340>;, score=nan total time=   2.1s\n",
      "[CV 4/5] END classifier__estimator=SGDClassifier(), classifier__estimator__loss=log, classifier__estimator__max_iter=80, classifier__estimator__penalty=l1, classifier__estimator__tol=0.0001, vectorizer__max_df=1.0, vectorizer__norm=l1, vectorizer__stop_words=english, vectorizer__tokenizer=<function spacy_tokenizer at 0x0000023CD53BE340>;, score=nan total time=   2.0s\n",
      "[CV 5/5] END classifier__estimator=SGDClassifier(), classifier__estimator__loss=log, classifier__estimator__max_iter=80, classifier__estimator__penalty=l1, classifier__estimator__tol=0.0001, vectorizer__max_df=1.0, vectorizer__norm=l1, vectorizer__stop_words=english, vectorizer__tokenizer=<function spacy_tokenizer at 0x0000023CD53BE340>;, score=nan total time=   2.1s\n",
      "[CV 1/5] END classifier__estimator=SGDClassifier(), classifier__estimator__loss=log, classifier__estimator__max_iter=80, classifier__estimator__penalty=l1, classifier__estimator__tol=0.0001, vectorizer__max_df=1.0, vectorizer__norm=l1, vectorizer__stop_words=None, vectorizer__tokenizer=<function spacy_tokenizer at 0x0000023CD53BE340>;, score=nan total time=   0.7s\n",
      "[CV 2/5] END classifier__estimator=SGDClassifier(), classifier__estimator__loss=log, classifier__estimator__max_iter=80, classifier__estimator__penalty=l1, classifier__estimator__tol=0.0001, vectorizer__max_df=1.0, vectorizer__norm=l1, vectorizer__stop_words=None, vectorizer__tokenizer=<function spacy_tokenizer at 0x0000023CD53BE340>;, score=nan total time=   0.7s\n",
      "[CV 3/5] END classifier__estimator=SGDClassifier(), classifier__estimator__loss=log, classifier__estimator__max_iter=80, classifier__estimator__penalty=l1, classifier__estimator__tol=0.0001, vectorizer__max_df=1.0, vectorizer__norm=l1, vectorizer__stop_words=None, vectorizer__tokenizer=<function spacy_tokenizer at 0x0000023CD53BE340>;, score=nan total time=   0.7s\n",
      "[CV 4/5] END classifier__estimator=SGDClassifier(), classifier__estimator__loss=log, classifier__estimator__max_iter=80, classifier__estimator__penalty=l1, classifier__estimator__tol=0.0001, vectorizer__max_df=1.0, vectorizer__norm=l1, vectorizer__stop_words=None, vectorizer__tokenizer=<function spacy_tokenizer at 0x0000023CD53BE340>;, score=nan total time=   0.7s\n",
      "[CV 5/5] END classifier__estimator=SGDClassifier(), classifier__estimator__loss=log, classifier__estimator__max_iter=80, classifier__estimator__penalty=l1, classifier__estimator__tol=0.0001, vectorizer__max_df=1.0, vectorizer__norm=l1, vectorizer__stop_words=None, vectorizer__tokenizer=<function spacy_tokenizer at 0x0000023CD53BE340>;, score=nan total time=   0.7s\n",
      "[CV 1/5] END classifier__estimator=SGDClassifier(), classifier__estimator__loss=log, classifier__estimator__max_iter=80, classifier__estimator__penalty=l1, classifier__estimator__tol=0.0001, vectorizer__max_df=1.0, vectorizer__norm=l2, vectorizer__stop_words=english, vectorizer__tokenizer=<function spacy_tokenizer at 0x0000023CD53BE340>;, score=nan total time=   2.0s\n",
      "[CV 2/5] END classifier__estimator=SGDClassifier(), classifier__estimator__loss=log, classifier__estimator__max_iter=80, classifier__estimator__penalty=l1, classifier__estimator__tol=0.0001, vectorizer__max_df=1.0, vectorizer__norm=l2, vectorizer__stop_words=english, vectorizer__tokenizer=<function spacy_tokenizer at 0x0000023CD53BE340>;, score=nan total time=   2.0s\n",
      "[CV 3/5] END classifier__estimator=SGDClassifier(), classifier__estimator__loss=log, classifier__estimator__max_iter=80, classifier__estimator__penalty=l1, classifier__estimator__tol=0.0001, vectorizer__max_df=1.0, vectorizer__norm=l2, vectorizer__stop_words=english, vectorizer__tokenizer=<function spacy_tokenizer at 0x0000023CD53BE340>;, score=nan total time=   2.2s\n",
      "[CV 4/5] END classifier__estimator=SGDClassifier(), classifier__estimator__loss=log, classifier__estimator__max_iter=80, classifier__estimator__penalty=l1, classifier__estimator__tol=0.0001, vectorizer__max_df=1.0, vectorizer__norm=l2, vectorizer__stop_words=english, vectorizer__tokenizer=<function spacy_tokenizer at 0x0000023CD53BE340>;, score=nan total time=   2.1s\n"
     ]
    },
    {
     "name": "stdout",
     "output_type": "stream",
     "text": [
      "[CV 5/5] END classifier__estimator=SGDClassifier(), classifier__estimator__loss=log, classifier__estimator__max_iter=80, classifier__estimator__penalty=l1, classifier__estimator__tol=0.0001, vectorizer__max_df=1.0, vectorizer__norm=l2, vectorizer__stop_words=english, vectorizer__tokenizer=<function spacy_tokenizer at 0x0000023CD53BE340>;, score=nan total time=   2.1s\n",
      "[CV 1/5] END classifier__estimator=SGDClassifier(), classifier__estimator__loss=log, classifier__estimator__max_iter=80, classifier__estimator__penalty=l1, classifier__estimator__tol=0.0001, vectorizer__max_df=1.0, vectorizer__norm=l2, vectorizer__stop_words=None, vectorizer__tokenizer=<function spacy_tokenizer at 0x0000023CD53BE340>;, score=nan total time=   0.7s\n",
      "[CV 2/5] END classifier__estimator=SGDClassifier(), classifier__estimator__loss=log, classifier__estimator__max_iter=80, classifier__estimator__penalty=l1, classifier__estimator__tol=0.0001, vectorizer__max_df=1.0, vectorizer__norm=l2, vectorizer__stop_words=None, vectorizer__tokenizer=<function spacy_tokenizer at 0x0000023CD53BE340>;, score=nan total time=   0.7s\n",
      "[CV 3/5] END classifier__estimator=SGDClassifier(), classifier__estimator__loss=log, classifier__estimator__max_iter=80, classifier__estimator__penalty=l1, classifier__estimator__tol=0.0001, vectorizer__max_df=1.0, vectorizer__norm=l2, vectorizer__stop_words=None, vectorizer__tokenizer=<function spacy_tokenizer at 0x0000023CD53BE340>;, score=nan total time=   0.7s\n",
      "[CV 4/5] END classifier__estimator=SGDClassifier(), classifier__estimator__loss=log, classifier__estimator__max_iter=80, classifier__estimator__penalty=l1, classifier__estimator__tol=0.0001, vectorizer__max_df=1.0, vectorizer__norm=l2, vectorizer__stop_words=None, vectorizer__tokenizer=<function spacy_tokenizer at 0x0000023CD53BE340>;, score=nan total time=   0.7s\n",
      "[CV 5/5] END classifier__estimator=SGDClassifier(), classifier__estimator__loss=log, classifier__estimator__max_iter=80, classifier__estimator__penalty=l1, classifier__estimator__tol=0.0001, vectorizer__max_df=1.0, vectorizer__norm=l2, vectorizer__stop_words=None, vectorizer__tokenizer=<function spacy_tokenizer at 0x0000023CD53BE340>;, score=nan total time=   0.7s\n",
      "[CV 1/5] END classifier__estimator=SGDClassifier(), classifier__estimator__loss=modified_huber, classifier__estimator__max_iter=50, classifier__estimator__penalty=l2, classifier__estimator__tol=0.0001, vectorizer__max_df=1.0, vectorizer__norm=l1, vectorizer__stop_words=english, vectorizer__tokenizer=<function spacy_tokenizer at 0x0000023CD53BE340>;, score=0.688 total time=   2.3s\n"
     ]
    },
    {
     "name": "stderr",
     "output_type": "stream",
     "text": [
      "C:\\Users\\whitl\\anaconda3\\Lib\\site-packages\\sklearn\\feature_extraction\\text.py:525: UserWarning: The parameter 'token_pattern' will not be used since 'tokenizer' is not None'\n",
      "  warnings.warn(\n",
      "C:\\Users\\whitl\\anaconda3\\Lib\\site-packages\\sklearn\\feature_extraction\\text.py:408: UserWarning: Your stop_words may be inconsistent with your preprocessing. Tokenizing the stop words generated tokens ['ca', 'nt'] not in stop_words.\n",
      "  warnings.warn(\n"
     ]
    },
    {
     "name": "stdout",
     "output_type": "stream",
     "text": [
      "[CV 2/5] END classifier__estimator=SGDClassifier(), classifier__estimator__loss=modified_huber, classifier__estimator__max_iter=50, classifier__estimator__penalty=l2, classifier__estimator__tol=0.0001, vectorizer__max_df=1.0, vectorizer__norm=l1, vectorizer__stop_words=english, vectorizer__tokenizer=<function spacy_tokenizer at 0x0000023CD53BE340>;, score=0.562 total time=   2.3s\n"
     ]
    },
    {
     "name": "stderr",
     "output_type": "stream",
     "text": [
      "C:\\Users\\whitl\\anaconda3\\Lib\\site-packages\\sklearn\\feature_extraction\\text.py:525: UserWarning: The parameter 'token_pattern' will not be used since 'tokenizer' is not None'\n",
      "  warnings.warn(\n",
      "C:\\Users\\whitl\\anaconda3\\Lib\\site-packages\\sklearn\\feature_extraction\\text.py:408: UserWarning: Your stop_words may be inconsistent with your preprocessing. Tokenizing the stop words generated tokens ['ca', 'nt'] not in stop_words.\n",
      "  warnings.warn(\n"
     ]
    },
    {
     "name": "stdout",
     "output_type": "stream",
     "text": [
      "[CV 3/5] END classifier__estimator=SGDClassifier(), classifier__estimator__loss=modified_huber, classifier__estimator__max_iter=50, classifier__estimator__penalty=l2, classifier__estimator__tol=0.0001, vectorizer__max_df=1.0, vectorizer__norm=l1, vectorizer__stop_words=english, vectorizer__tokenizer=<function spacy_tokenizer at 0x0000023CD53BE340>;, score=0.500 total time=   2.2s\n"
     ]
    },
    {
     "name": "stderr",
     "output_type": "stream",
     "text": [
      "C:\\Users\\whitl\\anaconda3\\Lib\\site-packages\\sklearn\\feature_extraction\\text.py:525: UserWarning: The parameter 'token_pattern' will not be used since 'tokenizer' is not None'\n",
      "  warnings.warn(\n",
      "C:\\Users\\whitl\\anaconda3\\Lib\\site-packages\\sklearn\\feature_extraction\\text.py:408: UserWarning: Your stop_words may be inconsistent with your preprocessing. Tokenizing the stop words generated tokens ['ca', 'nt'] not in stop_words.\n",
      "  warnings.warn(\n"
     ]
    },
    {
     "name": "stdout",
     "output_type": "stream",
     "text": [
      "[CV 4/5] END classifier__estimator=SGDClassifier(), classifier__estimator__loss=modified_huber, classifier__estimator__max_iter=50, classifier__estimator__penalty=l2, classifier__estimator__tol=0.0001, vectorizer__max_df=1.0, vectorizer__norm=l1, vectorizer__stop_words=english, vectorizer__tokenizer=<function spacy_tokenizer at 0x0000023CD53BE340>;, score=0.594 total time=   2.3s\n"
     ]
    },
    {
     "name": "stderr",
     "output_type": "stream",
     "text": [
      "C:\\Users\\whitl\\anaconda3\\Lib\\site-packages\\sklearn\\feature_extraction\\text.py:525: UserWarning: The parameter 'token_pattern' will not be used since 'tokenizer' is not None'\n",
      "  warnings.warn(\n",
      "C:\\Users\\whitl\\anaconda3\\Lib\\site-packages\\sklearn\\feature_extraction\\text.py:408: UserWarning: Your stop_words may be inconsistent with your preprocessing. Tokenizing the stop words generated tokens ['ca', 'nt'] not in stop_words.\n",
      "  warnings.warn(\n"
     ]
    },
    {
     "name": "stdout",
     "output_type": "stream",
     "text": [
      "[CV 5/5] END classifier__estimator=SGDClassifier(), classifier__estimator__loss=modified_huber, classifier__estimator__max_iter=50, classifier__estimator__penalty=l2, classifier__estimator__tol=0.0001, vectorizer__max_df=1.0, vectorizer__norm=l1, vectorizer__stop_words=english, vectorizer__tokenizer=<function spacy_tokenizer at 0x0000023CD53BE340>;, score=0.594 total time=   2.3s\n"
     ]
    },
    {
     "name": "stderr",
     "output_type": "stream",
     "text": [
      "C:\\Users\\whitl\\anaconda3\\Lib\\site-packages\\sklearn\\feature_extraction\\text.py:525: UserWarning: The parameter 'token_pattern' will not be used since 'tokenizer' is not None'\n",
      "  warnings.warn(\n"
     ]
    },
    {
     "name": "stdout",
     "output_type": "stream",
     "text": [
      "[CV 1/5] END classifier__estimator=SGDClassifier(), classifier__estimator__loss=modified_huber, classifier__estimator__max_iter=50, classifier__estimator__penalty=l2, classifier__estimator__tol=0.0001, vectorizer__max_df=1.0, vectorizer__norm=l1, vectorizer__stop_words=None, vectorizer__tokenizer=<function spacy_tokenizer at 0x0000023CD53BE340>;, score=0.688 total time=   0.9s\n"
     ]
    },
    {
     "name": "stderr",
     "output_type": "stream",
     "text": [
      "C:\\Users\\whitl\\anaconda3\\Lib\\site-packages\\sklearn\\feature_extraction\\text.py:525: UserWarning: The parameter 'token_pattern' will not be used since 'tokenizer' is not None'\n",
      "  warnings.warn(\n"
     ]
    },
    {
     "name": "stdout",
     "output_type": "stream",
     "text": [
      "[CV 2/5] END classifier__estimator=SGDClassifier(), classifier__estimator__loss=modified_huber, classifier__estimator__max_iter=50, classifier__estimator__penalty=l2, classifier__estimator__tol=0.0001, vectorizer__max_df=1.0, vectorizer__norm=l1, vectorizer__stop_words=None, vectorizer__tokenizer=<function spacy_tokenizer at 0x0000023CD53BE340>;, score=0.594 total time=   0.9s\n"
     ]
    },
    {
     "name": "stderr",
     "output_type": "stream",
     "text": [
      "C:\\Users\\whitl\\anaconda3\\Lib\\site-packages\\sklearn\\feature_extraction\\text.py:525: UserWarning: The parameter 'token_pattern' will not be used since 'tokenizer' is not None'\n",
      "  warnings.warn(\n"
     ]
    },
    {
     "name": "stdout",
     "output_type": "stream",
     "text": [
      "[CV 3/5] END classifier__estimator=SGDClassifier(), classifier__estimator__loss=modified_huber, classifier__estimator__max_iter=50, classifier__estimator__penalty=l2, classifier__estimator__tol=0.0001, vectorizer__max_df=1.0, vectorizer__norm=l1, vectorizer__stop_words=None, vectorizer__tokenizer=<function spacy_tokenizer at 0x0000023CD53BE340>;, score=0.531 total time=   0.9s\n"
     ]
    },
    {
     "name": "stderr",
     "output_type": "stream",
     "text": [
      "C:\\Users\\whitl\\anaconda3\\Lib\\site-packages\\sklearn\\feature_extraction\\text.py:525: UserWarning: The parameter 'token_pattern' will not be used since 'tokenizer' is not None'\n",
      "  warnings.warn(\n"
     ]
    },
    {
     "name": "stdout",
     "output_type": "stream",
     "text": [
      "[CV 4/5] END classifier__estimator=SGDClassifier(), classifier__estimator__loss=modified_huber, classifier__estimator__max_iter=50, classifier__estimator__penalty=l2, classifier__estimator__tol=0.0001, vectorizer__max_df=1.0, vectorizer__norm=l1, vectorizer__stop_words=None, vectorizer__tokenizer=<function spacy_tokenizer at 0x0000023CD53BE340>;, score=0.656 total time=   0.8s\n"
     ]
    },
    {
     "name": "stderr",
     "output_type": "stream",
     "text": [
      "C:\\Users\\whitl\\anaconda3\\Lib\\site-packages\\sklearn\\feature_extraction\\text.py:525: UserWarning: The parameter 'token_pattern' will not be used since 'tokenizer' is not None'\n",
      "  warnings.warn(\n"
     ]
    },
    {
     "name": "stdout",
     "output_type": "stream",
     "text": [
      "[CV 5/5] END classifier__estimator=SGDClassifier(), classifier__estimator__loss=modified_huber, classifier__estimator__max_iter=50, classifier__estimator__penalty=l2, classifier__estimator__tol=0.0001, vectorizer__max_df=1.0, vectorizer__norm=l1, vectorizer__stop_words=None, vectorizer__tokenizer=<function spacy_tokenizer at 0x0000023CD53BE340>;, score=0.562 total time=   0.8s\n"
     ]
    },
    {
     "name": "stderr",
     "output_type": "stream",
     "text": [
      "C:\\Users\\whitl\\anaconda3\\Lib\\site-packages\\sklearn\\feature_extraction\\text.py:525: UserWarning: The parameter 'token_pattern' will not be used since 'tokenizer' is not None'\n",
      "  warnings.warn(\n",
      "C:\\Users\\whitl\\anaconda3\\Lib\\site-packages\\sklearn\\feature_extraction\\text.py:408: UserWarning: Your stop_words may be inconsistent with your preprocessing. Tokenizing the stop words generated tokens ['ca', 'nt'] not in stop_words.\n",
      "  warnings.warn(\n"
     ]
    },
    {
     "name": "stdout",
     "output_type": "stream",
     "text": [
      "[CV 1/5] END classifier__estimator=SGDClassifier(), classifier__estimator__loss=modified_huber, classifier__estimator__max_iter=50, classifier__estimator__penalty=l2, classifier__estimator__tol=0.0001, vectorizer__max_df=1.0, vectorizer__norm=l2, vectorizer__stop_words=english, vectorizer__tokenizer=<function spacy_tokenizer at 0x0000023CD53BE340>;, score=0.656 total time=   2.1s\n"
     ]
    },
    {
     "name": "stderr",
     "output_type": "stream",
     "text": [
      "C:\\Users\\whitl\\anaconda3\\Lib\\site-packages\\sklearn\\feature_extraction\\text.py:525: UserWarning: The parameter 'token_pattern' will not be used since 'tokenizer' is not None'\n",
      "  warnings.warn(\n",
      "C:\\Users\\whitl\\anaconda3\\Lib\\site-packages\\sklearn\\feature_extraction\\text.py:408: UserWarning: Your stop_words may be inconsistent with your preprocessing. Tokenizing the stop words generated tokens ['ca', 'nt'] not in stop_words.\n",
      "  warnings.warn(\n"
     ]
    },
    {
     "name": "stdout",
     "output_type": "stream",
     "text": [
      "[CV 2/5] END classifier__estimator=SGDClassifier(), classifier__estimator__loss=modified_huber, classifier__estimator__max_iter=50, classifier__estimator__penalty=l2, classifier__estimator__tol=0.0001, vectorizer__max_df=1.0, vectorizer__norm=l2, vectorizer__stop_words=english, vectorizer__tokenizer=<function spacy_tokenizer at 0x0000023CD53BE340>;, score=0.500 total time=   2.2s\n"
     ]
    },
    {
     "name": "stderr",
     "output_type": "stream",
     "text": [
      "C:\\Users\\whitl\\anaconda3\\Lib\\site-packages\\sklearn\\feature_extraction\\text.py:525: UserWarning: The parameter 'token_pattern' will not be used since 'tokenizer' is not None'\n",
      "  warnings.warn(\n",
      "C:\\Users\\whitl\\anaconda3\\Lib\\site-packages\\sklearn\\feature_extraction\\text.py:408: UserWarning: Your stop_words may be inconsistent with your preprocessing. Tokenizing the stop words generated tokens ['ca', 'nt'] not in stop_words.\n",
      "  warnings.warn(\n"
     ]
    },
    {
     "name": "stdout",
     "output_type": "stream",
     "text": [
      "[CV 3/5] END classifier__estimator=SGDClassifier(), classifier__estimator__loss=modified_huber, classifier__estimator__max_iter=50, classifier__estimator__penalty=l2, classifier__estimator__tol=0.0001, vectorizer__max_df=1.0, vectorizer__norm=l2, vectorizer__stop_words=english, vectorizer__tokenizer=<function spacy_tokenizer at 0x0000023CD53BE340>;, score=0.594 total time=   2.5s\n"
     ]
    },
    {
     "name": "stderr",
     "output_type": "stream",
     "text": [
      "C:\\Users\\whitl\\anaconda3\\Lib\\site-packages\\sklearn\\feature_extraction\\text.py:525: UserWarning: The parameter 'token_pattern' will not be used since 'tokenizer' is not None'\n",
      "  warnings.warn(\n",
      "C:\\Users\\whitl\\anaconda3\\Lib\\site-packages\\sklearn\\feature_extraction\\text.py:408: UserWarning: Your stop_words may be inconsistent with your preprocessing. Tokenizing the stop words generated tokens ['ca', 'nt'] not in stop_words.\n",
      "  warnings.warn(\n"
     ]
    },
    {
     "name": "stdout",
     "output_type": "stream",
     "text": [
      "[CV 4/5] END classifier__estimator=SGDClassifier(), classifier__estimator__loss=modified_huber, classifier__estimator__max_iter=50, classifier__estimator__penalty=l2, classifier__estimator__tol=0.0001, vectorizer__max_df=1.0, vectorizer__norm=l2, vectorizer__stop_words=english, vectorizer__tokenizer=<function spacy_tokenizer at 0x0000023CD53BE340>;, score=0.594 total time=   2.2s\n"
     ]
    },
    {
     "name": "stderr",
     "output_type": "stream",
     "text": [
      "C:\\Users\\whitl\\anaconda3\\Lib\\site-packages\\sklearn\\feature_extraction\\text.py:525: UserWarning: The parameter 'token_pattern' will not be used since 'tokenizer' is not None'\n",
      "  warnings.warn(\n",
      "C:\\Users\\whitl\\anaconda3\\Lib\\site-packages\\sklearn\\feature_extraction\\text.py:408: UserWarning: Your stop_words may be inconsistent with your preprocessing. Tokenizing the stop words generated tokens ['ca', 'nt'] not in stop_words.\n",
      "  warnings.warn(\n"
     ]
    },
    {
     "name": "stdout",
     "output_type": "stream",
     "text": [
      "[CV 5/5] END classifier__estimator=SGDClassifier(), classifier__estimator__loss=modified_huber, classifier__estimator__max_iter=50, classifier__estimator__penalty=l2, classifier__estimator__tol=0.0001, vectorizer__max_df=1.0, vectorizer__norm=l2, vectorizer__stop_words=english, vectorizer__tokenizer=<function spacy_tokenizer at 0x0000023CD53BE340>;, score=0.531 total time=   2.2s\n"
     ]
    },
    {
     "name": "stderr",
     "output_type": "stream",
     "text": [
      "C:\\Users\\whitl\\anaconda3\\Lib\\site-packages\\sklearn\\feature_extraction\\text.py:525: UserWarning: The parameter 'token_pattern' will not be used since 'tokenizer' is not None'\n",
      "  warnings.warn(\n"
     ]
    },
    {
     "name": "stdout",
     "output_type": "stream",
     "text": [
      "[CV 1/5] END classifier__estimator=SGDClassifier(), classifier__estimator__loss=modified_huber, classifier__estimator__max_iter=50, classifier__estimator__penalty=l2, classifier__estimator__tol=0.0001, vectorizer__max_df=1.0, vectorizer__norm=l2, vectorizer__stop_words=None, vectorizer__tokenizer=<function spacy_tokenizer at 0x0000023CD53BE340>;, score=0.688 total time=   0.9s\n"
     ]
    },
    {
     "name": "stderr",
     "output_type": "stream",
     "text": [
      "C:\\Users\\whitl\\anaconda3\\Lib\\site-packages\\sklearn\\feature_extraction\\text.py:525: UserWarning: The parameter 'token_pattern' will not be used since 'tokenizer' is not None'\n",
      "  warnings.warn(\n"
     ]
    },
    {
     "name": "stdout",
     "output_type": "stream",
     "text": [
      "[CV 2/5] END classifier__estimator=SGDClassifier(), classifier__estimator__loss=modified_huber, classifier__estimator__max_iter=50, classifier__estimator__penalty=l2, classifier__estimator__tol=0.0001, vectorizer__max_df=1.0, vectorizer__norm=l2, vectorizer__stop_words=None, vectorizer__tokenizer=<function spacy_tokenizer at 0x0000023CD53BE340>;, score=0.562 total time=   0.9s\n"
     ]
    },
    {
     "name": "stderr",
     "output_type": "stream",
     "text": [
      "C:\\Users\\whitl\\anaconda3\\Lib\\site-packages\\sklearn\\feature_extraction\\text.py:525: UserWarning: The parameter 'token_pattern' will not be used since 'tokenizer' is not None'\n",
      "  warnings.warn(\n"
     ]
    },
    {
     "name": "stdout",
     "output_type": "stream",
     "text": [
      "[CV 3/5] END classifier__estimator=SGDClassifier(), classifier__estimator__loss=modified_huber, classifier__estimator__max_iter=50, classifier__estimator__penalty=l2, classifier__estimator__tol=0.0001, vectorizer__max_df=1.0, vectorizer__norm=l2, vectorizer__stop_words=None, vectorizer__tokenizer=<function spacy_tokenizer at 0x0000023CD53BE340>;, score=0.562 total time=   0.9s\n"
     ]
    },
    {
     "name": "stderr",
     "output_type": "stream",
     "text": [
      "C:\\Users\\whitl\\anaconda3\\Lib\\site-packages\\sklearn\\feature_extraction\\text.py:525: UserWarning: The parameter 'token_pattern' will not be used since 'tokenizer' is not None'\n",
      "  warnings.warn(\n"
     ]
    },
    {
     "name": "stdout",
     "output_type": "stream",
     "text": [
      "[CV 4/5] END classifier__estimator=SGDClassifier(), classifier__estimator__loss=modified_huber, classifier__estimator__max_iter=50, classifier__estimator__penalty=l2, classifier__estimator__tol=0.0001, vectorizer__max_df=1.0, vectorizer__norm=l2, vectorizer__stop_words=None, vectorizer__tokenizer=<function spacy_tokenizer at 0x0000023CD53BE340>;, score=0.656 total time=   0.9s\n"
     ]
    },
    {
     "name": "stderr",
     "output_type": "stream",
     "text": [
      "C:\\Users\\whitl\\anaconda3\\Lib\\site-packages\\sklearn\\feature_extraction\\text.py:525: UserWarning: The parameter 'token_pattern' will not be used since 'tokenizer' is not None'\n",
      "  warnings.warn(\n"
     ]
    },
    {
     "name": "stdout",
     "output_type": "stream",
     "text": [
      "[CV 5/5] END classifier__estimator=SGDClassifier(), classifier__estimator__loss=modified_huber, classifier__estimator__max_iter=50, classifier__estimator__penalty=l2, classifier__estimator__tol=0.0001, vectorizer__max_df=1.0, vectorizer__norm=l2, vectorizer__stop_words=None, vectorizer__tokenizer=<function spacy_tokenizer at 0x0000023CD53BE340>;, score=0.656 total time=   0.9s\n"
     ]
    },
    {
     "name": "stderr",
     "output_type": "stream",
     "text": [
      "C:\\Users\\whitl\\anaconda3\\Lib\\site-packages\\sklearn\\feature_extraction\\text.py:525: UserWarning: The parameter 'token_pattern' will not be used since 'tokenizer' is not None'\n",
      "  warnings.warn(\n",
      "C:\\Users\\whitl\\anaconda3\\Lib\\site-packages\\sklearn\\feature_extraction\\text.py:408: UserWarning: Your stop_words may be inconsistent with your preprocessing. Tokenizing the stop words generated tokens ['ca', 'nt'] not in stop_words.\n",
      "  warnings.warn(\n"
     ]
    },
    {
     "name": "stdout",
     "output_type": "stream",
     "text": [
      "[CV 1/5] END classifier__estimator=SGDClassifier(), classifier__estimator__loss=modified_huber, classifier__estimator__max_iter=50, classifier__estimator__penalty=elasticnet, classifier__estimator__tol=0.0001, vectorizer__max_df=1.0, vectorizer__norm=l1, vectorizer__stop_words=english, vectorizer__tokenizer=<function spacy_tokenizer at 0x0000023CD53BE340>;, score=0.625 total time=   2.2s\n"
     ]
    },
    {
     "name": "stderr",
     "output_type": "stream",
     "text": [
      "C:\\Users\\whitl\\anaconda3\\Lib\\site-packages\\sklearn\\feature_extraction\\text.py:525: UserWarning: The parameter 'token_pattern' will not be used since 'tokenizer' is not None'\n",
      "  warnings.warn(\n",
      "C:\\Users\\whitl\\anaconda3\\Lib\\site-packages\\sklearn\\feature_extraction\\text.py:408: UserWarning: Your stop_words may be inconsistent with your preprocessing. Tokenizing the stop words generated tokens ['ca', 'nt'] not in stop_words.\n",
      "  warnings.warn(\n"
     ]
    },
    {
     "name": "stdout",
     "output_type": "stream",
     "text": [
      "[CV 2/5] END classifier__estimator=SGDClassifier(), classifier__estimator__loss=modified_huber, classifier__estimator__max_iter=50, classifier__estimator__penalty=elasticnet, classifier__estimator__tol=0.0001, vectorizer__max_df=1.0, vectorizer__norm=l1, vectorizer__stop_words=english, vectorizer__tokenizer=<function spacy_tokenizer at 0x0000023CD53BE340>;, score=0.500 total time=   2.2s\n"
     ]
    },
    {
     "name": "stderr",
     "output_type": "stream",
     "text": [
      "C:\\Users\\whitl\\anaconda3\\Lib\\site-packages\\sklearn\\feature_extraction\\text.py:525: UserWarning: The parameter 'token_pattern' will not be used since 'tokenizer' is not None'\n",
      "  warnings.warn(\n",
      "C:\\Users\\whitl\\anaconda3\\Lib\\site-packages\\sklearn\\feature_extraction\\text.py:408: UserWarning: Your stop_words may be inconsistent with your preprocessing. Tokenizing the stop words generated tokens ['ca', 'nt'] not in stop_words.\n",
      "  warnings.warn(\n"
     ]
    },
    {
     "name": "stdout",
     "output_type": "stream",
     "text": [
      "[CV 3/5] END classifier__estimator=SGDClassifier(), classifier__estimator__loss=modified_huber, classifier__estimator__max_iter=50, classifier__estimator__penalty=elasticnet, classifier__estimator__tol=0.0001, vectorizer__max_df=1.0, vectorizer__norm=l1, vectorizer__stop_words=english, vectorizer__tokenizer=<function spacy_tokenizer at 0x0000023CD53BE340>;, score=0.562 total time=   2.2s\n"
     ]
    },
    {
     "name": "stderr",
     "output_type": "stream",
     "text": [
      "C:\\Users\\whitl\\anaconda3\\Lib\\site-packages\\sklearn\\feature_extraction\\text.py:525: UserWarning: The parameter 'token_pattern' will not be used since 'tokenizer' is not None'\n",
      "  warnings.warn(\n",
      "C:\\Users\\whitl\\anaconda3\\Lib\\site-packages\\sklearn\\feature_extraction\\text.py:408: UserWarning: Your stop_words may be inconsistent with your preprocessing. Tokenizing the stop words generated tokens ['ca', 'nt'] not in stop_words.\n",
      "  warnings.warn(\n"
     ]
    },
    {
     "name": "stdout",
     "output_type": "stream",
     "text": [
      "[CV 4/5] END classifier__estimator=SGDClassifier(), classifier__estimator__loss=modified_huber, classifier__estimator__max_iter=50, classifier__estimator__penalty=elasticnet, classifier__estimator__tol=0.0001, vectorizer__max_df=1.0, vectorizer__norm=l1, vectorizer__stop_words=english, vectorizer__tokenizer=<function spacy_tokenizer at 0x0000023CD53BE340>;, score=0.531 total time=   2.2s\n"
     ]
    },
    {
     "name": "stderr",
     "output_type": "stream",
     "text": [
      "C:\\Users\\whitl\\anaconda3\\Lib\\site-packages\\sklearn\\feature_extraction\\text.py:525: UserWarning: The parameter 'token_pattern' will not be used since 'tokenizer' is not None'\n",
      "  warnings.warn(\n",
      "C:\\Users\\whitl\\anaconda3\\Lib\\site-packages\\sklearn\\feature_extraction\\text.py:408: UserWarning: Your stop_words may be inconsistent with your preprocessing. Tokenizing the stop words generated tokens ['ca', 'nt'] not in stop_words.\n",
      "  warnings.warn(\n"
     ]
    },
    {
     "name": "stdout",
     "output_type": "stream",
     "text": [
      "[CV 5/5] END classifier__estimator=SGDClassifier(), classifier__estimator__loss=modified_huber, classifier__estimator__max_iter=50, classifier__estimator__penalty=elasticnet, classifier__estimator__tol=0.0001, vectorizer__max_df=1.0, vectorizer__norm=l1, vectorizer__stop_words=english, vectorizer__tokenizer=<function spacy_tokenizer at 0x0000023CD53BE340>;, score=0.531 total time=   2.3s\n"
     ]
    },
    {
     "name": "stderr",
     "output_type": "stream",
     "text": [
      "C:\\Users\\whitl\\anaconda3\\Lib\\site-packages\\sklearn\\feature_extraction\\text.py:525: UserWarning: The parameter 'token_pattern' will not be used since 'tokenizer' is not None'\n",
      "  warnings.warn(\n"
     ]
    },
    {
     "name": "stdout",
     "output_type": "stream",
     "text": [
      "[CV 1/5] END classifier__estimator=SGDClassifier(), classifier__estimator__loss=modified_huber, classifier__estimator__max_iter=50, classifier__estimator__penalty=elasticnet, classifier__estimator__tol=0.0001, vectorizer__max_df=1.0, vectorizer__norm=l1, vectorizer__stop_words=None, vectorizer__tokenizer=<function spacy_tokenizer at 0x0000023CD53BE340>;, score=0.688 total time=   0.9s\n"
     ]
    },
    {
     "name": "stderr",
     "output_type": "stream",
     "text": [
      "C:\\Users\\whitl\\anaconda3\\Lib\\site-packages\\sklearn\\feature_extraction\\text.py:525: UserWarning: The parameter 'token_pattern' will not be used since 'tokenizer' is not None'\n",
      "  warnings.warn(\n"
     ]
    },
    {
     "name": "stdout",
     "output_type": "stream",
     "text": [
      "[CV 2/5] END classifier__estimator=SGDClassifier(), classifier__estimator__loss=modified_huber, classifier__estimator__max_iter=50, classifier__estimator__penalty=elasticnet, classifier__estimator__tol=0.0001, vectorizer__max_df=1.0, vectorizer__norm=l1, vectorizer__stop_words=None, vectorizer__tokenizer=<function spacy_tokenizer at 0x0000023CD53BE340>;, score=0.656 total time=   0.9s\n"
     ]
    },
    {
     "name": "stderr",
     "output_type": "stream",
     "text": [
      "C:\\Users\\whitl\\anaconda3\\Lib\\site-packages\\sklearn\\feature_extraction\\text.py:525: UserWarning: The parameter 'token_pattern' will not be used since 'tokenizer' is not None'\n",
      "  warnings.warn(\n"
     ]
    },
    {
     "name": "stdout",
     "output_type": "stream",
     "text": [
      "[CV 3/5] END classifier__estimator=SGDClassifier(), classifier__estimator__loss=modified_huber, classifier__estimator__max_iter=50, classifier__estimator__penalty=elasticnet, classifier__estimator__tol=0.0001, vectorizer__max_df=1.0, vectorizer__norm=l1, vectorizer__stop_words=None, vectorizer__tokenizer=<function spacy_tokenizer at 0x0000023CD53BE340>;, score=0.469 total time=   0.9s\n"
     ]
    },
    {
     "name": "stderr",
     "output_type": "stream",
     "text": [
      "C:\\Users\\whitl\\anaconda3\\Lib\\site-packages\\sklearn\\feature_extraction\\text.py:525: UserWarning: The parameter 'token_pattern' will not be used since 'tokenizer' is not None'\n",
      "  warnings.warn(\n"
     ]
    },
    {
     "name": "stdout",
     "output_type": "stream",
     "text": [
      "[CV 4/5] END classifier__estimator=SGDClassifier(), classifier__estimator__loss=modified_huber, classifier__estimator__max_iter=50, classifier__estimator__penalty=elasticnet, classifier__estimator__tol=0.0001, vectorizer__max_df=1.0, vectorizer__norm=l1, vectorizer__stop_words=None, vectorizer__tokenizer=<function spacy_tokenizer at 0x0000023CD53BE340>;, score=0.625 total time=   0.9s\n"
     ]
    },
    {
     "name": "stderr",
     "output_type": "stream",
     "text": [
      "C:\\Users\\whitl\\anaconda3\\Lib\\site-packages\\sklearn\\feature_extraction\\text.py:525: UserWarning: The parameter 'token_pattern' will not be used since 'tokenizer' is not None'\n",
      "  warnings.warn(\n"
     ]
    },
    {
     "name": "stdout",
     "output_type": "stream",
     "text": [
      "[CV 5/5] END classifier__estimator=SGDClassifier(), classifier__estimator__loss=modified_huber, classifier__estimator__max_iter=50, classifier__estimator__penalty=elasticnet, classifier__estimator__tol=0.0001, vectorizer__max_df=1.0, vectorizer__norm=l1, vectorizer__stop_words=None, vectorizer__tokenizer=<function spacy_tokenizer at 0x0000023CD53BE340>;, score=0.562 total time=   0.9s\n"
     ]
    },
    {
     "name": "stderr",
     "output_type": "stream",
     "text": [
      "C:\\Users\\whitl\\anaconda3\\Lib\\site-packages\\sklearn\\feature_extraction\\text.py:525: UserWarning: The parameter 'token_pattern' will not be used since 'tokenizer' is not None'\n",
      "  warnings.warn(\n",
      "C:\\Users\\whitl\\anaconda3\\Lib\\site-packages\\sklearn\\feature_extraction\\text.py:408: UserWarning: Your stop_words may be inconsistent with your preprocessing. Tokenizing the stop words generated tokens ['ca', 'nt'] not in stop_words.\n",
      "  warnings.warn(\n"
     ]
    },
    {
     "name": "stdout",
     "output_type": "stream",
     "text": [
      "[CV 1/5] END classifier__estimator=SGDClassifier(), classifier__estimator__loss=modified_huber, classifier__estimator__max_iter=50, classifier__estimator__penalty=elasticnet, classifier__estimator__tol=0.0001, vectorizer__max_df=1.0, vectorizer__norm=l2, vectorizer__stop_words=english, vectorizer__tokenizer=<function spacy_tokenizer at 0x0000023CD53BE340>;, score=0.656 total time=   2.2s\n"
     ]
    },
    {
     "name": "stderr",
     "output_type": "stream",
     "text": [
      "C:\\Users\\whitl\\anaconda3\\Lib\\site-packages\\sklearn\\feature_extraction\\text.py:525: UserWarning: The parameter 'token_pattern' will not be used since 'tokenizer' is not None'\n",
      "  warnings.warn(\n",
      "C:\\Users\\whitl\\anaconda3\\Lib\\site-packages\\sklearn\\feature_extraction\\text.py:408: UserWarning: Your stop_words may be inconsistent with your preprocessing. Tokenizing the stop words generated tokens ['ca', 'nt'] not in stop_words.\n",
      "  warnings.warn(\n"
     ]
    },
    {
     "name": "stdout",
     "output_type": "stream",
     "text": [
      "[CV 2/5] END classifier__estimator=SGDClassifier(), classifier__estimator__loss=modified_huber, classifier__estimator__max_iter=50, classifier__estimator__penalty=elasticnet, classifier__estimator__tol=0.0001, vectorizer__max_df=1.0, vectorizer__norm=l2, vectorizer__stop_words=english, vectorizer__tokenizer=<function spacy_tokenizer at 0x0000023CD53BE340>;, score=0.531 total time=   2.2s\n"
     ]
    },
    {
     "name": "stderr",
     "output_type": "stream",
     "text": [
      "C:\\Users\\whitl\\anaconda3\\Lib\\site-packages\\sklearn\\feature_extraction\\text.py:525: UserWarning: The parameter 'token_pattern' will not be used since 'tokenizer' is not None'\n",
      "  warnings.warn(\n",
      "C:\\Users\\whitl\\anaconda3\\Lib\\site-packages\\sklearn\\feature_extraction\\text.py:408: UserWarning: Your stop_words may be inconsistent with your preprocessing. Tokenizing the stop words generated tokens ['ca', 'nt'] not in stop_words.\n",
      "  warnings.warn(\n"
     ]
    },
    {
     "name": "stdout",
     "output_type": "stream",
     "text": [
      "[CV 3/5] END classifier__estimator=SGDClassifier(), classifier__estimator__loss=modified_huber, classifier__estimator__max_iter=50, classifier__estimator__penalty=elasticnet, classifier__estimator__tol=0.0001, vectorizer__max_df=1.0, vectorizer__norm=l2, vectorizer__stop_words=english, vectorizer__tokenizer=<function spacy_tokenizer at 0x0000023CD53BE340>;, score=0.438 total time=   2.2s\n"
     ]
    },
    {
     "name": "stderr",
     "output_type": "stream",
     "text": [
      "C:\\Users\\whitl\\anaconda3\\Lib\\site-packages\\sklearn\\feature_extraction\\text.py:525: UserWarning: The parameter 'token_pattern' will not be used since 'tokenizer' is not None'\n",
      "  warnings.warn(\n",
      "C:\\Users\\whitl\\anaconda3\\Lib\\site-packages\\sklearn\\feature_extraction\\text.py:408: UserWarning: Your stop_words may be inconsistent with your preprocessing. Tokenizing the stop words generated tokens ['ca', 'nt'] not in stop_words.\n",
      "  warnings.warn(\n"
     ]
    },
    {
     "name": "stdout",
     "output_type": "stream",
     "text": [
      "[CV 4/5] END classifier__estimator=SGDClassifier(), classifier__estimator__loss=modified_huber, classifier__estimator__max_iter=50, classifier__estimator__penalty=elasticnet, classifier__estimator__tol=0.0001, vectorizer__max_df=1.0, vectorizer__norm=l2, vectorizer__stop_words=english, vectorizer__tokenizer=<function spacy_tokenizer at 0x0000023CD53BE340>;, score=0.531 total time=   2.2s\n"
     ]
    },
    {
     "name": "stderr",
     "output_type": "stream",
     "text": [
      "C:\\Users\\whitl\\anaconda3\\Lib\\site-packages\\sklearn\\feature_extraction\\text.py:525: UserWarning: The parameter 'token_pattern' will not be used since 'tokenizer' is not None'\n",
      "  warnings.warn(\n",
      "C:\\Users\\whitl\\anaconda3\\Lib\\site-packages\\sklearn\\feature_extraction\\text.py:408: UserWarning: Your stop_words may be inconsistent with your preprocessing. Tokenizing the stop words generated tokens ['ca', 'nt'] not in stop_words.\n",
      "  warnings.warn(\n"
     ]
    },
    {
     "name": "stdout",
     "output_type": "stream",
     "text": [
      "[CV 5/5] END classifier__estimator=SGDClassifier(), classifier__estimator__loss=modified_huber, classifier__estimator__max_iter=50, classifier__estimator__penalty=elasticnet, classifier__estimator__tol=0.0001, vectorizer__max_df=1.0, vectorizer__norm=l2, vectorizer__stop_words=english, vectorizer__tokenizer=<function spacy_tokenizer at 0x0000023CD53BE340>;, score=0.531 total time=   2.2s\n"
     ]
    },
    {
     "name": "stderr",
     "output_type": "stream",
     "text": [
      "C:\\Users\\whitl\\anaconda3\\Lib\\site-packages\\sklearn\\feature_extraction\\text.py:525: UserWarning: The parameter 'token_pattern' will not be used since 'tokenizer' is not None'\n",
      "  warnings.warn(\n"
     ]
    },
    {
     "name": "stdout",
     "output_type": "stream",
     "text": [
      "[CV 1/5] END classifier__estimator=SGDClassifier(), classifier__estimator__loss=modified_huber, classifier__estimator__max_iter=50, classifier__estimator__penalty=elasticnet, classifier__estimator__tol=0.0001, vectorizer__max_df=1.0, vectorizer__norm=l2, vectorizer__stop_words=None, vectorizer__tokenizer=<function spacy_tokenizer at 0x0000023CD53BE340>;, score=0.656 total time=   0.9s\n"
     ]
    },
    {
     "name": "stderr",
     "output_type": "stream",
     "text": [
      "C:\\Users\\whitl\\anaconda3\\Lib\\site-packages\\sklearn\\feature_extraction\\text.py:525: UserWarning: The parameter 'token_pattern' will not be used since 'tokenizer' is not None'\n",
      "  warnings.warn(\n"
     ]
    },
    {
     "name": "stdout",
     "output_type": "stream",
     "text": [
      "[CV 2/5] END classifier__estimator=SGDClassifier(), classifier__estimator__loss=modified_huber, classifier__estimator__max_iter=50, classifier__estimator__penalty=elasticnet, classifier__estimator__tol=0.0001, vectorizer__max_df=1.0, vectorizer__norm=l2, vectorizer__stop_words=None, vectorizer__tokenizer=<function spacy_tokenizer at 0x0000023CD53BE340>;, score=0.469 total time=   1.2s\n"
     ]
    },
    {
     "name": "stderr",
     "output_type": "stream",
     "text": [
      "C:\\Users\\whitl\\anaconda3\\Lib\\site-packages\\sklearn\\feature_extraction\\text.py:525: UserWarning: The parameter 'token_pattern' will not be used since 'tokenizer' is not None'\n",
      "  warnings.warn(\n"
     ]
    },
    {
     "name": "stdout",
     "output_type": "stream",
     "text": [
      "[CV 3/5] END classifier__estimator=SGDClassifier(), classifier__estimator__loss=modified_huber, classifier__estimator__max_iter=50, classifier__estimator__penalty=elasticnet, classifier__estimator__tol=0.0001, vectorizer__max_df=1.0, vectorizer__norm=l2, vectorizer__stop_words=None, vectorizer__tokenizer=<function spacy_tokenizer at 0x0000023CD53BE340>;, score=0.500 total time=   1.2s\n"
     ]
    },
    {
     "name": "stderr",
     "output_type": "stream",
     "text": [
      "C:\\Users\\whitl\\anaconda3\\Lib\\site-packages\\sklearn\\feature_extraction\\text.py:525: UserWarning: The parameter 'token_pattern' will not be used since 'tokenizer' is not None'\n",
      "  warnings.warn(\n"
     ]
    },
    {
     "name": "stdout",
     "output_type": "stream",
     "text": [
      "[CV 4/5] END classifier__estimator=SGDClassifier(), classifier__estimator__loss=modified_huber, classifier__estimator__max_iter=50, classifier__estimator__penalty=elasticnet, classifier__estimator__tol=0.0001, vectorizer__max_df=1.0, vectorizer__norm=l2, vectorizer__stop_words=None, vectorizer__tokenizer=<function spacy_tokenizer at 0x0000023CD53BE340>;, score=0.562 total time=   0.9s\n"
     ]
    },
    {
     "name": "stderr",
     "output_type": "stream",
     "text": [
      "C:\\Users\\whitl\\anaconda3\\Lib\\site-packages\\sklearn\\feature_extraction\\text.py:525: UserWarning: The parameter 'token_pattern' will not be used since 'tokenizer' is not None'\n",
      "  warnings.warn(\n"
     ]
    },
    {
     "name": "stdout",
     "output_type": "stream",
     "text": [
      "[CV 5/5] END classifier__estimator=SGDClassifier(), classifier__estimator__loss=modified_huber, classifier__estimator__max_iter=50, classifier__estimator__penalty=elasticnet, classifier__estimator__tol=0.0001, vectorizer__max_df=1.0, vectorizer__norm=l2, vectorizer__stop_words=None, vectorizer__tokenizer=<function spacy_tokenizer at 0x0000023CD53BE340>;, score=0.656 total time=   0.9s\n"
     ]
    },
    {
     "name": "stderr",
     "output_type": "stream",
     "text": [
      "C:\\Users\\whitl\\anaconda3\\Lib\\site-packages\\sklearn\\feature_extraction\\text.py:525: UserWarning: The parameter 'token_pattern' will not be used since 'tokenizer' is not None'\n",
      "  warnings.warn(\n",
      "C:\\Users\\whitl\\anaconda3\\Lib\\site-packages\\sklearn\\feature_extraction\\text.py:408: UserWarning: Your stop_words may be inconsistent with your preprocessing. Tokenizing the stop words generated tokens ['ca', 'nt'] not in stop_words.\n",
      "  warnings.warn(\n"
     ]
    },
    {
     "name": "stdout",
     "output_type": "stream",
     "text": [
      "[CV 1/5] END classifier__estimator=SGDClassifier(), classifier__estimator__loss=modified_huber, classifier__estimator__max_iter=50, classifier__estimator__penalty=l1, classifier__estimator__tol=0.0001, vectorizer__max_df=1.0, vectorizer__norm=l1, vectorizer__stop_words=english, vectorizer__tokenizer=<function spacy_tokenizer at 0x0000023CD53BE340>;, score=0.625 total time=   2.2s\n"
     ]
    },
    {
     "name": "stderr",
     "output_type": "stream",
     "text": [
      "C:\\Users\\whitl\\anaconda3\\Lib\\site-packages\\sklearn\\feature_extraction\\text.py:525: UserWarning: The parameter 'token_pattern' will not be used since 'tokenizer' is not None'\n",
      "  warnings.warn(\n",
      "C:\\Users\\whitl\\anaconda3\\Lib\\site-packages\\sklearn\\feature_extraction\\text.py:408: UserWarning: Your stop_words may be inconsistent with your preprocessing. Tokenizing the stop words generated tokens ['ca', 'nt'] not in stop_words.\n",
      "  warnings.warn(\n"
     ]
    },
    {
     "name": "stdout",
     "output_type": "stream",
     "text": [
      "[CV 2/5] END classifier__estimator=SGDClassifier(), classifier__estimator__loss=modified_huber, classifier__estimator__max_iter=50, classifier__estimator__penalty=l1, classifier__estimator__tol=0.0001, vectorizer__max_df=1.0, vectorizer__norm=l1, vectorizer__stop_words=english, vectorizer__tokenizer=<function spacy_tokenizer at 0x0000023CD53BE340>;, score=0.562 total time=   3.0s\n"
     ]
    },
    {
     "name": "stderr",
     "output_type": "stream",
     "text": [
      "C:\\Users\\whitl\\anaconda3\\Lib\\site-packages\\sklearn\\feature_extraction\\text.py:525: UserWarning: The parameter 'token_pattern' will not be used since 'tokenizer' is not None'\n",
      "  warnings.warn(\n",
      "C:\\Users\\whitl\\anaconda3\\Lib\\site-packages\\sklearn\\feature_extraction\\text.py:408: UserWarning: Your stop_words may be inconsistent with your preprocessing. Tokenizing the stop words generated tokens ['ca', 'nt'] not in stop_words.\n",
      "  warnings.warn(\n"
     ]
    },
    {
     "name": "stdout",
     "output_type": "stream",
     "text": [
      "[CV 3/5] END classifier__estimator=SGDClassifier(), classifier__estimator__loss=modified_huber, classifier__estimator__max_iter=50, classifier__estimator__penalty=l1, classifier__estimator__tol=0.0001, vectorizer__max_df=1.0, vectorizer__norm=l1, vectorizer__stop_words=english, vectorizer__tokenizer=<function spacy_tokenizer at 0x0000023CD53BE340>;, score=0.531 total time=   2.3s\n"
     ]
    },
    {
     "name": "stderr",
     "output_type": "stream",
     "text": [
      "C:\\Users\\whitl\\anaconda3\\Lib\\site-packages\\sklearn\\feature_extraction\\text.py:525: UserWarning: The parameter 'token_pattern' will not be used since 'tokenizer' is not None'\n",
      "  warnings.warn(\n",
      "C:\\Users\\whitl\\anaconda3\\Lib\\site-packages\\sklearn\\feature_extraction\\text.py:408: UserWarning: Your stop_words may be inconsistent with your preprocessing. Tokenizing the stop words generated tokens ['ca', 'nt'] not in stop_words.\n",
      "  warnings.warn(\n"
     ]
    },
    {
     "name": "stdout",
     "output_type": "stream",
     "text": [
      "[CV 4/5] END classifier__estimator=SGDClassifier(), classifier__estimator__loss=modified_huber, classifier__estimator__max_iter=50, classifier__estimator__penalty=l1, classifier__estimator__tol=0.0001, vectorizer__max_df=1.0, vectorizer__norm=l1, vectorizer__stop_words=english, vectorizer__tokenizer=<function spacy_tokenizer at 0x0000023CD53BE340>;, score=0.500 total time=   2.4s\n"
     ]
    },
    {
     "name": "stderr",
     "output_type": "stream",
     "text": [
      "C:\\Users\\whitl\\anaconda3\\Lib\\site-packages\\sklearn\\feature_extraction\\text.py:525: UserWarning: The parameter 'token_pattern' will not be used since 'tokenizer' is not None'\n",
      "  warnings.warn(\n",
      "C:\\Users\\whitl\\anaconda3\\Lib\\site-packages\\sklearn\\feature_extraction\\text.py:408: UserWarning: Your stop_words may be inconsistent with your preprocessing. Tokenizing the stop words generated tokens ['ca', 'nt'] not in stop_words.\n",
      "  warnings.warn(\n"
     ]
    },
    {
     "name": "stdout",
     "output_type": "stream",
     "text": [
      "[CV 5/5] END classifier__estimator=SGDClassifier(), classifier__estimator__loss=modified_huber, classifier__estimator__max_iter=50, classifier__estimator__penalty=l1, classifier__estimator__tol=0.0001, vectorizer__max_df=1.0, vectorizer__norm=l1, vectorizer__stop_words=english, vectorizer__tokenizer=<function spacy_tokenizer at 0x0000023CD53BE340>;, score=0.562 total time=   2.3s\n"
     ]
    },
    {
     "name": "stderr",
     "output_type": "stream",
     "text": [
      "C:\\Users\\whitl\\anaconda3\\Lib\\site-packages\\sklearn\\feature_extraction\\text.py:525: UserWarning: The parameter 'token_pattern' will not be used since 'tokenizer' is not None'\n",
      "  warnings.warn(\n"
     ]
    },
    {
     "name": "stdout",
     "output_type": "stream",
     "text": [
      "[CV 1/5] END classifier__estimator=SGDClassifier(), classifier__estimator__loss=modified_huber, classifier__estimator__max_iter=50, classifier__estimator__penalty=l1, classifier__estimator__tol=0.0001, vectorizer__max_df=1.0, vectorizer__norm=l1, vectorizer__stop_words=None, vectorizer__tokenizer=<function spacy_tokenizer at 0x0000023CD53BE340>;, score=0.719 total time=   0.9s\n"
     ]
    },
    {
     "name": "stderr",
     "output_type": "stream",
     "text": [
      "C:\\Users\\whitl\\anaconda3\\Lib\\site-packages\\sklearn\\feature_extraction\\text.py:525: UserWarning: The parameter 'token_pattern' will not be used since 'tokenizer' is not None'\n",
      "  warnings.warn(\n"
     ]
    },
    {
     "name": "stdout",
     "output_type": "stream",
     "text": [
      "[CV 2/5] END classifier__estimator=SGDClassifier(), classifier__estimator__loss=modified_huber, classifier__estimator__max_iter=50, classifier__estimator__penalty=l1, classifier__estimator__tol=0.0001, vectorizer__max_df=1.0, vectorizer__norm=l1, vectorizer__stop_words=None, vectorizer__tokenizer=<function spacy_tokenizer at 0x0000023CD53BE340>;, score=0.688 total time=   0.8s\n"
     ]
    },
    {
     "name": "stderr",
     "output_type": "stream",
     "text": [
      "C:\\Users\\whitl\\anaconda3\\Lib\\site-packages\\sklearn\\feature_extraction\\text.py:525: UserWarning: The parameter 'token_pattern' will not be used since 'tokenizer' is not None'\n",
      "  warnings.warn(\n"
     ]
    },
    {
     "name": "stdout",
     "output_type": "stream",
     "text": [
      "[CV 3/5] END classifier__estimator=SGDClassifier(), classifier__estimator__loss=modified_huber, classifier__estimator__max_iter=50, classifier__estimator__penalty=l1, classifier__estimator__tol=0.0001, vectorizer__max_df=1.0, vectorizer__norm=l1, vectorizer__stop_words=None, vectorizer__tokenizer=<function spacy_tokenizer at 0x0000023CD53BE340>;, score=0.594 total time=   0.9s\n"
     ]
    },
    {
     "name": "stderr",
     "output_type": "stream",
     "text": [
      "C:\\Users\\whitl\\anaconda3\\Lib\\site-packages\\sklearn\\feature_extraction\\text.py:525: UserWarning: The parameter 'token_pattern' will not be used since 'tokenizer' is not None'\n",
      "  warnings.warn(\n"
     ]
    },
    {
     "name": "stdout",
     "output_type": "stream",
     "text": [
      "[CV 4/5] END classifier__estimator=SGDClassifier(), classifier__estimator__loss=modified_huber, classifier__estimator__max_iter=50, classifier__estimator__penalty=l1, classifier__estimator__tol=0.0001, vectorizer__max_df=1.0, vectorizer__norm=l1, vectorizer__stop_words=None, vectorizer__tokenizer=<function spacy_tokenizer at 0x0000023CD53BE340>;, score=0.656 total time=   0.9s\n"
     ]
    },
    {
     "name": "stderr",
     "output_type": "stream",
     "text": [
      "C:\\Users\\whitl\\anaconda3\\Lib\\site-packages\\sklearn\\feature_extraction\\text.py:525: UserWarning: The parameter 'token_pattern' will not be used since 'tokenizer' is not None'\n",
      "  warnings.warn(\n"
     ]
    },
    {
     "name": "stdout",
     "output_type": "stream",
     "text": [
      "[CV 5/5] END classifier__estimator=SGDClassifier(), classifier__estimator__loss=modified_huber, classifier__estimator__max_iter=50, classifier__estimator__penalty=l1, classifier__estimator__tol=0.0001, vectorizer__max_df=1.0, vectorizer__norm=l1, vectorizer__stop_words=None, vectorizer__tokenizer=<function spacy_tokenizer at 0x0000023CD53BE340>;, score=0.625 total time=   0.9s\n"
     ]
    },
    {
     "name": "stderr",
     "output_type": "stream",
     "text": [
      "C:\\Users\\whitl\\anaconda3\\Lib\\site-packages\\sklearn\\feature_extraction\\text.py:525: UserWarning: The parameter 'token_pattern' will not be used since 'tokenizer' is not None'\n",
      "  warnings.warn(\n",
      "C:\\Users\\whitl\\anaconda3\\Lib\\site-packages\\sklearn\\feature_extraction\\text.py:408: UserWarning: Your stop_words may be inconsistent with your preprocessing. Tokenizing the stop words generated tokens ['ca', 'nt'] not in stop_words.\n",
      "  warnings.warn(\n"
     ]
    },
    {
     "name": "stdout",
     "output_type": "stream",
     "text": [
      "[CV 1/5] END classifier__estimator=SGDClassifier(), classifier__estimator__loss=modified_huber, classifier__estimator__max_iter=50, classifier__estimator__penalty=l1, classifier__estimator__tol=0.0001, vectorizer__max_df=1.0, vectorizer__norm=l2, vectorizer__stop_words=english, vectorizer__tokenizer=<function spacy_tokenizer at 0x0000023CD53BE340>;, score=0.719 total time=   2.7s\n"
     ]
    },
    {
     "name": "stderr",
     "output_type": "stream",
     "text": [
      "C:\\Users\\whitl\\anaconda3\\Lib\\site-packages\\sklearn\\feature_extraction\\text.py:525: UserWarning: The parameter 'token_pattern' will not be used since 'tokenizer' is not None'\n",
      "  warnings.warn(\n",
      "C:\\Users\\whitl\\anaconda3\\Lib\\site-packages\\sklearn\\feature_extraction\\text.py:408: UserWarning: Your stop_words may be inconsistent with your preprocessing. Tokenizing the stop words generated tokens ['ca', 'nt'] not in stop_words.\n",
      "  warnings.warn(\n"
     ]
    },
    {
     "name": "stdout",
     "output_type": "stream",
     "text": [
      "[CV 2/5] END classifier__estimator=SGDClassifier(), classifier__estimator__loss=modified_huber, classifier__estimator__max_iter=50, classifier__estimator__penalty=l1, classifier__estimator__tol=0.0001, vectorizer__max_df=1.0, vectorizer__norm=l2, vectorizer__stop_words=english, vectorizer__tokenizer=<function spacy_tokenizer at 0x0000023CD53BE340>;, score=0.594 total time=   2.5s\n"
     ]
    },
    {
     "name": "stderr",
     "output_type": "stream",
     "text": [
      "C:\\Users\\whitl\\anaconda3\\Lib\\site-packages\\sklearn\\feature_extraction\\text.py:525: UserWarning: The parameter 'token_pattern' will not be used since 'tokenizer' is not None'\n",
      "  warnings.warn(\n",
      "C:\\Users\\whitl\\anaconda3\\Lib\\site-packages\\sklearn\\feature_extraction\\text.py:408: UserWarning: Your stop_words may be inconsistent with your preprocessing. Tokenizing the stop words generated tokens ['ca', 'nt'] not in stop_words.\n",
      "  warnings.warn(\n"
     ]
    },
    {
     "name": "stdout",
     "output_type": "stream",
     "text": [
      "[CV 3/5] END classifier__estimator=SGDClassifier(), classifier__estimator__loss=modified_huber, classifier__estimator__max_iter=50, classifier__estimator__penalty=l1, classifier__estimator__tol=0.0001, vectorizer__max_df=1.0, vectorizer__norm=l2, vectorizer__stop_words=english, vectorizer__tokenizer=<function spacy_tokenizer at 0x0000023CD53BE340>;, score=0.500 total time=   2.3s\n"
     ]
    },
    {
     "name": "stderr",
     "output_type": "stream",
     "text": [
      "C:\\Users\\whitl\\anaconda3\\Lib\\site-packages\\sklearn\\feature_extraction\\text.py:525: UserWarning: The parameter 'token_pattern' will not be used since 'tokenizer' is not None'\n",
      "  warnings.warn(\n",
      "C:\\Users\\whitl\\anaconda3\\Lib\\site-packages\\sklearn\\feature_extraction\\text.py:408: UserWarning: Your stop_words may be inconsistent with your preprocessing. Tokenizing the stop words generated tokens ['ca', 'nt'] not in stop_words.\n",
      "  warnings.warn(\n"
     ]
    },
    {
     "name": "stdout",
     "output_type": "stream",
     "text": [
      "[CV 4/5] END classifier__estimator=SGDClassifier(), classifier__estimator__loss=modified_huber, classifier__estimator__max_iter=50, classifier__estimator__penalty=l1, classifier__estimator__tol=0.0001, vectorizer__max_df=1.0, vectorizer__norm=l2, vectorizer__stop_words=english, vectorizer__tokenizer=<function spacy_tokenizer at 0x0000023CD53BE340>;, score=0.562 total time=   2.6s\n"
     ]
    },
    {
     "name": "stderr",
     "output_type": "stream",
     "text": [
      "C:\\Users\\whitl\\anaconda3\\Lib\\site-packages\\sklearn\\feature_extraction\\text.py:525: UserWarning: The parameter 'token_pattern' will not be used since 'tokenizer' is not None'\n",
      "  warnings.warn(\n",
      "C:\\Users\\whitl\\anaconda3\\Lib\\site-packages\\sklearn\\feature_extraction\\text.py:408: UserWarning: Your stop_words may be inconsistent with your preprocessing. Tokenizing the stop words generated tokens ['ca', 'nt'] not in stop_words.\n",
      "  warnings.warn(\n"
     ]
    },
    {
     "name": "stdout",
     "output_type": "stream",
     "text": [
      "[CV 5/5] END classifier__estimator=SGDClassifier(), classifier__estimator__loss=modified_huber, classifier__estimator__max_iter=50, classifier__estimator__penalty=l1, classifier__estimator__tol=0.0001, vectorizer__max_df=1.0, vectorizer__norm=l2, vectorizer__stop_words=english, vectorizer__tokenizer=<function spacy_tokenizer at 0x0000023CD53BE340>;, score=0.562 total time=   2.2s\n"
     ]
    },
    {
     "name": "stderr",
     "output_type": "stream",
     "text": [
      "C:\\Users\\whitl\\anaconda3\\Lib\\site-packages\\sklearn\\feature_extraction\\text.py:525: UserWarning: The parameter 'token_pattern' will not be used since 'tokenizer' is not None'\n",
      "  warnings.warn(\n"
     ]
    },
    {
     "name": "stdout",
     "output_type": "stream",
     "text": [
      "[CV 1/5] END classifier__estimator=SGDClassifier(), classifier__estimator__loss=modified_huber, classifier__estimator__max_iter=50, classifier__estimator__penalty=l1, classifier__estimator__tol=0.0001, vectorizer__max_df=1.0, vectorizer__norm=l2, vectorizer__stop_words=None, vectorizer__tokenizer=<function spacy_tokenizer at 0x0000023CD53BE340>;, score=0.625 total time=   1.2s\n"
     ]
    },
    {
     "name": "stderr",
     "output_type": "stream",
     "text": [
      "C:\\Users\\whitl\\anaconda3\\Lib\\site-packages\\sklearn\\feature_extraction\\text.py:525: UserWarning: The parameter 'token_pattern' will not be used since 'tokenizer' is not None'\n",
      "  warnings.warn(\n"
     ]
    },
    {
     "name": "stdout",
     "output_type": "stream",
     "text": [
      "[CV 2/5] END classifier__estimator=SGDClassifier(), classifier__estimator__loss=modified_huber, classifier__estimator__max_iter=50, classifier__estimator__penalty=l1, classifier__estimator__tol=0.0001, vectorizer__max_df=1.0, vectorizer__norm=l2, vectorizer__stop_words=None, vectorizer__tokenizer=<function spacy_tokenizer at 0x0000023CD53BE340>;, score=0.562 total time=   0.9s\n"
     ]
    },
    {
     "name": "stderr",
     "output_type": "stream",
     "text": [
      "C:\\Users\\whitl\\anaconda3\\Lib\\site-packages\\sklearn\\feature_extraction\\text.py:525: UserWarning: The parameter 'token_pattern' will not be used since 'tokenizer' is not None'\n",
      "  warnings.warn(\n"
     ]
    },
    {
     "name": "stdout",
     "output_type": "stream",
     "text": [
      "[CV 3/5] END classifier__estimator=SGDClassifier(), classifier__estimator__loss=modified_huber, classifier__estimator__max_iter=50, classifier__estimator__penalty=l1, classifier__estimator__tol=0.0001, vectorizer__max_df=1.0, vectorizer__norm=l2, vectorizer__stop_words=None, vectorizer__tokenizer=<function spacy_tokenizer at 0x0000023CD53BE340>;, score=0.500 total time=   0.9s\n"
     ]
    },
    {
     "name": "stderr",
     "output_type": "stream",
     "text": [
      "C:\\Users\\whitl\\anaconda3\\Lib\\site-packages\\sklearn\\feature_extraction\\text.py:525: UserWarning: The parameter 'token_pattern' will not be used since 'tokenizer' is not None'\n",
      "  warnings.warn(\n"
     ]
    },
    {
     "name": "stdout",
     "output_type": "stream",
     "text": [
      "[CV 4/5] END classifier__estimator=SGDClassifier(), classifier__estimator__loss=modified_huber, classifier__estimator__max_iter=50, classifier__estimator__penalty=l1, classifier__estimator__tol=0.0001, vectorizer__max_df=1.0, vectorizer__norm=l2, vectorizer__stop_words=None, vectorizer__tokenizer=<function spacy_tokenizer at 0x0000023CD53BE340>;, score=0.594 total time=   1.2s\n"
     ]
    },
    {
     "name": "stderr",
     "output_type": "stream",
     "text": [
      "C:\\Users\\whitl\\anaconda3\\Lib\\site-packages\\sklearn\\feature_extraction\\text.py:525: UserWarning: The parameter 'token_pattern' will not be used since 'tokenizer' is not None'\n",
      "  warnings.warn(\n"
     ]
    },
    {
     "name": "stdout",
     "output_type": "stream",
     "text": [
      "[CV 5/5] END classifier__estimator=SGDClassifier(), classifier__estimator__loss=modified_huber, classifier__estimator__max_iter=50, classifier__estimator__penalty=l1, classifier__estimator__tol=0.0001, vectorizer__max_df=1.0, vectorizer__norm=l2, vectorizer__stop_words=None, vectorizer__tokenizer=<function spacy_tokenizer at 0x0000023CD53BE340>;, score=0.562 total time=   1.1s\n"
     ]
    },
    {
     "name": "stderr",
     "output_type": "stream",
     "text": [
      "C:\\Users\\whitl\\anaconda3\\Lib\\site-packages\\sklearn\\feature_extraction\\text.py:525: UserWarning: The parameter 'token_pattern' will not be used since 'tokenizer' is not None'\n",
      "  warnings.warn(\n",
      "C:\\Users\\whitl\\anaconda3\\Lib\\site-packages\\sklearn\\feature_extraction\\text.py:408: UserWarning: Your stop_words may be inconsistent with your preprocessing. Tokenizing the stop words generated tokens ['ca', 'nt'] not in stop_words.\n",
      "  warnings.warn(\n"
     ]
    },
    {
     "name": "stdout",
     "output_type": "stream",
     "text": [
      "[CV 1/5] END classifier__estimator=SGDClassifier(), classifier__estimator__loss=modified_huber, classifier__estimator__max_iter=80, classifier__estimator__penalty=l2, classifier__estimator__tol=0.0001, vectorizer__max_df=1.0, vectorizer__norm=l1, vectorizer__stop_words=english, vectorizer__tokenizer=<function spacy_tokenizer at 0x0000023CD53BE340>;, score=0.625 total time=   2.8s\n"
     ]
    },
    {
     "name": "stderr",
     "output_type": "stream",
     "text": [
      "C:\\Users\\whitl\\anaconda3\\Lib\\site-packages\\sklearn\\feature_extraction\\text.py:525: UserWarning: The parameter 'token_pattern' will not be used since 'tokenizer' is not None'\n",
      "  warnings.warn(\n",
      "C:\\Users\\whitl\\anaconda3\\Lib\\site-packages\\sklearn\\feature_extraction\\text.py:408: UserWarning: Your stop_words may be inconsistent with your preprocessing. Tokenizing the stop words generated tokens ['ca', 'nt'] not in stop_words.\n",
      "  warnings.warn(\n"
     ]
    },
    {
     "name": "stdout",
     "output_type": "stream",
     "text": [
      "[CV 2/5] END classifier__estimator=SGDClassifier(), classifier__estimator__loss=modified_huber, classifier__estimator__max_iter=80, classifier__estimator__penalty=l2, classifier__estimator__tol=0.0001, vectorizer__max_df=1.0, vectorizer__norm=l1, vectorizer__stop_words=english, vectorizer__tokenizer=<function spacy_tokenizer at 0x0000023CD53BE340>;, score=0.531 total time=   2.5s\n"
     ]
    },
    {
     "name": "stderr",
     "output_type": "stream",
     "text": [
      "C:\\Users\\whitl\\anaconda3\\Lib\\site-packages\\sklearn\\feature_extraction\\text.py:525: UserWarning: The parameter 'token_pattern' will not be used since 'tokenizer' is not None'\n",
      "  warnings.warn(\n",
      "C:\\Users\\whitl\\anaconda3\\Lib\\site-packages\\sklearn\\feature_extraction\\text.py:408: UserWarning: Your stop_words may be inconsistent with your preprocessing. Tokenizing the stop words generated tokens ['ca', 'nt'] not in stop_words.\n",
      "  warnings.warn(\n"
     ]
    },
    {
     "name": "stdout",
     "output_type": "stream",
     "text": [
      "[CV 3/5] END classifier__estimator=SGDClassifier(), classifier__estimator__loss=modified_huber, classifier__estimator__max_iter=80, classifier__estimator__penalty=l2, classifier__estimator__tol=0.0001, vectorizer__max_df=1.0, vectorizer__norm=l1, vectorizer__stop_words=english, vectorizer__tokenizer=<function spacy_tokenizer at 0x0000023CD53BE340>;, score=0.594 total time=   2.4s\n"
     ]
    },
    {
     "name": "stderr",
     "output_type": "stream",
     "text": [
      "C:\\Users\\whitl\\anaconda3\\Lib\\site-packages\\sklearn\\feature_extraction\\text.py:525: UserWarning: The parameter 'token_pattern' will not be used since 'tokenizer' is not None'\n",
      "  warnings.warn(\n",
      "C:\\Users\\whitl\\anaconda3\\Lib\\site-packages\\sklearn\\feature_extraction\\text.py:408: UserWarning: Your stop_words may be inconsistent with your preprocessing. Tokenizing the stop words generated tokens ['ca', 'nt'] not in stop_words.\n",
      "  warnings.warn(\n"
     ]
    },
    {
     "name": "stdout",
     "output_type": "stream",
     "text": [
      "[CV 4/5] END classifier__estimator=SGDClassifier(), classifier__estimator__loss=modified_huber, classifier__estimator__max_iter=80, classifier__estimator__penalty=l2, classifier__estimator__tol=0.0001, vectorizer__max_df=1.0, vectorizer__norm=l1, vectorizer__stop_words=english, vectorizer__tokenizer=<function spacy_tokenizer at 0x0000023CD53BE340>;, score=0.594 total time=   2.3s\n"
     ]
    },
    {
     "name": "stderr",
     "output_type": "stream",
     "text": [
      "C:\\Users\\whitl\\anaconda3\\Lib\\site-packages\\sklearn\\feature_extraction\\text.py:525: UserWarning: The parameter 'token_pattern' will not be used since 'tokenizer' is not None'\n",
      "  warnings.warn(\n",
      "C:\\Users\\whitl\\anaconda3\\Lib\\site-packages\\sklearn\\feature_extraction\\text.py:408: UserWarning: Your stop_words may be inconsistent with your preprocessing. Tokenizing the stop words generated tokens ['ca', 'nt'] not in stop_words.\n",
      "  warnings.warn(\n"
     ]
    },
    {
     "name": "stdout",
     "output_type": "stream",
     "text": [
      "[CV 5/5] END classifier__estimator=SGDClassifier(), classifier__estimator__loss=modified_huber, classifier__estimator__max_iter=80, classifier__estimator__penalty=l2, classifier__estimator__tol=0.0001, vectorizer__max_df=1.0, vectorizer__norm=l1, vectorizer__stop_words=english, vectorizer__tokenizer=<function spacy_tokenizer at 0x0000023CD53BE340>;, score=0.594 total time=   2.4s\n"
     ]
    },
    {
     "name": "stderr",
     "output_type": "stream",
     "text": [
      "C:\\Users\\whitl\\anaconda3\\Lib\\site-packages\\sklearn\\feature_extraction\\text.py:525: UserWarning: The parameter 'token_pattern' will not be used since 'tokenizer' is not None'\n",
      "  warnings.warn(\n"
     ]
    },
    {
     "name": "stdout",
     "output_type": "stream",
     "text": [
      "[CV 1/5] END classifier__estimator=SGDClassifier(), classifier__estimator__loss=modified_huber, classifier__estimator__max_iter=80, classifier__estimator__penalty=l2, classifier__estimator__tol=0.0001, vectorizer__max_df=1.0, vectorizer__norm=l1, vectorizer__stop_words=None, vectorizer__tokenizer=<function spacy_tokenizer at 0x0000023CD53BE340>;, score=0.719 total time=   1.1s\n"
     ]
    },
    {
     "name": "stderr",
     "output_type": "stream",
     "text": [
      "C:\\Users\\whitl\\anaconda3\\Lib\\site-packages\\sklearn\\feature_extraction\\text.py:525: UserWarning: The parameter 'token_pattern' will not be used since 'tokenizer' is not None'\n",
      "  warnings.warn(\n"
     ]
    },
    {
     "name": "stdout",
     "output_type": "stream",
     "text": [
      "[CV 2/5] END classifier__estimator=SGDClassifier(), classifier__estimator__loss=modified_huber, classifier__estimator__max_iter=80, classifier__estimator__penalty=l2, classifier__estimator__tol=0.0001, vectorizer__max_df=1.0, vectorizer__norm=l1, vectorizer__stop_words=None, vectorizer__tokenizer=<function spacy_tokenizer at 0x0000023CD53BE340>;, score=0.656 total time=   0.9s\n"
     ]
    },
    {
     "name": "stderr",
     "output_type": "stream",
     "text": [
      "C:\\Users\\whitl\\anaconda3\\Lib\\site-packages\\sklearn\\feature_extraction\\text.py:525: UserWarning: The parameter 'token_pattern' will not be used since 'tokenizer' is not None'\n",
      "  warnings.warn(\n"
     ]
    },
    {
     "name": "stdout",
     "output_type": "stream",
     "text": [
      "[CV 3/5] END classifier__estimator=SGDClassifier(), classifier__estimator__loss=modified_huber, classifier__estimator__max_iter=80, classifier__estimator__penalty=l2, classifier__estimator__tol=0.0001, vectorizer__max_df=1.0, vectorizer__norm=l1, vectorizer__stop_words=None, vectorizer__tokenizer=<function spacy_tokenizer at 0x0000023CD53BE340>;, score=0.500 total time=   0.9s\n"
     ]
    },
    {
     "name": "stderr",
     "output_type": "stream",
     "text": [
      "C:\\Users\\whitl\\anaconda3\\Lib\\site-packages\\sklearn\\feature_extraction\\text.py:525: UserWarning: The parameter 'token_pattern' will not be used since 'tokenizer' is not None'\n",
      "  warnings.warn(\n"
     ]
    },
    {
     "name": "stdout",
     "output_type": "stream",
     "text": [
      "[CV 4/5] END classifier__estimator=SGDClassifier(), classifier__estimator__loss=modified_huber, classifier__estimator__max_iter=80, classifier__estimator__penalty=l2, classifier__estimator__tol=0.0001, vectorizer__max_df=1.0, vectorizer__norm=l1, vectorizer__stop_words=None, vectorizer__tokenizer=<function spacy_tokenizer at 0x0000023CD53BE340>;, score=0.625 total time=   1.2s\n"
     ]
    },
    {
     "name": "stderr",
     "output_type": "stream",
     "text": [
      "C:\\Users\\whitl\\anaconda3\\Lib\\site-packages\\sklearn\\feature_extraction\\text.py:525: UserWarning: The parameter 'token_pattern' will not be used since 'tokenizer' is not None'\n",
      "  warnings.warn(\n"
     ]
    },
    {
     "name": "stdout",
     "output_type": "stream",
     "text": [
      "[CV 5/5] END classifier__estimator=SGDClassifier(), classifier__estimator__loss=modified_huber, classifier__estimator__max_iter=80, classifier__estimator__penalty=l2, classifier__estimator__tol=0.0001, vectorizer__max_df=1.0, vectorizer__norm=l1, vectorizer__stop_words=None, vectorizer__tokenizer=<function spacy_tokenizer at 0x0000023CD53BE340>;, score=0.562 total time=   1.1s\n"
     ]
    },
    {
     "name": "stderr",
     "output_type": "stream",
     "text": [
      "C:\\Users\\whitl\\anaconda3\\Lib\\site-packages\\sklearn\\feature_extraction\\text.py:525: UserWarning: The parameter 'token_pattern' will not be used since 'tokenizer' is not None'\n",
      "  warnings.warn(\n",
      "C:\\Users\\whitl\\anaconda3\\Lib\\site-packages\\sklearn\\feature_extraction\\text.py:408: UserWarning: Your stop_words may be inconsistent with your preprocessing. Tokenizing the stop words generated tokens ['ca', 'nt'] not in stop_words.\n",
      "  warnings.warn(\n"
     ]
    },
    {
     "name": "stdout",
     "output_type": "stream",
     "text": [
      "[CV 1/5] END classifier__estimator=SGDClassifier(), classifier__estimator__loss=modified_huber, classifier__estimator__max_iter=80, classifier__estimator__penalty=l2, classifier__estimator__tol=0.0001, vectorizer__max_df=1.0, vectorizer__norm=l2, vectorizer__stop_words=english, vectorizer__tokenizer=<function spacy_tokenizer at 0x0000023CD53BE340>;, score=0.750 total time=   2.3s\n"
     ]
    },
    {
     "name": "stderr",
     "output_type": "stream",
     "text": [
      "C:\\Users\\whitl\\anaconda3\\Lib\\site-packages\\sklearn\\feature_extraction\\text.py:525: UserWarning: The parameter 'token_pattern' will not be used since 'tokenizer' is not None'\n",
      "  warnings.warn(\n",
      "C:\\Users\\whitl\\anaconda3\\Lib\\site-packages\\sklearn\\feature_extraction\\text.py:408: UserWarning: Your stop_words may be inconsistent with your preprocessing. Tokenizing the stop words generated tokens ['ca', 'nt'] not in stop_words.\n",
      "  warnings.warn(\n"
     ]
    },
    {
     "name": "stdout",
     "output_type": "stream",
     "text": [
      "[CV 2/5] END classifier__estimator=SGDClassifier(), classifier__estimator__loss=modified_huber, classifier__estimator__max_iter=80, classifier__estimator__penalty=l2, classifier__estimator__tol=0.0001, vectorizer__max_df=1.0, vectorizer__norm=l2, vectorizer__stop_words=english, vectorizer__tokenizer=<function spacy_tokenizer at 0x0000023CD53BE340>;, score=0.562 total time=   2.3s\n"
     ]
    },
    {
     "name": "stderr",
     "output_type": "stream",
     "text": [
      "C:\\Users\\whitl\\anaconda3\\Lib\\site-packages\\sklearn\\feature_extraction\\text.py:525: UserWarning: The parameter 'token_pattern' will not be used since 'tokenizer' is not None'\n",
      "  warnings.warn(\n",
      "C:\\Users\\whitl\\anaconda3\\Lib\\site-packages\\sklearn\\feature_extraction\\text.py:408: UserWarning: Your stop_words may be inconsistent with your preprocessing. Tokenizing the stop words generated tokens ['ca', 'nt'] not in stop_words.\n",
      "  warnings.warn(\n"
     ]
    },
    {
     "name": "stdout",
     "output_type": "stream",
     "text": [
      "[CV 3/5] END classifier__estimator=SGDClassifier(), classifier__estimator__loss=modified_huber, classifier__estimator__max_iter=80, classifier__estimator__penalty=l2, classifier__estimator__tol=0.0001, vectorizer__max_df=1.0, vectorizer__norm=l2, vectorizer__stop_words=english, vectorizer__tokenizer=<function spacy_tokenizer at 0x0000023CD53BE340>;, score=0.469 total time=   2.5s\n"
     ]
    },
    {
     "name": "stderr",
     "output_type": "stream",
     "text": [
      "C:\\Users\\whitl\\anaconda3\\Lib\\site-packages\\sklearn\\feature_extraction\\text.py:525: UserWarning: The parameter 'token_pattern' will not be used since 'tokenizer' is not None'\n",
      "  warnings.warn(\n",
      "C:\\Users\\whitl\\anaconda3\\Lib\\site-packages\\sklearn\\feature_extraction\\text.py:408: UserWarning: Your stop_words may be inconsistent with your preprocessing. Tokenizing the stop words generated tokens ['ca', 'nt'] not in stop_words.\n",
      "  warnings.warn(\n"
     ]
    },
    {
     "name": "stdout",
     "output_type": "stream",
     "text": [
      "[CV 4/5] END classifier__estimator=SGDClassifier(), classifier__estimator__loss=modified_huber, classifier__estimator__max_iter=80, classifier__estimator__penalty=l2, classifier__estimator__tol=0.0001, vectorizer__max_df=1.0, vectorizer__norm=l2, vectorizer__stop_words=english, vectorizer__tokenizer=<function spacy_tokenizer at 0x0000023CD53BE340>;, score=0.625 total time=   2.3s\n"
     ]
    },
    {
     "name": "stderr",
     "output_type": "stream",
     "text": [
      "C:\\Users\\whitl\\anaconda3\\Lib\\site-packages\\sklearn\\feature_extraction\\text.py:525: UserWarning: The parameter 'token_pattern' will not be used since 'tokenizer' is not None'\n",
      "  warnings.warn(\n",
      "C:\\Users\\whitl\\anaconda3\\Lib\\site-packages\\sklearn\\feature_extraction\\text.py:408: UserWarning: Your stop_words may be inconsistent with your preprocessing. Tokenizing the stop words generated tokens ['ca', 'nt'] not in stop_words.\n",
      "  warnings.warn(\n"
     ]
    },
    {
     "name": "stdout",
     "output_type": "stream",
     "text": [
      "[CV 5/5] END classifier__estimator=SGDClassifier(), classifier__estimator__loss=modified_huber, classifier__estimator__max_iter=80, classifier__estimator__penalty=l2, classifier__estimator__tol=0.0001, vectorizer__max_df=1.0, vectorizer__norm=l2, vectorizer__stop_words=english, vectorizer__tokenizer=<function spacy_tokenizer at 0x0000023CD53BE340>;, score=0.719 total time=   2.3s\n"
     ]
    },
    {
     "name": "stderr",
     "output_type": "stream",
     "text": [
      "C:\\Users\\whitl\\anaconda3\\Lib\\site-packages\\sklearn\\feature_extraction\\text.py:525: UserWarning: The parameter 'token_pattern' will not be used since 'tokenizer' is not None'\n",
      "  warnings.warn(\n"
     ]
    },
    {
     "name": "stdout",
     "output_type": "stream",
     "text": [
      "[CV 1/5] END classifier__estimator=SGDClassifier(), classifier__estimator__loss=modified_huber, classifier__estimator__max_iter=80, classifier__estimator__penalty=l2, classifier__estimator__tol=0.0001, vectorizer__max_df=1.0, vectorizer__norm=l2, vectorizer__stop_words=None, vectorizer__tokenizer=<function spacy_tokenizer at 0x0000023CD53BE340>;, score=0.688 total time=   0.9s\n"
     ]
    },
    {
     "name": "stderr",
     "output_type": "stream",
     "text": [
      "C:\\Users\\whitl\\anaconda3\\Lib\\site-packages\\sklearn\\feature_extraction\\text.py:525: UserWarning: The parameter 'token_pattern' will not be used since 'tokenizer' is not None'\n",
      "  warnings.warn(\n"
     ]
    },
    {
     "name": "stdout",
     "output_type": "stream",
     "text": [
      "[CV 2/5] END classifier__estimator=SGDClassifier(), classifier__estimator__loss=modified_huber, classifier__estimator__max_iter=80, classifier__estimator__penalty=l2, classifier__estimator__tol=0.0001, vectorizer__max_df=1.0, vectorizer__norm=l2, vectorizer__stop_words=None, vectorizer__tokenizer=<function spacy_tokenizer at 0x0000023CD53BE340>;, score=0.562 total time=   0.9s\n"
     ]
    },
    {
     "name": "stderr",
     "output_type": "stream",
     "text": [
      "C:\\Users\\whitl\\anaconda3\\Lib\\site-packages\\sklearn\\feature_extraction\\text.py:525: UserWarning: The parameter 'token_pattern' will not be used since 'tokenizer' is not None'\n",
      "  warnings.warn(\n"
     ]
    },
    {
     "name": "stdout",
     "output_type": "stream",
     "text": [
      "[CV 3/5] END classifier__estimator=SGDClassifier(), classifier__estimator__loss=modified_huber, classifier__estimator__max_iter=80, classifier__estimator__penalty=l2, classifier__estimator__tol=0.0001, vectorizer__max_df=1.0, vectorizer__norm=l2, vectorizer__stop_words=None, vectorizer__tokenizer=<function spacy_tokenizer at 0x0000023CD53BE340>;, score=0.562 total time=   1.2s\n"
     ]
    },
    {
     "name": "stderr",
     "output_type": "stream",
     "text": [
      "C:\\Users\\whitl\\anaconda3\\Lib\\site-packages\\sklearn\\feature_extraction\\text.py:525: UserWarning: The parameter 'token_pattern' will not be used since 'tokenizer' is not None'\n",
      "  warnings.warn(\n"
     ]
    },
    {
     "name": "stdout",
     "output_type": "stream",
     "text": [
      "[CV 4/5] END classifier__estimator=SGDClassifier(), classifier__estimator__loss=modified_huber, classifier__estimator__max_iter=80, classifier__estimator__penalty=l2, classifier__estimator__tol=0.0001, vectorizer__max_df=1.0, vectorizer__norm=l2, vectorizer__stop_words=None, vectorizer__tokenizer=<function spacy_tokenizer at 0x0000023CD53BE340>;, score=0.562 total time=   1.2s\n"
     ]
    },
    {
     "name": "stderr",
     "output_type": "stream",
     "text": [
      "C:\\Users\\whitl\\anaconda3\\Lib\\site-packages\\sklearn\\feature_extraction\\text.py:525: UserWarning: The parameter 'token_pattern' will not be used since 'tokenizer' is not None'\n",
      "  warnings.warn(\n"
     ]
    },
    {
     "name": "stdout",
     "output_type": "stream",
     "text": [
      "[CV 5/5] END classifier__estimator=SGDClassifier(), classifier__estimator__loss=modified_huber, classifier__estimator__max_iter=80, classifier__estimator__penalty=l2, classifier__estimator__tol=0.0001, vectorizer__max_df=1.0, vectorizer__norm=l2, vectorizer__stop_words=None, vectorizer__tokenizer=<function spacy_tokenizer at 0x0000023CD53BE340>;, score=0.594 total time=   0.9s\n"
     ]
    },
    {
     "name": "stderr",
     "output_type": "stream",
     "text": [
      "C:\\Users\\whitl\\anaconda3\\Lib\\site-packages\\sklearn\\feature_extraction\\text.py:525: UserWarning: The parameter 'token_pattern' will not be used since 'tokenizer' is not None'\n",
      "  warnings.warn(\n",
      "C:\\Users\\whitl\\anaconda3\\Lib\\site-packages\\sklearn\\feature_extraction\\text.py:408: UserWarning: Your stop_words may be inconsistent with your preprocessing. Tokenizing the stop words generated tokens ['ca', 'nt'] not in stop_words.\n",
      "  warnings.warn(\n"
     ]
    },
    {
     "name": "stdout",
     "output_type": "stream",
     "text": [
      "[CV 1/5] END classifier__estimator=SGDClassifier(), classifier__estimator__loss=modified_huber, classifier__estimator__max_iter=80, classifier__estimator__penalty=elasticnet, classifier__estimator__tol=0.0001, vectorizer__max_df=1.0, vectorizer__norm=l1, vectorizer__stop_words=english, vectorizer__tokenizer=<function spacy_tokenizer at 0x0000023CD53BE340>;, score=0.719 total time=   2.3s\n"
     ]
    },
    {
     "name": "stderr",
     "output_type": "stream",
     "text": [
      "C:\\Users\\whitl\\anaconda3\\Lib\\site-packages\\sklearn\\feature_extraction\\text.py:525: UserWarning: The parameter 'token_pattern' will not be used since 'tokenizer' is not None'\n",
      "  warnings.warn(\n",
      "C:\\Users\\whitl\\anaconda3\\Lib\\site-packages\\sklearn\\feature_extraction\\text.py:408: UserWarning: Your stop_words may be inconsistent with your preprocessing. Tokenizing the stop words generated tokens ['ca', 'nt'] not in stop_words.\n",
      "  warnings.warn(\n"
     ]
    },
    {
     "name": "stdout",
     "output_type": "stream",
     "text": [
      "[CV 2/5] END classifier__estimator=SGDClassifier(), classifier__estimator__loss=modified_huber, classifier__estimator__max_iter=80, classifier__estimator__penalty=elasticnet, classifier__estimator__tol=0.0001, vectorizer__max_df=1.0, vectorizer__norm=l1, vectorizer__stop_words=english, vectorizer__tokenizer=<function spacy_tokenizer at 0x0000023CD53BE340>;, score=0.562 total time=   2.6s\n"
     ]
    },
    {
     "name": "stderr",
     "output_type": "stream",
     "text": [
      "C:\\Users\\whitl\\anaconda3\\Lib\\site-packages\\sklearn\\feature_extraction\\text.py:525: UserWarning: The parameter 'token_pattern' will not be used since 'tokenizer' is not None'\n",
      "  warnings.warn(\n",
      "C:\\Users\\whitl\\anaconda3\\Lib\\site-packages\\sklearn\\feature_extraction\\text.py:408: UserWarning: Your stop_words may be inconsistent with your preprocessing. Tokenizing the stop words generated tokens ['ca', 'nt'] not in stop_words.\n",
      "  warnings.warn(\n"
     ]
    },
    {
     "name": "stdout",
     "output_type": "stream",
     "text": [
      "[CV 3/5] END classifier__estimator=SGDClassifier(), classifier__estimator__loss=modified_huber, classifier__estimator__max_iter=80, classifier__estimator__penalty=elasticnet, classifier__estimator__tol=0.0001, vectorizer__max_df=1.0, vectorizer__norm=l1, vectorizer__stop_words=english, vectorizer__tokenizer=<function spacy_tokenizer at 0x0000023CD53BE340>;, score=0.562 total time=   2.4s\n"
     ]
    },
    {
     "name": "stderr",
     "output_type": "stream",
     "text": [
      "C:\\Users\\whitl\\anaconda3\\Lib\\site-packages\\sklearn\\feature_extraction\\text.py:525: UserWarning: The parameter 'token_pattern' will not be used since 'tokenizer' is not None'\n",
      "  warnings.warn(\n",
      "C:\\Users\\whitl\\anaconda3\\Lib\\site-packages\\sklearn\\feature_extraction\\text.py:408: UserWarning: Your stop_words may be inconsistent with your preprocessing. Tokenizing the stop words generated tokens ['ca', 'nt'] not in stop_words.\n",
      "  warnings.warn(\n"
     ]
    },
    {
     "name": "stdout",
     "output_type": "stream",
     "text": [
      "[CV 4/5] END classifier__estimator=SGDClassifier(), classifier__estimator__loss=modified_huber, classifier__estimator__max_iter=80, classifier__estimator__penalty=elasticnet, classifier__estimator__tol=0.0001, vectorizer__max_df=1.0, vectorizer__norm=l1, vectorizer__stop_words=english, vectorizer__tokenizer=<function spacy_tokenizer at 0x0000023CD53BE340>;, score=0.656 total time=   2.4s\n"
     ]
    },
    {
     "name": "stderr",
     "output_type": "stream",
     "text": [
      "C:\\Users\\whitl\\anaconda3\\Lib\\site-packages\\sklearn\\feature_extraction\\text.py:525: UserWarning: The parameter 'token_pattern' will not be used since 'tokenizer' is not None'\n",
      "  warnings.warn(\n",
      "C:\\Users\\whitl\\anaconda3\\Lib\\site-packages\\sklearn\\feature_extraction\\text.py:408: UserWarning: Your stop_words may be inconsistent with your preprocessing. Tokenizing the stop words generated tokens ['ca', 'nt'] not in stop_words.\n",
      "  warnings.warn(\n"
     ]
    },
    {
     "name": "stdout",
     "output_type": "stream",
     "text": [
      "[CV 5/5] END classifier__estimator=SGDClassifier(), classifier__estimator__loss=modified_huber, classifier__estimator__max_iter=80, classifier__estimator__penalty=elasticnet, classifier__estimator__tol=0.0001, vectorizer__max_df=1.0, vectorizer__norm=l1, vectorizer__stop_words=english, vectorizer__tokenizer=<function spacy_tokenizer at 0x0000023CD53BE340>;, score=0.594 total time=   2.3s\n"
     ]
    },
    {
     "name": "stderr",
     "output_type": "stream",
     "text": [
      "C:\\Users\\whitl\\anaconda3\\Lib\\site-packages\\sklearn\\feature_extraction\\text.py:525: UserWarning: The parameter 'token_pattern' will not be used since 'tokenizer' is not None'\n",
      "  warnings.warn(\n"
     ]
    },
    {
     "name": "stdout",
     "output_type": "stream",
     "text": [
      "[CV 1/5] END classifier__estimator=SGDClassifier(), classifier__estimator__loss=modified_huber, classifier__estimator__max_iter=80, classifier__estimator__penalty=elasticnet, classifier__estimator__tol=0.0001, vectorizer__max_df=1.0, vectorizer__norm=l1, vectorizer__stop_words=None, vectorizer__tokenizer=<function spacy_tokenizer at 0x0000023CD53BE340>;, score=0.719 total time=   0.9s\n"
     ]
    },
    {
     "name": "stderr",
     "output_type": "stream",
     "text": [
      "C:\\Users\\whitl\\anaconda3\\Lib\\site-packages\\sklearn\\feature_extraction\\text.py:525: UserWarning: The parameter 'token_pattern' will not be used since 'tokenizer' is not None'\n",
      "  warnings.warn(\n"
     ]
    },
    {
     "name": "stdout",
     "output_type": "stream",
     "text": [
      "[CV 2/5] END classifier__estimator=SGDClassifier(), classifier__estimator__loss=modified_huber, classifier__estimator__max_iter=80, classifier__estimator__penalty=elasticnet, classifier__estimator__tol=0.0001, vectorizer__max_df=1.0, vectorizer__norm=l1, vectorizer__stop_words=None, vectorizer__tokenizer=<function spacy_tokenizer at 0x0000023CD53BE340>;, score=0.531 total time=   0.9s\n"
     ]
    },
    {
     "name": "stderr",
     "output_type": "stream",
     "text": [
      "C:\\Users\\whitl\\anaconda3\\Lib\\site-packages\\sklearn\\feature_extraction\\text.py:525: UserWarning: The parameter 'token_pattern' will not be used since 'tokenizer' is not None'\n",
      "  warnings.warn(\n"
     ]
    },
    {
     "name": "stdout",
     "output_type": "stream",
     "text": [
      "[CV 3/5] END classifier__estimator=SGDClassifier(), classifier__estimator__loss=modified_huber, classifier__estimator__max_iter=80, classifier__estimator__penalty=elasticnet, classifier__estimator__tol=0.0001, vectorizer__max_df=1.0, vectorizer__norm=l1, vectorizer__stop_words=None, vectorizer__tokenizer=<function spacy_tokenizer at 0x0000023CD53BE340>;, score=0.531 total time=   0.9s\n"
     ]
    },
    {
     "name": "stderr",
     "output_type": "stream",
     "text": [
      "C:\\Users\\whitl\\anaconda3\\Lib\\site-packages\\sklearn\\feature_extraction\\text.py:525: UserWarning: The parameter 'token_pattern' will not be used since 'tokenizer' is not None'\n",
      "  warnings.warn(\n"
     ]
    },
    {
     "name": "stdout",
     "output_type": "stream",
     "text": [
      "[CV 4/5] END classifier__estimator=SGDClassifier(), classifier__estimator__loss=modified_huber, classifier__estimator__max_iter=80, classifier__estimator__penalty=elasticnet, classifier__estimator__tol=0.0001, vectorizer__max_df=1.0, vectorizer__norm=l1, vectorizer__stop_words=None, vectorizer__tokenizer=<function spacy_tokenizer at 0x0000023CD53BE340>;, score=0.688 total time=   0.9s\n"
     ]
    },
    {
     "name": "stderr",
     "output_type": "stream",
     "text": [
      "C:\\Users\\whitl\\anaconda3\\Lib\\site-packages\\sklearn\\feature_extraction\\text.py:525: UserWarning: The parameter 'token_pattern' will not be used since 'tokenizer' is not None'\n",
      "  warnings.warn(\n"
     ]
    },
    {
     "name": "stdout",
     "output_type": "stream",
     "text": [
      "[CV 5/5] END classifier__estimator=SGDClassifier(), classifier__estimator__loss=modified_huber, classifier__estimator__max_iter=80, classifier__estimator__penalty=elasticnet, classifier__estimator__tol=0.0001, vectorizer__max_df=1.0, vectorizer__norm=l1, vectorizer__stop_words=None, vectorizer__tokenizer=<function spacy_tokenizer at 0x0000023CD53BE340>;, score=0.594 total time=   0.9s\n"
     ]
    },
    {
     "name": "stderr",
     "output_type": "stream",
     "text": [
      "C:\\Users\\whitl\\anaconda3\\Lib\\site-packages\\sklearn\\feature_extraction\\text.py:525: UserWarning: The parameter 'token_pattern' will not be used since 'tokenizer' is not None'\n",
      "  warnings.warn(\n",
      "C:\\Users\\whitl\\anaconda3\\Lib\\site-packages\\sklearn\\feature_extraction\\text.py:408: UserWarning: Your stop_words may be inconsistent with your preprocessing. Tokenizing the stop words generated tokens ['ca', 'nt'] not in stop_words.\n",
      "  warnings.warn(\n"
     ]
    },
    {
     "name": "stdout",
     "output_type": "stream",
     "text": [
      "[CV 1/5] END classifier__estimator=SGDClassifier(), classifier__estimator__loss=modified_huber, classifier__estimator__max_iter=80, classifier__estimator__penalty=elasticnet, classifier__estimator__tol=0.0001, vectorizer__max_df=1.0, vectorizer__norm=l2, vectorizer__stop_words=english, vectorizer__tokenizer=<function spacy_tokenizer at 0x0000023CD53BE340>;, score=0.719 total time=   2.3s\n"
     ]
    },
    {
     "name": "stderr",
     "output_type": "stream",
     "text": [
      "C:\\Users\\whitl\\anaconda3\\Lib\\site-packages\\sklearn\\feature_extraction\\text.py:525: UserWarning: The parameter 'token_pattern' will not be used since 'tokenizer' is not None'\n",
      "  warnings.warn(\n",
      "C:\\Users\\whitl\\anaconda3\\Lib\\site-packages\\sklearn\\feature_extraction\\text.py:408: UserWarning: Your stop_words may be inconsistent with your preprocessing. Tokenizing the stop words generated tokens ['ca', 'nt'] not in stop_words.\n",
      "  warnings.warn(\n"
     ]
    },
    {
     "name": "stdout",
     "output_type": "stream",
     "text": [
      "[CV 2/5] END classifier__estimator=SGDClassifier(), classifier__estimator__loss=modified_huber, classifier__estimator__max_iter=80, classifier__estimator__penalty=elasticnet, classifier__estimator__tol=0.0001, vectorizer__max_df=1.0, vectorizer__norm=l2, vectorizer__stop_words=english, vectorizer__tokenizer=<function spacy_tokenizer at 0x0000023CD53BE340>;, score=0.594 total time=   2.4s\n"
     ]
    },
    {
     "name": "stderr",
     "output_type": "stream",
     "text": [
      "C:\\Users\\whitl\\anaconda3\\Lib\\site-packages\\sklearn\\feature_extraction\\text.py:525: UserWarning: The parameter 'token_pattern' will not be used since 'tokenizer' is not None'\n",
      "  warnings.warn(\n",
      "C:\\Users\\whitl\\anaconda3\\Lib\\site-packages\\sklearn\\feature_extraction\\text.py:408: UserWarning: Your stop_words may be inconsistent with your preprocessing. Tokenizing the stop words generated tokens ['ca', 'nt'] not in stop_words.\n",
      "  warnings.warn(\n"
     ]
    },
    {
     "name": "stdout",
     "output_type": "stream",
     "text": [
      "[CV 3/5] END classifier__estimator=SGDClassifier(), classifier__estimator__loss=modified_huber, classifier__estimator__max_iter=80, classifier__estimator__penalty=elasticnet, classifier__estimator__tol=0.0001, vectorizer__max_df=1.0, vectorizer__norm=l2, vectorizer__stop_words=english, vectorizer__tokenizer=<function spacy_tokenizer at 0x0000023CD53BE340>;, score=0.531 total time=   2.2s\n"
     ]
    },
    {
     "name": "stderr",
     "output_type": "stream",
     "text": [
      "C:\\Users\\whitl\\anaconda3\\Lib\\site-packages\\sklearn\\feature_extraction\\text.py:525: UserWarning: The parameter 'token_pattern' will not be used since 'tokenizer' is not None'\n",
      "  warnings.warn(\n",
      "C:\\Users\\whitl\\anaconda3\\Lib\\site-packages\\sklearn\\feature_extraction\\text.py:408: UserWarning: Your stop_words may be inconsistent with your preprocessing. Tokenizing the stop words generated tokens ['ca', 'nt'] not in stop_words.\n",
      "  warnings.warn(\n"
     ]
    },
    {
     "name": "stdout",
     "output_type": "stream",
     "text": [
      "[CV 4/5] END classifier__estimator=SGDClassifier(), classifier__estimator__loss=modified_huber, classifier__estimator__max_iter=80, classifier__estimator__penalty=elasticnet, classifier__estimator__tol=0.0001, vectorizer__max_df=1.0, vectorizer__norm=l2, vectorizer__stop_words=english, vectorizer__tokenizer=<function spacy_tokenizer at 0x0000023CD53BE340>;, score=0.656 total time=   2.2s\n"
     ]
    },
    {
     "name": "stderr",
     "output_type": "stream",
     "text": [
      "C:\\Users\\whitl\\anaconda3\\Lib\\site-packages\\sklearn\\feature_extraction\\text.py:525: UserWarning: The parameter 'token_pattern' will not be used since 'tokenizer' is not None'\n",
      "  warnings.warn(\n",
      "C:\\Users\\whitl\\anaconda3\\Lib\\site-packages\\sklearn\\feature_extraction\\text.py:408: UserWarning: Your stop_words may be inconsistent with your preprocessing. Tokenizing the stop words generated tokens ['ca', 'nt'] not in stop_words.\n",
      "  warnings.warn(\n"
     ]
    },
    {
     "name": "stdout",
     "output_type": "stream",
     "text": [
      "[CV 5/5] END classifier__estimator=SGDClassifier(), classifier__estimator__loss=modified_huber, classifier__estimator__max_iter=80, classifier__estimator__penalty=elasticnet, classifier__estimator__tol=0.0001, vectorizer__max_df=1.0, vectorizer__norm=l2, vectorizer__stop_words=english, vectorizer__tokenizer=<function spacy_tokenizer at 0x0000023CD53BE340>;, score=0.625 total time=   2.1s\n"
     ]
    },
    {
     "name": "stderr",
     "output_type": "stream",
     "text": [
      "C:\\Users\\whitl\\anaconda3\\Lib\\site-packages\\sklearn\\feature_extraction\\text.py:525: UserWarning: The parameter 'token_pattern' will not be used since 'tokenizer' is not None'\n",
      "  warnings.warn(\n"
     ]
    },
    {
     "name": "stdout",
     "output_type": "stream",
     "text": [
      "[CV 1/5] END classifier__estimator=SGDClassifier(), classifier__estimator__loss=modified_huber, classifier__estimator__max_iter=80, classifier__estimator__penalty=elasticnet, classifier__estimator__tol=0.0001, vectorizer__max_df=1.0, vectorizer__norm=l2, vectorizer__stop_words=None, vectorizer__tokenizer=<function spacy_tokenizer at 0x0000023CD53BE340>;, score=0.656 total time=   0.8s\n"
     ]
    },
    {
     "name": "stderr",
     "output_type": "stream",
     "text": [
      "C:\\Users\\whitl\\anaconda3\\Lib\\site-packages\\sklearn\\feature_extraction\\text.py:525: UserWarning: The parameter 'token_pattern' will not be used since 'tokenizer' is not None'\n",
      "  warnings.warn(\n"
     ]
    },
    {
     "name": "stdout",
     "output_type": "stream",
     "text": [
      "[CV 2/5] END classifier__estimator=SGDClassifier(), classifier__estimator__loss=modified_huber, classifier__estimator__max_iter=80, classifier__estimator__penalty=elasticnet, classifier__estimator__tol=0.0001, vectorizer__max_df=1.0, vectorizer__norm=l2, vectorizer__stop_words=None, vectorizer__tokenizer=<function spacy_tokenizer at 0x0000023CD53BE340>;, score=0.562 total time=   0.9s\n"
     ]
    },
    {
     "name": "stderr",
     "output_type": "stream",
     "text": [
      "C:\\Users\\whitl\\anaconda3\\Lib\\site-packages\\sklearn\\feature_extraction\\text.py:525: UserWarning: The parameter 'token_pattern' will not be used since 'tokenizer' is not None'\n",
      "  warnings.warn(\n"
     ]
    },
    {
     "name": "stdout",
     "output_type": "stream",
     "text": [
      "[CV 3/5] END classifier__estimator=SGDClassifier(), classifier__estimator__loss=modified_huber, classifier__estimator__max_iter=80, classifier__estimator__penalty=elasticnet, classifier__estimator__tol=0.0001, vectorizer__max_df=1.0, vectorizer__norm=l2, vectorizer__stop_words=None, vectorizer__tokenizer=<function spacy_tokenizer at 0x0000023CD53BE340>;, score=0.562 total time=   0.9s\n"
     ]
    },
    {
     "name": "stderr",
     "output_type": "stream",
     "text": [
      "C:\\Users\\whitl\\anaconda3\\Lib\\site-packages\\sklearn\\feature_extraction\\text.py:525: UserWarning: The parameter 'token_pattern' will not be used since 'tokenizer' is not None'\n",
      "  warnings.warn(\n"
     ]
    },
    {
     "name": "stdout",
     "output_type": "stream",
     "text": [
      "[CV 4/5] END classifier__estimator=SGDClassifier(), classifier__estimator__loss=modified_huber, classifier__estimator__max_iter=80, classifier__estimator__penalty=elasticnet, classifier__estimator__tol=0.0001, vectorizer__max_df=1.0, vectorizer__norm=l2, vectorizer__stop_words=None, vectorizer__tokenizer=<function spacy_tokenizer at 0x0000023CD53BE340>;, score=0.594 total time=   0.9s\n"
     ]
    },
    {
     "name": "stderr",
     "output_type": "stream",
     "text": [
      "C:\\Users\\whitl\\anaconda3\\Lib\\site-packages\\sklearn\\feature_extraction\\text.py:525: UserWarning: The parameter 'token_pattern' will not be used since 'tokenizer' is not None'\n",
      "  warnings.warn(\n"
     ]
    },
    {
     "name": "stdout",
     "output_type": "stream",
     "text": [
      "[CV 5/5] END classifier__estimator=SGDClassifier(), classifier__estimator__loss=modified_huber, classifier__estimator__max_iter=80, classifier__estimator__penalty=elasticnet, classifier__estimator__tol=0.0001, vectorizer__max_df=1.0, vectorizer__norm=l2, vectorizer__stop_words=None, vectorizer__tokenizer=<function spacy_tokenizer at 0x0000023CD53BE340>;, score=0.625 total time=   0.9s\n"
     ]
    },
    {
     "name": "stderr",
     "output_type": "stream",
     "text": [
      "C:\\Users\\whitl\\anaconda3\\Lib\\site-packages\\sklearn\\feature_extraction\\text.py:525: UserWarning: The parameter 'token_pattern' will not be used since 'tokenizer' is not None'\n",
      "  warnings.warn(\n",
      "C:\\Users\\whitl\\anaconda3\\Lib\\site-packages\\sklearn\\feature_extraction\\text.py:408: UserWarning: Your stop_words may be inconsistent with your preprocessing. Tokenizing the stop words generated tokens ['ca', 'nt'] not in stop_words.\n",
      "  warnings.warn(\n"
     ]
    },
    {
     "name": "stdout",
     "output_type": "stream",
     "text": [
      "[CV 1/5] END classifier__estimator=SGDClassifier(), classifier__estimator__loss=modified_huber, classifier__estimator__max_iter=80, classifier__estimator__penalty=l1, classifier__estimator__tol=0.0001, vectorizer__max_df=1.0, vectorizer__norm=l1, vectorizer__stop_words=english, vectorizer__tokenizer=<function spacy_tokenizer at 0x0000023CD53BE340>;, score=0.719 total time=   2.1s\n"
     ]
    },
    {
     "name": "stderr",
     "output_type": "stream",
     "text": [
      "C:\\Users\\whitl\\anaconda3\\Lib\\site-packages\\sklearn\\feature_extraction\\text.py:525: UserWarning: The parameter 'token_pattern' will not be used since 'tokenizer' is not None'\n",
      "  warnings.warn(\n",
      "C:\\Users\\whitl\\anaconda3\\Lib\\site-packages\\sklearn\\feature_extraction\\text.py:408: UserWarning: Your stop_words may be inconsistent with your preprocessing. Tokenizing the stop words generated tokens ['ca', 'nt'] not in stop_words.\n",
      "  warnings.warn(\n"
     ]
    },
    {
     "name": "stdout",
     "output_type": "stream",
     "text": [
      "[CV 2/5] END classifier__estimator=SGDClassifier(), classifier__estimator__loss=modified_huber, classifier__estimator__max_iter=80, classifier__estimator__penalty=l1, classifier__estimator__tol=0.0001, vectorizer__max_df=1.0, vectorizer__norm=l1, vectorizer__stop_words=english, vectorizer__tokenizer=<function spacy_tokenizer at 0x0000023CD53BE340>;, score=0.531 total time=   2.2s\n"
     ]
    },
    {
     "name": "stderr",
     "output_type": "stream",
     "text": [
      "C:\\Users\\whitl\\anaconda3\\Lib\\site-packages\\sklearn\\feature_extraction\\text.py:525: UserWarning: The parameter 'token_pattern' will not be used since 'tokenizer' is not None'\n",
      "  warnings.warn(\n",
      "C:\\Users\\whitl\\anaconda3\\Lib\\site-packages\\sklearn\\feature_extraction\\text.py:408: UserWarning: Your stop_words may be inconsistent with your preprocessing. Tokenizing the stop words generated tokens ['ca', 'nt'] not in stop_words.\n",
      "  warnings.warn(\n"
     ]
    },
    {
     "name": "stdout",
     "output_type": "stream",
     "text": [
      "[CV 3/5] END classifier__estimator=SGDClassifier(), classifier__estimator__loss=modified_huber, classifier__estimator__max_iter=80, classifier__estimator__penalty=l1, classifier__estimator__tol=0.0001, vectorizer__max_df=1.0, vectorizer__norm=l1, vectorizer__stop_words=english, vectorizer__tokenizer=<function spacy_tokenizer at 0x0000023CD53BE340>;, score=0.562 total time=   2.2s\n"
     ]
    },
    {
     "name": "stderr",
     "output_type": "stream",
     "text": [
      "C:\\Users\\whitl\\anaconda3\\Lib\\site-packages\\sklearn\\feature_extraction\\text.py:525: UserWarning: The parameter 'token_pattern' will not be used since 'tokenizer' is not None'\n",
      "  warnings.warn(\n",
      "C:\\Users\\whitl\\anaconda3\\Lib\\site-packages\\sklearn\\feature_extraction\\text.py:408: UserWarning: Your stop_words may be inconsistent with your preprocessing. Tokenizing the stop words generated tokens ['ca', 'nt'] not in stop_words.\n",
      "  warnings.warn(\n"
     ]
    },
    {
     "name": "stdout",
     "output_type": "stream",
     "text": [
      "[CV 4/5] END classifier__estimator=SGDClassifier(), classifier__estimator__loss=modified_huber, classifier__estimator__max_iter=80, classifier__estimator__penalty=l1, classifier__estimator__tol=0.0001, vectorizer__max_df=1.0, vectorizer__norm=l1, vectorizer__stop_words=english, vectorizer__tokenizer=<function spacy_tokenizer at 0x0000023CD53BE340>;, score=0.562 total time=   2.4s\n"
     ]
    },
    {
     "name": "stderr",
     "output_type": "stream",
     "text": [
      "C:\\Users\\whitl\\anaconda3\\Lib\\site-packages\\sklearn\\feature_extraction\\text.py:525: UserWarning: The parameter 'token_pattern' will not be used since 'tokenizer' is not None'\n",
      "  warnings.warn(\n",
      "C:\\Users\\whitl\\anaconda3\\Lib\\site-packages\\sklearn\\feature_extraction\\text.py:408: UserWarning: Your stop_words may be inconsistent with your preprocessing. Tokenizing the stop words generated tokens ['ca', 'nt'] not in stop_words.\n",
      "  warnings.warn(\n"
     ]
    },
    {
     "name": "stdout",
     "output_type": "stream",
     "text": [
      "[CV 5/5] END classifier__estimator=SGDClassifier(), classifier__estimator__loss=modified_huber, classifier__estimator__max_iter=80, classifier__estimator__penalty=l1, classifier__estimator__tol=0.0001, vectorizer__max_df=1.0, vectorizer__norm=l1, vectorizer__stop_words=english, vectorizer__tokenizer=<function spacy_tokenizer at 0x0000023CD53BE340>;, score=0.594 total time=   2.7s\n"
     ]
    },
    {
     "name": "stderr",
     "output_type": "stream",
     "text": [
      "C:\\Users\\whitl\\anaconda3\\Lib\\site-packages\\sklearn\\feature_extraction\\text.py:525: UserWarning: The parameter 'token_pattern' will not be used since 'tokenizer' is not None'\n",
      "  warnings.warn(\n"
     ]
    },
    {
     "name": "stdout",
     "output_type": "stream",
     "text": [
      "[CV 1/5] END classifier__estimator=SGDClassifier(), classifier__estimator__loss=modified_huber, classifier__estimator__max_iter=80, classifier__estimator__penalty=l1, classifier__estimator__tol=0.0001, vectorizer__max_df=1.0, vectorizer__norm=l1, vectorizer__stop_words=None, vectorizer__tokenizer=<function spacy_tokenizer at 0x0000023CD53BE340>;, score=0.688 total time=   0.9s\n"
     ]
    },
    {
     "name": "stderr",
     "output_type": "stream",
     "text": [
      "C:\\Users\\whitl\\anaconda3\\Lib\\site-packages\\sklearn\\feature_extraction\\text.py:525: UserWarning: The parameter 'token_pattern' will not be used since 'tokenizer' is not None'\n",
      "  warnings.warn(\n"
     ]
    },
    {
     "name": "stdout",
     "output_type": "stream",
     "text": [
      "[CV 2/5] END classifier__estimator=SGDClassifier(), classifier__estimator__loss=modified_huber, classifier__estimator__max_iter=80, classifier__estimator__penalty=l1, classifier__estimator__tol=0.0001, vectorizer__max_df=1.0, vectorizer__norm=l1, vectorizer__stop_words=None, vectorizer__tokenizer=<function spacy_tokenizer at 0x0000023CD53BE340>;, score=0.562 total time=   1.0s\n"
     ]
    },
    {
     "name": "stderr",
     "output_type": "stream",
     "text": [
      "C:\\Users\\whitl\\anaconda3\\Lib\\site-packages\\sklearn\\feature_extraction\\text.py:525: UserWarning: The parameter 'token_pattern' will not be used since 'tokenizer' is not None'\n",
      "  warnings.warn(\n"
     ]
    },
    {
     "name": "stdout",
     "output_type": "stream",
     "text": [
      "[CV 3/5] END classifier__estimator=SGDClassifier(), classifier__estimator__loss=modified_huber, classifier__estimator__max_iter=80, classifier__estimator__penalty=l1, classifier__estimator__tol=0.0001, vectorizer__max_df=1.0, vectorizer__norm=l1, vectorizer__stop_words=None, vectorizer__tokenizer=<function spacy_tokenizer at 0x0000023CD53BE340>;, score=0.562 total time=   0.9s\n"
     ]
    },
    {
     "name": "stderr",
     "output_type": "stream",
     "text": [
      "C:\\Users\\whitl\\anaconda3\\Lib\\site-packages\\sklearn\\feature_extraction\\text.py:525: UserWarning: The parameter 'token_pattern' will not be used since 'tokenizer' is not None'\n",
      "  warnings.warn(\n"
     ]
    },
    {
     "name": "stdout",
     "output_type": "stream",
     "text": [
      "[CV 4/5] END classifier__estimator=SGDClassifier(), classifier__estimator__loss=modified_huber, classifier__estimator__max_iter=80, classifier__estimator__penalty=l1, classifier__estimator__tol=0.0001, vectorizer__max_df=1.0, vectorizer__norm=l1, vectorizer__stop_words=None, vectorizer__tokenizer=<function spacy_tokenizer at 0x0000023CD53BE340>;, score=0.594 total time=   0.9s\n"
     ]
    },
    {
     "name": "stderr",
     "output_type": "stream",
     "text": [
      "C:\\Users\\whitl\\anaconda3\\Lib\\site-packages\\sklearn\\feature_extraction\\text.py:525: UserWarning: The parameter 'token_pattern' will not be used since 'tokenizer' is not None'\n",
      "  warnings.warn(\n"
     ]
    },
    {
     "name": "stdout",
     "output_type": "stream",
     "text": [
      "[CV 5/5] END classifier__estimator=SGDClassifier(), classifier__estimator__loss=modified_huber, classifier__estimator__max_iter=80, classifier__estimator__penalty=l1, classifier__estimator__tol=0.0001, vectorizer__max_df=1.0, vectorizer__norm=l1, vectorizer__stop_words=None, vectorizer__tokenizer=<function spacy_tokenizer at 0x0000023CD53BE340>;, score=0.625 total time=   0.9s\n"
     ]
    },
    {
     "name": "stderr",
     "output_type": "stream",
     "text": [
      "C:\\Users\\whitl\\anaconda3\\Lib\\site-packages\\sklearn\\feature_extraction\\text.py:525: UserWarning: The parameter 'token_pattern' will not be used since 'tokenizer' is not None'\n",
      "  warnings.warn(\n",
      "C:\\Users\\whitl\\anaconda3\\Lib\\site-packages\\sklearn\\feature_extraction\\text.py:408: UserWarning: Your stop_words may be inconsistent with your preprocessing. Tokenizing the stop words generated tokens ['ca', 'nt'] not in stop_words.\n",
      "  warnings.warn(\n"
     ]
    },
    {
     "name": "stdout",
     "output_type": "stream",
     "text": [
      "[CV 1/5] END classifier__estimator=SGDClassifier(), classifier__estimator__loss=modified_huber, classifier__estimator__max_iter=80, classifier__estimator__penalty=l1, classifier__estimator__tol=0.0001, vectorizer__max_df=1.0, vectorizer__norm=l2, vectorizer__stop_words=english, vectorizer__tokenizer=<function spacy_tokenizer at 0x0000023CD53BE340>;, score=0.750 total time=   2.7s\n"
     ]
    },
    {
     "name": "stderr",
     "output_type": "stream",
     "text": [
      "C:\\Users\\whitl\\anaconda3\\Lib\\site-packages\\sklearn\\feature_extraction\\text.py:525: UserWarning: The parameter 'token_pattern' will not be used since 'tokenizer' is not None'\n",
      "  warnings.warn(\n",
      "C:\\Users\\whitl\\anaconda3\\Lib\\site-packages\\sklearn\\feature_extraction\\text.py:408: UserWarning: Your stop_words may be inconsistent with your preprocessing. Tokenizing the stop words generated tokens ['ca', 'nt'] not in stop_words.\n",
      "  warnings.warn(\n"
     ]
    },
    {
     "name": "stdout",
     "output_type": "stream",
     "text": [
      "[CV 2/5] END classifier__estimator=SGDClassifier(), classifier__estimator__loss=modified_huber, classifier__estimator__max_iter=80, classifier__estimator__penalty=l1, classifier__estimator__tol=0.0001, vectorizer__max_df=1.0, vectorizer__norm=l2, vectorizer__stop_words=english, vectorizer__tokenizer=<function spacy_tokenizer at 0x0000023CD53BE340>;, score=0.594 total time=   2.3s\n"
     ]
    },
    {
     "name": "stderr",
     "output_type": "stream",
     "text": [
      "C:\\Users\\whitl\\anaconda3\\Lib\\site-packages\\sklearn\\feature_extraction\\text.py:525: UserWarning: The parameter 'token_pattern' will not be used since 'tokenizer' is not None'\n",
      "  warnings.warn(\n",
      "C:\\Users\\whitl\\anaconda3\\Lib\\site-packages\\sklearn\\feature_extraction\\text.py:408: UserWarning: Your stop_words may be inconsistent with your preprocessing. Tokenizing the stop words generated tokens ['ca', 'nt'] not in stop_words.\n",
      "  warnings.warn(\n"
     ]
    },
    {
     "name": "stdout",
     "output_type": "stream",
     "text": [
      "[CV 3/5] END classifier__estimator=SGDClassifier(), classifier__estimator__loss=modified_huber, classifier__estimator__max_iter=80, classifier__estimator__penalty=l1, classifier__estimator__tol=0.0001, vectorizer__max_df=1.0, vectorizer__norm=l2, vectorizer__stop_words=english, vectorizer__tokenizer=<function spacy_tokenizer at 0x0000023CD53BE340>;, score=0.500 total time=   2.2s\n"
     ]
    },
    {
     "name": "stderr",
     "output_type": "stream",
     "text": [
      "C:\\Users\\whitl\\anaconda3\\Lib\\site-packages\\sklearn\\feature_extraction\\text.py:525: UserWarning: The parameter 'token_pattern' will not be used since 'tokenizer' is not None'\n",
      "  warnings.warn(\n",
      "C:\\Users\\whitl\\anaconda3\\Lib\\site-packages\\sklearn\\feature_extraction\\text.py:408: UserWarning: Your stop_words may be inconsistent with your preprocessing. Tokenizing the stop words generated tokens ['ca', 'nt'] not in stop_words.\n",
      "  warnings.warn(\n"
     ]
    },
    {
     "name": "stdout",
     "output_type": "stream",
     "text": [
      "[CV 4/5] END classifier__estimator=SGDClassifier(), classifier__estimator__loss=modified_huber, classifier__estimator__max_iter=80, classifier__estimator__penalty=l1, classifier__estimator__tol=0.0001, vectorizer__max_df=1.0, vectorizer__norm=l2, vectorizer__stop_words=english, vectorizer__tokenizer=<function spacy_tokenizer at 0x0000023CD53BE340>;, score=0.594 total time=   2.2s\n"
     ]
    },
    {
     "name": "stderr",
     "output_type": "stream",
     "text": [
      "C:\\Users\\whitl\\anaconda3\\Lib\\site-packages\\sklearn\\feature_extraction\\text.py:525: UserWarning: The parameter 'token_pattern' will not be used since 'tokenizer' is not None'\n",
      "  warnings.warn(\n",
      "C:\\Users\\whitl\\anaconda3\\Lib\\site-packages\\sklearn\\feature_extraction\\text.py:408: UserWarning: Your stop_words may be inconsistent with your preprocessing. Tokenizing the stop words generated tokens ['ca', 'nt'] not in stop_words.\n",
      "  warnings.warn(\n"
     ]
    },
    {
     "name": "stdout",
     "output_type": "stream",
     "text": [
      "[CV 5/5] END classifier__estimator=SGDClassifier(), classifier__estimator__loss=modified_huber, classifier__estimator__max_iter=80, classifier__estimator__penalty=l1, classifier__estimator__tol=0.0001, vectorizer__max_df=1.0, vectorizer__norm=l2, vectorizer__stop_words=english, vectorizer__tokenizer=<function spacy_tokenizer at 0x0000023CD53BE340>;, score=0.531 total time=   2.2s\n"
     ]
    },
    {
     "name": "stderr",
     "output_type": "stream",
     "text": [
      "C:\\Users\\whitl\\anaconda3\\Lib\\site-packages\\sklearn\\feature_extraction\\text.py:525: UserWarning: The parameter 'token_pattern' will not be used since 'tokenizer' is not None'\n",
      "  warnings.warn(\n"
     ]
    },
    {
     "name": "stdout",
     "output_type": "stream",
     "text": [
      "[CV 1/5] END classifier__estimator=SGDClassifier(), classifier__estimator__loss=modified_huber, classifier__estimator__max_iter=80, classifier__estimator__penalty=l1, classifier__estimator__tol=0.0001, vectorizer__max_df=1.0, vectorizer__norm=l2, vectorizer__stop_words=None, vectorizer__tokenizer=<function spacy_tokenizer at 0x0000023CD53BE340>;, score=0.719 total time=   0.9s\n"
     ]
    },
    {
     "name": "stderr",
     "output_type": "stream",
     "text": [
      "C:\\Users\\whitl\\anaconda3\\Lib\\site-packages\\sklearn\\feature_extraction\\text.py:525: UserWarning: The parameter 'token_pattern' will not be used since 'tokenizer' is not None'\n",
      "  warnings.warn(\n"
     ]
    },
    {
     "name": "stdout",
     "output_type": "stream",
     "text": [
      "[CV 2/5] END classifier__estimator=SGDClassifier(), classifier__estimator__loss=modified_huber, classifier__estimator__max_iter=80, classifier__estimator__penalty=l1, classifier__estimator__tol=0.0001, vectorizer__max_df=1.0, vectorizer__norm=l2, vectorizer__stop_words=None, vectorizer__tokenizer=<function spacy_tokenizer at 0x0000023CD53BE340>;, score=0.594 total time=   0.9s\n"
     ]
    },
    {
     "name": "stderr",
     "output_type": "stream",
     "text": [
      "C:\\Users\\whitl\\anaconda3\\Lib\\site-packages\\sklearn\\feature_extraction\\text.py:525: UserWarning: The parameter 'token_pattern' will not be used since 'tokenizer' is not None'\n",
      "  warnings.warn(\n"
     ]
    },
    {
     "name": "stdout",
     "output_type": "stream",
     "text": [
      "[CV 3/5] END classifier__estimator=SGDClassifier(), classifier__estimator__loss=modified_huber, classifier__estimator__max_iter=80, classifier__estimator__penalty=l1, classifier__estimator__tol=0.0001, vectorizer__max_df=1.0, vectorizer__norm=l2, vectorizer__stop_words=None, vectorizer__tokenizer=<function spacy_tokenizer at 0x0000023CD53BE340>;, score=0.562 total time=   0.9s\n"
     ]
    },
    {
     "name": "stderr",
     "output_type": "stream",
     "text": [
      "C:\\Users\\whitl\\anaconda3\\Lib\\site-packages\\sklearn\\feature_extraction\\text.py:525: UserWarning: The parameter 'token_pattern' will not be used since 'tokenizer' is not None'\n",
      "  warnings.warn(\n"
     ]
    },
    {
     "name": "stdout",
     "output_type": "stream",
     "text": [
      "[CV 4/5] END classifier__estimator=SGDClassifier(), classifier__estimator__loss=modified_huber, classifier__estimator__max_iter=80, classifier__estimator__penalty=l1, classifier__estimator__tol=0.0001, vectorizer__max_df=1.0, vectorizer__norm=l2, vectorizer__stop_words=None, vectorizer__tokenizer=<function spacy_tokenizer at 0x0000023CD53BE340>;, score=0.688 total time=   0.9s\n"
     ]
    },
    {
     "name": "stderr",
     "output_type": "stream",
     "text": [
      "C:\\Users\\whitl\\anaconda3\\Lib\\site-packages\\sklearn\\feature_extraction\\text.py:525: UserWarning: The parameter 'token_pattern' will not be used since 'tokenizer' is not None'\n",
      "  warnings.warn(\n"
     ]
    },
    {
     "name": "stdout",
     "output_type": "stream",
     "text": [
      "[CV 5/5] END classifier__estimator=SGDClassifier(), classifier__estimator__loss=modified_huber, classifier__estimator__max_iter=80, classifier__estimator__penalty=l1, classifier__estimator__tol=0.0001, vectorizer__max_df=1.0, vectorizer__norm=l2, vectorizer__stop_words=None, vectorizer__tokenizer=<function spacy_tokenizer at 0x0000023CD53BE340>;, score=0.688 total time=   0.9s\n"
     ]
    },
    {
     "name": "stderr",
     "output_type": "stream",
     "text": [
      "C:\\Users\\whitl\\anaconda3\\Lib\\site-packages\\sklearn\\feature_extraction\\text.py:525: UserWarning: The parameter 'token_pattern' will not be used since 'tokenizer' is not None'\n",
      "  warnings.warn(\n"
     ]
    },
    {
     "name": "stdout",
     "output_type": "stream",
     "text": [
      "[CV 1/5] END classifier__estimator=MultinomialNB(), classifier__estimator__alpha=0.01, vectorizer__max_df=1.0, vectorizer__norm=l1, vectorizer__stop_words=None, vectorizer__tokenizer=<function spacy_tokenizer at 0x0000023CD53BE340>;, score=0.656 total time=   0.9s\n"
     ]
    },
    {
     "name": "stderr",
     "output_type": "stream",
     "text": [
      "C:\\Users\\whitl\\anaconda3\\Lib\\site-packages\\sklearn\\feature_extraction\\text.py:525: UserWarning: The parameter 'token_pattern' will not be used since 'tokenizer' is not None'\n",
      "  warnings.warn(\n"
     ]
    },
    {
     "name": "stdout",
     "output_type": "stream",
     "text": [
      "[CV 2/5] END classifier__estimator=MultinomialNB(), classifier__estimator__alpha=0.01, vectorizer__max_df=1.0, vectorizer__norm=l1, vectorizer__stop_words=None, vectorizer__tokenizer=<function spacy_tokenizer at 0x0000023CD53BE340>;, score=0.562 total time=   0.9s\n"
     ]
    },
    {
     "name": "stderr",
     "output_type": "stream",
     "text": [
      "C:\\Users\\whitl\\anaconda3\\Lib\\site-packages\\sklearn\\feature_extraction\\text.py:525: UserWarning: The parameter 'token_pattern' will not be used since 'tokenizer' is not None'\n",
      "  warnings.warn(\n"
     ]
    },
    {
     "name": "stdout",
     "output_type": "stream",
     "text": [
      "[CV 3/5] END classifier__estimator=MultinomialNB(), classifier__estimator__alpha=0.01, vectorizer__max_df=1.0, vectorizer__norm=l1, vectorizer__stop_words=None, vectorizer__tokenizer=<function spacy_tokenizer at 0x0000023CD53BE340>;, score=0.562 total time=   0.9s\n"
     ]
    },
    {
     "name": "stderr",
     "output_type": "stream",
     "text": [
      "C:\\Users\\whitl\\anaconda3\\Lib\\site-packages\\sklearn\\feature_extraction\\text.py:525: UserWarning: The parameter 'token_pattern' will not be used since 'tokenizer' is not None'\n",
      "  warnings.warn(\n"
     ]
    },
    {
     "name": "stdout",
     "output_type": "stream",
     "text": [
      "[CV 4/5] END classifier__estimator=MultinomialNB(), classifier__estimator__alpha=0.01, vectorizer__max_df=1.0, vectorizer__norm=l1, vectorizer__stop_words=None, vectorizer__tokenizer=<function spacy_tokenizer at 0x0000023CD53BE340>;, score=0.656 total time=   0.8s\n"
     ]
    },
    {
     "name": "stderr",
     "output_type": "stream",
     "text": [
      "C:\\Users\\whitl\\anaconda3\\Lib\\site-packages\\sklearn\\feature_extraction\\text.py:525: UserWarning: The parameter 'token_pattern' will not be used since 'tokenizer' is not None'\n",
      "  warnings.warn(\n"
     ]
    },
    {
     "name": "stdout",
     "output_type": "stream",
     "text": [
      "[CV 5/5] END classifier__estimator=MultinomialNB(), classifier__estimator__alpha=0.01, vectorizer__max_df=1.0, vectorizer__norm=l1, vectorizer__stop_words=None, vectorizer__tokenizer=<function spacy_tokenizer at 0x0000023CD53BE340>;, score=0.562 total time=   0.9s\n"
     ]
    },
    {
     "name": "stderr",
     "output_type": "stream",
     "text": [
      "C:\\Users\\whitl\\anaconda3\\Lib\\site-packages\\sklearn\\feature_extraction\\text.py:525: UserWarning: The parameter 'token_pattern' will not be used since 'tokenizer' is not None'\n",
      "  warnings.warn(\n"
     ]
    },
    {
     "name": "stdout",
     "output_type": "stream",
     "text": [
      "[CV 1/5] END classifier__estimator=MultinomialNB(), classifier__estimator__alpha=0.01, vectorizer__max_df=1.0, vectorizer__norm=l2, vectorizer__stop_words=None, vectorizer__tokenizer=<function spacy_tokenizer at 0x0000023CD53BE340>;, score=0.656 total time=   1.0s\n"
     ]
    },
    {
     "name": "stderr",
     "output_type": "stream",
     "text": [
      "C:\\Users\\whitl\\anaconda3\\Lib\\site-packages\\sklearn\\feature_extraction\\text.py:525: UserWarning: The parameter 'token_pattern' will not be used since 'tokenizer' is not None'\n",
      "  warnings.warn(\n"
     ]
    },
    {
     "name": "stdout",
     "output_type": "stream",
     "text": [
      "[CV 2/5] END classifier__estimator=MultinomialNB(), classifier__estimator__alpha=0.01, vectorizer__max_df=1.0, vectorizer__norm=l2, vectorizer__stop_words=None, vectorizer__tokenizer=<function spacy_tokenizer at 0x0000023CD53BE340>;, score=0.594 total time=   0.9s\n"
     ]
    },
    {
     "name": "stderr",
     "output_type": "stream",
     "text": [
      "C:\\Users\\whitl\\anaconda3\\Lib\\site-packages\\sklearn\\feature_extraction\\text.py:525: UserWarning: The parameter 'token_pattern' will not be used since 'tokenizer' is not None'\n",
      "  warnings.warn(\n"
     ]
    },
    {
     "name": "stdout",
     "output_type": "stream",
     "text": [
      "[CV 3/5] END classifier__estimator=MultinomialNB(), classifier__estimator__alpha=0.01, vectorizer__max_df=1.0, vectorizer__norm=l2, vectorizer__stop_words=None, vectorizer__tokenizer=<function spacy_tokenizer at 0x0000023CD53BE340>;, score=0.531 total time=   1.0s\n"
     ]
    },
    {
     "name": "stderr",
     "output_type": "stream",
     "text": [
      "C:\\Users\\whitl\\anaconda3\\Lib\\site-packages\\sklearn\\feature_extraction\\text.py:525: UserWarning: The parameter 'token_pattern' will not be used since 'tokenizer' is not None'\n",
      "  warnings.warn(\n"
     ]
    },
    {
     "name": "stdout",
     "output_type": "stream",
     "text": [
      "[CV 4/5] END classifier__estimator=MultinomialNB(), classifier__estimator__alpha=0.01, vectorizer__max_df=1.0, vectorizer__norm=l2, vectorizer__stop_words=None, vectorizer__tokenizer=<function spacy_tokenizer at 0x0000023CD53BE340>;, score=0.656 total time=   1.0s\n"
     ]
    },
    {
     "name": "stderr",
     "output_type": "stream",
     "text": [
      "C:\\Users\\whitl\\anaconda3\\Lib\\site-packages\\sklearn\\feature_extraction\\text.py:525: UserWarning: The parameter 'token_pattern' will not be used since 'tokenizer' is not None'\n",
      "  warnings.warn(\n"
     ]
    },
    {
     "name": "stdout",
     "output_type": "stream",
     "text": [
      "[CV 5/5] END classifier__estimator=MultinomialNB(), classifier__estimator__alpha=0.01, vectorizer__max_df=1.0, vectorizer__norm=l2, vectorizer__stop_words=None, vectorizer__tokenizer=<function spacy_tokenizer at 0x0000023CD53BE340>;, score=0.562 total time=   0.9s\n"
     ]
    },
    {
     "name": "stderr",
     "output_type": "stream",
     "text": [
      "C:\\Users\\whitl\\anaconda3\\Lib\\site-packages\\sklearn\\feature_extraction\\text.py:525: UserWarning: The parameter 'token_pattern' will not be used since 'tokenizer' is not None'\n",
      "  warnings.warn(\n"
     ]
    },
    {
     "name": "stdout",
     "output_type": "stream",
     "text": [
      "[CV 1/5] END classifier__estimator=MultinomialNB(), classifier__estimator__alpha=0.001, vectorizer__max_df=1.0, vectorizer__norm=l1, vectorizer__stop_words=None, vectorizer__tokenizer=<function spacy_tokenizer at 0x0000023CD53BE340>;, score=0.656 total time=   1.0s\n"
     ]
    },
    {
     "name": "stderr",
     "output_type": "stream",
     "text": [
      "C:\\Users\\whitl\\anaconda3\\Lib\\site-packages\\sklearn\\feature_extraction\\text.py:525: UserWarning: The parameter 'token_pattern' will not be used since 'tokenizer' is not None'\n",
      "  warnings.warn(\n"
     ]
    },
    {
     "name": "stdout",
     "output_type": "stream",
     "text": [
      "[CV 2/5] END classifier__estimator=MultinomialNB(), classifier__estimator__alpha=0.001, vectorizer__max_df=1.0, vectorizer__norm=l1, vectorizer__stop_words=None, vectorizer__tokenizer=<function spacy_tokenizer at 0x0000023CD53BE340>;, score=0.594 total time=   1.0s\n"
     ]
    },
    {
     "name": "stderr",
     "output_type": "stream",
     "text": [
      "C:\\Users\\whitl\\anaconda3\\Lib\\site-packages\\sklearn\\feature_extraction\\text.py:525: UserWarning: The parameter 'token_pattern' will not be used since 'tokenizer' is not None'\n",
      "  warnings.warn(\n"
     ]
    },
    {
     "name": "stdout",
     "output_type": "stream",
     "text": [
      "[CV 3/5] END classifier__estimator=MultinomialNB(), classifier__estimator__alpha=0.001, vectorizer__max_df=1.0, vectorizer__norm=l1, vectorizer__stop_words=None, vectorizer__tokenizer=<function spacy_tokenizer at 0x0000023CD53BE340>;, score=0.531 total time=   0.9s\n"
     ]
    },
    {
     "name": "stderr",
     "output_type": "stream",
     "text": [
      "C:\\Users\\whitl\\anaconda3\\Lib\\site-packages\\sklearn\\feature_extraction\\text.py:525: UserWarning: The parameter 'token_pattern' will not be used since 'tokenizer' is not None'\n",
      "  warnings.warn(\n"
     ]
    },
    {
     "name": "stdout",
     "output_type": "stream",
     "text": [
      "[CV 4/5] END classifier__estimator=MultinomialNB(), classifier__estimator__alpha=0.001, vectorizer__max_df=1.0, vectorizer__norm=l1, vectorizer__stop_words=None, vectorizer__tokenizer=<function spacy_tokenizer at 0x0000023CD53BE340>;, score=0.656 total time=   0.9s\n"
     ]
    },
    {
     "name": "stderr",
     "output_type": "stream",
     "text": [
      "C:\\Users\\whitl\\anaconda3\\Lib\\site-packages\\sklearn\\feature_extraction\\text.py:525: UserWarning: The parameter 'token_pattern' will not be used since 'tokenizer' is not None'\n",
      "  warnings.warn(\n"
     ]
    },
    {
     "name": "stdout",
     "output_type": "stream",
     "text": [
      "[CV 5/5] END classifier__estimator=MultinomialNB(), classifier__estimator__alpha=0.001, vectorizer__max_df=1.0, vectorizer__norm=l1, vectorizer__stop_words=None, vectorizer__tokenizer=<function spacy_tokenizer at 0x0000023CD53BE340>;, score=0.594 total time=   1.0s\n"
     ]
    },
    {
     "name": "stderr",
     "output_type": "stream",
     "text": [
      "C:\\Users\\whitl\\anaconda3\\Lib\\site-packages\\sklearn\\feature_extraction\\text.py:525: UserWarning: The parameter 'token_pattern' will not be used since 'tokenizer' is not None'\n",
      "  warnings.warn(\n"
     ]
    },
    {
     "name": "stdout",
     "output_type": "stream",
     "text": [
      "[CV 1/5] END classifier__estimator=MultinomialNB(), classifier__estimator__alpha=0.001, vectorizer__max_df=1.0, vectorizer__norm=l2, vectorizer__stop_words=None, vectorizer__tokenizer=<function spacy_tokenizer at 0x0000023CD53BE340>;, score=0.656 total time=   0.9s\n"
     ]
    },
    {
     "name": "stderr",
     "output_type": "stream",
     "text": [
      "C:\\Users\\whitl\\anaconda3\\Lib\\site-packages\\sklearn\\feature_extraction\\text.py:525: UserWarning: The parameter 'token_pattern' will not be used since 'tokenizer' is not None'\n",
      "  warnings.warn(\n"
     ]
    },
    {
     "name": "stdout",
     "output_type": "stream",
     "text": [
      "[CV 2/5] END classifier__estimator=MultinomialNB(), classifier__estimator__alpha=0.001, vectorizer__max_df=1.0, vectorizer__norm=l2, vectorizer__stop_words=None, vectorizer__tokenizer=<function spacy_tokenizer at 0x0000023CD53BE340>;, score=0.594 total time=   0.9s\n"
     ]
    },
    {
     "name": "stderr",
     "output_type": "stream",
     "text": [
      "C:\\Users\\whitl\\anaconda3\\Lib\\site-packages\\sklearn\\feature_extraction\\text.py:525: UserWarning: The parameter 'token_pattern' will not be used since 'tokenizer' is not None'\n",
      "  warnings.warn(\n"
     ]
    },
    {
     "name": "stdout",
     "output_type": "stream",
     "text": [
      "[CV 3/5] END classifier__estimator=MultinomialNB(), classifier__estimator__alpha=0.001, vectorizer__max_df=1.0, vectorizer__norm=l2, vectorizer__stop_words=None, vectorizer__tokenizer=<function spacy_tokenizer at 0x0000023CD53BE340>;, score=0.531 total time=   0.9s\n"
     ]
    },
    {
     "name": "stderr",
     "output_type": "stream",
     "text": [
      "C:\\Users\\whitl\\anaconda3\\Lib\\site-packages\\sklearn\\feature_extraction\\text.py:525: UserWarning: The parameter 'token_pattern' will not be used since 'tokenizer' is not None'\n",
      "  warnings.warn(\n"
     ]
    },
    {
     "name": "stdout",
     "output_type": "stream",
     "text": [
      "[CV 4/5] END classifier__estimator=MultinomialNB(), classifier__estimator__alpha=0.001, vectorizer__max_df=1.0, vectorizer__norm=l2, vectorizer__stop_words=None, vectorizer__tokenizer=<function spacy_tokenizer at 0x0000023CD53BE340>;, score=0.656 total time=   0.9s\n"
     ]
    },
    {
     "name": "stderr",
     "output_type": "stream",
     "text": [
      "C:\\Users\\whitl\\anaconda3\\Lib\\site-packages\\sklearn\\feature_extraction\\text.py:525: UserWarning: The parameter 'token_pattern' will not be used since 'tokenizer' is not None'\n",
      "  warnings.warn(\n"
     ]
    },
    {
     "name": "stdout",
     "output_type": "stream",
     "text": [
      "[CV 5/5] END classifier__estimator=MultinomialNB(), classifier__estimator__alpha=0.001, vectorizer__max_df=1.0, vectorizer__norm=l2, vectorizer__stop_words=None, vectorizer__tokenizer=<function spacy_tokenizer at 0x0000023CD53BE340>;, score=0.562 total time=   0.9s\n"
     ]
    },
    {
     "name": "stderr",
     "output_type": "stream",
     "text": [
      "C:\\Users\\whitl\\anaconda3\\Lib\\site-packages\\sklearn\\feature_extraction\\text.py:525: UserWarning: The parameter 'token_pattern' will not be used since 'tokenizer' is not None'\n",
      "  warnings.warn(\n"
     ]
    },
    {
     "name": "stdout",
     "output_type": "stream",
     "text": [
      "[CV 1/5] END classifier__estimator=MultinomialNB(), classifier__estimator__alpha=0.1, vectorizer__max_df=1.0, vectorizer__norm=l1, vectorizer__stop_words=None, vectorizer__tokenizer=<function spacy_tokenizer at 0x0000023CD53BE340>;, score=0.688 total time=   0.9s\n"
     ]
    },
    {
     "name": "stderr",
     "output_type": "stream",
     "text": [
      "C:\\Users\\whitl\\anaconda3\\Lib\\site-packages\\sklearn\\feature_extraction\\text.py:525: UserWarning: The parameter 'token_pattern' will not be used since 'tokenizer' is not None'\n",
      "  warnings.warn(\n"
     ]
    },
    {
     "name": "stdout",
     "output_type": "stream",
     "text": [
      "[CV 2/5] END classifier__estimator=MultinomialNB(), classifier__estimator__alpha=0.1, vectorizer__max_df=1.0, vectorizer__norm=l1, vectorizer__stop_words=None, vectorizer__tokenizer=<function spacy_tokenizer at 0x0000023CD53BE340>;, score=0.594 total time=   0.9s\n"
     ]
    },
    {
     "name": "stderr",
     "output_type": "stream",
     "text": [
      "C:\\Users\\whitl\\anaconda3\\Lib\\site-packages\\sklearn\\feature_extraction\\text.py:525: UserWarning: The parameter 'token_pattern' will not be used since 'tokenizer' is not None'\n",
      "  warnings.warn(\n"
     ]
    },
    {
     "name": "stdout",
     "output_type": "stream",
     "text": [
      "[CV 3/5] END classifier__estimator=MultinomialNB(), classifier__estimator__alpha=0.1, vectorizer__max_df=1.0, vectorizer__norm=l1, vectorizer__stop_words=None, vectorizer__tokenizer=<function spacy_tokenizer at 0x0000023CD53BE340>;, score=0.625 total time=   0.9s\n"
     ]
    },
    {
     "name": "stderr",
     "output_type": "stream",
     "text": [
      "C:\\Users\\whitl\\anaconda3\\Lib\\site-packages\\sklearn\\feature_extraction\\text.py:525: UserWarning: The parameter 'token_pattern' will not be used since 'tokenizer' is not None'\n",
      "  warnings.warn(\n"
     ]
    },
    {
     "name": "stdout",
     "output_type": "stream",
     "text": [
      "[CV 4/5] END classifier__estimator=MultinomialNB(), classifier__estimator__alpha=0.1, vectorizer__max_df=1.0, vectorizer__norm=l1, vectorizer__stop_words=None, vectorizer__tokenizer=<function spacy_tokenizer at 0x0000023CD53BE340>;, score=0.656 total time=   0.9s\n"
     ]
    },
    {
     "name": "stderr",
     "output_type": "stream",
     "text": [
      "C:\\Users\\whitl\\anaconda3\\Lib\\site-packages\\sklearn\\feature_extraction\\text.py:525: UserWarning: The parameter 'token_pattern' will not be used since 'tokenizer' is not None'\n",
      "  warnings.warn(\n"
     ]
    },
    {
     "name": "stdout",
     "output_type": "stream",
     "text": [
      "[CV 5/5] END classifier__estimator=MultinomialNB(), classifier__estimator__alpha=0.1, vectorizer__max_df=1.0, vectorizer__norm=l1, vectorizer__stop_words=None, vectorizer__tokenizer=<function spacy_tokenizer at 0x0000023CD53BE340>;, score=0.531 total time=   0.9s\n"
     ]
    },
    {
     "name": "stderr",
     "output_type": "stream",
     "text": [
      "C:\\Users\\whitl\\anaconda3\\Lib\\site-packages\\sklearn\\feature_extraction\\text.py:525: UserWarning: The parameter 'token_pattern' will not be used since 'tokenizer' is not None'\n",
      "  warnings.warn(\n"
     ]
    },
    {
     "name": "stdout",
     "output_type": "stream",
     "text": [
      "[CV 1/5] END classifier__estimator=MultinomialNB(), classifier__estimator__alpha=0.1, vectorizer__max_df=1.0, vectorizer__norm=l2, vectorizer__stop_words=None, vectorizer__tokenizer=<function spacy_tokenizer at 0x0000023CD53BE340>;, score=0.688 total time=   0.9s\n"
     ]
    },
    {
     "name": "stderr",
     "output_type": "stream",
     "text": [
      "C:\\Users\\whitl\\anaconda3\\Lib\\site-packages\\sklearn\\feature_extraction\\text.py:525: UserWarning: The parameter 'token_pattern' will not be used since 'tokenizer' is not None'\n",
      "  warnings.warn(\n"
     ]
    },
    {
     "name": "stdout",
     "output_type": "stream",
     "text": [
      "[CV 2/5] END classifier__estimator=MultinomialNB(), classifier__estimator__alpha=0.1, vectorizer__max_df=1.0, vectorizer__norm=l2, vectorizer__stop_words=None, vectorizer__tokenizer=<function spacy_tokenizer at 0x0000023CD53BE340>;, score=0.562 total time=   0.9s\n"
     ]
    },
    {
     "name": "stderr",
     "output_type": "stream",
     "text": [
      "C:\\Users\\whitl\\anaconda3\\Lib\\site-packages\\sklearn\\feature_extraction\\text.py:525: UserWarning: The parameter 'token_pattern' will not be used since 'tokenizer' is not None'\n",
      "  warnings.warn(\n"
     ]
    },
    {
     "name": "stdout",
     "output_type": "stream",
     "text": [
      "[CV 3/5] END classifier__estimator=MultinomialNB(), classifier__estimator__alpha=0.1, vectorizer__max_df=1.0, vectorizer__norm=l2, vectorizer__stop_words=None, vectorizer__tokenizer=<function spacy_tokenizer at 0x0000023CD53BE340>;, score=0.562 total time=   0.9s\n"
     ]
    },
    {
     "name": "stderr",
     "output_type": "stream",
     "text": [
      "C:\\Users\\whitl\\anaconda3\\Lib\\site-packages\\sklearn\\feature_extraction\\text.py:525: UserWarning: The parameter 'token_pattern' will not be used since 'tokenizer' is not None'\n",
      "  warnings.warn(\n"
     ]
    },
    {
     "name": "stdout",
     "output_type": "stream",
     "text": [
      "[CV 4/5] END classifier__estimator=MultinomialNB(), classifier__estimator__alpha=0.1, vectorizer__max_df=1.0, vectorizer__norm=l2, vectorizer__stop_words=None, vectorizer__tokenizer=<function spacy_tokenizer at 0x0000023CD53BE340>;, score=0.656 total time=   0.9s\n"
     ]
    },
    {
     "name": "stderr",
     "output_type": "stream",
     "text": [
      "C:\\Users\\whitl\\anaconda3\\Lib\\site-packages\\sklearn\\feature_extraction\\text.py:525: UserWarning: The parameter 'token_pattern' will not be used since 'tokenizer' is not None'\n",
      "  warnings.warn(\n"
     ]
    },
    {
     "name": "stdout",
     "output_type": "stream",
     "text": [
      "[CV 5/5] END classifier__estimator=MultinomialNB(), classifier__estimator__alpha=0.1, vectorizer__max_df=1.0, vectorizer__norm=l2, vectorizer__stop_words=None, vectorizer__tokenizer=<function spacy_tokenizer at 0x0000023CD53BE340>;, score=0.562 total time=   0.9s\n"
     ]
    },
    {
     "name": "stderr",
     "output_type": "stream",
     "text": [
      "C:\\Users\\whitl\\anaconda3\\Lib\\site-packages\\sklearn\\model_selection\\_validation.py:425: FitFailedWarning: \n",
      "120 fits failed out of a total of 390.\n",
      "The score on these train-test partitions for these parameters will be set to nan.\n",
      "If these failures are not expected, you can try to debug them by setting error_score='raise'.\n",
      "\n",
      "Below are more details about the failures:\n",
      "--------------------------------------------------------------------------------\n",
      "120 fits failed with the following error:\n",
      "Traceback (most recent call last):\n",
      "  File \"C:\\Users\\whitl\\anaconda3\\Lib\\site-packages\\sklearn\\model_selection\\_validation.py\", line 732, in _fit_and_score\n",
      "    estimator.fit(X_train, y_train, **fit_params)\n",
      "  File \"C:\\Users\\whitl\\anaconda3\\Lib\\site-packages\\sklearn\\base.py\", line 1151, in wrapper\n",
      "    return fit_method(estimator, *args, **kwargs)\n",
      "           ^^^^^^^^^^^^^^^^^^^^^^^^^^^^^^^^^^^^^^\n",
      "  File \"C:\\Users\\whitl\\anaconda3\\Lib\\site-packages\\sklearn\\pipeline.py\", line 420, in fit\n",
      "    self._final_estimator.fit(Xt, y, **fit_params_last_step)\n",
      "  File \"C:\\Users\\whitl\\AppData\\Local\\Temp\\ipykernel_20340\\1634754409.py\", line 13, in fit\n",
      "    self.estimator.fit(X, y)\n",
      "  File \"C:\\Users\\whitl\\anaconda3\\Lib\\site-packages\\sklearn\\base.py\", line 1144, in wrapper\n",
      "    estimator._validate_params()\n",
      "  File \"C:\\Users\\whitl\\anaconda3\\Lib\\site-packages\\sklearn\\base.py\", line 637, in _validate_params\n",
      "    validate_parameter_constraints(\n",
      "  File \"C:\\Users\\whitl\\anaconda3\\Lib\\site-packages\\sklearn\\utils\\_param_validation.py\", line 95, in validate_parameter_constraints\n",
      "    raise InvalidParameterError(\n",
      "sklearn.utils._param_validation.InvalidParameterError: The 'loss' parameter of SGDClassifier must be a str among {'perceptron', 'modified_huber', 'squared_error', 'squared_epsilon_insensitive', 'huber', 'epsilon_insensitive', 'hinge', 'squared_hinge', 'log_loss'}. Got 'log' instead.\n",
      "\n",
      "  warnings.warn(some_fits_failed_message, FitFailedWarning)\n",
      "C:\\Users\\whitl\\anaconda3\\Lib\\site-packages\\sklearn\\model_selection\\_search.py:976: UserWarning: One or more of the test scores are non-finite: [0.60625 0.625   0.59375 0.6375  0.625   0.63125 0.55625 0.6     0.60625\n",
      " 0.63125 0.625   0.61875 0.59375 0.6125  0.61875 0.6125  0.6375  0.625\n",
      " 0.5875  0.625   0.6125  0.625   0.5875  0.625       nan     nan     nan\n",
      "     nan     nan     nan     nan     nan     nan     nan     nan     nan\n",
      "     nan     nan     nan     nan     nan     nan     nan     nan     nan\n",
      "     nan     nan     nan 0.5875  0.60625 0.575   0.625   0.55    0.6\n",
      " 0.5375  0.56875 0.55625 0.65625 0.5875  0.56875 0.5875  0.6125  0.625\n",
      " 0.59375 0.61875 0.6125  0.625   0.6     0.59375 0.60625 0.59375 0.65\n",
      " 0.6     0.6     0.60625 0.6     0.61875 0.60625]\n",
      "  warnings.warn(\n",
      "C:\\Users\\whitl\\anaconda3\\Lib\\site-packages\\sklearn\\feature_extraction\\text.py:525: UserWarning: The parameter 'token_pattern' will not be used since 'tokenizer' is not None'\n",
      "  warnings.warn(\n"
     ]
    },
    {
     "name": "stdout",
     "output_type": "stream",
     "text": [
      "It takes about 614.687 seconds\n"
     ]
    }
   ],
   "source": [
    "import spacy\n",
    "nlp = spacy.load(\"en_core_web_sm\")\n",
    "def spacy_tokenizer(sentence):\n",
    "    tokens = nlp(sentence)\n",
    "    tokens = [tok.orth_ for tok in tokens if not tok.is_punct and not tok.is_space]\n",
    "    return tokens\n",
    "\n",
    "from sklearn.feature_extraction.text import TfidfVectorizer\n",
    "from sklearn.naive_bayes import MultinomialNB\n",
    "from sklearn.linear_model import SGDClassifier\n",
    "from sklearn.pipeline import Pipeline\n",
    "from sklearn.model_selection import GridSearchCV\n",
    "\n",
    "pipeline = Pipeline ([(\"cleaner\", features()),\n",
    "                 (\"vectorizer\", TfidfVectorizer()),\n",
    "                 (\"classifier\", ClfSwitcher())])\n",
    "\n",
    "parameters = [\n",
    "    {\n",
    "        'vectorizer__tokenizer': [spacy_tokenizer],\n",
    "        'vectorizer__max_df': [1.0],\n",
    "        'vectorizer__norm': ('l1', 'l2'),\n",
    "        'vectorizer__stop_words': ['english', None],\n",
    "        'classifier__estimator': [SGDClassifier()], \n",
    "        'classifier__estimator__penalty': ('l2', 'elasticnet', 'l1'),\n",
    "        'classifier__estimator__max_iter': [50, 80],\n",
    "        'classifier__estimator__tol': [1e-4],\n",
    "        'classifier__estimator__loss': ['hinge', 'log', 'modified_huber'],\n",
    "    },\n",
    "    {\n",
    "        'vectorizer__tokenizer': [spacy_tokenizer],\n",
    "        'vectorizer__max_df': [1.0],\n",
    "        'vectorizer__norm': ('l1', 'l2'),\n",
    "        'vectorizer__stop_words': [None],\n",
    "        'classifier__estimator': [MultinomialNB()],\n",
    "        'classifier__estimator__alpha': (1e-2, 1e-3, 1e-1), },\n",
    "]\n",
    "\n",
    "\n",
    "print(\"Performing grid search...\")\n",
    "print(\"The pipeline contains:\", [name for name, _ in pipeline.steps])\n",
    "print(\"parameters are as follows:\")\n",
    "pprint(parameters)\n",
    "\n",
    "t0 = time()\n",
    "gscv = GridSearchCV(pipeline, parameters, cv=5, n_jobs=None, return_train_score=False, verbose=3)\n",
    "gscv.fit(X_train, y_train)\n",
    "print(f\"It takes about {time() - t0:.3f} seconds\")"
   ]
  },
  {
   "cell_type": "code",
   "execution_count": 32,
   "id": "700c7bcc",
   "metadata": {},
   "outputs": [
    {
     "name": "stdout",
     "output_type": "stream",
     "text": [
      "Best score= 0.656\n"
     ]
    }
   ],
   "source": [
    "try:\n",
    "    print(f\"Best score= {gscv.best_score_:0.3f}\")\n",
    "except AttributeError:\n",
    "    print(\"GridSearch did not successfully complete. best_score_ not found.\")"
   ]
  },
  {
   "cell_type": "code",
   "execution_count": 33,
   "id": "bf3abdeb",
   "metadata": {},
   "outputs": [
    {
     "name": "stdout",
     "output_type": "stream",
     "text": [
      "Best score= 0.656\n",
      "All potential classifiers:\n",
      "[\"SGDClassifier(loss='modified_huber', max_iter=50, penalty='l1', tol=0.0001)\",\n",
      " 'MultinomialNB()']\n",
      "Best parameters set:\n",
      "\tclassifier__estimator: SGDClassifier(loss='modified_huber', max_iter=50, penalty='l1', tol=0.0001)\n",
      "\tclassifier__estimator__loss: 'modified_huber'\n",
      "\tclassifier__estimator__max_iter: 50\n",
      "\tclassifier__estimator__penalty: 'l1'\n",
      "\tclassifier__estimator__tol: 0.0001\n",
      "\tvectorizer__max_df: 1.0\n",
      "\tvectorizer__norm: 'l1'\n",
      "\tvectorizer__stop_words: None\n",
      "\tvectorizer__tokenizer: <function spacy_tokenizer at 0x0000023CD53BE340>\n"
     ]
    }
   ],
   "source": [
    "print(f\"Best score= {gscv.best_score_:0.3f}\")\n",
    "best_parameters = gscv.best_estimator_.get_params()\n",
    "\n",
    "all_classifiers =[]\n",
    "for parameter in parameters:\n",
    "    all_classifiers.append(parameter['classifier__estimator'])\n",
    "all_classifiers = [str(alg) for clf in all_classifiers for alg in clf]\n",
    "print(\"All potential classifiers:\")\n",
    "pprint(all_classifiers)\n",
    "\n",
    "idx = all_classifiers.index(str(best_parameters['classifier__estimator']))\n",
    "print(\"Best parameters set:\")\n",
    "for param_name in sorted(parameters[idx].keys()):\n",
    "    print(\"\\t%s: %r\" % (param_name, best_parameters[param_name]))"
   ]
  },
  {
   "cell_type": "code",
   "execution_count": 34,
   "id": "8fed2f39",
   "metadata": {},
   "outputs": [
    {
     "data": {
      "image/png": "[encoded data removed]",
      "text/plain": [
       "<Figure size 640x480 with 2 Axes>"
      ]
     },
     "metadata": {},
     "output_type": "display_data"
    }
   ],
   "source": [
    "from sklearn.metrics import confusion_matrix\n",
    "import seaborn as sns\n",
    "import matplotlib.pyplot as plt\n",
    "\n",
    "y_pred = gscv.predict(X_test)\n",
    "cm = confusion_matrix(y_test, y_pred)\n",
    "ax = plt.axes()\n",
    "sns.heatmap(cm, annot=True, fmt = 'd', xticklabels = target_names, yticklabels = target_names)\n",
    "ax.set_title(\"Confusion matrix, without normalization\")\n",
    "plt.show()"
   ]
  },
  {
   "cell_type": "code",
   "execution_count": 35,
   "id": "281255fd",
   "metadata": {},
   "outputs": [
    {
     "data": {
      "image/png": "[encoded data removed]",
      "text/plain": [
       "<Figure size 640x480 with 2 Axes>"
      ]
     },
     "metadata": {},
     "output_type": "display_data"
    }
   ],
   "source": [
    "from sklearn.metrics import confusion_matrix\n",
    "import seaborn as sns\n",
    "import matplotlib.pyplot as plt\n",
    "import numpy as np\n",
    "\n",
    "y_pred = gscv.predict(X_test)\n",
    "cm = confusion_matrix(y_test, y_pred)\n",
    "cm = cm / cm.astype(np.float64).sum(axis=1)[:,None]\n",
    "ax = plt.axes()\n",
    "\n",
    "sns.heatmap(cm, annot=True, fmt = '.2f', xticklabels = target_names, yticklabels = target_names)\n",
    "ax.set_title(\"Normalized confusion matrix\")\n",
    "plt.show()"
   ]
  },
  {
   "cell_type": "code",
   "execution_count": 36,
   "id": "c0826894",
   "metadata": {},
   "outputs": [
    {
     "name": "stdout",
     "output_type": "stream",
     "text": [
      "              precision    recall  f1-score   support\n",
      "\n",
      "           0       0.59      0.80      0.68        20\n",
      "           4       0.69      0.45      0.55        20\n",
      "\n",
      "    accuracy                           0.62        40\n",
      "   macro avg       0.64      0.62      0.61        40\n",
      "weighted avg       0.64      0.62      0.61        40\n",
      "\n"
     ]
    }
   ],
   "source": [
    "from sklearn.metrics import classification_report\n",
    "y_pred = gscv.predict(X_test)\n",
    "print(classification_report(y_test, y_pred, target_names = target_names))"
   ]
  },
  {
   "cell_type": "markdown",
   "id": "ffd7121d",
   "metadata": {},
   "source": [
    "### 8. Tune the third model and perform model diagnostics. Is it a good model? "
   ]
  },
  {
   "cell_type": "code",
   "execution_count": 37,
   "id": "c14a4555",
   "metadata": {},
   "outputs": [],
   "source": [
    "import spacy\n",
    "nlp = spacy.load(\"en_core_web_sm\")\n",
    "\n",
    "def spacy_tokenizer(sentence):\n",
    "    tokens = nlp(sentence)\n",
    "    tokens = [tok.orth_ for tok in tokens if not tok.is_punct and not tok.is_space]\n",
    "    return tokens\n",
    "\n",
    "from sklearn.feature_extraction.text import TfidfVectorizer\n",
    "from sklearn.naive_bayes import MultinomialNB\n",
    "from sklearn.linear_model import SGDClassifier\n",
    "from sklearn.pipeline import Pipeline\n",
    "from sklearn.model_selection import GridSearchCV\n",
    "\n",
    "pipeline = Pipeline([\n",
    "    (\"cleaner\", features()),\n",
    "    (\"vectorizer\", TfidfVectorizer(\n",
    "        tokenizer=spacy_tokenizer,\n",
    "        max_df=1.0,\n",
    "        norm='l2',\n",
    "        stop_words=None\n",
    "    )),\n",
    "    (\"classifier\", ClfSwitcher(estimator=SGDClassifier(\n",
    "        loss='modified_huber',\n",
    "        max_iter=80,\n",
    "        penalty='l2',\n",
    "        tol=0.0001\n",
    "    )))\n",
    "])"
   ]
  },
  {
   "cell_type": "code",
   "execution_count": 38,
   "id": "d1f82ece",
   "metadata": {},
   "outputs": [
    {
     "name": "stdout",
     "output_type": "stream",
     "text": [
      "Best score= 0.656\n"
     ]
    }
   ],
   "source": [
    "try:\n",
    "    print(f\"Best score= {gscv.best_score_:0.3f}\")\n",
    "except AttributeError:\n",
    "    print(\"GridSearch did not successfully complete. best_score_ not found.\")"
   ]
  },
  {
   "cell_type": "code",
   "execution_count": 39,
   "id": "8c0f9358",
   "metadata": {},
   "outputs": [
    {
     "data": {
      "image/png": "[encoded data removed]",
      "text/plain": [
       "<Figure size 640x480 with 2 Axes>"
      ]
     },
     "metadata": {},
     "output_type": "display_data"
    }
   ],
   "source": [
    "from sklearn.metrics import confusion_matrix\n",
    "import seaborn as sns\n",
    "import matplotlib.pyplot as plt\n",
    "\n",
    "y_pred = gscv.predict(X_test)\n",
    "cm = confusion_matrix(y_test, y_pred)\n",
    "ax = plt.axes()\n",
    "\n",
    "sns.heatmap(cm, annot=True, fmt = 'd', xticklabels = target_names, yticklabels = target_names)\n",
    "ax.set_title(\"Confusion matrix, without normalization\")\n",
    "plt.show()"
   ]
  },
  {
   "cell_type": "code",
   "execution_count": 40,
   "id": "bfda6f67",
   "metadata": {},
   "outputs": [
    {
     "data": {
      "image/png": "[encoded data removed]",
      "text/plain": [
       "<Figure size 640x480 with 2 Axes>"
      ]
     },
     "metadata": {},
     "output_type": "display_data"
    }
   ],
   "source": [
    "from sklearn.metrics import confusion_matrix\n",
    "import seaborn as sns\n",
    "import matplotlib.pyplot as plt\n",
    "import numpy as np\n",
    "\n",
    "y_pred = gscv.predict(X_test)\n",
    "cm = confusion_matrix(y_test, y_pred)\n",
    "cm = cm / cm.astype(np.float64).sum(axis=1)[:,None]\n",
    "ax = plt.axes()\n",
    "sns.heatmap(cm, annot=True, fmt = '.2f', xticklabels = target_names, yticklabels = target_names)\n",
    "ax.set_title(\"Normalized confusion matrix\")\n",
    "plt.show()"
   ]
  },
  {
   "cell_type": "code",
   "execution_count": 41,
   "id": "9f353f13",
   "metadata": {},
   "outputs": [
    {
     "name": "stdout",
     "output_type": "stream",
     "text": [
      "              precision    recall  f1-score   support\n",
      "\n",
      "           0       0.59      0.80      0.68        20\n",
      "           4       0.69      0.45      0.55        20\n",
      "\n",
      "    accuracy                           0.62        40\n",
      "   macro avg       0.64      0.62      0.61        40\n",
      "weighted avg       0.64      0.62      0.61        40\n",
      "\n"
     ]
    }
   ],
   "source": [
    "from sklearn.metrics import classification_report\n",
    "\n",
    "y_pred = gscv.predict(X_test)\n",
    "print(classification_report(y_test, y_pred, target_names = target_names))"
   ]
  },
  {
   "cell_type": "markdown",
   "id": "1d33894c",
   "metadata": {},
   "source": [
    "This is not a great model. The accuracy was only .62. Even with the tuning of parameters the outcome was still the same as before when we ran the model. Even the macro and weighted average stayed the same. I would reccomend trying to find more parameters and see how those work out. Same as with all the other models, we would need more time to run a larger sample size to get even better results than we are seeing."
   ]
  },
  {
   "cell_type": "code",
   "execution_count": null,
   "id": "019d6f36",
   "metadata": {},
   "outputs": [],
   "source": []
  }
 ],
 "metadata": {
  "kernelspec": {
   "display_name": "Python 3 (ipykernel)",
   "language": "python",
   "name": "python3"
  },
  "language_info": {
   "codemirror_mode": {
    "name": "ipython",
    "version": 3
   },
   "file_extension": ".py",
   "mimetype": "text/x-python",
   "name": "python",
   "nbconvert_exporter": "python",
   "pygments_lexer": "ipython3",
   "version": "3.11.4"
  }
 },
 "nbformat": 4,
 "nbformat_minor": 5
}
