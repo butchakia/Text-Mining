{
 "cells": [
  {
   "cell_type": "markdown",
   "id": "6ea2be69",
   "metadata": {},
   "source": [
    "# Project 2 - DSCI 614\n",
    "## Jeffery Boczkaja"
   ]
  },
  {
   "cell_type": "markdown",
   "id": "9d9d46e8",
   "metadata": {},
   "source": [
    "### Problem 1 - \"Search Google using the keywords \"Winter snowstorm\"."
   ]
  },
  {
   "cell_type": "code",
   "execution_count": 1,
   "id": "65224dc3",
   "metadata": {},
   "outputs": [],
   "source": [
    "import re\n",
    "from googlesearch import search\n",
    "import pandas as pd\n",
    "\n",
    "query = \"Winter snowstorm\"\n",
    "result = list(search(query, num_results=100, sleep_interval=5, lang=\"en\",advanced=True))"
   ]
  },
  {
   "cell_type": "markdown",
   "id": "5ac3b5e4",
   "metadata": {},
   "source": [
    "### Problem 2 -Extract the last 100 results."
   ]
  },
  {
   "cell_type": "code",
   "execution_count": 2,
   "id": "3785410d",
   "metadata": {},
   "outputs": [
    {
     "name": "stdout",
     "output_type": "stream",
     "text": [
      "[SearchResult(url=https://www.weather.gov/safety/winter-snow, title=Snow Storm Safety, description=Blizzard: Sustained winds or frequent gusts of 35 mph or more with snow and blowing snow frequently reducing visibility to less than a quarter mile for 3 hours ...), SearchResult(url=https://www.nssl.noaa.gov/education/svrwx101/winter/types/, title=Severe Weather 101: Winter Weather Types, description=A winter storm is a combination of heavy snow, blowing snow and/or dangerous wind chills. A winter storm is life-threatening. Blizzards are dangerous winter ...), SearchResult(url=https://scied.ucar.edu/learning-zone/storms/winter-storms, title=Winter Storms - UCAR Center for Science Education, description=Snowstorms are one type of winter storm. Blizzards are snowstorms with high winds, and lake effect storms are snowstorms that form near the Great Lakes.), SearchResult(url=https://en.wikipedia.org/wiki/Winter_storm, title=Winter storm, description=A winter storm is an event in which wind coincides with varieties of precipitation that only occur at freezing temperatures, such as snow, mixed snow and rain, or freezing rain.), SearchResult(url=https://www.ready.gov/winter-weather, title=Winter Weather, description=Winter storms including blizzards can bring extreme cold, freezing rain, snow, ice and high winds. A winter storm can: feature_mini img. Last a few hours or ...), SearchResult(url=https://www.redcross.org/get-help/how-to-prepare-for-emergencies/types-of-emergencies/winter-storm.html, title=Winter Storm Preparedness & Blizzard Safety, description=Winter storms can bring extreme cold, freezing rain, sleet, heavy snowfall, ice, and high winds. These storms can cause transportation, heat, power, ...), SearchResult(url=https://weather.com/storms/winter, title=Winter Storm - The Weather Channel | weather.com, description=As Winter Storm Olive moved through Michigan knocking down trees, one Ann Arbor ... These Eagle Parents Had An Important Task, Even During A Snowstorm.), SearchResult(url=https://www.cdc.gov/disasters/winter/beforestorm/preparehome.html, title=Preparing for a Winter Storm|Winter Weather, description=Winter storms can bring cold temperatures, power failures, loss of communication services, and icy roads. To keep yourself and your loved ones safe, ...), SearchResult(url=https://www.freep.com/story/news/local/michigan/2022/12/19/michigan-snowstorm-weather-christmas/69741077007/, title=Winter storm to hit southeast Michigan just before Christmas, description=Dec 19, 2022 — The likelihood is increasing for a major snowstorm in the days ahead of Christmas, according. At least 4 inches of snow. \"At the time, there's ...), SearchResult(url=https://www.wzzm13.com/article/weather/friday-snowstorm-likely-for-west-michigan/69-75f3a8c2-43b6-497c-be93-fda18af53b1f, title=Another Friday Snowstorm Likely across West Michigan, description=Mar 7, 2023 — Winter Weather Impacts for March 9-10, 2023. Weather. Snowstorm likely for West Michigan this Friday. Heavy, wet snow is likely Thursday ...), SearchResult(url=https://www.nytimes.com/2023/03/13/us/winter-storm-noreaster-snow-forecast.html, title=Late-Winter Storm Brings Heavy Snow and Rain to the ..., description=Mar 15, 2023 — A major storm dropped more than two feet of snow in portions of northwest Massachusetts and southern Vermont, while some cities only saw ...), SearchResult(url=https://www.clickondetroit.com/weather/2023/03/03/tracking-winter-snow-storm-ahead-of-the-weekend-in-metro-detroit-heres-what-to-expect/, title=Tracking winter snowstorm in Metro Detroit -- here's what to ..., description=Mar 3, 2023 — Our winter snowstorm across Southeastern Michigan is in full effect, working throughout the evening hours on Friday, and will continue into ...), SearchResult(url=https://www.accuweather.com/en/winter-weather/snowstorm-to-snarl-travel-across-midwest-northeast/1472049, title=Snowstorm to snarl travel across Midwest, Northeast, description=Flight delays and cancellations began mounting on Wednesday as the second winter storm of the week dropped snowfall.), SearchResult(url=https://www.explore.com/home/featured/worst-winter-storms-us-history/, title=The Most Devastating Winter Storms In US History - Explore, description=Feb 6, 2020 — This winter storm combined blizzard conditions with ... The snowstorm of February 1983 crippled major cities from Washington, D.C., ...), SearchResult(url=https://www.cnn.com/2022/12/25/weather/christmas-arctic-winter-storm-power-outages-sunday/index.html, title=Prolonged winter storm causes at least 37 deaths and ..., description=Dec 25, 2022 — The prolonged winter storm that brought heavy snow, high winds and brutal cold to most of the US this past week has killed at least 37 ...), SearchResult(url=https://www.usatoday.com/story/news/nation/2022/12/19/winter-storm-forecast-christmas-weather-travel/10924147002/, title='Big mess' is days away: Major winter storm to bring snow ..., description=Dec 19, 2022 — Bitterly cold temperatures and a significant winter snowstorm could threaten holiday travel plans for millions across the U.S. from the ...), SearchResult(url=https://www.reuters.com/world/us/doozy-snow-storm-pounds-western-northern-united-states-2023-02-21/, title=Winter storm threatens record snowfall in parts of US, description=Feb 22, 2023 — The city of 425,000 people could see as much as 20 inches of snow, which would be the most for a February snowstorm and one of the top five ...), SearchResult(url=https://www.foxweather.com/weather-news/strong-signal-highly-impactful-winter-storm-midwest-northeast-united-states, title=Massive winter storm, expected blizzard will snarl ..., description=Dec 19, 2022 — According to the FOX Forecast Center, blizzard conditions are likely Thursday and Friday. A snowstorm must reach the following criteria to ...), SearchResult(url=https://www.weatherwizkids.com/weather-winter-storms.htm, title=How Winter Storms Form, description=How do blizzards form? A blizzard is a long-lasting snowstorm with very strong winds and intense snowfall. You need three things to have a blizzard; cold air at ...), SearchResult(url=https://www.axios.com/2023/02/22/massive-winter-storm-affects-lower-48-states-blizzard, title=\"Massive\" winter storm to impact entire Lower 48, description=Feb 23, 2023 — The Twin Cities were forecast to see one of their biggest snowstorms on record, with travel becoming difficult to impossible Wednesday ...), SearchResult(url=https://glenallenweather.com/alink/18snow/stormtypes.htm, title=CLASSIFICATION OF WINTER SNOWSTORMS, description=Mid-Atlantic Winter Storm Patterns. Miller A type snowstorm. This type of snowstorm has a low which originates in the Gulf; it intensifies and races up the ...), SearchResult(url=https://www.mtpeter.com/winter-snowstorm-wish/, title=Winter Snowstorm Wish, description=Winter Snowstorm Wish. Winter Storm Wish. I know that I am not alone when I fire up my computer in the morning and feel instantly overwhelmed.), SearchResult(url=https://magazine.northeast.aaa.com/daily/life/lifestyle/the-worst-snowstorms-in-united-states-history/, title=The Worst Snowstorms in United States History, description=You probably even have a memory of your own worst snowstorm – when the snow piled ... The December 2022 North American Winter Storm was a bomb cyclone that ...), SearchResult(url=https://www.jsonline.com/story/weather/2022/12/20/wisconsin-weather-winter-storm-snow-totals-uncertain-but-blizzard-conditions-possible/69743271007/, title=Wisconsin snowstorm weather forecast, blizzard possible ..., description=Dec 20, 2022 — A winter storm warning for Milwaukee County and its surrounding areas took effect 9 a.m. Thursday and is set to stretch to 6 a.m. Saturday.), SearchResult(url=https://www.theguardian.com/us-news/2023/feb/24/california-snow-los-angeles-san-francisco-bay-area, title='Strongest snowstorm in years' leaves Californians ..., description=Feb 25, 2023 — Snow is seen on the hills around the San Francisco Bay area as a strong ...), SearchResult(url=https://www.wunderground.com/article/storms/winter/news/2023-02-20-winter-storm-olive-blizzard-ice-forecast-plains-midwest-northeast, title=Winter Storm Olive's Cross-Country Trek Will Pack Blizzard ..., description=O​live could be one of the heaviest snowstorms in years for parts of the upper Midwest, including Minneapolis-St. Paul, where the National Weather Service ...), SearchResult(url=https://pixabay.com/images/search/snowstorm/, title=100+ Free Snowstorm & Blizzard Images, description=Snowstorm photos for download. All pictures are free to use. Royalty-free images. Free Winter Girl illustration and picture.), SearchResult(url=https://www.nbcnews.com/news/weather/states-emergency-declared-southeast-ahead-winter-snowstorm-rcna12353, title=States of emergency declared in Southeast ahead of winter ..., description=Jan 15, 2022 — States of emergency declared in Southeast ahead of winter snowstorm. Some 64 million Americans are under some type of weather alert.), SearchResult(url=https://stormhighway.com/thundersnow.php, title=Can lightning occur in the winter or when it is snowing?, description=Strong winter snowstorms and blizzards commonly produce lightning strikes, a phenomenon referred to as 'thundersnow'. Lightning and thunder can occur with ...), SearchResult(url=https://www.space.com/winter-noreaster-storm-satellite-views-december-2020, title=Satellite tracks intense winter snowstorm across US East ..., description=Dec 17, 2020 — Satellites in orbit have captured stunning views of the powerful Nor'easter that dropped snow on a wide swath of the U.S. Northeast on ...), SearchResult(url=https://www.cbsnews.com/boston/news/blizzard-2022-snow-storm-boston-weather-forecast-winter-weekend-noreaster-bombogenesis-saturday-massachusetts-wbz/, title=Blizzard Of 2022 Leaves More Than 2 Feet Of Snow In ..., description=Jan 29, 2022 — This is now the seventh biggest snowstorm of all time in Boston's ... This winter has been absolutely crazy - 97% of the total snowfall for ...), SearchResult(url=https://www.directenergy.com/learning-center/snow-storm-essentials-checklist, title=Snow Storm Essentials Checklist: How to Stock Up, description=Stock up on these winter essentials so you're prepared for a snowstorm before it hits.), SearchResult(url=https://www.yahoo.com/lifestyle/winter-snowstorm-hits-northern-arizona-232505083.html, title=Winter snowstorm hits northern Arizona, description=Mar 1, 2023 — Flagstaff was hit with several inches of snow on March 1, 2023, just a week after another storm dumped snow on the northern Arizona town.), SearchResult(url=https://www.mprnews.org/story/2021/01/13/a-winter-storm-targets-minnesota-with-over-6-inches-of-snow, title=Winter snowstorm targets Minnesota; 6-plus inches possible, description=Jan 13, 2021 — Winter snowstorm targets Minnesota; 6-plus inches possible. A warm, mostly quiet day Wednesday before rain, snow, and ice move in.), SearchResult(url=https://www.wsj.com/articles/winter-snowstorm-aftermath-a-sunday-digging-out-11643556388, title=Winter Snowstorm Aftermath: 'This Will Be One That People ..., description=Jan 30, 2022 — Thousands of power outages were reported in Massachusetts in the wake of a winter storm that dumped snow across the East Coast.), SearchResult(url=https://www.smu.edu/News/Research/Cell-phone-data-from-winter-snowstorm-shows-Dallas-is-resilient, title=Cell phone data from winter snowstorm shows Dallas is ..., description=Cell phone data from winter snowstorm shows Dallas is resilient. May 23, 2023. GPS locations of anonymous cell-phone users (IDs) in the greater Dallas ...), SearchResult(url=https://www.texastribune.org/series/winter-storm-power-outage/, title=Winter Storm 2021 - Texas power outage, description=As Texas faced record-low temperatures in February 2021 and snow and ice made roads impassable, the state's electric grid operator lost control of the power ...), SearchResult(url=https://www.nbcconnecticut.com/weather-news/stories/winter-snowstorm-hits-shoreline-communities/2984364/, title=Winter Snowstorm Hits Shoreline Communities, description=Feb 27, 2023 — NBC Universal, Inc. People across the state are preparing for the incoming snowstorm. Several inches of snow is expected to fall overnight.), SearchResult(url=https://www.nationalgeographic.com/environment/article/thundersnow-lightning-winter-weather-phenomenon, title=The mystery behind thundersnow, a rare winter phenomenon, description=Jan 6, 2023 — Though thunder and lightning in a snowstorm is a predictor of heavy snowfall, researchers have recently learned heavy snowfall is not a ...), SearchResult(url=https://www.bbc.com/news/world-us-canada-64111839, title=US winter storm death toll rises as bad weather drags on, description=Dec 28, 2022 — A powerful winter storm that slammed North America has claimed more lives in the US state of New York, local officials say.), SearchResult(url=https://ready.dc.gov/winterwx, title=Extreme Cold and Snowstorms | readydc - DC.gov, description=Winter storms may include high wind, freezing rain, heavy snowfall, and extreme cold. Severe winter storms can cause blocked roads, power outages, ...), SearchResult(url=https://www.mitchellrepublic.com/weather/three-day-winter-blast-has-potential-to-be-worse-than-snowstorm-that-kicked-off-year, title=Three-day winter blast has potential to be worse than ..., description=Feb 20, 2023 — If you're looking for three-day snowstorm prediction totals, it's still a little early to get a full forecast from the National Weather Service.), SearchResult(url=https://www.nationalgeographic.org/encyclopedia/blizzard/, title=Blizzard, description=May 19, 2022 — Blizzards are not just bad snowstorms; they are specific types of ... as typical winter weather, a snowstorm, or a severe blizzard.), SearchResult(url=https://www.eastidahonews.com/2021/01/winter-snowstorm-headed-to-eastern-idaho-wednesday/, title=Winter snowstorm headed to eastern Idaho Wednesday, description=Jan 25, 2021 — IDAHO FALLS – A winter storm is headed towards eastern Idaho Wednesday morning. The National Weather Service in Pocatello is forecasting ...), SearchResult(url=https://earthsky.org/earth/pacific-winter-snowstorm-late-feb-2023/, title=Another Pacific winter snowstorm hits California, description=Feb 22, 2023 — Pacific winter snowstorm this week. In a year when snowfall in California has already exceeded yearly totals, a Pacific winter storm has the ...), SearchResult(url=https://www.scemd.org/prepare/types-of-disasters/severe-winter-weather/, title=Severe Winter Weather, description=... normally experience mild winters can be hit with a major snowstorm or extreme cold. Winter storms can result in flooding, storm surge, closed highways, ...), SearchResult(url=https://www.artfulhome.com/product/Art-Glass-Vase/Winter-Snowstorm/161185, title=Winter Snowstorm - Art Glass Vase, description=Discover Winter Snowstorm by Orient & Flume Art Glass, and get inspired by more original art and unique treasures created by artists. Shop now!), SearchResult(url=https://oceansideinc.com/how-to-prepare-for-a-snowstorm-a-winter-storm-checklist/, title=How to Prepare for a Snowstorm – A Winter Storm Checklist, description=How do you prepare for a snowstorm? Know what to do before, during, and after a blizzard with these preparedness tips. Know Your Winter Storm Warning Levels.), SearchResult(url=https://www.cincinnati.com/picture-gallery/news/2022/12/23/photos-winter-snowstorm-hits-cincinnati/10948027002/, title=PHOTOS: Winter snowstorm hits Cincinnati, description=Dec 23, 2022 — Winter storm brings snow, frigid temperatures and hazardous road ... PHOTOS: Winter snowstorm hits Cincinnati, bringing wind chills near ...), SearchResult(url=https://www.ametsoc.org/ams/index.cfm/education-careers/education-program/k-12-teachers/project-atmosphere/training-opportunities/project-atmosphere-peer-led-training/project-atmosphere-peer-training-resources/hzwx-winter-storms-activity1/, title=Activity: Major Winter Snowstorm, description=Two smaller snowstorms followed the Blizzard and finally rain and milder weather in later January led to severe flooding in New York, Pennsylvania and Maryland.), SearchResult(url=https://longisland.news12.com/long-islands-winter-snowstorm-season-is-just-beginning, title=Long Island's winter snowstorm season is just beginning, description=Jan 13, 2023 — We're halfway through meteorological winter, but it feels like it hasn't even started. Temperatures soared to 65 degrees in Islip on Jan.), SearchResult(url=https://ksltv.com/457498/winter-snowstorm-closes-roads-in-wyoming-colorado-nebraska/, title=Winter Snowstorm Closes Roads In Wyoming, Colorado, ..., description=Mar 14, 2021 — A powerful late winter snowstorm intensified over the central Rocky Mountains on Sunday with heavy snow and wind leading to airport and road ...), SearchResult(url=https://portal.ct.gov/CTPrepares/Types-of-Emergencies/Winter-Storms, title=Winter Storms, description=Winter Storms. Before a Winter Storm. Weather forecasts usually let you know ahead of time if there is a winter storm coming.), SearchResult(url=https://www.dnr.state.mn.us/climate/journal/top_twenty_snowfalls.html, title=Top 25 Snowfalls in the Twin Cities: 1884-2023, description=Below, we have listed the 25 largest snowfall events (or \"snowstorms\") on record in ... which is common with large winter storms, as surges of moisture and ...), SearchResult(url=https://www.sltrib.com/news/2023/02/22/major-snowstorm-buries-utah-when/, title=Major snowstorm buries Utah: Snow totals, photos and ..., description=Feb 22, 2023 — A winter storm warning remains in effect until 11 p.m., with additional accumulations of 4-9 inches possible in the Salt Lake Valley, along with ...), SearchResult(url=https://thestarryeye.typepad.com/weather/2014/11/each-winters-snowstorms-1970-2014.html, title=Recap of Each Winter's Snowstorms in New York (1950, description=This was the third major snowstorm of the winter. However, those storms were characterized by very cold temperatures while this storm saw temperatures rise from ...), SearchResult(url=https://www.irs.gov/newsroom/irs-announces-tax-relief-for-victims-of-severe-winter-storm-and-snowstorm-in-new-york, title=IRS announces tax relief for victims of severe winter storm ..., description=NY-2023-04, March 24, 2023 — Victims of the severe winter storm and snowstorm beginning Dec. 23, 2022, and ending Dec. 28, 2022, now have until May 15, ...), SearchResult(url=https://www.newsweek.com/blizzard-warning-nws-colorado-denver-snow-storm-1391864, title=Blizzard Weather Warning: Colorado Braces for 'Major' ..., description=Apr 10, 2019 — The National Weather Service forecast map shows the path of the major winter snowstorm about to hit central U.S. states. NWS.), SearchResult(url=https://www.kxl.com/winter-snowstorm-hits-parts-of-oregon-and-washington/, title=Winter Snowstorm Hits Parts of Oregon and Washington, description=Mar 24, 2023 — The National Weather Service's Tyler Krantz tells us, “We do have those winter storm warnings in effect in the Cascade Mountains including the ...), SearchResult(url=https://abcnews.go.com/US/us-crews-work-supplies-stranded-residents-after-severe/story?id=97620612, title='Help us!!': Crews work to get supplies to stranded residents ..., description=Mar 3, 2023 — ... to get much-needed supplies to Southern California mountain communities days after a series of rare winter snowstorms struck the region.), SearchResult(url=https://www.ctinsider.com/news/article/winter-snowstorm-ct-parking-bans-school-closings-17809019.php, title=Winter snowstorm CT: School closures, parking bans, description=Feb 27, 2023 — Winter snowstorm CT: School closures, parking bans and municipal ... According to the National Weather Service, a winter storm warning has ...), SearchResult(url=https://newengland.com/yankee/history/worst-snowstorms-in-new-england-history/, title=Worst Snowstorms in New England History, description=In fact, U.S. meteorologists' efforts to measure the intensity of winter storms — as we do with earthquakes and hurricanes — began in 2006 with the Northeast ...), SearchResult(url=https://www.wxow.com/weather/forecast/a-slight-chance-of-snow-monday-before-a-winter-snowstorm-brings-lots-of-snow-to/article_2583ba3e-b0af-11ed-815a-dbd8c6572dfd.html, title=A slight chance of snow Monday before a winter snowstorm ..., description=Feb 19, 2023 — This is due to a pretty sizable snowstorm entering Western Wisconsin. A Winter Storm Watch is in effect starting Tuesday at 6 PM, ...), SearchResult(url=https://turnto10.com/news/local/winter-storm-snow-snowstorm-southern-new-england-rhode-island-massachusetts-february-28-2023, title=Southern New Englanders take late winter snowstorm in ..., description=Feb 28, 2023 — Southern New Englanders take late winter snowstorm in stride. by ALLEGRA ZAMORE, NBC 10 NEWS. Tue, February 28th 2023, 10:55 AM PST.), SearchResult(url=https://www.stephenmatera.com/panorama-prints/landscape-the-picket-range-at-sunrise-north-cascades-national-park-washington-e6ghm-9ptts-83w4c-7dl6n-pc3mw-b9c7c-bnxgz-9td5b-ya6d3-h96yf-l5zpg-dht5j-7x3jj-a6j4s-5c98z-n2ast-y6gbc, title=Eroded sandstone hills after a winter snowstorm, Capitol ..., description=landscape; no people; photograph; panorama; panoramic; winter; snow; Capitol Reef; National Park; Utah; desert; Southwest.), SearchResult(url=https://www.upi.com/Top_News/US/2022/01/29/winter-blizzard-northeast/1771643461309/, title=Winter snowstorm hits Northeast, causing power outages ... - UPI, description=Jan 29, 2022 — A winter snowstorm hit the U.S. Northeast on Saturday morning, causing power outages in the region and forcing the cancellation of thousands ...), SearchResult(url=https://newsnetwork.mayoclinic.org/discussion/keep-safe-during-a-major-winter-snowstorm/, title=Keep Safe During a Major Winter Snowstorm, description=Jan 22, 2016 — Keep Safe During a Major Winter Snowstorm ... Hospital emergency departments see an influx of weather-related injuries with each snowstorm.), SearchResult(url=https://wyomingtruth.org/wyoming-slammed-with-late-winter-snowstorm-roads-closed-across-state/, title=Wyoming Slammed With Late Winter Snowstorm, Roads ..., description=Feb 23, 2023 — Wyoming Slammed With Late Winter Snowstorm, Roads Closed Across State. Snowfall totals ranged from several inches to two feet.), SearchResult(url=https://www.thesaurus.com/browse/snowstorm, title=25 Synonyms & Antonyms for SNOWSTORM, description=There he and Old Man Winter sit and smoke, and lay their plans for the next snowstorm. ... The Pilgrims now continued their explorations in the midst of a driving ...), SearchResult(url=https://nbcmontana.com/news/nation-world/historic-winter-snowstorm-turns-deadly-in-oregon-freezing-temperatures-persist-ice-winter-weather-cold-frigid-death-dies-first-responders-pediatric-cardiac-emergency-medical-care, title=Historic winter snowstorm turns deadly in Oregon, freezing ..., description=Historic winter snowstorm turns deadly in Oregon, freezing temperatures persist. by KATU Staff. Thu, February 23rd 2023, 3:58 PM PST. UserWay icon for ...), SearchResult(url=https://www.fox5ny.com/weather/super-bowl-weekend-winter-snowstorm-in-ny, title=Super Bowl weekend winter snowstorm in NY?, description=Feb 10, 2022 — A winter storm is potentially going to target the East Coast over the weekend and linger into Monday. Weather forecasting models are coming ...), SearchResult(url=https://www.schellsbrewery.com/our-beers/snowstorm/, title=Snowstorm, description=Back in the olden days, it was no small feat to take our beer by wagon to the local establishments, especially in the dead of winter. We had to find inventive ...), SearchResult(url=https://www.voanews.com/a/downgraded-storm-in-us-northeast-affects-millions/2614998.html, title=Snowstorm Sweeps Northeastern US, description=Jan 27, 2015 — A powerful winter storm dropped as much as 60 centimeters (almost 2 feet) of snow in some parts of the northeastern U.S. on Monday and ...), SearchResult(url=https://littlebinsforlittlehands.com/winter-snow-storm-in-a-jar-science/, title=Snow Storm In a Jar, description=Jan 16, 2023 — Fun and easy winter science activities for kids to try! ... Kids will love creating their own snowstorms with common household supplies, ...), SearchResult(url=https://www.nationalgridus.com/News/2023/02/National-Grid-Preparing-for-Winter-Snowstorm-to-Impact-Massachusetts-/, title=National Grid Preparing for Winter Snowstorm to Impact ..., description=Feb 27, 2023 — WALTHAM, MA – National Grid is preparing for a winter snowstorm to impact Massachusetts Monday evening through Tuesday, ...), SearchResult(url=https://www.genoahealthcare.com/genoa-pharmacist-faces-winter-snowstorm-to-deliver-consumers-medications/, title=Genoa Pharmacist faces winter snowstorm to deliver ..., description=Mar 8, 2023 — When Watertown, New York, Pharmacist Meredith Sullivan made the call to close her pharmacy in preparation for an incoming snowstorm on ...), SearchResult(url=https://www.the-journal.com/articles/winter-snowstorm/, title=Winter snowstorm - The Journal, description=Jan 19, 2021 — A winter snow storm moved through the area on Tuesday leaving Durango under a blanket of snow.), SearchResult(url=https://eos.org/articles/rare-wintertime-thunderstorms-recorded-over-the-u-s-gulf-coast, title=Rare Wintertime Thunderstorms Recorded over the U.S. Gulf ..., description=Apr 6, 2021 — “Thundersnow”—thunderstorm activity during a winter snowstorm—is rare, and researchers are now poring over data from the Houston Lightning ...), SearchResult(url=https://offtheshelf.com/2021/12/winter-thrillers/, title=10 Thrillers as Piercing as a Winter Snowstorm, description=Dec 28, 2021 — Any one of these spine-tingling thrillers will pierce you with the same amount of shock and wonder as a marvelous winter snowstorm.), SearchResult(url=https://www.newswise.com/articles/cell-phone-gps-data-from-february-2021-winter-snowstorm-shows-people-of-dallas-are-resilient, title=Cell phone data from winter snowstorm shows Dallas is ..., description=May 23, 2023 — Natural disasters can wreak havoc on a city, from hurricanes in Houston to winter storms in Dallas. Measuring resilience -- the length of ...), SearchResult(url=https://www.fox6now.com/weather/bitter-cold-wisconsin-winter-snowstorm, title=Bitter cold headed for Wisconsin; winter snowstorm totals ..., description=Jan 29, 2023 — The snow from a winter storm has moved out, and now southeast Wisconsin needs to brace for bitter cold.), SearchResult(url=https://clipart-library.com/winter-snowstorm-cliparts.html, title=Collection of Winter Snowstorm Cliparts (40), description=Clipart library offers about 40 high-quality Winter Snowstorm Cliparts for free! Download Winter Snowstorm Cliparts and use any clip art,coloring,png ...), SearchResult(url=https://www.argusleader.com/story/news/2021/12/08/sioux-falls-weather-nws-winter-storm-watch-snow-expected/6440357001/, title=NWS: Winter snowstorm expected in Sioux Falls on Friday, description=Dec 8, 2021 — Because of the pending snowstorm, NWS has placed Sioux Falls and parts of south-central South Dakota under a winter storm watch for Friday.), SearchResult(url=https://vtdigger.org/2023/02/21/winter-storm-expected-to-sweep-through-vermont-on-wednesday-night-and-thursday/, title=Winter storm expected to sweep through Vermont on ..., description=Feb 21, 2023 — ... Bolger Hill Road in Jericho in the aftermath of a snowstorm in December. ... In a wacky winter season that has ranged from minus-50 wind ...), SearchResult(url=http://www.thehamtramckreview.com/despite-a-winter-snowstorm-paczki-runners-stay-on-track/, title=Despite a winter snowstorm, paczki runners stay on track, description=By Charles Sercombe For several minutes it appeared participants in this year's 5K Paczki Run were going to get lost in a winter whiteout.), SearchResult(url=https://thekidshouldseethis.com/post/winter-snowstorm-jonas-a-time-lapse-in-manhattan, title=Winter Snowstorm Jonas, a time lapse in Manhattan, description=Jan 24, 2016 — From a window looking down upon the Upper East Side of Manhattan, watch snow accumulate in a time lapse made during winter storm Jonas, ...), SearchResult(url=https://www.fema.gov/sites/default/files/2020-09/PDAReportFEMA4264DRNJ.pdf, title=Severe Winter Storm and Snowstorm FEMA-4264-DR ..., description=On February 11, 2016, Governor Chris Christie requested a major disaster declaration due to a severe winter storm and snowstorm during the period of January ...), SearchResult(url=https://phys.org/news/2023-05-cell-winter-snowstorm-dallas-resilient.html, title=Cell phone data from winter snowstorm shows Dallas is ..., description=May 23, 2023 — From hurricanes in Houston to winter storms in Dallas, natural disasters can wreak havoc on a city. In any of these situations, ...), SearchResult(url=https://www.civicplus.com/blog/crm/four-reasons-a-311-crm-solution-is-your-best-defense-against-a-winter-snowstorm, title=Benefits of a 311 CRM Solution for Winter Snowstorms, description=Learn why 311 CRM solutions are invaluable in addressing resident requests and triaging responses during winter storms.), SearchResult(url=https://www.reddit.com/r/EASportsFC/comments/zufdsf/winter_snowstorm_pack_store_pack_guaranteed_base/, title=Winter Snowstorm Pack (Store Pack) - Guaranteed Base Icon, description=Dec 24, 2022 — 416 votes, 287 comments. 840K subscribers in the EASportsFC community. The front page of EA Sports FC & FIFA.), SearchResult(url=https://www.facebook.com/cityofaurorail/photos/a.236545753080931/4746998352035626/?type=3, title=City of Aurora, IL, Government, description=WINTER SNOWSTORM WARNING: The National Weather Service has issued a Winter Storm Warning for the area - beginning at 9 a.m. on Saturday, January 1...), SearchResult(url=https://dailyillini.com/news-stories/campus-life/2022/02/01/ui-moves-classes-online-due-to-winter-snowstorm/, title=UI moves classes online due to winter snowstorm, description=Feb 1, 2022 — The National Weather Service issued a notice that Champaign County will experience a winter storm with winds of up to 35 mph and an expected ...), SearchResult(url=https://www.krbd.org/2021/03/15/late-winter-snowstorm-in-ketchikan-wreaks-havoc-on-land-and-sea/, title=Late winter snowstorm in Ketchikan wreaks havoc on land ..., description=Late winter snowstorm in Ketchikan wreaks havoc on land and sea. Posted by Eric Stone | Mar 15, 2021. Snow berms, a somewhat rare sight in Ketchikan, ...), SearchResult(url=https://thebrownandwhite.com/2018/03/07/snowstorm-lehigh-close/, title=Lehigh closes for third winter snowstorm, description=Mar 7, 2018 — Third winter snowstorm causes Lehigh shutdown ... At 5:22 a.m., an LU-ALERT announced Lehigh would be closed all day Wednesday, dismissing all non ...), SearchResult(url=https://espo.nasa.gov/impacts/content/IMPACTS, title=IMPACTS - ESPO - NASA, description=Winter snowstorms are frequent on the eastern seaboard and cause major ... and Precipitation for Atlantic Coast-Threatening Snowstorms (IMPACTS) will fly a ...), SearchResult(url=https://www.motortrend.com/reviews/2022-rivian-r1t-yearlong-review-update-5-winter-storm/, title=Rivian R1T Yearlong Review: Winter Snowstorms Tire Out ..., description=Feb 21, 2023 — As it happened, a major snowstorm rolled in, turning a simple weekend getaway into an ordeal. What follows is his account of the R1T's winter ...), SearchResult(url=https://www.krbd.org/2021/03/15/late-winter-snowstorm-in-ketchikan-wreaks-havoc-on-land-and-sea/, title=Late winter snowstorm in Ketchikan wreaks havoc on land ..., description=Late winter snowstorm in Ketchikan wreaks havoc on land and sea. Posted by Eric Stone | Mar 15, 2021. Snow berms, a somewhat rare sight in Ketchikan, ...), SearchResult(url=https://thebrownandwhite.com/2018/03/07/snowstorm-lehigh-close/, title=Lehigh closes for third winter snowstorm, description=Mar 7, 2018 — Third winter snowstorm causes Lehigh shutdown ... At 5:22 a.m., an LU-ALERT announced Lehigh would be closed all day Wednesday, dismissing all non ...), SearchResult(url=https://espo.nasa.gov/impacts/content/IMPACTS, title=IMPACTS - ESPO - NASA, description=Winter snowstorms are frequent on the eastern seaboard and cause major ... and Precipitation for Atlantic Coast-Threatening Snowstorms (IMPACTS) will fly a ...), SearchResult(url=https://www.motortrend.com/reviews/2022-rivian-r1t-yearlong-review-update-5-winter-storm/, title=Rivian R1T Yearlong Review: Winter Snowstorms Tire Out ..., description=Feb 21, 2023 — As it happened, a major snowstorm rolled in, turning a simple weekend getaway into an ordeal. What follows is his account of the R1T's winter ...), SearchResult(url=https://modernsurvivalblog.com/natural-disaster/basic-supplies-for-a-winter-snow-storm-power-outage/, title=Preparing for a Winter Snowstorm - Basic Supplies ..., description=Jan 17, 2022 — Basic supplies to have for Survival Mode during a winter snowstorm power outage that may last days or even weeks...), SearchResult(url=https://transportation.wv.gov/DMV/News/Pages/WV-DMV-Encourages-Customers-to-Take-Advantage-of-Online-Services-During-Winter-Snowstorm.aspx, title=WV DMV Encourages Customers to Take Advantage of Online ..., description=Jan 7, 2022 — ... Division of Motor Vehicles > News > WV DMV Encourages Customers to Take Advantage of Online Services During Winter Snowstorm ...)]\n"
     ]
    }
   ],
   "source": [
    "print(result)"
   ]
  },
  {
   "cell_type": "markdown",
   "id": "8518d000",
   "metadata": {},
   "source": [
    "### Problem 3 - Concatenate the URL, title, and description and obtain a new column."
   ]
  },
  {
   "cell_type": "code",
   "execution_count": 3,
   "id": "f6aa66ca",
   "metadata": {},
   "outputs": [],
   "source": [
    "results = [str(item) for item in result]"
   ]
  },
  {
   "cell_type": "code",
   "execution_count": 4,
   "id": "da8675e3",
   "metadata": {},
   "outputs": [],
   "source": [
    "data =[]\n",
    "for result in results:\n",
    "    url = result.split(\"url=\")[1].split(\",\")[0]\n",
    "    title = result.split(\"title=\")[1].split(\",\")[0]\n",
    "    description = result.split(\"description=\")[1].split(\")\")[0]\n",
    "    \n",
    "    result_dict = {\n",
    "        'URL': url,\n",
    "        'Title': title,\n",
    "        'Description': description\n",
    "    }\n",
    "    \n",
    "    data.append(result_dict)\n",
    "\n",
    "df = pd.DataFrame(data)"
   ]
  },
  {
   "cell_type": "code",
   "execution_count": 5,
   "id": "57e79986",
   "metadata": {},
   "outputs": [],
   "source": [
    "df['search_result'] = df['URL'] + \" \" + df['Title'] + \" \" + df['Description']"
   ]
  },
  {
   "cell_type": "code",
   "execution_count": 6,
   "id": "6807b94a",
   "metadata": {
    "scrolled": false
   },
   "outputs": [
    {
     "name": "stdout",
     "output_type": "stream",
     "text": [
      "                                                   URL  \\\n",
      "0           https://www.weather.gov/safety/winter-snow   \n",
      "1    https://www.nssl.noaa.gov/education/svrwx101/w...   \n",
      "2    https://scied.ucar.edu/learning-zone/storms/wi...   \n",
      "3           https://en.wikipedia.org/wiki/Winter_storm   \n",
      "4                 https://www.ready.gov/winter-weather   \n",
      "..                                                 ...   \n",
      "97   https://thebrownandwhite.com/2018/03/07/snowst...   \n",
      "98       https://espo.nasa.gov/impacts/content/IMPACTS   \n",
      "99   https://www.motortrend.com/reviews/2022-rivian...   \n",
      "100  https://modernsurvivalblog.com/natural-disaste...   \n",
      "101  https://transportation.wv.gov/DMV/News/Pages/W...   \n",
      "\n",
      "                                                 Title  \\\n",
      "0                                    Snow Storm Safety   \n",
      "1             Severe Weather 101: Winter Weather Types   \n",
      "2    Winter Storms - UCAR Center for Science Education   \n",
      "3                                         Winter storm   \n",
      "4                                       Winter Weather   \n",
      "..                                                 ...   \n",
      "97            Lehigh closes for third winter snowstorm   \n",
      "98                               IMPACTS - ESPO - NASA   \n",
      "99   Rivian R1T Yearlong Review: Winter Snowstorms ...   \n",
      "100  Preparing for a Winter Snowstorm - Basic Suppl...   \n",
      "101  WV DMV Encourages Customers to Take Advantage ...   \n",
      "\n",
      "                                           Description  \\\n",
      "0    Blizzard: Sustained winds or frequent gusts of...   \n",
      "1    A winter storm is a combination of heavy snow,...   \n",
      "2    Snowstorms are one type of winter storm. Blizz...   \n",
      "3    A winter storm is an event in which wind coinc...   \n",
      "4    Winter storms including blizzards can bring ex...   \n",
      "..                                                 ...   \n",
      "97   Mar 7, 2018 — Third winter snowstorm causes Le...   \n",
      "98   Winter snowstorms are frequent on the eastern ...   \n",
      "99   Feb 21, 2023 — As it happened, a major snowsto...   \n",
      "100  Jan 17, 2022 — Basic supplies to have for Surv...   \n",
      "101  Jan 7, 2022 — ... Division of Motor Vehicles >...   \n",
      "\n",
      "                                         search_result  \n",
      "0    https://www.weather.gov/safety/winter-snow Sno...  \n",
      "1    https://www.nssl.noaa.gov/education/svrwx101/w...  \n",
      "2    https://scied.ucar.edu/learning-zone/storms/wi...  \n",
      "3    https://en.wikipedia.org/wiki/Winter_storm Win...  \n",
      "4    https://www.ready.gov/winter-weather Winter We...  \n",
      "..                                                 ...  \n",
      "97   https://thebrownandwhite.com/2018/03/07/snowst...  \n",
      "98   https://espo.nasa.gov/impacts/content/IMPACTS ...  \n",
      "99   https://www.motortrend.com/reviews/2022-rivian...  \n",
      "100  https://modernsurvivalblog.com/natural-disaste...  \n",
      "101  https://transportation.wv.gov/DMV/News/Pages/W...  \n",
      "\n",
      "[102 rows x 4 columns]\n"
     ]
    }
   ],
   "source": [
    "print(df)"
   ]
  },
  {
   "cell_type": "code",
   "execution_count": 7,
   "id": "768089e5",
   "metadata": {},
   "outputs": [],
   "source": [
    "pd.set_option('display.max_colwidth', 1000)"
   ]
  },
  {
   "cell_type": "markdown",
   "id": "cb299bca",
   "metadata": {},
   "source": [
    "### Problem 4 - Remove the date and time in the search_result using a regular expression."
   ]
  },
  {
   "cell_type": "code",
   "execution_count": 8,
   "id": "8169bd6f",
   "metadata": {
    "scrolled": true
   },
   "outputs": [
    {
     "name": "stdout",
     "output_type": "stream",
     "text": [
      "                                                                                                                                            URL  \\\n",
      "0                                                                                                    https://www.weather.gov/safety/winter-snow   \n",
      "1                                                                                    https://www.nssl.noaa.gov/education/svrwx101/winter/types/   \n",
      "2                                                                                     https://scied.ucar.edu/learning-zone/storms/winter-storms   \n",
      "3                                                                                                    https://en.wikipedia.org/wiki/Winter_storm   \n",
      "4                                                                                                          https://www.ready.gov/winter-weather   \n",
      "..                                                                                                                                          ...   \n",
      "97                                                                              https://thebrownandwhite.com/2018/03/07/snowstorm-lehigh-close/   \n",
      "98                                                                                                https://espo.nasa.gov/impacts/content/IMPACTS   \n",
      "99                                                    https://www.motortrend.com/reviews/2022-rivian-r1t-yearlong-review-update-5-winter-storm/   \n",
      "100                                        https://modernsurvivalblog.com/natural-disaster/basic-supplies-for-a-winter-snow-storm-power-outage/   \n",
      "101  https://transportation.wv.gov/DMV/News/Pages/WV-DMV-Encourages-Customers-to-Take-Advantage-of-Online-Services-During-Winter-Snowstorm.aspx   \n",
      "\n",
      "                                                           Title  \\\n",
      "0                                              Snow Storm Safety   \n",
      "1                       Severe Weather 101: Winter Weather Types   \n",
      "2              Winter Storms - UCAR Center for Science Education   \n",
      "3                                                   Winter storm   \n",
      "4                                                 Winter Weather   \n",
      "..                                                           ...   \n",
      "97                      Lehigh closes for third winter snowstorm   \n",
      "98                                         IMPACTS - ESPO - NASA   \n",
      "99    Rivian R1T Yearlong Review: Winter Snowstorms Tire Out ...   \n",
      "100        Preparing for a Winter Snowstorm - Basic Supplies ...   \n",
      "101  WV DMV Encourages Customers to Take Advantage of Online ...   \n",
      "\n",
      "                                                                                                                                                                           Description  \\\n",
      "0                  Blizzard: Sustained winds or frequent gusts of 35 mph or more with snow and blowing snow frequently reducing visibility to less than a quarter mile for 3 hours ...   \n",
      "1                     A winter storm is a combination of heavy snow, blowing snow and/or dangerous wind chills. A winter storm is life-threatening. Blizzards are dangerous winter ...   \n",
      "2                             Snowstorms are one type of winter storm. Blizzards are snowstorms with high winds, and lake effect storms are snowstorms that form near the Great Lakes.   \n",
      "3    A winter storm is an event in which wind coincides with varieties of precipitation that only occur at freezing temperatures, such as snow, mixed snow and rain, or freezing rain.   \n",
      "4                     Winter storms including blizzards can bring extreme cold, freezing rain, snow, ice and high winds. A winter storm can: feature_mini img. Last a few hours or ...   \n",
      "..                                                                                                                                                                                 ...   \n",
      "97                Mar 7, 2018 — Third winter snowstorm causes Lehigh shutdown ... At 5:22 a.m., an LU-ALERT announced Lehigh would be closed all day Wednesday, dismissing all non ...   \n",
      "98                                     Winter snowstorms are frequent on the eastern seaboard and cause major ... and Precipitation for Atlantic Coast-Threatening Snowstorms (IMPACTS   \n",
      "99                    Feb 21, 2023 — As it happened, a major snowstorm rolled in, turning a simple weekend getaway into an ordeal. What follows is his account of the R1T's winter ...   \n",
      "100                                                 Jan 17, 2022 — Basic supplies to have for Survival Mode during a winter snowstorm power outage that may last days or even weeks...   \n",
      "101                                 Jan 7, 2022 — ... Division of Motor Vehicles > News > WV DMV Encourages Customers to Take Advantage of Online Services During Winter Snowstorm ...   \n",
      "\n",
      "                                                                                                                                                                                                                                                                                                                                      search_result  \n",
      "0                                                                                                                  https://www.weather.gov/safety/winter-snow Snow Storm Safety Blizzard: Sustained winds or frequent gusts of 35 mph or more with snow and blowing snow frequently reducing visibility to less than a quarter mile for 3 hours ...  \n",
      "1                                                                              https://www.nssl.noaa.gov/education/svrwx101/winter/types/ Severe Weather 101: Winter Weather Types A winter storm is a combination of heavy snow, blowing snow and/or dangerous wind chills. A winter storm is life-threatening. Blizzards are dangerous winter ...  \n",
      "2                                                                              https://scied.ucar.edu/learning-zone/storms/winter-storms Winter Storms - UCAR Center for Science Education Snowstorms are one type of winter storm. Blizzards are snowstorms with high winds, and lake effect storms are snowstorms that form near the Great Lakes.  \n",
      "3                                                                                                         https://en.wikipedia.org/wiki/Winter_storm Winter storm A winter storm is an event in which wind coincides with varieties of precipitation that only occur at freezing temperatures, such as snow, mixed snow and rain, or freezing rain.  \n",
      "4                                                                                                                              https://www.ready.gov/winter-weather Winter Weather Winter storms including blizzards can bring extreme cold, freezing rain, snow, ice and high winds. A winter storm can: feature_mini img. Last a few hours or ...  \n",
      "..                                                                                                                                                                                                                                                                                                                                              ...  \n",
      "97                                                                               https://thebrownandwhite.com/2018/03/07/snowstorm-lehigh-close/ Lehigh closes for third winter snowstorm  — Third winter snowstorm causes Lehigh shutdown ... At 5:22 a.m., an LU-ALERT announced Lehigh would be closed all day Wednesday, dismissing all non ...  \n",
      "98                                                                                                                              https://espo.nasa.gov/impacts/content/IMPACTS IMPACTS - ESPO - NASA Winter snowstorms are frequent on the eastern seaboard and cause major ... and Precipitation for Atlantic Coast-Threatening Snowstorms (IMPACTS  \n",
      "99                                        https://www.motortrend.com/reviews/2022-rivian-r1t-yearlong-review-update-5-winter-storm/ Rivian R1T Yearlong Review: Winter Snowstorms Tire Out ...  — As it happened, a major snowstorm rolled in, turning a simple weekend getaway into an ordeal. What follows is his account of the R1T's winter ...  \n",
      "100                                                               https://modernsurvivalblog.com/natural-disaster/basic-supplies-for-a-winter-snow-storm-power-outage/ Preparing for a Winter Snowstorm - Basic Supplies ...  — Basic supplies to have for Survival Mode during a winter snowstorm power outage that may last days or even weeks...  \n",
      "101  https://transportation.wv.gov/DMV/News/Pages/WV-DMV-Encourages-Customers-to-Take-Advantage-of-Online-Services-During-Winter-Snowstorm.aspx WV DMV Encourages Customers to Take Advantage of Online ...  — ... Division of Motor Vehicles > News > WV DMV Encourages Customers to Take Advantage of Online Services During Winter Snowstorm ...  \n",
      "\n",
      "[102 rows x 4 columns]\n"
     ]
    }
   ],
   "source": [
    "pattern = r'\\d{1,2}:\\d{2}\\s?(am|pm)|\\d{4}-\\d{2}-\\d{2}|[A-Za-z]+\\s\\d{1,2},\\s\\d{4}'\n",
    "\n",
    "def time(text):\n",
    "    return re.sub(pattern, \"\", text)\n",
    "\n",
    "df['search_result'] = df['search_result'].apply(time)\n",
    "\n",
    "print(df)"
   ]
  },
  {
   "cell_type": "markdown",
   "id": "53002bc0",
   "metadata": {},
   "source": [
    "### Problem 5 - Remove the hyperlink URL in the search_result using a regular expression."
   ]
  },
  {
   "cell_type": "code",
   "execution_count": 9,
   "id": "c92a482a",
   "metadata": {},
   "outputs": [
    {
     "name": "stdout",
     "output_type": "stream",
     "text": [
      "                                                                                                                                            URL  \\\n",
      "0                                                                                                    https://www.weather.gov/safety/winter-snow   \n",
      "1                                                                                    https://www.nssl.noaa.gov/education/svrwx101/winter/types/   \n",
      "2                                                                                     https://scied.ucar.edu/learning-zone/storms/winter-storms   \n",
      "3                                                                                                    https://en.wikipedia.org/wiki/Winter_storm   \n",
      "4                                                                                                          https://www.ready.gov/winter-weather   \n",
      "..                                                                                                                                          ...   \n",
      "97                                                                              https://thebrownandwhite.com/2018/03/07/snowstorm-lehigh-close/   \n",
      "98                                                                                                https://espo.nasa.gov/impacts/content/IMPACTS   \n",
      "99                                                    https://www.motortrend.com/reviews/2022-rivian-r1t-yearlong-review-update-5-winter-storm/   \n",
      "100                                        https://modernsurvivalblog.com/natural-disaster/basic-supplies-for-a-winter-snow-storm-power-outage/   \n",
      "101  https://transportation.wv.gov/DMV/News/Pages/WV-DMV-Encourages-Customers-to-Take-Advantage-of-Online-Services-During-Winter-Snowstorm.aspx   \n",
      "\n",
      "                                                           Title  \\\n",
      "0                                              Snow Storm Safety   \n",
      "1                       Severe Weather 101: Winter Weather Types   \n",
      "2              Winter Storms - UCAR Center for Science Education   \n",
      "3                                                   Winter storm   \n",
      "4                                                 Winter Weather   \n",
      "..                                                           ...   \n",
      "97                      Lehigh closes for third winter snowstorm   \n",
      "98                                         IMPACTS - ESPO - NASA   \n",
      "99    Rivian R1T Yearlong Review: Winter Snowstorms Tire Out ...   \n",
      "100        Preparing for a Winter Snowstorm - Basic Supplies ...   \n",
      "101  WV DMV Encourages Customers to Take Advantage of Online ...   \n",
      "\n",
      "                                                                                                                                                                           Description  \\\n",
      "0                  Blizzard: Sustained winds or frequent gusts of 35 mph or more with snow and blowing snow frequently reducing visibility to less than a quarter mile for 3 hours ...   \n",
      "1                     A winter storm is a combination of heavy snow, blowing snow and/or dangerous wind chills. A winter storm is life-threatening. Blizzards are dangerous winter ...   \n",
      "2                             Snowstorms are one type of winter storm. Blizzards are snowstorms with high winds, and lake effect storms are snowstorms that form near the Great Lakes.   \n",
      "3    A winter storm is an event in which wind coincides with varieties of precipitation that only occur at freezing temperatures, such as snow, mixed snow and rain, or freezing rain.   \n",
      "4                     Winter storms including blizzards can bring extreme cold, freezing rain, snow, ice and high winds. A winter storm can: feature_mini img. Last a few hours or ...   \n",
      "..                                                                                                                                                                                 ...   \n",
      "97                Mar 7, 2018 — Third winter snowstorm causes Lehigh shutdown ... At 5:22 a.m., an LU-ALERT announced Lehigh would be closed all day Wednesday, dismissing all non ...   \n",
      "98                                     Winter snowstorms are frequent on the eastern seaboard and cause major ... and Precipitation for Atlantic Coast-Threatening Snowstorms (IMPACTS   \n",
      "99                    Feb 21, 2023 — As it happened, a major snowstorm rolled in, turning a simple weekend getaway into an ordeal. What follows is his account of the R1T's winter ...   \n",
      "100                                                 Jan 17, 2022 — Basic supplies to have for Survival Mode during a winter snowstorm power outage that may last days or even weeks...   \n",
      "101                                 Jan 7, 2022 — ... Division of Motor Vehicles > News > WV DMV Encourages Customers to Take Advantage of Online Services During Winter Snowstorm ...   \n",
      "\n",
      "                                                                                                                                                                                                        search_result  \n",
      "0                               Snow Storm Safety Blizzard: Sustained winds or frequent gusts of 35 mph or more with snow and blowing snow frequently reducing visibility to less than a quarter mile for 3 hours ...  \n",
      "1           Severe Weather 101: Winter Weather Types A winter storm is a combination of heavy snow, blowing snow and/or dangerous wind chills. A winter storm is life-threatening. Blizzards are dangerous winter ...  \n",
      "2          Winter Storms - UCAR Center for Science Education Snowstorms are one type of winter storm. Blizzards are snowstorms with high winds, and lake effect storms are snowstorms that form near the Great Lakes.  \n",
      "3                      Winter storm A winter storm is an event in which wind coincides with varieties of precipitation that only occur at freezing temperatures, such as snow, mixed snow and rain, or freezing rain.  \n",
      "4                                     Winter Weather Winter storms including blizzards can bring extreme cold, freezing rain, snow, ice and high winds. A winter storm can: feature_mini img. Last a few hours or ...  \n",
      "..                                                                                                                                                                                                                ...  \n",
      "97                 Lehigh closes for third winter snowstorm  — Third winter snowstorm causes Lehigh shutdown ... At 5:22 a.m., an LU-ALERT announced Lehigh would be closed all day Wednesday, dismissing all non ...  \n",
      "98                                              IMPACTS - ESPO - NASA Winter snowstorms are frequent on the eastern seaboard and cause major ... and Precipitation for Atlantic Coast-Threatening Snowstorms (IMPACTS  \n",
      "99    Rivian R1T Yearlong Review: Winter Snowstorms Tire Out ...  — As it happened, a major snowstorm rolled in, turning a simple weekend getaway into an ordeal. What follows is his account of the R1T's winter ...  \n",
      "100                                      Preparing for a Winter Snowstorm - Basic Supplies ...  — Basic supplies to have for Survival Mode during a winter snowstorm power outage that may last days or even weeks...  \n",
      "101               WV DMV Encourages Customers to Take Advantage of Online ...  — ... Division of Motor Vehicles > News > WV DMV Encourages Customers to Take Advantage of Online Services During Winter Snowstorm ...  \n",
      "\n",
      "[102 rows x 4 columns]\n"
     ]
    }
   ],
   "source": [
    "pattern = r'http\\S+'\n",
    "\n",
    "def remove_url(text):\n",
    "    return re.sub(pattern, \"\", text)\n",
    "\n",
    "df['search_result'] = df['search_result'].apply(remove_url)\n",
    "\n",
    "print(df)"
   ]
  },
  {
   "cell_type": "markdown",
   "id": "1ed7a2c9",
   "metadata": {},
   "source": [
    "### Problem 6 - Remove all words containing at most two characters."
   ]
  },
  {
   "cell_type": "code",
   "execution_count": 10,
   "id": "d71914ed",
   "metadata": {},
   "outputs": [
    {
     "name": "stdout",
     "output_type": "stream",
     "text": [
      "                                                                                                                                            URL  \\\n",
      "0                                                                                                    https://www.weather.gov/safety/winter-snow   \n",
      "1                                                                                    https://www.nssl.noaa.gov/education/svrwx101/winter/types/   \n",
      "2                                                                                     https://scied.ucar.edu/learning-zone/storms/winter-storms   \n",
      "3                                                                                                    https://en.wikipedia.org/wiki/Winter_storm   \n",
      "4                                                                                                          https://www.ready.gov/winter-weather   \n",
      "..                                                                                                                                          ...   \n",
      "97                                                                              https://thebrownandwhite.com/2018/03/07/snowstorm-lehigh-close/   \n",
      "98                                                                                                https://espo.nasa.gov/impacts/content/IMPACTS   \n",
      "99                                                    https://www.motortrend.com/reviews/2022-rivian-r1t-yearlong-review-update-5-winter-storm/   \n",
      "100                                        https://modernsurvivalblog.com/natural-disaster/basic-supplies-for-a-winter-snow-storm-power-outage/   \n",
      "101  https://transportation.wv.gov/DMV/News/Pages/WV-DMV-Encourages-Customers-to-Take-Advantage-of-Online-Services-During-Winter-Snowstorm.aspx   \n",
      "\n",
      "                                                           Title  \\\n",
      "0                                              Snow Storm Safety   \n",
      "1                       Severe Weather 101: Winter Weather Types   \n",
      "2              Winter Storms - UCAR Center for Science Education   \n",
      "3                                                   Winter storm   \n",
      "4                                                 Winter Weather   \n",
      "..                                                           ...   \n",
      "97                      Lehigh closes for third winter snowstorm   \n",
      "98                                         IMPACTS - ESPO - NASA   \n",
      "99    Rivian R1T Yearlong Review: Winter Snowstorms Tire Out ...   \n",
      "100        Preparing for a Winter Snowstorm - Basic Supplies ...   \n",
      "101  WV DMV Encourages Customers to Take Advantage of Online ...   \n",
      "\n",
      "                                                                                                                                                                           Description  \\\n",
      "0                  Blizzard: Sustained winds or frequent gusts of 35 mph or more with snow and blowing snow frequently reducing visibility to less than a quarter mile for 3 hours ...   \n",
      "1                     A winter storm is a combination of heavy snow, blowing snow and/or dangerous wind chills. A winter storm is life-threatening. Blizzards are dangerous winter ...   \n",
      "2                             Snowstorms are one type of winter storm. Blizzards are snowstorms with high winds, and lake effect storms are snowstorms that form near the Great Lakes.   \n",
      "3    A winter storm is an event in which wind coincides with varieties of precipitation that only occur at freezing temperatures, such as snow, mixed snow and rain, or freezing rain.   \n",
      "4                     Winter storms including blizzards can bring extreme cold, freezing rain, snow, ice and high winds. A winter storm can: feature_mini img. Last a few hours or ...   \n",
      "..                                                                                                                                                                                 ...   \n",
      "97                Mar 7, 2018 — Third winter snowstorm causes Lehigh shutdown ... At 5:22 a.m., an LU-ALERT announced Lehigh would be closed all day Wednesday, dismissing all non ...   \n",
      "98                                     Winter snowstorms are frequent on the eastern seaboard and cause major ... and Precipitation for Atlantic Coast-Threatening Snowstorms (IMPACTS   \n",
      "99                    Feb 21, 2023 — As it happened, a major snowstorm rolled in, turning a simple weekend getaway into an ordeal. What follows is his account of the R1T's winter ...   \n",
      "100                                                 Jan 17, 2022 — Basic supplies to have for Survival Mode during a winter snowstorm power outage that may last days or even weeks...   \n",
      "101                                 Jan 7, 2022 — ... Division of Motor Vehicles > News > WV DMV Encourages Customers to Take Advantage of Online Services During Winter Snowstorm ...   \n",
      "\n",
      "                                                                                                                                                                                                 search_result  \n",
      "0                                    Snow Storm Safety Blizzard: Sustained winds  frequent gusts   mph  more with snow and blowing snow frequently reducing visibility  less than  quarter mile for  hours ...  \n",
      "1               Severe Weather 101: Winter Weather Types  winter storm   combination  heavy snow, blowing snow and/ dangerous wind chills.  winter storm  life-threatening. Blizzards are dangerous winter ...  \n",
      "2     Winter Storms - UCAR Center for Science Education Snowstorms are one type  winter storm. Blizzards are snowstorms with high winds, and lake effect storms are snowstorms that form near the Great Lakes.  \n",
      "3                              Winter storm  winter storm   event  which wind coincides with varieties  precipitation that only occur  freezing temperatures, such  snow, mixed snow and rain,  freezing rain.  \n",
      "4                                  Winter Weather Winter storms including blizzards can bring extreme cold, freezing rain, snow, ice and high winds.  winter storm can: feature_mini img. Last  few hours  ...  \n",
      "..                                                                                                                                                                                                         ...  \n",
      "97                       Lehigh closes for third winter snowstorm  — Third winter snowstorm causes Lehigh shutdown ...  : ..,  -ALERT announced Lehigh would  closed all day Wednesday, dismissing all non ...  \n",
      "98                                         IMPACTS - ESPO - NASA Winter snowstorms are frequent  the eastern seaboard and cause major ... and Precipitation for Atlantic Coast-Threatening Snowstorms (IMPACTS  \n",
      "99            Rivian R1T Yearlong Review: Winter Snowstorms Tire Out ...  —   happened,  major snowstorm rolled , turning  simple weekend getaway into  ordeal. What follows  his account  the R1T' winter ...  \n",
      "100                                     Preparing for  Winter Snowstorm - Basic Supplies ...  — Basic supplies  have for Survival Mode during  winter snowstorm power outage that may last days  even weeks...  \n",
      "101                       DMV Encourages Customers  Take Advantage  Online ...  — ... Division  Motor Vehicles > News >  DMV Encourages Customers  Take Advantage  Online Services During Winter Snowstorm ...  \n",
      "\n",
      "[102 rows x 4 columns]\n"
     ]
    }
   ],
   "source": [
    "pattern = r'\\b\\w{1,2}\\b'\n",
    "\n",
    "def remove_two(text):\n",
    "    return re.sub(pattern, '', text)\n",
    "\n",
    "df['search_result'] = df['search_result'].apply(remove_two)\n",
    "\n",
    "print(df)"
   ]
  },
  {
   "cell_type": "markdown",
   "id": "6a783e2a",
   "metadata": {},
   "source": [
    "### Problem 7 - Removing the following five stop words: \"are\", \"but\", \"very\", \"since\", \"could\""
   ]
  },
  {
   "cell_type": "code",
   "execution_count": 11,
   "id": "89bda2ea",
   "metadata": {},
   "outputs": [
    {
     "name": "stdout",
     "output_type": "stream",
     "text": [
      "                                                                                                                                            URL  \\\n",
      "0                                                                                                    https://www.weather.gov/safety/winter-snow   \n",
      "1                                                                                    https://www.nssl.noaa.gov/education/svrwx101/winter/types/   \n",
      "2                                                                                     https://scied.ucar.edu/learning-zone/storms/winter-storms   \n",
      "3                                                                                                    https://en.wikipedia.org/wiki/Winter_storm   \n",
      "4                                                                                                          https://www.ready.gov/winter-weather   \n",
      "..                                                                                                                                          ...   \n",
      "97                                                                              https://thebrownandwhite.com/2018/03/07/snowstorm-lehigh-close/   \n",
      "98                                                                                                https://espo.nasa.gov/impacts/content/IMPACTS   \n",
      "99                                                    https://www.motortrend.com/reviews/2022-rivian-r1t-yearlong-review-update-5-winter-storm/   \n",
      "100                                        https://modernsurvivalblog.com/natural-disaster/basic-supplies-for-a-winter-snow-storm-power-outage/   \n",
      "101  https://transportation.wv.gov/DMV/News/Pages/WV-DMV-Encourages-Customers-to-Take-Advantage-of-Online-Services-During-Winter-Snowstorm.aspx   \n",
      "\n",
      "                                                           Title  \\\n",
      "0                                              Snow Storm Safety   \n",
      "1                       Severe Weather 101: Winter Weather Types   \n",
      "2              Winter Storms - UCAR Center for Science Education   \n",
      "3                                                   Winter storm   \n",
      "4                                                 Winter Weather   \n",
      "..                                                           ...   \n",
      "97                      Lehigh closes for third winter snowstorm   \n",
      "98                                         IMPACTS - ESPO - NASA   \n",
      "99    Rivian R1T Yearlong Review: Winter Snowstorms Tire Out ...   \n",
      "100        Preparing for a Winter Snowstorm - Basic Supplies ...   \n",
      "101  WV DMV Encourages Customers to Take Advantage of Online ...   \n",
      "\n",
      "                                                                                                                                                                           Description  \\\n",
      "0                  Blizzard: Sustained winds or frequent gusts of 35 mph or more with snow and blowing snow frequently reducing visibility to less than a quarter mile for 3 hours ...   \n",
      "1                     A winter storm is a combination of heavy snow, blowing snow and/or dangerous wind chills. A winter storm is life-threatening. Blizzards are dangerous winter ...   \n",
      "2                             Snowstorms are one type of winter storm. Blizzards are snowstorms with high winds, and lake effect storms are snowstorms that form near the Great Lakes.   \n",
      "3    A winter storm is an event in which wind coincides with varieties of precipitation that only occur at freezing temperatures, such as snow, mixed snow and rain, or freezing rain.   \n",
      "4                     Winter storms including blizzards can bring extreme cold, freezing rain, snow, ice and high winds. A winter storm can: feature_mini img. Last a few hours or ...   \n",
      "..                                                                                                                                                                                 ...   \n",
      "97                Mar 7, 2018 — Third winter snowstorm causes Lehigh shutdown ... At 5:22 a.m., an LU-ALERT announced Lehigh would be closed all day Wednesday, dismissing all non ...   \n",
      "98                                     Winter snowstorms are frequent on the eastern seaboard and cause major ... and Precipitation for Atlantic Coast-Threatening Snowstorms (IMPACTS   \n",
      "99                    Feb 21, 2023 — As it happened, a major snowstorm rolled in, turning a simple weekend getaway into an ordeal. What follows is his account of the R1T's winter ...   \n",
      "100                                                 Jan 17, 2022 — Basic supplies to have for Survival Mode during a winter snowstorm power outage that may last days or even weeks...   \n",
      "101                                 Jan 7, 2022 — ... Division of Motor Vehicles > News > WV DMV Encourages Customers to Take Advantage of Online Services During Winter Snowstorm ...   \n",
      "\n",
      "                                                                                                                                                                                         search_result  \n",
      "0                            Snow Storm Safety Blizzard: Sustained winds  frequent gusts   mph  more with snow and blowing snow frequently reducing visibility  less than  quarter mile for  hours ...  \n",
      "1          Severe Weather 101: Winter Weather Types  winter storm   combination  heavy snow, blowing snow and/ dangerous wind chills.  winter storm  life-threatening. Blizzards  dangerous winter ...  \n",
      "2      Winter Storms - UCAR Center for Science Education Snowstorms  one type  winter storm. Blizzards  snowstorms with high winds, and lake effect storms  snowstorms that form near the Great Lakes.  \n",
      "3                      Winter storm  winter storm   event  which wind coincides with varieties  precipitation that only occur  freezing temperatures, such  snow, mixed snow and rain,  freezing rain.  \n",
      "4                          Winter Weather Winter storms including blizzards can bring extreme cold, freezing rain, snow, ice and high winds.  winter storm can: feature_mini img. Last  few hours  ...  \n",
      "..                                                                                                                                                                                                 ...  \n",
      "97               Lehigh closes for third winter snowstorm  — Third winter snowstorm causes Lehigh shutdown ...  : ..,  -ALERT announced Lehigh would  closed all day Wednesday, dismissing all non ...  \n",
      "98                                    IMPACTS - ESPO - NASA Winter snowstorms  frequent  the eastern seaboard and cause major ... and Precipitation for Atlantic Coast-Threatening Snowstorms (IMPACTS  \n",
      "99    Rivian R1T Yearlong Review: Winter Snowstorms Tire Out ...  —   happened,  major snowstorm rolled , turning  simple weekend getaway into  ordeal. What follows  his account  the R1T' winter ...  \n",
      "100                             Preparing for  Winter Snowstorm - Basic Supplies ...  — Basic supplies  have for Survival Mode during  winter snowstorm power outage that may last days  even weeks...  \n",
      "101               DMV Encourages Customers  Take Advantage  Online ...  — ... Division  Motor Vehicles > News >  DMV Encourages Customers  Take Advantage  Online Services During Winter Snowstorm ...  \n",
      "\n",
      "[102 rows x 4 columns]\n"
     ]
    }
   ],
   "source": [
    "sw = [\"are\", \"but\", \"very\", \"since\", \"could\"]\n",
    "pattern = r'\\b(?:' + '|'.join(map(re.escape, sw)) + r')\\b'\n",
    "\n",
    "def remove_sw(text):\n",
    "    return re.sub(pattern, '', text)\n",
    "\n",
    "df['search_result'] = df['search_result'].apply(remove_sw)\n",
    "\n",
    "print(df)"
   ]
  },
  {
   "cell_type": "markdown",
   "id": "77e1d09e",
   "metadata": {},
   "source": [
    "### Problem 8 - Remove all special characters, punctuation."
   ]
  },
  {
   "cell_type": "code",
   "execution_count": 12,
   "id": "4a53755b",
   "metadata": {},
   "outputs": [
    {
     "name": "stdout",
     "output_type": "stream",
     "text": [
      "                                                                                                                                            URL  \\\n",
      "0                                                                                                    https://www.weather.gov/safety/winter-snow   \n",
      "1                                                                                    https://www.nssl.noaa.gov/education/svrwx101/winter/types/   \n",
      "2                                                                                     https://scied.ucar.edu/learning-zone/storms/winter-storms   \n",
      "3                                                                                                    https://en.wikipedia.org/wiki/Winter_storm   \n",
      "4                                                                                                          https://www.ready.gov/winter-weather   \n",
      "..                                                                                                                                          ...   \n",
      "97                                                                              https://thebrownandwhite.com/2018/03/07/snowstorm-lehigh-close/   \n",
      "98                                                                                                https://espo.nasa.gov/impacts/content/IMPACTS   \n",
      "99                                                    https://www.motortrend.com/reviews/2022-rivian-r1t-yearlong-review-update-5-winter-storm/   \n",
      "100                                        https://modernsurvivalblog.com/natural-disaster/basic-supplies-for-a-winter-snow-storm-power-outage/   \n",
      "101  https://transportation.wv.gov/DMV/News/Pages/WV-DMV-Encourages-Customers-to-Take-Advantage-of-Online-Services-During-Winter-Snowstorm.aspx   \n",
      "\n",
      "                                                           Title  \\\n",
      "0                                              Snow Storm Safety   \n",
      "1                       Severe Weather 101: Winter Weather Types   \n",
      "2              Winter Storms - UCAR Center for Science Education   \n",
      "3                                                   Winter storm   \n",
      "4                                                 Winter Weather   \n",
      "..                                                           ...   \n",
      "97                      Lehigh closes for third winter snowstorm   \n",
      "98                                         IMPACTS - ESPO - NASA   \n",
      "99    Rivian R1T Yearlong Review: Winter Snowstorms Tire Out ...   \n",
      "100        Preparing for a Winter Snowstorm - Basic Supplies ...   \n",
      "101  WV DMV Encourages Customers to Take Advantage of Online ...   \n",
      "\n",
      "                                                                                                                                                                           Description  \\\n",
      "0                  Blizzard: Sustained winds or frequent gusts of 35 mph or more with snow and blowing snow frequently reducing visibility to less than a quarter mile for 3 hours ...   \n",
      "1                     A winter storm is a combination of heavy snow, blowing snow and/or dangerous wind chills. A winter storm is life-threatening. Blizzards are dangerous winter ...   \n",
      "2                             Snowstorms are one type of winter storm. Blizzards are snowstorms with high winds, and lake effect storms are snowstorms that form near the Great Lakes.   \n",
      "3    A winter storm is an event in which wind coincides with varieties of precipitation that only occur at freezing temperatures, such as snow, mixed snow and rain, or freezing rain.   \n",
      "4                     Winter storms including blizzards can bring extreme cold, freezing rain, snow, ice and high winds. A winter storm can: feature_mini img. Last a few hours or ...   \n",
      "..                                                                                                                                                                                 ...   \n",
      "97                Mar 7, 2018 — Third winter snowstorm causes Lehigh shutdown ... At 5:22 a.m., an LU-ALERT announced Lehigh would be closed all day Wednesday, dismissing all non ...   \n",
      "98                                     Winter snowstorms are frequent on the eastern seaboard and cause major ... and Precipitation for Atlantic Coast-Threatening Snowstorms (IMPACTS   \n",
      "99                    Feb 21, 2023 — As it happened, a major snowstorm rolled in, turning a simple weekend getaway into an ordeal. What follows is his account of the R1T's winter ...   \n",
      "100                                                 Jan 17, 2022 — Basic supplies to have for Survival Mode during a winter snowstorm power outage that may last days or even weeks...   \n",
      "101                                 Jan 7, 2022 — ... Division of Motor Vehicles > News > WV DMV Encourages Customers to Take Advantage of Online Services During Winter Snowstorm ...   \n",
      "\n",
      "                                                                                                                                                                                    search_result  \n",
      "0                           Snow Storm Safety Blizzard Sustained winds  frequent gusts   mph  more with snow and blowing snow frequently reducing visibility  less than  quarter mile for  hours   \n",
      "1              Severe Weather 101 Winter Weather Types  winter storm   combination  heavy snow blowing snow and dangerous wind chills  winter storm  lifethreatening Blizzards  dangerous winter   \n",
      "2     Winter Storms  UCAR Center for Science Education Snowstorms  one type  winter storm Blizzards  snowstorms with high winds and lake effect storms  snowstorms that form near the Great Lakes  \n",
      "3                     Winter storm  winter storm   event  which wind coincides with varieties  precipitation that only occur  freezing temperatures such  snow mixed snow and rain  freezing rain  \n",
      "4                               Winter Weather Winter storms including blizzards can bring extreme cold freezing rain snow ice and high winds  winter storm can featuremini img Last  few hours    \n",
      "..                                                                                                                                                                                            ...  \n",
      "97                       Lehigh closes for third winter snowstorm   Third winter snowstorm causes Lehigh shutdown      ALERT announced Lehigh would  closed all day Wednesday dismissing all non   \n",
      "98                                      IMPACTS  ESPO  NASA Winter snowstorms  frequent  the eastern seaboard and cause major  and Precipitation for Atlantic CoastThreatening Snowstorms IMPACTS  \n",
      "99           Rivian R1T Yearlong Review Winter Snowstorms Tire Out      happened  major snowstorm rolled  turning  simple weekend getaway into  ordeal What follows  his account  the R1T winter   \n",
      "100                                Preparing for  Winter Snowstorm  Basic Supplies    Basic supplies  have for Survival Mode during  winter snowstorm power outage that may last days  even weeks  \n",
      "101                      DMV Encourages Customers  Take Advantage  Online     Division  Motor Vehicles  News   DMV Encourages Customers  Take Advantage  Online Services During Winter Snowstorm   \n",
      "\n",
      "[102 rows x 4 columns]\n"
     ]
    }
   ],
   "source": [
    "pattern = r'[^A-Za-z0-9\\s]'\n",
    "\n",
    "def remove_sp_ch(text):\n",
    "    return re.sub(pattern, '', text)\n",
    "\n",
    "df['search_result'] = df['search_result'].apply(remove_sp_ch)\n",
    "\n",
    "print(df)"
   ]
  }
 ],
 "metadata": {
  "kernelspec": {
   "display_name": "Python 3 (ipykernel)",
   "language": "python",
   "name": "python3"
  },
  "language_info": {
   "codemirror_mode": {
    "name": "ipython",
    "version": 3
   },
   "file_extension": ".py",
   "mimetype": "text/x-python",
   "name": "python",
   "nbconvert_exporter": "python",
   "pygments_lexer": "ipython3",
   "version": "3.11.4"
  }
 },
 "nbformat": 4,
 "nbformat_minor": 5
}
