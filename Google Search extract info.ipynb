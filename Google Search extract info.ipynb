{
 "cells": [
  {
   "cell_type": "markdown",
   "id": "82f64722-ea95-405f-9301-7be0bb29dede",
   "metadata": {
    "tags": []
   },
   "source": [
    "# Googlesearch\n",
    "\n",
    "googlesearch is a Python library for searching Google, easily. googlesearch uses requests and BeautifulSoup4 to scrape Google. Please read the following website for more information.\n",
    "\n",
    "https://github.com/Nv7-GitHub/googlesearch\n"
   ]
  },
  {
   "cell_type": "markdown",
   "id": "cd3fc183-4e7c-48c3-9dc1-f5f86847b7ec",
   "metadata": {},
   "source": [
    "## Step 1: Install googlesearch package\n",
    "\n",
    "We need to run the following command in the terminal for the **first time use**.\n",
    "\n",
    "pip install googlesearch-python"
   ]
  },
  {
   "cell_type": "markdown",
   "id": "5856c348-b1b2-45ae-8cfa-885fa0650ad9",
   "metadata": {},
   "source": [
    "## Step 2: Perform google search by providing query"
   ]
  },
  {
   "cell_type": "code",
   "execution_count": 1,
   "id": "4cd47d01-d70d-4625-8590-32472ffbce40",
   "metadata": {
    "tags": []
   },
   "outputs": [
    {
     "name": "stdout",
     "output_type": "stream",
     "text": [
      "[SearchResult(url=https://www.datacamp.com/blog/top-programming-languages-for-data-scientists-in-2022, title=Top programming languages for data scientists in 2023, description=12 Top Data Science Programming Languages in 2023 · Python · R · SQL · Java · Julia · Scala · #C/C++ · JavaScript ...), SearchResult(url=https://flatironschool.com/blog/data-science-programming-languages/, title=10 Best Data Science Programming Languages, description=Mar 4, 2021 — Python is the best language to learn if you want to become a data scientist. It is the most widely used language in the field and will present ...), SearchResult(url=https://www.knowledgehut.com/blog/data-science/programming-languages-for-data-science, title=Top 11 Programming languages for Data Science, description=Jun 15, 2023 — On shortlisting those languages down to one, the top data science coding language would be Python. Python has huge demand, and according to ...), SearchResult(url=https://www.upgrad.com/blog/data-science-programming-languages/, title=Top 6 Data Science Programming Languages 2023 [Hand- ..., description=Sep 14, 2022 — Programming Languages for Data Science · 1. Python · 2. JavaScript · 3. Scala · 4. R · 5. SQL · 6. Julia.), SearchResult(url=https://csweb.rice.edu/academics/graduate-programs/online-mds/blog/programming-languages-for-data-science, title=Top 12 Data Science Programming Languages | MDS@Rice, description=Jan 20, 2023 — 1. Python. Python has been among the most popular data science languages in the last several years. · 2. SQL · 3. R · 4. VBA (Visual Basic for ...), SearchResult(url=https://www.simplilearn.com/top-data-science-programming-languages-article, title=Top Data Science Programming Languages in 2023, description=Mar 1, 2023 — Scala is one of the most popular functional languages. It runs on JVM. It is an ideal option if you often have to work with high volume data ...), SearchResult(url=https://blog.edx.org/9-top-programming-languages-for-data-science, title=9 Top Programming Languages for Data Science, description=May 24, 2021 — 9 Top Data Science Programming Languages · 1. Python · 2. R · 3. SQL · 4. Scala · 5. Julia · 6. JavaScript · 7. Java · 8. C/C++.), SearchResult(url=https://careerkarma.com/blog/best-programming-languages-for-data-analysis/, title=Most Popular Programming Languages for Data Analysis, description=Dec 24, 2022 — The most popular programming languages for data analysts include Python, SQL, and R. Every language has pros and cons, but consider what you ...), SearchResult(url=https://www.springboard.com/blog/data-science/best-language-beginner-data-scientists-learn/, title=11 Best Programming Languages for Data Science in 2023, description=May 3, 2022 — Java is among the most widely used programming languages in the world. It is a highly efficient and versatile language that performs well across ...), SearchResult(url=https://www.bestcolleges.com/bootcamps/guides/data-science-programming-languages/, title=What Programming Languages Are Used in Data Science?, description=Python is among the most popular languages in every field, including data science. Due to its simple syntax, readability, and streamlined concepts, Python can ...), SearchResult(url=https://builtin.com/data-science/data-science-programming-languages, title=12 Data Science Programming Languages to Know, description=Feb 21, 2023 — What Programming Languages Are Used for Data Science? Python; R; SQL; C/C++; Java; JavaScript; Go; Scala; Julia; Swift; MATLAB; SAS ...), SearchResult(url=https://www.analyticsinsight.net/top-10-data-science-programming-languages-you-should-know-in-2023/, title=Top 10 Data Science Programming Languages You ..., description=Jan 30, 2023 — Python is the most popular programming language used in data science, and it's not hard to see why Python is easy to learn and use, ...), SearchResult(url=https://intellipaat.com/blog/data-science-programming-languages/, title=Top Data Science Programming Languages in 2023, description=Python is one of the popular Data Science programming languages. It is considered as the best programming language for Data Science as it is open-source, used ...), SearchResult(url=https://geekflare.com/data-science-programming-languages/, title=7 Programming Languages to Use in Data Science, description=Aug 10, 2022 — Python is one of the most powerful and flexible languages out there, and it's also vastly used in data science. The main reason is its easy and ...), SearchResult(url=https://www.projectpro.io/article/top-10-best-programming-languages-for-data-science/167, title=Top 10 Best Programming Languages for Data Science, description=Apr 24, 2023 — Conceptualized by Oracle, Java has strongly emerged as the programming language of choice for developers around the world. The biggest benefit ...), SearchResult(url=https://thedatascientist.com/best-languages-for-machine-learning-and-data-analytics/, title=Best languages for machine learning and data analytics?, description=Nov 19, 2021 — Python is a popular programming language for beginners. This is because it's easy to learn and has an intuitive syntax that makes it easy to ...), SearchResult(url=https://www.zdnet.com/education/computers-tech/top-programming-language-for-data-science-python-still-rules-followed-by-sql/, title=Top programming language for data science: Python still ..., description=Jul 26, 2021 — Top programming language for data science: Python still rules, followed by SQL. But while data scientists might be creating clever data ...), SearchResult(url=https://www.coursera.org/articles/python-or-r-for-data-analysis, title=Python or R for Data Analysis: Which Should I Learn?, description=Jun 15, 2023 — According to several popular programming language indices, TIOBE [1], Stack Overflow [2], PYPL [3], and RedMonk, [4] Python is far and away the ...), SearchResult(url=https://www.kdnuggets.com/2022/02/data-science-programming-languages.html, title=Data Science Programming Languages and When To Use ..., description=Feb 4, 2022 — PHP is a very stable programming language, ensuring your model's functionality is adequately translated to the user experience. It also has a ...), SearchResult(url=https://www.itexchangeweb.com/blog/top-5-data-science-programming-languages/, title=Top 5 Data Science programming languages, description=Apr 14, 2023 — The most popular language for data science, data engineering, data analytics and machine learning is Python. It is a versatile, open-source ...), SearchResult(url=https://marutitech.com/python-data-science/, title=Python for Data Science: Why It's the Top Choice ..., description=Python for Data Science: Why It's the Top Choice for Professionals · Which is the most popular programming language in the data science and machine learning ...), SearchResult(url=https://towardsdatascience.com/top-programming-languages-for-data-science-in-2020-3425d756e2a7, title=Top Programming Languages for Data Science in 2020, description=Aug 24, 2020 — A programming language is the superpower of any developer. Every once in a while, a new programming language or an update to an existing ...), SearchResult(url=https://www.makeuseof.com/why-is-python-popular-for-data-science/, title=Why Is Python Popular for Data Science?, description=Jan 14, 2022 — Did this tutorial succeed in convincing you that Python will remain the best programming language for data science? If yes, go on and build nice ...), SearchResult(url=https://emeritus.org/in/learn/data-science-programming-languages/, title=10 Best Data Science Programming Languages of 2023 ..., description=Mar 3, 2023 — 1. Python. Python is one of the most popular data science programming languages because it is easy to use and learn. · 2. Java. Java is another ...), SearchResult(url=https://medium.com/javarevisited/top-5-programming-language-for-data-science-and-machine-learning-badc2f8eff72, title=Top 5 Programming languages for Data Science and ..., description=Apr 18, 2021 — These are the best programming language for Data Science and Machine learning includes Python, R, SQL, Java, and Scala.), SearchResult(url=https://www.iotforall.com/programming-languages-data-science-2022, title=Top Programming Languages For Data Science In 2022, description=Sep 8, 2022 — Python is the most widely-used programming language for data science due to its scalability, flexibility, and simplicity. It contains very ...), SearchResult(url=https://www.techiexpert.com/top-5-programming-languages-data-scientist-need-in-2023/, title=Top 5 programming languages data scientist need in 2023, description=Apr 3, 2023 — Learning general-purpose languages like Python, R, and Java can help individuals land a career in data science. These languages are lifesavers.), SearchResult(url=https://techbeacon.com/enterprise-it/8-languages-data-science, title=8 Languages for Data Science, description=R · Python · Julia · Java · MATLAB · COBOL · SPSS · Mathematica.), SearchResult(url=https://jelvix.com/blog/top-data-science-programming-languages, title=Best 11 Data Science Programming Languages in 2022, description=Top Data Science Programming Languages · 66% of data scientists are using Python daily; · It is a universal language that allows you to create any project – from ...), SearchResult(url=https://businessoverbroadway.com/2020/06/29/usage-of-programming-languages-by-data-scientists-python-grows-while-r-weakens/, title=Usage of Programming Languages by Data Scientists, description=Jun 29, 2020 — A recent survey of nearly 20,000 data professionals by Kaggle revealed that Python, SQL and R continue to be the most popular programming ...), SearchResult(url=https://www.educba.com/data-science-languages/, title=8 Most Popular Languages of Data Science, description=Top Programming Languages in Data Science · 1. Python · 2. R programming · 3. Java · 4. Scala · 5. SQL · 6. Matlab · 7. TensorFlow · 8. Keras.), SearchResult(url=https://mindmajix.com/programming-languages-for-data-science, title=▷Top Programming Languages for Data Science in 2023, description=Top Programming Languages for Data Science · Python · R · SQL · Java · Julia · Scala · C/C++ · JavaScript.), SearchResult(url=https://www.geeksforgeeks.org/python-for-data-science/, title=Python for Data Science Tutorial, description=May 29, 2023 — However, being a data scientist requires you to learn some of the best and most highly used programming languages, such as Java, C++, R, ...), SearchResult(url=https://www.institutedata.com/blog/why-is-python-programming-such-a-popular-choice-in-data-science-and-machine-learning/, title=Why is Python programming such a popular choice in ..., description=Jan 25, 2022 — However, Python stands out to be the most common and popular coding language for data scientists amongst all other languages.), SearchResult(url=https://www.intellspot.com/python-data-science/, title=Why is Python the Most Popular Language for Data Science?, description=Why is Python the Most Popular Language for Data Science? ... Data is the new gold for the world of global commerce. It is rapidly replacing primary methodologies ...), SearchResult(url=https://www.dasca.org/world-of-big-data/article/top-6-programming-languages-for-data-science-in-2021, title=Top 6 Programming Languages for Data Science in 2021, description=Apr 9, 2021 — Top 6 Programming Languages for Data Science in 2021 · 1. Python: · 2. R · 3. Structured Query Language (SQL): · 4. Java: · 5. Scala: · 6. Julia:.), SearchResult(url=https://codeop.tech/top-5-programming-languages-you-need-for-data-science-jobs/, title=Top 5 Programming Languages You Need for Data ..., description=There's a reason Python is the most widely used data science programming language in the world right now. Not only is it extremely flexible, but it's very ...), SearchResult(url=https://datascientest.com/en/python-the-most-popular-programming-language, title=Python : Focus on the most popular programming language, description=Jan 5, 2023 — In addition, Python is the most used language for Data Science and machine learning. The vast majority of libraries used for these two data ...), SearchResult(url=https://www.sharpsightlabs.com/blog/python-the-best-data-science-language-2023/, title=Why Python is the Best Data Science Language (in 2023), description=Feb 2, 2023 — An image from a Kaggle survey report that shows that Python is the most popular data. Anaconda published a similar report in 2022 based on ...), SearchResult(url=https://www.nobledesktop.com/classes-near-me/blog/coding-vs-data-science, title=Coding vs. Data Science: What's the Difference?, description=Jun 3, 2022 — Python is one of the most popular programming languages amongst data scientists and developers, making learning how to code with Python an ...), SearchResult(url=https://datasciencedojo.com/blog/top-7-data-science-tools/, title=Top 7 data science tools to master before 2023, description=Sep 22, 2022 — Java is another programming language to learn as a data scientist. Java can be used for data processing, analysis, and NLP (Natural Language ...), SearchResult(url=https://sps.northwestern.edu/stories/news-stories/data-science-go-programming-language.php, title=Data Science and the Go Programming Language, description=Dec 22, 2021 — Organizations need data science, and data science needs Go. Data scientists can be multilingual, drawing on the strengths of Python, R, ...), SearchResult(url=https://www.techtarget.com/searchbusinessanalytics/feature/15-data-science-tools-to-consider-using, title=18 Data Science Tools to Consider Using in 2023, description=Jan 5, 2023 — Python is the most widely used programming language for data science and machine learning and one of the most popular languages overall. The ...), SearchResult(url=https://www.indeed.com/career-advice/career-development/data-science-tools, title=19 Popular Data Science Tools Used by Professionals, description=Jun 24, 2022 — NumPy is a high-level programming language for data analysis built on top of the efficient Numerical Python (Numpy) extension to the Python ...), SearchResult(url=https://whizpool.com/languages/what-language-is-best-for-data-science/, title=What Language Is Best for Data Science [Full List + FAQS], description=Nov 23, 2022 — Python is known as the top data science programming language best known for its problem-solving and natural data processing. It's a high-level ...), SearchResult(url=https://careerfoundry.com/en/blog/data-analytics/best-machine-learning-languages/, title=What's the Best Language for Machine Learning? [2023 ..., description=May 11, 2023 — R is a functional programming language, often used for data analysis and visualizations. It's popular with scientists, statisticians, and others ...), SearchResult(url=https://techno.study/does-data-science-require-coding, title=Does Data Science Require Coding?, description=4. What common languages do data scientists learn? · Data scientists must become fluent in the most popular coding languages, such as Python and R. · Requires an ...), SearchResult(url=https://www.pulumi.com/why-is-python-so-popular/, title=Why is Python So Popular?, description=In fact, for data science and analytics projects, Python is second only to R language in terms of popularity. Its out-of-the-box data analysis capabilities, ...), SearchResult(url=https://www.imaginarycloud.com/blog/r-vs-python/, title=R vs Python: The Data Science language debate, description=May 27, 2021 — R vs Python: The Data Science language debate ... R and Python are the most popular Data Science languages. They are both open-source and excel at ...), SearchResult(url=https://robotical.io/blog/the-10-best-data-science-programming-languages-to-learn/?currency=USD, title=The 10 Best Data Science Programming Languages to Learn, description=Jul 15, 2022 — 1. Python. Python is among the most popular programming language for data scientists due to its versatility. · 2. JavaScript · 3. Java · 4. SQL · 5.), SearchResult(url=https://www.softwaretestinghelp.com/data-science-tools/, title=Top 10 Data Science Tools in 2023 to Eliminate ..., description=May 3, 2023 — Python and R are the most popular languages among data scientists. The image given below will show you the popularity graph of these two ...), SearchResult(url=https://www.analyticsvidhya.com/blog/2017/09/sas-vs-vs-python-tool-learn/, title=Python vs. R vs. SAS – which tool should I learn for Data ..., description=Sep 12, 2017 — SAS: SAS has been the undisputed market leader in commercial analytics space. The software offers huge array of statistical functions, has good ...), SearchResult(url=https://www.tutorialspoint.com/why-is-python-the-language-of-choice-for-data-scientists, title=Why is Python the language of choice for data scientists, description=Nov 3, 2022 — Python was clearly the most preferred language for data science practitioners and trainees, according to an Analytics India Magazine survey on ...), SearchResult(url=https://www.unite.ai/what-is-the-best-language-for-machine-learning/, title=What is the Best Language for Machine Learning? (June ..., description=With that said, the most popular machine learning language, without a doubt, is Python. Around 57% of data scientists and machine learning developers rely ...), SearchResult(url=https://www.codingal.com/coding-for-kids/blog/power-of-python-in-data-science/, title=Why Python is the Most Popular Language for Data Science?, description=Apr 9, 2023 — According to a recent study, Python is the most commonly used programming language among data scientists, with over 70% of respondents using ...), SearchResult(url=https://www.stratascratch.com/blog/top-5-data-science-programming-languages/, title=Top 5 Data Science Programming Languages, description=Jun 6, 2021 — Python​. Most experts consider Python as a fundamental language to become a data scientist. As a result, this open-source and free programming ...), SearchResult(url=https://brainstation.io/career-guides/is-data-science-hard-to-learn, title=Is Data Science Hard to Learn? (2023 Guide), description=Programming Languages for Data Science · Python · R · SQL.), SearchResult(url=https://magnimindacademy.com/blog/why-is-python-a-language-of-choice-for-data-scientists-2/, title=Why Is Python A Language Of Choice For Data Scientists?, description=But a lot of studies have revealed that Python programming language is being used more by data scientists. But what exactly makes this language a preferred ...), SearchResult(url=https://www.udemy.com/topic/data-science/, title=Top Data Science Courses Online - Updated [July 2023], description=Train up with a top-rated data science course on Udemy. Gain in-demand skills and help organizations forecast product and service demands for the future.), SearchResult(url=https://www.geeklurn.com/blog/top-10-data-science-programming-languages/, title=Top 10 Data Science Programming Languages, description=Aug 19, 2022 — Top 10 Data Science Programming Languages · 1. JavaScript · 2. R · 3. Julia · 4. Python · 5. Scala · 6. SQL · 7. Go · 8. MATLAB.), SearchResult(url=https://www.tiobe.com/tiobe-index/, title=TIOBE Index, description=It has grown in popularity like crazy, due to boosts in the fields of data sciences and ... The complete top 50 of programming languages is listed below.), SearchResult(url=https://www.turing.com/kb/best-programming-language-for-data-science-r-vs-python, title=Best programming language for Data Science: R vs Python., description=Both languages have become extremely popular in the data science community. Python & R - both help data scientists drive meaningful insights from the sea of ...), SearchResult(url=https://www.infoworld.com/article/3662033/as-data-science-goes-mainstream-so-does-its-language.html, title=As data science goes mainstream, so does its language, description=May 30, 2022 — Python may be the second choice to R, but its popularity and ease of use positions it to dominate data science.), SearchResult(url=https://www.reddit.com/r/datascience/comments/uze214/second_programming_language_for_data_scientist/, title=Second programming language for Data Scientist ..., description=May 28, 2022 — If you're more on the business, big data, enterprise etc. track then JVM - Java, Kotlin, Scala, (Clojure). More technical (computer vision, ...), SearchResult(url=https://www.freecodecamp.org/news/what-is-data-science-what-a-data-scientist-actually-does/, title=What is Data Science? What a Data Scientist Actually Does, description=Sep 15, 2022 — One of the most popular programming languages for data science is Python. Python is a general-purpose programming language, and it is very ...), SearchResult(url=https://becominghuman.ai/top-programming-languages-a-data-scientist-must-master-in-2019-7101a8bc8e16, title=Top Programming Languages a Data Scientist Must Master ..., description=Python is a versatile language that has a vast array of libraries for multiple roles. It has emerged out as one of the most popular choices for Data Science ...), SearchResult(url=https://www.mygreatlearning.com/blog/different-data-science-jobs-roles-industry/, title=Top 9 Job Roles in the World of Data Science for 2023, description=Most data scientists, academic researchers, and statisticians use R to retrieve, cleanse, analyze and present data, making it one of the most popular languages ...), SearchResult(url=https://www.theserverside.com/feature/Why-Java-devs-should-switch-to-Python-or-R-for-data-science, title=Why Java devs should switch to Python or R for data science, description=Mar 15, 2021 — Java has a lot going for it, but it's not the top language for data science. Java professionals may want to familiarize themselves with ...), SearchResult(url=https://www.thecoderworld.com/programming-languages-for-data-science/, title=Top 10 Programming Languages for Data Science, description=Top 10 Programming Languages for Data Science · 1. Python. Of course, we start this list with arguably the most trending programming language in the world right ...), SearchResult(url=https://www.bairesdev.com/blog/can-javascript-be-used-for-data-science/, title=Can JavaScript be Used for Data Science? | Blog, description=Python, R, Scala, and Julia are often quoted as THE programming languages for data science. But why is that? David Beazley, the author of JavaScript for Data ...), SearchResult(url=https://www.quora.com/What-programming-language-should-a-data-scientist-learn-after-Python, title=What programming language should a data scientist learn ..., description=Yes, Python is the most widely used data science programming language in the world today. Apart from python, R also used by some data scientists. So In 2020 Yes ...), SearchResult(url=https://www.datapine.com/blog/data-science-tools-and-software/, title=Benefit From The Best Data Science Tools & Software For ..., description=May 13, 2020 — We continue our list of the top data scientist tools with Python. Together with R, this programming language makes the state of the art ...), SearchResult(url=https://data-flair.training/blogs/r-python-or-sas-for-data-science/, title=R, Python or SAS - Which is the Best Tool for Data Science ..., description=Python is the most popular choice for programming language not just by data scientists, but also by software developers. It is a versatile language that is ...), SearchResult(url=https://www.usdsi.org/data-science-insights/is-python-still-the-language-of-data-science-in-2022, title=Is Python still the language of Data Science in 2022?, description=It is ranked as the best language used by data scientists for various data science projects/applications. Python provides immense functionality to deal with ...), SearchResult(url=https://www.ibm.com/topics/data-science, title=What is Data Science?, description=Data scientists rely on popular programming languages to conduct exploratory data analysis and statistical regression. These open source tools support pre-built ...), SearchResult(url=https://online.maryville.edu/blog/popular-programming-languages/, title=The Most Popular Programming Languages and Their ..., description=The Classics · Java · Python · C · SQL ; The Newcomers · Rust · Julia · Elixir · Elm ; Top Careers in Data Science · Computer and Information Research Scientist · Computer ...), SearchResult(url=https://www.discoverdatascience.org/training/java/, title=Java for Data Science | DiscoverDataScience.org, description=Python and R are the two most widely cited languages for Kaggle competitions, data science job postings, and just about every blog, article, and many Quora ...), SearchResult(url=https://learning.constructor.org/blog/data-science-terminology, title=The 15 most popular Data Science terms explained, description=Jan 13, 2022 — A Data Scientist has a high level of technical skills and knowledge, usually with expertise in programming languages such as R and Python. They ...), SearchResult(url=https://www.linkedin.com/pulse/top-7-data-science-tools-2023-bestarion, title=Top 7 Data Science Tools for 2023, description=Feb 16, 2023 — Jupyter supports various programming languages, including Python, Julia, and R. It is primarily used for writing live code and visualizations ...), SearchResult(url=https://www.dataquest.io/blog/how-to-learn-python-for-data-science-in-5-steps/, title=How to Learn Python for Data Science in 5 Steps, description=Jul 12, 2022 — Python is the programming language of choice for data scientists. Although it wasn't the first primary programming language, its popularity has ...), SearchResult(url=https://www.anaconda.com/, title=Anaconda | The World's Most Popular Data Science Platform, description=Anaconda is the birthplace of Python data science. We are a movement of data scientists, data-driven enterprises, and open source communities.), SearchResult(url=https://www.codecademy.com/resources/blog/data-science-languages/, title=Data science languages: What should you learn first?, description=Mar 8, 2021 — If you want to go with one of the more popular data science languages, we suggest checking out Python, R, and SQL. These are the most ...), SearchResult(url=https://datos.gob.es/en/blog/when-use-each-programming-language-data-science, title=When to use each programming language in data science?, description=Sep 14, 2022 — Python, R, SQL, JavaScript, C++, HTML... Nowadays we can find a multitude of programming languages that allow us to develop software ...), SearchResult(url=https://analyticsindiamag.com/why-should-you-learn-python-for-data-science/, title=Why Should You Learn Python For Data Science?, description=Nov 25, 2019 — In many scenarios, Python is the programming language of choice for the daily tasks that data scientists tackle, and is one of the top data ...), SearchResult(url=https://devopscube.com/list-best-frameworks-data-scientists/, title=List of 10 Best Frameworks used by Data Scientists, description=Sep 14, 2021 — Pandas is yet another open-source software library written for the Python programming language for data manipulation and analysis. In particular ...), SearchResult(url=https://ischoolonline.berkeley.edu/blog/python-data-science/, title=Python for Data Science - I School Online, description=Mar 28, 2019 — In the aforementioned TIOBE Index, R was ranked 16th in popularity of programming languages as of December 2018, compared to Python's third- ...), SearchResult(url=https://www.datasciencecentral.com/how-python-became-the-language-for-data-science/, title=How Python Became The Language for Data Science, description=Mar 28, 2022 — SciPy: SciPy is another popular Python library used specifically to carry out Data Science tasks. It is also useful in the field of scientific ...), SearchResult(url=https://www.thedataincubator.com/blog/2022/08/19/python-vs-r/, title=R vs. Python for Machine Learning & Data Science - TDI, description=Aug 19, 2022 — Python and R are two of the most common languages for data science and machine learning. TDI can help you understand the strengths and ...), SearchResult(url=https://www.scaler.com/topics/data-science/is-data-science-hard/, title=Is Data Science Hard to Learn? (Complete Guide for 2023), description=Python · Python is the most popular and widely used programming language among Data Scientists. · A few of the most common Python libraries used by Data ...), SearchResult(url=https://www.nvidia.com/en-us/glossary/data-science/pandas-python/, title=Pandas Python– What Is It and Why Does It Matter?, description=A favorite with data scientists owing to its ease-of-use, Python has evolved from its earliest roots in 1991 to be one of the most popular programming languages ...), SearchResult(url=https://graduate.northeastern.edu/resources/most-popular-programming-languages/, title=The 10 Most Popular Programming Languages to Learn in ..., description=Jun 18, 2020 — Common uses: Python is used in a wide variety of applications, including artificial intelligence, financial services, and data science.), SearchResult(url=https://www.ideamotive.co/blog/what-is-the-best-language-for-machine-learning, title=What Is The Best Language For Machine Learning In 2022?, description=Feb 20, 2022 — Python is undoubtedly a leader with 57% of data scientists using it and 33% preferring it over other programming languages. The language is ...), SearchResult(url=https://www.vorsers.com/blog/a-comparison-of-modern-alternatives-for-python-in-the-world-of-data-science/, title=A Comparison of Modern Alternatives for Python in the World ..., description=Mar 4, 2022 — In the late 10's, Python became increasingly popular as a programming language for data science (DS), competing with languages like R and ...), SearchResult(url=https://posit.co/blog/r-vs-python-what-s-the-best-for-language-for-data-science/, title=R vs. Python: What's the best language for Data Science?, description=Dec 17, 2019 — Some suggest Python is preferable as a general-purpose programming language, while others suggest data science is better served by a dedicated ...), SearchResult(url=https://nullclass.com/top-10-python-libraries-data-scientists-should-know-in-2022/, title=top 10 python libraries data scientists should know in 2022, description=Python, once known as a nerdy, niche programming language, is now one of the most popular programming languages in use. It's easy to see why: Python provides ...), SearchResult(url=https://www.snowflake.com/guides/scala-vs-python-data-science, title=Scala vs. Python for Data Science, description=Python is a high-level, interpreted language with a simple and clean syntax. It's most frequently used in data science, data engineering, ...), SearchResult(url=https://pubmed.ncbi.nlm.nih.gov/35629316/, title=The R Language: An Engine for Bioinformatics and Data ..., description=by FM Giorgi · 2022 · Cited by 38 — ... bioinformatics, and data science in general. It currently ranks among the top 10 most popular languages worldwide, and its community has ...), SearchResult(url=https://www.orientsoftware.com/blog/data-science-frameworks/, title=Top 10 Data Science Frameworks for Python, description=Nov 25, 2021 — The Python language has emerged as one of the best tools for data science applications in recent years. It's backed by a vast community that ...), SearchResult(url=https://www.scaler.com/topics/data-science/best-ides-for-python-data-science/, title=Popular Python IDEs for Data Science, description=Python is data scientists' and analysts' most popular and widely used programming language. One of the main reasons for Python's popularity in the data ...), SearchResult(url=https://pll.harvard.edu/course/data-science-machine-learning, title=Data Science: Machine Learning - Harvard Online Courses, description=What distinguishes machine learning from other computer guided decision processes is that it builds prediction algorithms using data. Some of the most popular ...), SearchResult(url=https://www.iunera.com/kraken/fabric/data-science/, title=Essential Data Science techniques and Data Scientists ..., description=The most common Data Science language used these days in is Python. Python is a Turing-complete purpose programming language. Python is a multi-paradigm ...), SearchResult(url=https://sunscrapers.com/blog/what-is-the-best-language-for-data-engineering/, title=What is the Best Language for Data Engineering?, description=Mar 26, 2023 — Additionally, Python's popularity in the Data Science community makes it an obvious choice for data engineering since data engineers and ...)]\n"
     ]
    }
   ],
   "source": [
    "# import the googlesearch libary\n",
    "from googlesearch import search\n",
    "import pandas as pd\n",
    "\n",
    "# povide the info for the query\n",
    "query = \"The most popular data science language\"\n",
    "\n",
    "# we need to perform advanced search to get a lsit of RearchResult\n",
    "# that contian the following three items:\n",
    "# - title\n",
    "# - url\n",
    "# - description\n",
    "\n",
    "# Get 100 search results in English using advanced search\n",
    "# googlesearch will send multiple requests to go through the page by pausing about 5 seconds between the requests\n",
    "results = list(search(query, num_results=100, sleep_interval=5, lang=\"en\",advanced=True))\n",
    "\n",
    "\n",
    "# Print the cleaned results\n",
    "print(results)\n"
   ]
  },
  {
   "cell_type": "markdown",
   "id": "0b188dd3-7334-4303-ab49-72b8a53a13a2",
   "metadata": {},
   "source": [
    "## Step 3 Convert SearchResult objects to a list of strings\n",
    "\n",
    "We can efficiently perform text mining on strings instead of SearchResult."
   ]
  },
  {
   "cell_type": "code",
   "execution_count": 2,
   "id": "e8eb2e16-b7ed-4446-9d1b-7736106d363a",
   "metadata": {},
   "outputs": [],
   "source": [
    "results = [str(item) for item in results]"
   ]
  },
  {
   "cell_type": "markdown",
   "id": "18c2df19-57d8-45b5-b00c-cd2efbc7a2c2",
   "metadata": {},
   "source": [
    "## Step 4 Convert a list of strings to a data frame\n",
    "\n",
    "Sometime, we may need to store information in a data frame instead of a list to build some machine learning models.\n"
   ]
  },
  {
   "cell_type": "code",
   "execution_count": 3,
   "id": "fe18e8e1-fea5-409d-850f-5b0abab0d7b3",
   "metadata": {
    "scrolled": true,
    "tags": []
   },
   "outputs": [
    {
     "name": "stdout",
     "output_type": "stream",
     "text": [
      "                                                   URL  \\\n",
      "0    https://www.datacamp.com/blog/top-programming-...   \n",
      "1    https://flatironschool.com/blog/data-science-p...   \n",
      "2    https://www.knowledgehut.com/blog/data-science...   \n",
      "3    https://www.upgrad.com/blog/data-science-progr...   \n",
      "4    https://csweb.rice.edu/academics/graduate-prog...   \n",
      "..                                                 ...   \n",
      "97   https://www.orientsoftware.com/blog/data-scien...   \n",
      "98   https://www.scaler.com/topics/data-science/bes...   \n",
      "99   https://pll.harvard.edu/course/data-science-ma...   \n",
      "100  https://www.iunera.com/kraken/fabric/data-scie...   \n",
      "101  https://sunscrapers.com/blog/what-is-the-best-...   \n",
      "\n",
      "                                                 Title  \\\n",
      "0    Top programming languages for data scientists ...   \n",
      "1           10 Best Data Science Programming Languages   \n",
      "2        Top 11 Programming languages for Data Science   \n",
      "3    Top 6 Data Science Programming Languages 2023 ...   \n",
      "4    Top 12 Data Science Programming Languages | MD...   \n",
      "..                                                 ...   \n",
      "97           Top 10 Data Science Frameworks for Python   \n",
      "98                Popular Python IDEs for Data Science   \n",
      "99   Data Science: Machine Learning - Harvard Onlin...   \n",
      "100  Essential Data Science techniques and Data Sci...   \n",
      "101    What is the Best Language for Data Engineering?   \n",
      "\n",
      "                                           Description  \n",
      "0    12 Top Data Science Programming Languages in 2...  \n",
      "1    Mar 4, 2021 — Python is the best language to l...  \n",
      "2    Jun 15, 2023 — On shortlisting those languages...  \n",
      "3    Sep 14, 2022 — Programming Languages for Data ...  \n",
      "4    Jan 20, 2023 — 1. Python. Python has been amon...  \n",
      "..                                                 ...  \n",
      "97   Nov 25, 2021 — The Python language has emerged...  \n",
      "98   Python is data scientists' and analysts' most ...  \n",
      "99   What distinguishes machine learning from other...  \n",
      "100  The most common Data Science language used the...  \n",
      "101  Mar 26, 2023 — Additionally, Python's populari...  \n",
      "\n",
      "[102 rows x 3 columns]\n"
     ]
    }
   ],
   "source": [
    "data =[]\n",
    "for result in results:\n",
    "    # Extract URL, title, and description using string manipulation\n",
    "    url = result.split(\"url=\")[1].split(\",\")[0]\n",
    "    title = result.split(\"title=\")[1].split(\",\")[0]\n",
    "    description = result.split(\"description=\")[1].split(\")\")[0]\n",
    "    \n",
    "    # Create a dictionary for each SearchResult\n",
    "    result_dict = {\n",
    "        'URL': url,\n",
    "        'Title': title,\n",
    "        'Description': description\n",
    "    }\n",
    "    \n",
    "    # Append the dictionary to the data list\n",
    "    data.append(result_dict)\n",
    "\n",
    "# Create the DataFrame\n",
    "df = pd.DataFrame(data)\n",
    "\n",
    "# Print the DataFrame\n",
    "print(df)"
   ]
  },
  {
   "cell_type": "code",
   "execution_count": 2,
   "id": "cb0c949b",
   "metadata": {},
   "outputs": [
    {
     "name": "stdout",
     "output_type": "stream",
     "text": [
      "Error occurred: search() got an unexpected keyword argument 'start'\n",
      "[]\n"
     ]
    }
   ],
   "source": [
    "from googlesearch import search\n",
    "\n",
    "query = \"Winter snowstorm\"\n",
    "results = []\n",
    "\n",
    "# Specify the number of results per page\n",
    "results_per_page = 10\n",
    "\n",
    "# Total number of results you want to fetch\n",
    "total_results = 1000  # You can adjust this\n",
    "\n",
    "# Fetching results with pagination\n",
    "for i in range(0, total_results, results_per_page):\n",
    "    try:\n",
    "        for url in search(query, start=i, pause=5, lang=\"en\"):\n",
    "            results.append(url)\n",
    "    except Exception as e:\n",
    "        print(f\"Error occurred: {e}\")\n",
    "        break\n",
    "\n",
    "# Extracting the last 100 results\n",
    "last_100_results = results[-100:]\n",
    "\n",
    "print(last_100_results)\n"
   ]
  },
  {
   "cell_type": "code",
   "execution_count": 5,
   "id": "d80ed3fb",
   "metadata": {},
   "outputs": [
    {
     "ename": "ValueError",
     "evalue": "We need at least 1 word to plot a word cloud, got 0.",
     "output_type": "error",
     "traceback": [
      "\u001b[1;31m---------------------------------------------------------------------------\u001b[0m",
      "\u001b[1;31mValueError\u001b[0m                                Traceback (most recent call last)",
      "Cell \u001b[1;32mIn[5], line 7\u001b[0m\n\u001b[0;32m      5\u001b[0m results \u001b[38;5;241m=\u001b[39m \u001b[38;5;124m'\u001b[39m\u001b[38;5;124m \u001b[39m\u001b[38;5;124m'\u001b[39m\u001b[38;5;241m.\u001b[39mjoin(results)\n\u001b[0;32m      6\u001b[0m \u001b[38;5;66;03m# Create a word cloud from tweets\u001b[39;00m\n\u001b[1;32m----> 7\u001b[0m wordcloud \u001b[38;5;241m=\u001b[39m WordCloud()\u001b[38;5;241m.\u001b[39mgenerate(results)\n\u001b[0;32m      9\u001b[0m \u001b[38;5;66;03m# Visualize the word cloud\u001b[39;00m\n\u001b[0;32m     10\u001b[0m \u001b[38;5;28;01mimport\u001b[39;00m \u001b[38;5;21;01mmatplotlib\u001b[39;00m\u001b[38;5;21;01m.\u001b[39;00m\u001b[38;5;21;01mpyplot\u001b[39;00m \u001b[38;5;28;01mas\u001b[39;00m \u001b[38;5;21;01mplt\u001b[39;00m\n",
      "File \u001b[1;32m~\\anaconda3\\Lib\\site-packages\\wordcloud\\wordcloud.py:639\u001b[0m, in \u001b[0;36mWordCloud.generate\u001b[1;34m(self, text)\u001b[0m\n\u001b[0;32m    624\u001b[0m \u001b[38;5;28;01mdef\u001b[39;00m \u001b[38;5;21mgenerate\u001b[39m(\u001b[38;5;28mself\u001b[39m, text):\n\u001b[0;32m    625\u001b[0m \u001b[38;5;250m    \u001b[39m\u001b[38;5;124;03m\"\"\"Generate wordcloud from text.\u001b[39;00m\n\u001b[0;32m    626\u001b[0m \n\u001b[0;32m    627\u001b[0m \u001b[38;5;124;03m    The input \"text\" is expected to be a natural text. If you pass a sorted\u001b[39;00m\n\u001b[1;32m   (...)\u001b[0m\n\u001b[0;32m    637\u001b[0m \u001b[38;5;124;03m    self\u001b[39;00m\n\u001b[0;32m    638\u001b[0m \u001b[38;5;124;03m    \"\"\"\u001b[39;00m\n\u001b[1;32m--> 639\u001b[0m     \u001b[38;5;28;01mreturn\u001b[39;00m \u001b[38;5;28mself\u001b[39m\u001b[38;5;241m.\u001b[39mgenerate_from_text(text)\n",
      "File \u001b[1;32m~\\anaconda3\\Lib\\site-packages\\wordcloud\\wordcloud.py:621\u001b[0m, in \u001b[0;36mWordCloud.generate_from_text\u001b[1;34m(self, text)\u001b[0m\n\u001b[0;32m    604\u001b[0m \u001b[38;5;250m\u001b[39m\u001b[38;5;124;03m\"\"\"Generate wordcloud from text.\u001b[39;00m\n\u001b[0;32m    605\u001b[0m \n\u001b[0;32m    606\u001b[0m \u001b[38;5;124;03mThe input \"text\" is expected to be a natural text. If you pass a sorted\u001b[39;00m\n\u001b[1;32m   (...)\u001b[0m\n\u001b[0;32m    618\u001b[0m \u001b[38;5;124;03mself\u001b[39;00m\n\u001b[0;32m    619\u001b[0m \u001b[38;5;124;03m\"\"\"\u001b[39;00m\n\u001b[0;32m    620\u001b[0m words \u001b[38;5;241m=\u001b[39m \u001b[38;5;28mself\u001b[39m\u001b[38;5;241m.\u001b[39mprocess_text(text)\n\u001b[1;32m--> 621\u001b[0m \u001b[38;5;28mself\u001b[39m\u001b[38;5;241m.\u001b[39mgenerate_from_frequencies(words)\n\u001b[0;32m    622\u001b[0m \u001b[38;5;28;01mreturn\u001b[39;00m \u001b[38;5;28mself\u001b[39m\n",
      "File \u001b[1;32m~\\anaconda3\\Lib\\site-packages\\wordcloud\\wordcloud.py:410\u001b[0m, in \u001b[0;36mWordCloud.generate_from_frequencies\u001b[1;34m(self, frequencies, max_font_size)\u001b[0m\n\u001b[0;32m    408\u001b[0m frequencies \u001b[38;5;241m=\u001b[39m \u001b[38;5;28msorted\u001b[39m(frequencies\u001b[38;5;241m.\u001b[39mitems(), key\u001b[38;5;241m=\u001b[39mitemgetter(\u001b[38;5;241m1\u001b[39m), reverse\u001b[38;5;241m=\u001b[39m\u001b[38;5;28;01mTrue\u001b[39;00m)\n\u001b[0;32m    409\u001b[0m \u001b[38;5;28;01mif\u001b[39;00m \u001b[38;5;28mlen\u001b[39m(frequencies) \u001b[38;5;241m<\u001b[39m\u001b[38;5;241m=\u001b[39m \u001b[38;5;241m0\u001b[39m:\n\u001b[1;32m--> 410\u001b[0m     \u001b[38;5;28;01mraise\u001b[39;00m \u001b[38;5;167;01mValueError\u001b[39;00m(\u001b[38;5;124m\"\u001b[39m\u001b[38;5;124mWe need at least 1 word to plot a word cloud, \u001b[39m\u001b[38;5;124m\"\u001b[39m\n\u001b[0;32m    411\u001b[0m                      \u001b[38;5;124m\"\u001b[39m\u001b[38;5;124mgot \u001b[39m\u001b[38;5;132;01m%d\u001b[39;00m\u001b[38;5;124m.\u001b[39m\u001b[38;5;124m\"\u001b[39m \u001b[38;5;241m%\u001b[39m \u001b[38;5;28mlen\u001b[39m(frequencies))\n\u001b[0;32m    412\u001b[0m frequencies \u001b[38;5;241m=\u001b[39m frequencies[:\u001b[38;5;28mself\u001b[39m\u001b[38;5;241m.\u001b[39mmax_words]\n\u001b[0;32m    414\u001b[0m \u001b[38;5;66;03m# largest entry will be 1\u001b[39;00m\n",
      "\u001b[1;31mValueError\u001b[0m: We need at least 1 word to plot a word cloud, got 0."
     ]
    }
   ],
   "source": [
    "from wordcloud import WordCloud\n",
    "\n",
    "\n",
    "# Convert the list to a string\n",
    "results = ' '.join(results)\n",
    "# Create a word cloud from tweets\n",
    "wordcloud = WordCloud().generate(results)\n",
    "\n",
    "# Visualize the word cloud\n",
    "import matplotlib.pyplot as plt\n",
    "wordcloud = WordCloud().generate(results)\n",
    "plt.figure(figsize=(12, 9))\n",
    "plt.imshow(wordcloud, interpolation=\"bilinear\")\n",
    "plt.axis(\"off\")\n",
    "plt.show()"
   ]
  }
 ],
 "metadata": {
  "kernelspec": {
   "display_name": "Python 3 (ipykernel)",
   "language": "python",
   "name": "python3"
  },
  "language_info": {
   "codemirror_mode": {
    "name": "ipython",
    "version": 3
   },
   "file_extension": ".py",
   "mimetype": "text/x-python",
   "name": "python",
   "nbconvert_exporter": "python",
   "pygments_lexer": "ipython3",
   "version": "3.11.4"
  }
 },
 "nbformat": 4,
 "nbformat_minor": 5
}
